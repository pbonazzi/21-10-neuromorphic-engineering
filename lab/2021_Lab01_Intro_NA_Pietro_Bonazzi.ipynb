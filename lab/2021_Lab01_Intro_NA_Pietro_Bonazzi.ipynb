{
 "cells": [
  {
   "cell_type": "markdown",
   "metadata": {
    "id": "zj0w784irdoE"
   },
   "source": [
    "Neuromorphic engineering I"
   ]
  },
  {
   "cell_type": "markdown",
   "metadata": {
    "id": "wYrcMt2_rdoW"
   },
   "source": [
    "## Lab 1: Automated Data Acquisition and Analysis"
   ]
  },
  {
   "cell_type": "markdown",
   "metadata": {
    "id": "CvOWY3ELrdoY"
   },
   "source": [
    "Group number:\n",
    "\n",
    "Team member 1: Pietro Bonazzi\n",
    "\n",
    "Date:"
   ]
  },
  {
   "cell_type": "markdown",
   "metadata": {
    "id": "8x0BIpM-rdod"
   },
   "source": [
    "-------------------------------------------------------------------------------------------------------------------"
   ]
  },
  {
   "cell_type": "markdown",
   "metadata": {
    "id": "ibks0vA6rdof"
   },
   "source": [
    "You need to bring your own USB cable to connect the board with your own PC.\n",
    "\n",
    "The objectives of this lab are as follows:\n",
    "\n",
    "- To become acquainted with the experimental board setup.\n",
    "\n",
    "- To become acquainted with Python for data acquisition and manipulation.\n",
    "\n",
    "- To measure and characterize a NFET.\n",
    "\n",
    "The aim of this first lab is to familiarize everyone with the lab equipment and software."
   ]
  },
  {
   "cell_type": "markdown",
   "metadata": {
    "id": "HVSRGTpArdoh"
   },
   "source": [
    "# 1. Getting started"
   ]
  },
  {
   "cell_type": "markdown",
   "metadata": {
    "id": "MZ40ttaqrdoi"
   },
   "source": [
    "## 1.1 Class chip documentation\n",
    "\n",
    "You can find the documentation for the classchip here:\n",
    "https://drive.google.com/drive/u/0/folders/1VBPKVfS9zwu_I2ExR1D0jU2eCSgleoQG"
   ]
  },
  {
   "cell_type": "markdown",
   "metadata": {
    "id": "Z2KHVLr-rdok"
   },
   "source": [
    "## 1.2 Python"
   ]
  },
  {
   "cell_type": "markdown",
   "metadata": {
    "id": "ZE96VOzmrdol"
   },
   "source": [
    "If you are new to Python, you can find a detailed tutorial at the link: https://docs.python.org/3/tutorial/ . \n",
    "\n",
    "In particular the concepts in _3. An Informal Introduction to Python_ and in _4. More Control FLow Tools_ will be useful for the exercises you will have to solve. "
   ]
  },
  {
   "cell_type": "markdown",
   "metadata": {
    "id": "mP0wVUHyrdoo"
   },
   "source": [
    "## 1.3 Report"
   ]
  },
  {
   "cell_type": "markdown",
   "metadata": {
    "id": "3rhlUjrGrdo0",
    "tags": []
   },
   "source": [
    "You hand in the report (prelab + lab report + postlab) in both `.ipynb` and `.pdf` format as a group. Make sure that the markdowns are ran and the generated figures are shown.\n",
    "\n",
    "The deadline is the beginning of the next lab.\n",
    "\n",
    "There is no prelab for this week, but from the next week on you should finish the prelab before the lab starts."
   ]
  },
  {
   "cell_type": "markdown",
   "metadata": {
    "id": "dkzf9ibUrdo1"
   },
   "source": [
    "## 1.4. Virtual machine "
   ]
  },
  {
   "cell_type": "markdown",
   "metadata": {
    "id": "ic5P4eoqrdo5"
   },
   "source": [
    "If you are a Linux user you can skip this step. "
   ]
  },
  {
   "cell_type": "markdown",
   "metadata": {
    "id": "yeLzd3YWrdo6"
   },
   "source": [
    "If you are a Windows or Mac user, we have set-up an Ubuntu-based virtual machine with the necessary libraries to communicate with the board. To import the existent virtual machine, Windows users should install VirtualBox. Mac users can either install VirtualBox or Parallels. If you want to use a pre-configured VirtualBox virtual machine with all the tools pre-installed then follow the instructions in the below."
   ]
  },
  {
   "cell_type": "markdown",
   "metadata": {
    "id": "kPoj_TdmrdpC"
   },
   "source": [
    "To install VirtualBox, please follow these steps:\n",
    "\n",
    "**For Windows users**\n",
    "\n",
    "**Step 1.** Dowload VirtualBox\n",
    "\n",
    "You can download VirtualBox from the link: https://www.virtualbox.org/wiki/Downloads , VirtualBox 6.1.26 platform packages -> Windows hosts \n",
    "\n",
    "Execute the .exe file and follow the steps. In the window \"Would you like to install this device software\" select Install.\n",
    "\n",
    "Once the installation is complete, press Finish and launch the VirtualBox.\n",
    "\n",
    "\n",
    "**Step 2.** Download the Ubuntu 20.04 ISO file\n",
    "\n",
    "You can download the necessary files for the NE-I virtual machine from the link: https://ubuntu.com/.   Click 'Download' option on the Ubuntu website, on the left side of 'Ubuntu Desktop', you can click the green '20.04 LTS' button to download Ubuntu 20.04 ISO file.\n",
    "\n",
    "\n",
    "**Step 3.** Import the file in VirtualBox and install Ubuntu\n",
    "\n",
    "Once you launch VirtualBox, the window Oracle VM VirtualBox Manager should appear on your screen. Then follow this link https://itsfoss.com/install-linux-in-virtualbox/ from 'Step 3: Install Linux using VirtualBox'. \n",
    "\n",
    "\n",
    "**For Mac users**\n",
    "\n",
    "**Step 1.** Dowload VirtualBox\n",
    "\n",
    "You can download VirtualBox from the link: https://www.virtualbox.org/wiki/Downloads , VirtualBox 6.1.26 platform packages -> Windows hosts \n",
    "\n",
    "Execute the .dmg file and follow the steps.\n",
    "\n",
    "Once the installation is complete, press Finish and launch the VirtualBox.\n",
    "\n",
    "\n",
    "**Step 2.** Download the Ubuntu 20.04 ISO file\n",
    "\n",
    "You can download the necessary files for the NE-I virtual machine from the link: https://ubuntu.com/.  Click 'Download' option on the Ubuntu website, on the left side of 'Ubuntu Desktop', you can click the green '20.04 LTS' button to download Ubuntu 20.04 ISO file.\n",
    "\n",
    "\n",
    "**Step 3.** Import the file in VirtualBox and install Ubuntu\n",
    "\n",
    "Once you launch VirtualBox, the window Oracle VM VirtualBox Manager should appear on your screen. Then follow this link https://medium.com/tech-lounge/how-to-install-ubuntu-on-mac-using-virtualbox-3a26515aa869"
   ]
  },
  {
   "cell_type": "markdown",
   "metadata": {
    "id": "dvMd2V1ardpF"
   },
   "source": [
    "# 2. Python exercises"
   ]
  },
  {
   "cell_type": "markdown",
   "metadata": {
    "id": "L_0hAs_7rdpG"
   },
   "source": [
    "## 2.1  Jupyter Lab"
   ]
  },
  {
   "cell_type": "markdown",
   "metadata": {
    "id": "TmXpkqEkrdpH"
   },
   "source": [
    "You can install Jupyter Lab or Jupyter Notebook according to this link:https://jupyter.org/install"
   ]
  },
  {
   "cell_type": "markdown",
   "metadata": {
    "id": "Y2B2u8-NrdpH"
   },
   "source": [
    "## 2.2  Making plots"
   ]
  },
  {
   "cell_type": "markdown",
   "metadata": {
    "id": "TJUbxhGwrdpH"
   },
   "source": [
    "* Plot a Sine curve from 0 to 2&#x3C0;  with 20 points. (Hint: Do not forget to properly label the axis and add figure legends when necessary.)"
   ]
  },
  {
   "cell_type": "markdown",
   "metadata": {
    "id": "vIYQ59sUrdpL"
   },
   "source": [
    "* Add a plot of a Cosine (Use the same range to the Sine plot, but set a different point marker and color.)"
   ]
  },
  {
   "cell_type": "code",
   "execution_count": 3,
   "metadata": {
    "id": "FVJhZA0QrdpI",
    "outputId": "6b53afa3-b92e-4bad-92c2-b10536ead780"
   },
   "outputs": [
    {
     "data": {
      "image/png": "[encoded data removed]",
      "text/plain": [
       "<Figure size 640x480 with 1 Axes>"
      ]
     },
     "metadata": {},
     "output_type": "display_data"
    }
   ],
   "source": [
    "import numpy as np\n",
    "import matplotlib.pyplot as plt\n",
    "import math \n",
    "\n",
    "x= np.arange(0, 2*math.pi, 0.31)\n",
    "y_sin= np.sin(x)\n",
    "y_cos= np.cos(x)\n",
    "\n",
    "plt.title('Figure 2.2 : Making plots')\n",
    "plt.plot(x, y_sin, marker=2, color=\"blue\")\n",
    "plt.plot(x, y_cos, marker=10, color=\"red\")\n",
    "plt.xlabel(\"points\")\n",
    "plt.ylabel(\"amplitude\")\n",
    "plt.legend([\"sine wave\",\"cosine wave\"])\n",
    "plt.grid()\n",
    "plt.show()"
   ]
  },
  {
   "cell_type": "markdown",
   "metadata": {
    "id": "CaDpH6nJrdpM"
   },
   "source": [
    "* Make a plot of the equation $ I_{ds} = I_0 e^{\\frac{\\kappa}{U_T} V_g}$ using the following parameters. Generate two plots, one with linear scaling and one with log scaling on the y axis. Put the right labels on both x axis and y axis. (Hint: use `plt.semilogy`)"
   ]
  },
  {
   "cell_type": "code",
   "execution_count": 4,
   "metadata": {
    "id": "lB83SsNOrdpN"
   },
   "outputs": [],
   "source": [
    "Vg = np.arange(0, 1, 0.001)\n",
    "Io = 1e-13\n",
    "k = 0.6\n",
    "UT = 25e-3"
   ]
  },
  {
   "cell_type": "code",
   "execution_count": 5,
   "metadata": {
    "id": "VCSSDhsdrdpN"
   },
   "outputs": [],
   "source": [
    "Ids = np.fromiter((Io*math.exp(k*Vg[i]/UT) for i in range(len(Vg))), float)"
   ]
  },
  {
   "cell_type": "code",
   "execution_count": 12,
   "metadata": {
    "id": "2e5dH4yprdpO",
    "outputId": "2c30dad9-15ac-49e1-c958-a6027bfa1b78"
   },
   "outputs": [
    {
     "data": {
      "image/png": "[encoded data removed]",
      "text/plain": [
       "<Figure size 640x480 with 1 Axes>"
      ]
     },
     "metadata": {},
     "output_type": "display_data"
    }
   ],
   "source": [
    "plt.title('Y axis - Linear')\n",
    "plt.plot(Vg, Ids)\n",
    "plt.xlabel(\"Vg\")\n",
    "plt.ylabel(\"Ids\")\n",
    "plt.legend([\"Ids\"])\n",
    "plt.grid()\n",
    "plt.show()"
   ]
  },
  {
   "cell_type": "code",
   "execution_count": 13,
   "metadata": {
    "id": "8j5Hd4KDrdpO",
    "outputId": "63bb6c0b-265a-4694-d117-c3bbcf245ecf"
   },
   "outputs": [
    {
     "data": {
      "image/png": "[encoded data removed]",
      "text/plain": [
       "<Figure size 640x480 with 1 Axes>"
      ]
     },
     "metadata": {},
     "output_type": "display_data"
    }
   ],
   "source": [
    "plt.title('Y axis - Logarithmic')\n",
    "plt.semilogy(Vg, Ids)\n",
    "plt.xlabel(\"Vg\")\n",
    "plt.ylabel(\"Ids\")\n",
    "plt.legend([\"Ids\"])\n",
    "plt.grid()\n",
    "plt.show()"
   ]
  },
  {
   "cell_type": "markdown",
   "metadata": {
    "id": "Log_Hrh_rdpP"
   },
   "source": [
    "## 2.3 Saving and loading data"
   ]
  },
  {
   "cell_type": "markdown",
   "metadata": {
    "id": "DRmIZSlerdpP"
   },
   "source": [
    "You may want to work on the data for your report after the lab. Use `np.savetxt('data.csv', data, delimiter=',')` to save it to the working directory."
   ]
  },
  {
   "cell_type": "code",
   "execution_count": 10,
   "metadata": {
    "id": "OgwFu-UgrdpS"
   },
   "outputs": [],
   "source": [
    "# define data\n",
    "data = [Vg,Ids]\n",
    "# save to csv file\n",
    "np.savetxt('data/01_intro/data.csv', data, delimiter=',')"
   ]
  },
  {
   "cell_type": "markdown",
   "metadata": {
    "id": "veJXlBiIrdpS"
   },
   "source": [
    "Check if the data saved is correct by loading it again using `np.loadtxt('data.csv', delimiter=',')` and plot."
   ]
  },
  {
   "cell_type": "code",
   "execution_count": 15,
   "metadata": {
    "id": "7L-wgclqrdpT",
    "outputId": "b4fb3245-ae1b-4838-e4f9-f9fa8be4d338",
    "scrolled": true
   },
   "outputs": [
    {
     "data": {
      "image/png": "[encoded data removed]",
      "text/plain": [
       "<Figure size 640x480 with 1 Axes>"
      ]
     },
     "metadata": {},
     "output_type": "display_data"
    }
   ],
   "source": [
    " # load from csv file\n",
    "x, y = np.loadtxt('data/01_intro/data.csv', delimiter=',')\n",
    "# plot\n",
    "plt.title('Y axis - Logarithmic')\n",
    "plt.semilogy(Vg, Ids)\n",
    "plt.xlabel(\"Vg\")\n",
    "plt.ylabel(\"Ids\")\n",
    "plt.legend([\"Ids\"])\n",
    "plt.grid()\n",
    "plt.show()"
   ]
  },
  {
   "cell_type": "markdown",
   "metadata": {
    "id": "81MYeAxyrdpT"
   },
   "source": [
    "## 2.4 Fitting data with a line"
   ]
  },
  {
   "cell_type": "markdown",
   "metadata": {
    "id": "TysyXW_frdpT"
   },
   "source": [
    "Sometimes you may need to find the relationship between data using regression. Try to extract the slope and intercept of the following given data using linear regression with `np.polyfit`"
   ]
  },
  {
   "cell_type": "code",
   "execution_count": 16,
   "metadata": {
    "id": "X0n4RbyJrdpU",
    "outputId": "1709e9ed-ffc3-4fc8-f52f-b133af062076"
   },
   "outputs": [
    {
     "data": {
      "image/png": "[encoded data removed]",
      "text/plain": [
       "<Figure size 640x480 with 1 Axes>"
      ]
     },
     "metadata": {},
     "output_type": "display_data"
    }
   ],
   "source": [
    "x = np.array([1, 3, 5, 7])\n",
    "y = np.array([ 6, 3, 9, 5 ])\n",
    "m, b = np.polyfit(x,y, 1)\n",
    "\n",
    "# compare the original data points and the fitted line\n",
    "x_lin_reg = np.arange(min(x)-2, max(x)+2, 1)\n",
    "model = m, b\n",
    "predict = np.poly1d(model)\n",
    "y_lin_reg = predict(x_lin_reg)\n",
    "\n",
    "plt.xlabel(\"x\")\n",
    "plt.ylabel(\"y\")\n",
    "plt.scatter(x, y)\n",
    "plt.plot(x_lin_reg, y_lin_reg, c = 'r')\n",
    "plt.show()"
   ]
  },
  {
   "cell_type": "markdown",
   "metadata": {
    "id": "N1sx5qV0rdpU"
   },
   "source": [
    "-------------------------------------------------------------------------------------------------------------------"
   ]
  },
  {
   "cell_type": "markdown",
   "metadata": {
    "id": "qjF9lIgprdpU"
   },
   "source": [
    "# 3 Experiments"
   ]
  },
  {
   "cell_type": "markdown",
   "metadata": {
    "id": "n3b0ISqurdpV"
   },
   "source": [
    "From now on you will be using the real board!"
   ]
  },
  {
   "cell_type": "markdown",
   "metadata": {
    "id": "JAF6rImErdpV"
   },
   "source": [
    "## 3.0 How to install pyplane"
   ]
  },
  {
   "cell_type": "markdown",
   "metadata": {
    "id": "cvvsygb2rdpV"
   },
   "source": [
    "In order to communicate with the chip through Python you need to install _pyplane_ , a library that provides an easy interface to control the chip from jupyter notebook. The interface requires to use Ubuntu 20.04. You can follow different methods based on your machine's operating system."
   ]
  },
  {
   "cell_type": "markdown",
   "metadata": {
    "id": "-1-FrdxwrdpV"
   },
   "source": [
    "### 3.0.1 Installing _pyplane_ using pip"
   ]
  },
  {
   "cell_type": "markdown",
   "metadata": {
    "id": "WK7yhSl4rdpW"
   },
   "source": [
    "Open a command window and run `pip install pyplane`"
   ]
  },
  {
   "cell_type": "markdown",
   "metadata": {
    "id": "j0PO5rbFrdpW"
   },
   "source": [
    "### 3.0.2 Set up the USB connection of the teensy board in the Virtual machine "
   ]
  },
  {
   "cell_type": "markdown",
   "metadata": {
    "id": "EfZoT6zUrdpW"
   },
   "source": [
    "**Windows users**\n",
    "\n",
    "1. check teensy vendor and product id\n",
    "\n",
    "lsusb\n",
    "\n",
    "you should see something like \"XXXX:YYYY\" for teensy\n",
    "\n",
    "2. add usb rules\n",
    "\n",
    "cd /etc/udev/rules.d\n",
    "\n",
    "sudo gedit 10-my-usb.rules\n",
    "\n",
    "Add the information in this 10-my-usb.rules file and save it: \n",
    "ATTR{idVendor}==\"XXXX\", ATTR{idProduct}==\"YYYY\", MODE=\"0666\", GROUP=\"dialout\"\n",
    "\n",
    "3. add user to group and change mode\n",
    "\n",
    "sudo usermod -a -G dialout $USER\n",
    "\n",
    "sudo chmod a+rw /dev/ttyACM0\n",
    "\n",
    "4. restart the virtual machine\n",
    "\n",
    "**Mac Users**\n",
    "\n",
    "*Step 1* Settings --> Ports --> USB Add Teensyduino USB Serial \n",
    "\n",
    "*Step 2* Device --> Connect\n",
    "\n",
    "*Step 3* Change mode: sudo chmod a+rw /dev/ttyACM0\n",
    "\n",
    "*Step 4* Restart kernel in Jupyter noytebook\n",
    "\n",
    "*Step 5* Run the code again"
   ]
  },
  {
   "cell_type": "markdown",
   "metadata": {
    "id": "4fR1ooXLrdpW"
   },
   "source": [
    "## 3.1 Load the firmware (you can skip this step)"
   ]
  },
  {
   "cell_type": "markdown",
   "metadata": {
    "id": "HAj5P2QqrdpW"
   },
   "source": [
    "You don't need to load the firmware,we have done it for you.\n",
    "\n",
    "To load the firmware, please follow these steps:\n",
    "\n",
    "Step 1. Dowload and install the Teensy Loader\n",
    "\n",
    "wget https://www.pjrc.com/teensy/teensy_linux64.tar.gz\n",
    "\n",
    "wget https://www.pjrc.com/teensy/00-teensy.rules\n",
    "\n",
    "sudo cp 00-teensy.rules /etc/udev/rules.d/\n",
    "\n",
    "tar -xvzf teensy_linux64.tar.gz\n",
    "\n",
    "./teensy &\n",
    "\n",
    "You will see\n",
    "![image_1.png](attachment:image_1.png)"
   ]
  },
  {
   "cell_type": "markdown",
   "metadata": {
    "id": "h1mBn9ITrdpX"
   },
   "source": [
    "Step 2. Load main.hex\n",
    "\n",
    "Connect the board to your computer by USB"
   ]
  },
  {
   "cell_type": "markdown",
   "metadata": {
    "id": "pGacLivurdpX"
   },
   "source": [
    "Open maim.hex file\n",
    "![image_2.png](attachment:image_2.png)"
   ]
  },
  {
   "cell_type": "markdown",
   "metadata": {
    "id": "7e_yBmcQrdpY"
   },
   "source": [
    "Press button on Teensy to manually enter Program Mode\n",
    "![image_3.png](attachment:image_3.png)"
   ]
  },
  {
   "cell_type": "markdown",
   "metadata": {
    "id": "sxa3OifOrdpY"
   },
   "source": [
    "Program\n",
    "![image_4.png](attachment:image_4.png)"
   ]
  },
  {
   "cell_type": "markdown",
   "metadata": {
    "id": "hligueBGrdpY"
   },
   "source": [
    "Reboot\n",
    "![image_6.png](attachment:image_6.png)"
   ]
  },
  {
   "cell_type": "markdown",
   "metadata": {
    "id": "k9tEzf3ardpZ"
   },
   "source": [
    "## 3.2 Set up the communication between jupyter notebook and PCB"
   ]
  },
  {
   "cell_type": "markdown",
   "metadata": {
    "id": "KaanrdvkrdpZ"
   },
   "source": [
    "Verify that the LEDs of your board are on as in the following picture"
   ]
  },
  {
   "cell_type": "markdown",
   "metadata": {
    "id": "c1E1YLDErdpZ"
   },
   "source": [
    "![image_8.jpg](attachment:image_8.jpg)"
   ]
  },
  {
   "cell_type": "code",
   "execution_count": 2,
   "metadata": {
    "id": "RR2w6DiwrdpZ"
   },
   "outputs": [],
   "source": [
    "# import the necessary library to communicate with the hardware\n",
    "import sys\n",
    "import pyplane\n",
    "import numpy as np\n",
    "import matplotlib.pyplot as plt"
   ]
  },
  {
   "cell_type": "code",
   "execution_count": 3,
   "metadata": {
    "id": "brGjz4MrrdpZ"
   },
   "outputs": [],
   "source": [
    "# create a Plane object and open the communication\n",
    "if 'p' not in locals():\n",
    "    p = pyplane.Plane()\n",
    "    try:\n",
    "        p.open('/dev/ttyACM0')\n",
    "    except RuntimeError as e:\n",
    "        print(e)"
   ]
  },
  {
   "cell_type": "markdown",
   "metadata": {
    "id": "LHClKaicrdpa"
   },
   "source": [
    "Make sure all these steps are executed correctly (the [*] in front of the line turns into a number)"
   ]
  },
  {
   "cell_type": "code",
   "execution_count": 4,
   "metadata": {
    "id": "fcV4pHeBrdpa",
    "outputId": "fa9df078-db49-443e-cb47-8309be343741"
   },
   "outputs": [
    {
     "data": {
      "text/plain": [
       "<TeensyStatus.Success: 0>"
      ]
     },
     "execution_count": 4,
     "metadata": {},
     "output_type": "execute_result"
    }
   ],
   "source": [
    "# Send a reset signal to the board\n",
    "reset_type = pyplane.ResetType(0)\n",
    "p.reset(pyplane.ResetType.Soft)"
   ]
  },
  {
   "cell_type": "markdown",
   "metadata": {
    "id": "cEH76xBurdpa"
   },
   "source": [
    "Was the LED flashing? How? \n",
    "\n",
    "     \n",
    "    Yes, it was one rapid blinck.\n",
    "\n",
    "    \n",
    "    How is this feature implemented? ... The computer continuosly sends 3 byte commands which can be transfered back to back in the same packets. The reset command is sent using 0 in all bits of the first byte.\n"
   ]
  },
  {
   "cell_type": "code",
   "execution_count": 5,
   "metadata": {
    "id": "z_5Sy9DIrdpb"
   },
   "outputs": [],
   "source": [
    "#NOTE: You must send this request events every time you do a reset operetion, otherwise the recieved data is wrong. \n",
    "p.request_events(1)"
   ]
  },
  {
   "cell_type": "markdown",
   "metadata": {
    "id": "XJPYlIX-rdpb"
   },
   "source": [
    "You could check firmware version, which should be 1.8.3."
   ]
  },
  {
   "cell_type": "code",
   "execution_count": 22,
   "metadata": {
    "id": "yVOqkkUFrdpb",
    "outputId": "b3ad48b2-b3ca-4ab6-d943-eada8f5380e4"
   },
   "outputs": [
    {
     "data": {
      "text/plain": [
       "(1, 8, 4)"
      ]
     },
     "execution_count": 22,
     "metadata": {},
     "output_type": "execute_result"
    }
   ],
   "source": [
    "p.get_firmware_version()"
   ]
  },
  {
   "cell_type": "markdown",
   "metadata": {
    "id": "QPQm7Ek_rdpc"
   },
   "source": [
    "See all the possible functions "
   ]
  },
  {
   "cell_type": "code",
   "execution_count": 7,
   "metadata": {
    "id": "AxFxBtTlrdpc",
    "outputId": "0a87cb5f-7c81-4f6d-c654-6ea95cef5d8a"
   },
   "outputs": [
    {
     "data": {
      "text/plain": [
       "['AdcChannel',\n",
       " 'BitDepth',\n",
       " 'Coach',\n",
       " 'CoachInputEvent',\n",
       " 'CoachOutputEvent',\n",
       " 'CurrentRange',\n",
       " 'DacChannel',\n",
       " 'Plane',\n",
       " 'ResetType',\n",
       " 'TeensyStatus',\n",
       " '__builtins__',\n",
       " '__cached__',\n",
       " '__doc__',\n",
       " '__file__',\n",
       " '__loader__',\n",
       " '__name__',\n",
       " '__package__',\n",
       " '__path__',\n",
       " '__spec__',\n",
       " 'get_version',\n",
       " 'pyplane']"
      ]
     },
     "execution_count": 7,
     "metadata": {},
     "output_type": "execute_result"
    }
   ],
   "source": [
    "dir(pyplane)"
   ]
  },
  {
   "cell_type": "markdown",
   "metadata": {
    "id": "EIuQ3OMHrdpc"
   },
   "source": [
    "## 3.3 Basic function operation"
   ]
  },
  {
   "cell_type": "markdown",
   "metadata": {
    "id": "Zt1uDfGdrdpc"
   },
   "source": [
    "You can set and read voltage using function p.set_voltage and p.read_voltage.\n",
    "\n",
    "Very importantly, all voltage you set on this board must be between 0 and 1.8 V!"
   ]
  },
  {
   "cell_type": "markdown",
   "metadata": {
    "id": "b7s118hsrdpf"
   },
   "source": [
    "Now set a voltage at AIN0"
   ]
  },
  {
   "cell_type": "code",
   "execution_count": 8,
   "metadata": {
    "id": "x6N0Ejw0rdpi",
    "outputId": "8444e544-95cd-4cb5-87cc-71aba7768354",
    "scrolled": true
   },
   "outputs": [
    {
     "data": {
      "text/plain": [
       "0.6492669582366943"
      ]
     },
     "execution_count": 8,
     "metadata": {},
     "output_type": "execute_result"
    }
   ],
   "source": [
    "p.set_voltage(pyplane.DacChannel.AIN0, 0.65)"
   ]
  },
  {
   "cell_type": "markdown",
   "metadata": {
    "id": "5CFE-tMwrdpj"
   },
   "source": [
    "Because of the quantization error of the DAC, you may want to see the actual value you have set using p.get_set_voltage"
   ]
  },
  {
   "cell_type": "code",
   "execution_count": 11,
   "metadata": {
    "id": "4XayefDLrdpj",
    "outputId": "f1a707cc-206d-4293-a652-b6b26e796d57",
    "scrolled": true
   },
   "outputs": [
    {
     "data": {
      "text/plain": [
       "0.6492669582366943"
      ]
     },
     "execution_count": 11,
     "metadata": {},
     "output_type": "execute_result"
    }
   ],
   "source": [
    "p.get_set_voltage(pyplane.DacChannel.AIN0)"
   ]
  },
  {
   "cell_type": "markdown",
   "metadata": {
    "id": "dbYR-kw7rdpj"
   },
   "source": [
    "Read the voltage at adc channel AOUT0"
   ]
  },
  {
   "cell_type": "code",
   "execution_count": null,
   "metadata": {
    "id": "828QRhzHrdpj",
    "outputId": "e33d7c1d-cf7a-405f-c342-87b25b018232"
   },
   "outputs": [
    {
     "data": {
      "text/plain": [
       "0.9208739995956421"
      ]
     },
     "execution_count": 9,
     "metadata": {},
     "output_type": "execute_result"
    }
   ],
   "source": [
    "p.read_voltage(pyplane.AdcChannel.AOUT0)"
   ]
  },
  {
   "cell_type": "markdown",
   "metadata": {
    "id": "EE1n4Upsrdpk"
   },
   "source": [
    "Read the voltage at adc channel GO22"
   ]
  },
  {
   "cell_type": "code",
   "execution_count": null,
   "metadata": {
    "id": "MxmpqPETrdpk",
    "outputId": "361e4681-fa0b-4fc3-e175-7906dd54c617"
   },
   "outputs": [
    {
     "data": {
      "text/plain": [
       "8.300781395575996e-09"
      ]
     },
     "execution_count": 10,
     "metadata": {},
     "output_type": "execute_result"
    }
   ],
   "source": [
    "p.read_current(pyplane.AdcChannel.GO22)"
   ]
  },
  {
   "cell_type": "markdown",
   "metadata": {
    "id": "RC6ZpKGPrdpk"
   },
   "source": [
    "## 3.4 AER"
   ]
  },
  {
   "cell_type": "code",
   "execution_count": null,
   "metadata": {
    "id": "7TVq9XBwrdpl",
    "outputId": "7465eb5e-0c47-4086-dbd6-6d813947b761"
   },
   "outputs": [
    {
     "data": {
      "image/png": "[encoded data removed]",
      "image/svg+xml": [
       "<?xml version=\"1.0\" encoding=\"utf-8\" standalone=\"no\"?>\n",
       "<!DOCTYPE svg PUBLIC \"-//W3C//DTD SVG 1.1//EN\"\n",
       "  \"http://www.w3.org/Graphics/SVG/1.1/DTD/svg11.dtd\">\n",
       "<svg height=\"105.35pt\" version=\"1.1\" viewBox=\"0 0 189.464375 105.35\" width=\"189.464375pt\" xmlns=\"http://www.w3.org/2000/svg\" xmlns:xlink=\"http://www.w3.org/1999/xlink\">\n",
       " <metadata>\n",
       "  <rdf:RDF xmlns:cc=\"http://creativecommons.org/ns#\" xmlns:dc=\"http://purl.org/dc/elements/1.1/\" xmlns:rdf=\"http://www.w3.org/1999/02/22-rdf-syntax-ns#\">\n",
       "   <cc:Work>\n",
       "    <dc:type rdf:resource=\"http://purl.org/dc/dcmitype/StillImage\"/>\n",
       "    <dc:date>2021-10-17T01:49:14.361100</dc:date>\n",
       "    <dc:format>image/svg+xml</dc:format>\n",
       "    <dc:creator>\n",
       "     <cc:Agent>\n",
       "      <dc:title>Matplotlib v3.4.3, https://matplotlib.org/</dc:title>\n",
       "     </cc:Agent>\n",
       "    </dc:creator>\n",
       "   </cc:Work>\n",
       "  </rdf:RDF>\n",
       " </metadata>\n",
       " <defs>\n",
       "  <style type=\"text/css\">*{stroke-linecap:butt;stroke-linejoin:round;}</style>\n",
       " </defs>\n",
       " <g id=\"figure_1\">\n",
       "  <g id=\"patch_1\">\n",
       "   <path d=\"M 0 105.35 \n",
       "L 189.464375 105.35 \n",
       "L 189.464375 0 \n",
       "L 0 0 \n",
       "z\n",
       "\" style=\"fill:none;\"/>\n",
       "  </g>\n",
       "  <g id=\"axes_1\">\n",
       "   <g id=\"line2d_1\">\n",
       "    <path clip-path=\"url(#pe5b721a0e9)\" d=\"M 133.314688 77.155 \n",
       "L 133.314688 64.405 \n",
       "L 112.914688 64.405 \n",
       "L 112.914688 44.005 \n",
       "L 133.314688 44.005 \n",
       "L 133.314688 31.255 \n",
       "\" style=\"fill:none;stroke:#000000;stroke-linecap:round;stroke-width:2;\"/>\n",
       "   </g>\n",
       "   <g id=\"line2d_2\">\n",
       "    <path clip-path=\"url(#pe5b721a0e9)\" d=\"M 105.264688 64.405 \n",
       "L 105.264688 44.005 \n",
       "\" style=\"fill:none;stroke:#000000;stroke-linecap:round;stroke-width:2;\"/>\n",
       "   </g>\n",
       "   <g id=\"line2d_3\">\n",
       "    <path clip-path=\"url(#pe5b721a0e9)\" d=\"M 88.944688 54.205 \n",
       "L 105.264688 54.205 \n",
       "\" style=\"fill:none;stroke:#000000;stroke-linecap:round;stroke-width:2;\"/>\n",
       "   </g>\n",
       "   <g id=\"patch_2\">\n",
       "    <path clip-path=\"url(#pe5b721a0e9)\" d=\"M 88.944688 56.5 \n",
       "C 89.553329 56.5 90.137123 56.258184 90.567498 55.82781 \n",
       "C 90.997872 55.397436 91.239688 54.813641 91.239688 54.205 \n",
       "C 91.239688 53.596359 90.997872 53.012564 90.567498 52.58219 \n",
       "C 90.137123 52.151816 89.553329 51.91 88.944688 51.91 \n",
       "C 88.336046 51.91 87.752252 52.151816 87.321877 52.58219 \n",
       "C 86.891503 53.012564 86.649688 53.596359 86.649688 54.205 \n",
       "C 86.649688 54.813641 86.891503 55.397436 87.321877 55.82781 \n",
       "C 87.752252 56.258184 88.336046 56.5 88.944688 56.5 \n",
       "z\n",
       "\" style=\"stroke:#000000;stroke-linejoin:miter;stroke-width:2;\"/>\n",
       "   </g>\n",
       "   <g id=\"patch_3\">\n",
       "    <path clip-path=\"url(#pe5b721a0e9)\" d=\"M 133.314688 33.55 \n",
       "C 133.923329 33.55 134.507123 33.308184 134.937498 32.87781 \n",
       "C 135.367872 32.447436 135.609688 31.863641 135.609688 31.255 \n",
       "C 135.609688 30.646359 135.367872 30.062564 134.937498 29.63219 \n",
       "C 134.507123 29.201816 133.923329 28.96 133.314688 28.96 \n",
       "C 132.706046 28.96 132.122252 29.201816 131.691877 29.63219 \n",
       "C 131.261503 30.062564 131.019688 30.646359 131.019688 31.255 \n",
       "C 131.019688 31.863641 131.261503 32.447436 131.691877 32.87781 \n",
       "C 132.122252 33.308184 132.706046 33.55 133.314688 33.55 \n",
       "z\n",
       "\" style=\"stroke:#000000;stroke-linejoin:miter;stroke-width:2;\"/>\n",
       "   </g>\n",
       "   <g id=\"patch_4\">\n",
       "    <path clip-path=\"url(#pe5b721a0e9)\" d=\"M 133.314688 79.45 \n",
       "C 133.923329 79.45 134.507123 79.208184 134.937498 78.77781 \n",
       "C 135.367872 78.347436 135.609688 77.763641 135.609688 77.155 \n",
       "C 135.609688 76.546359 135.367872 75.962564 134.937498 75.53219 \n",
       "C 134.507123 75.101816 133.923329 74.86 133.314688 74.86 \n",
       "C 132.706046 74.86 132.122252 75.101816 131.691877 75.53219 \n",
       "C 131.261503 75.962564 131.019688 76.546359 131.019688 77.155 \n",
       "C 131.019688 77.763641 131.261503 78.347436 131.691877 78.77781 \n",
       "C 132.122252 79.208184 132.706046 79.45 133.314688 79.45 \n",
       "z\n",
       "\" style=\"stroke:#000000;stroke-linejoin:miter;stroke-width:2;\"/>\n",
       "   </g>\n",
       "   <g id=\"text_1\">\n",
       "    <!-- gate=AIN0 -->\n",
       "    <g transform=\"translate(7.2 58.068125)scale(0.14 -0.14)\">\n",
       "     <defs>\n",
       "      <path d=\"M 2906 1791 \n",
       "Q 2906 2416 2648 2759 \n",
       "Q 2391 3103 1925 3103 \n",
       "Q 1463 3103 1205 2759 \n",
       "Q 947 2416 947 1791 \n",
       "Q 947 1169 1205 825 \n",
       "Q 1463 481 1925 481 \n",
       "Q 2391 481 2648 825 \n",
       "Q 2906 1169 2906 1791 \n",
       "z\n",
       "M 3481 434 \n",
       "Q 3481 -459 3084 -895 \n",
       "Q 2688 -1331 1869 -1331 \n",
       "Q 1566 -1331 1297 -1286 \n",
       "Q 1028 -1241 775 -1147 \n",
       "L 775 -588 \n",
       "Q 1028 -725 1275 -790 \n",
       "Q 1522 -856 1778 -856 \n",
       "Q 2344 -856 2625 -561 \n",
       "Q 2906 -266 2906 331 \n",
       "L 2906 616 \n",
       "Q 2728 306 2450 153 \n",
       "Q 2172 0 1784 0 \n",
       "Q 1141 0 747 490 \n",
       "Q 353 981 353 1791 \n",
       "Q 353 2603 747 3093 \n",
       "Q 1141 3584 1784 3584 \n",
       "Q 2172 3584 2450 3431 \n",
       "Q 2728 3278 2906 2969 \n",
       "L 2906 3500 \n",
       "L 3481 3500 \n",
       "L 3481 434 \n",
       "z\n",
       "\" id=\"DejaVuSans-67\" transform=\"scale(0.015625)\"/>\n",
       "      <path d=\"M 2194 1759 \n",
       "Q 1497 1759 1228 1600 \n",
       "Q 959 1441 959 1056 \n",
       "Q 959 750 1161 570 \n",
       "Q 1363 391 1709 391 \n",
       "Q 2188 391 2477 730 \n",
       "Q 2766 1069 2766 1631 \n",
       "L 2766 1759 \n",
       "L 2194 1759 \n",
       "z\n",
       "M 3341 1997 \n",
       "L 3341 0 \n",
       "L 2766 0 \n",
       "L 2766 531 \n",
       "Q 2569 213 2275 61 \n",
       "Q 1981 -91 1556 -91 \n",
       "Q 1019 -91 701 211 \n",
       "Q 384 513 384 1019 \n",
       "Q 384 1609 779 1909 \n",
       "Q 1175 2209 1959 2209 \n",
       "L 2766 2209 \n",
       "L 2766 2266 \n",
       "Q 2766 2663 2505 2880 \n",
       "Q 2244 3097 1772 3097 \n",
       "Q 1472 3097 1187 3025 \n",
       "Q 903 2953 641 2809 \n",
       "L 641 3341 \n",
       "Q 956 3463 1253 3523 \n",
       "Q 1550 3584 1831 3584 \n",
       "Q 2591 3584 2966 3190 \n",
       "Q 3341 2797 3341 1997 \n",
       "z\n",
       "\" id=\"DejaVuSans-61\" transform=\"scale(0.015625)\"/>\n",
       "      <path d=\"M 1172 4494 \n",
       "L 1172 3500 \n",
       "L 2356 3500 \n",
       "L 2356 3053 \n",
       "L 1172 3053 \n",
       "L 1172 1153 \n",
       "Q 1172 725 1289 603 \n",
       "Q 1406 481 1766 481 \n",
       "L 2356 481 \n",
       "L 2356 0 \n",
       "L 1766 0 \n",
       "Q 1100 0 847 248 \n",
       "Q 594 497 594 1153 \n",
       "L 594 3053 \n",
       "L 172 3053 \n",
       "L 172 3500 \n",
       "L 594 3500 \n",
       "L 594 4494 \n",
       "L 1172 4494 \n",
       "z\n",
       "\" id=\"DejaVuSans-74\" transform=\"scale(0.015625)\"/>\n",
       "      <path d=\"M 3597 1894 \n",
       "L 3597 1613 \n",
       "L 953 1613 \n",
       "Q 991 1019 1311 708 \n",
       "Q 1631 397 2203 397 \n",
       "Q 2534 397 2845 478 \n",
       "Q 3156 559 3463 722 \n",
       "L 3463 178 \n",
       "Q 3153 47 2828 -22 \n",
       "Q 2503 -91 2169 -91 \n",
       "Q 1331 -91 842 396 \n",
       "Q 353 884 353 1716 \n",
       "Q 353 2575 817 3079 \n",
       "Q 1281 3584 2069 3584 \n",
       "Q 2775 3584 3186 3129 \n",
       "Q 3597 2675 3597 1894 \n",
       "z\n",
       "M 3022 2063 \n",
       "Q 3016 2534 2758 2815 \n",
       "Q 2500 3097 2075 3097 \n",
       "Q 1594 3097 1305 2825 \n",
       "Q 1016 2553 972 2059 \n",
       "L 3022 2063 \n",
       "z\n",
       "\" id=\"DejaVuSans-65\" transform=\"scale(0.015625)\"/>\n",
       "      <path d=\"M 678 2906 \n",
       "L 4684 2906 \n",
       "L 4684 2381 \n",
       "L 678 2381 \n",
       "L 678 2906 \n",
       "z\n",
       "M 678 1631 \n",
       "L 4684 1631 \n",
       "L 4684 1100 \n",
       "L 678 1100 \n",
       "L 678 1631 \n",
       "z\n",
       "\" id=\"DejaVuSans-3d\" transform=\"scale(0.015625)\"/>\n",
       "      <path d=\"M 2188 4044 \n",
       "L 1331 1722 \n",
       "L 3047 1722 \n",
       "L 2188 4044 \n",
       "z\n",
       "M 1831 4666 \n",
       "L 2547 4666 \n",
       "L 4325 0 \n",
       "L 3669 0 \n",
       "L 3244 1197 \n",
       "L 1141 1197 \n",
       "L 716 0 \n",
       "L 50 0 \n",
       "L 1831 4666 \n",
       "z\n",
       "\" id=\"DejaVuSans-41\" transform=\"scale(0.015625)\"/>\n",
       "      <path d=\"M 628 4666 \n",
       "L 1259 4666 \n",
       "L 1259 0 \n",
       "L 628 0 \n",
       "L 628 4666 \n",
       "z\n",
       "\" id=\"DejaVuSans-49\" transform=\"scale(0.015625)\"/>\n",
       "      <path d=\"M 628 4666 \n",
       "L 1478 4666 \n",
       "L 3547 763 \n",
       "L 3547 4666 \n",
       "L 4159 4666 \n",
       "L 4159 0 \n",
       "L 3309 0 \n",
       "L 1241 3903 \n",
       "L 1241 0 \n",
       "L 628 0 \n",
       "L 628 4666 \n",
       "z\n",
       "\" id=\"DejaVuSans-4e\" transform=\"scale(0.015625)\"/>\n",
       "      <path d=\"M 2034 4250 \n",
       "Q 1547 4250 1301 3770 \n",
       "Q 1056 3291 1056 2328 \n",
       "Q 1056 1369 1301 889 \n",
       "Q 1547 409 2034 409 \n",
       "Q 2525 409 2770 889 \n",
       "Q 3016 1369 3016 2328 \n",
       "Q 3016 3291 2770 3770 \n",
       "Q 2525 4250 2034 4250 \n",
       "z\n",
       "M 2034 4750 \n",
       "Q 2819 4750 3233 4129 \n",
       "Q 3647 3509 3647 2328 \n",
       "Q 3647 1150 3233 529 \n",
       "Q 2819 -91 2034 -91 \n",
       "Q 1250 -91 836 529 \n",
       "Q 422 1150 422 2328 \n",
       "Q 422 3509 836 4129 \n",
       "Q 1250 4750 2034 4750 \n",
       "z\n",
       "\" id=\"DejaVuSans-30\" transform=\"scale(0.015625)\"/>\n",
       "     </defs>\n",
       "     <use xlink:href=\"#DejaVuSans-67\"/>\n",
       "     <use x=\"63.476562\" xlink:href=\"#DejaVuSans-61\"/>\n",
       "     <use x=\"124.755859\" xlink:href=\"#DejaVuSans-74\"/>\n",
       "     <use x=\"163.964844\" xlink:href=\"#DejaVuSans-65\"/>\n",
       "     <use x=\"225.488281\" xlink:href=\"#DejaVuSans-3d\"/>\n",
       "     <use x=\"309.277344\" xlink:href=\"#DejaVuSans-41\"/>\n",
       "     <use x=\"377.685547\" xlink:href=\"#DejaVuSans-49\"/>\n",
       "     <use x=\"407.177734\" xlink:href=\"#DejaVuSans-4e\"/>\n",
       "     <use x=\"481.982422\" xlink:href=\"#DejaVuSans-30\"/>\n",
       "    </g>\n",
       "   </g>\n",
       "   <g id=\"text_2\">\n",
       "    <!-- drain=GO22 -->\n",
       "    <g transform=\"translate(89.615 22.988437)scale(0.14 -0.14)\">\n",
       "     <defs>\n",
       "      <path d=\"M 2906 2969 \n",
       "L 2906 4863 \n",
       "L 3481 4863 \n",
       "L 3481 0 \n",
       "L 2906 0 \n",
       "L 2906 525 \n",
       "Q 2725 213 2448 61 \n",
       "Q 2172 -91 1784 -91 \n",
       "Q 1150 -91 751 415 \n",
       "Q 353 922 353 1747 \n",
       "Q 353 2572 751 3078 \n",
       "Q 1150 3584 1784 3584 \n",
       "Q 2172 3584 2448 3432 \n",
       "Q 2725 3281 2906 2969 \n",
       "z\n",
       "M 947 1747 \n",
       "Q 947 1113 1208 752 \n",
       "Q 1469 391 1925 391 \n",
       "Q 2381 391 2643 752 \n",
       "Q 2906 1113 2906 1747 \n",
       "Q 2906 2381 2643 2742 \n",
       "Q 2381 3103 1925 3103 \n",
       "Q 1469 3103 1208 2742 \n",
       "Q 947 2381 947 1747 \n",
       "z\n",
       "\" id=\"DejaVuSans-64\" transform=\"scale(0.015625)\"/>\n",
       "      <path d=\"M 2631 2963 \n",
       "Q 2534 3019 2420 3045 \n",
       "Q 2306 3072 2169 3072 \n",
       "Q 1681 3072 1420 2755 \n",
       "Q 1159 2438 1159 1844 \n",
       "L 1159 0 \n",
       "L 581 0 \n",
       "L 581 3500 \n",
       "L 1159 3500 \n",
       "L 1159 2956 \n",
       "Q 1341 3275 1631 3429 \n",
       "Q 1922 3584 2338 3584 \n",
       "Q 2397 3584 2469 3576 \n",
       "Q 2541 3569 2628 3553 \n",
       "L 2631 2963 \n",
       "z\n",
       "\" id=\"DejaVuSans-72\" transform=\"scale(0.015625)\"/>\n",
       "      <path d=\"M 603 3500 \n",
       "L 1178 3500 \n",
       "L 1178 0 \n",
       "L 603 0 \n",
       "L 603 3500 \n",
       "z\n",
       "M 603 4863 \n",
       "L 1178 4863 \n",
       "L 1178 4134 \n",
       "L 603 4134 \n",
       "L 603 4863 \n",
       "z\n",
       "\" id=\"DejaVuSans-69\" transform=\"scale(0.015625)\"/>\n",
       "      <path d=\"M 3513 2113 \n",
       "L 3513 0 \n",
       "L 2938 0 \n",
       "L 2938 2094 \n",
       "Q 2938 2591 2744 2837 \n",
       "Q 2550 3084 2163 3084 \n",
       "Q 1697 3084 1428 2787 \n",
       "Q 1159 2491 1159 1978 \n",
       "L 1159 0 \n",
       "L 581 0 \n",
       "L 581 3500 \n",
       "L 1159 3500 \n",
       "L 1159 2956 \n",
       "Q 1366 3272 1645 3428 \n",
       "Q 1925 3584 2291 3584 \n",
       "Q 2894 3584 3203 3211 \n",
       "Q 3513 2838 3513 2113 \n",
       "z\n",
       "\" id=\"DejaVuSans-6e\" transform=\"scale(0.015625)\"/>\n",
       "      <path d=\"M 3809 666 \n",
       "L 3809 1919 \n",
       "L 2778 1919 \n",
       "L 2778 2438 \n",
       "L 4434 2438 \n",
       "L 4434 434 \n",
       "Q 4069 175 3628 42 \n",
       "Q 3188 -91 2688 -91 \n",
       "Q 1594 -91 976 548 \n",
       "Q 359 1188 359 2328 \n",
       "Q 359 3472 976 4111 \n",
       "Q 1594 4750 2688 4750 \n",
       "Q 3144 4750 3555 4637 \n",
       "Q 3966 4525 4313 4306 \n",
       "L 4313 3634 \n",
       "Q 3963 3931 3569 4081 \n",
       "Q 3175 4231 2741 4231 \n",
       "Q 1884 4231 1454 3753 \n",
       "Q 1025 3275 1025 2328 \n",
       "Q 1025 1384 1454 906 \n",
       "Q 1884 428 2741 428 \n",
       "Q 3075 428 3337 486 \n",
       "Q 3600 544 3809 666 \n",
       "z\n",
       "\" id=\"DejaVuSans-47\" transform=\"scale(0.015625)\"/>\n",
       "      <path d=\"M 2522 4238 \n",
       "Q 1834 4238 1429 3725 \n",
       "Q 1025 3213 1025 2328 \n",
       "Q 1025 1447 1429 934 \n",
       "Q 1834 422 2522 422 \n",
       "Q 3209 422 3611 934 \n",
       "Q 4013 1447 4013 2328 \n",
       "Q 4013 3213 3611 3725 \n",
       "Q 3209 4238 2522 4238 \n",
       "z\n",
       "M 2522 4750 \n",
       "Q 3503 4750 4090 4092 \n",
       "Q 4678 3434 4678 2328 \n",
       "Q 4678 1225 4090 567 \n",
       "Q 3503 -91 2522 -91 \n",
       "Q 1538 -91 948 565 \n",
       "Q 359 1222 359 2328 \n",
       "Q 359 3434 948 4092 \n",
       "Q 1538 4750 2522 4750 \n",
       "z\n",
       "\" id=\"DejaVuSans-4f\" transform=\"scale(0.015625)\"/>\n",
       "      <path d=\"M 1228 531 \n",
       "L 3431 531 \n",
       "L 3431 0 \n",
       "L 469 0 \n",
       "L 469 531 \n",
       "Q 828 903 1448 1529 \n",
       "Q 2069 2156 2228 2338 \n",
       "Q 2531 2678 2651 2914 \n",
       "Q 2772 3150 2772 3378 \n",
       "Q 2772 3750 2511 3984 \n",
       "Q 2250 4219 1831 4219 \n",
       "Q 1534 4219 1204 4116 \n",
       "Q 875 4013 500 3803 \n",
       "L 500 4441 \n",
       "Q 881 4594 1212 4672 \n",
       "Q 1544 4750 1819 4750 \n",
       "Q 2544 4750 2975 4387 \n",
       "Q 3406 4025 3406 3419 \n",
       "Q 3406 3131 3298 2873 \n",
       "Q 3191 2616 2906 2266 \n",
       "Q 2828 2175 2409 1742 \n",
       "Q 1991 1309 1228 531 \n",
       "z\n",
       "\" id=\"DejaVuSans-32\" transform=\"scale(0.015625)\"/>\n",
       "     </defs>\n",
       "     <use xlink:href=\"#DejaVuSans-64\"/>\n",
       "     <use x=\"63.476562\" xlink:href=\"#DejaVuSans-72\"/>\n",
       "     <use x=\"104.589844\" xlink:href=\"#DejaVuSans-61\"/>\n",
       "     <use x=\"165.869141\" xlink:href=\"#DejaVuSans-69\"/>\n",
       "     <use x=\"193.652344\" xlink:href=\"#DejaVuSans-6e\"/>\n",
       "     <use x=\"257.03125\" xlink:href=\"#DejaVuSans-3d\"/>\n",
       "     <use x=\"340.820312\" xlink:href=\"#DejaVuSans-47\"/>\n",
       "     <use x=\"418.310547\" xlink:href=\"#DejaVuSans-4f\"/>\n",
       "     <use x=\"497.021484\" xlink:href=\"#DejaVuSans-32\"/>\n",
       "     <use x=\"560.644531\" xlink:href=\"#DejaVuSans-32\"/>\n",
       "    </g>\n",
       "   </g>\n",
       "   <g id=\"text_3\">\n",
       "    <!-- source=GO20 -->\n",
       "    <g transform=\"translate(84.365 93.147812)scale(0.14 -0.14)\">\n",
       "     <defs>\n",
       "      <path d=\"M 2834 3397 \n",
       "L 2834 2853 \n",
       "Q 2591 2978 2328 3040 \n",
       "Q 2066 3103 1784 3103 \n",
       "Q 1356 3103 1142 2972 \n",
       "Q 928 2841 928 2578 \n",
       "Q 928 2378 1081 2264 \n",
       "Q 1234 2150 1697 2047 \n",
       "L 1894 2003 \n",
       "Q 2506 1872 2764 1633 \n",
       "Q 3022 1394 3022 966 \n",
       "Q 3022 478 2636 193 \n",
       "Q 2250 -91 1575 -91 \n",
       "Q 1294 -91 989 -36 \n",
       "Q 684 19 347 128 \n",
       "L 347 722 \n",
       "Q 666 556 975 473 \n",
       "Q 1284 391 1588 391 \n",
       "Q 1994 391 2212 530 \n",
       "Q 2431 669 2431 922 \n",
       "Q 2431 1156 2273 1281 \n",
       "Q 2116 1406 1581 1522 \n",
       "L 1381 1569 \n",
       "Q 847 1681 609 1914 \n",
       "Q 372 2147 372 2553 \n",
       "Q 372 3047 722 3315 \n",
       "Q 1072 3584 1716 3584 \n",
       "Q 2034 3584 2315 3537 \n",
       "Q 2597 3491 2834 3397 \n",
       "z\n",
       "\" id=\"DejaVuSans-73\" transform=\"scale(0.015625)\"/>\n",
       "      <path d=\"M 1959 3097 \n",
       "Q 1497 3097 1228 2736 \n",
       "Q 959 2375 959 1747 \n",
       "Q 959 1119 1226 758 \n",
       "Q 1494 397 1959 397 \n",
       "Q 2419 397 2687 759 \n",
       "Q 2956 1122 2956 1747 \n",
       "Q 2956 2369 2687 2733 \n",
       "Q 2419 3097 1959 3097 \n",
       "z\n",
       "M 1959 3584 \n",
       "Q 2709 3584 3137 3096 \n",
       "Q 3566 2609 3566 1747 \n",
       "Q 3566 888 3137 398 \n",
       "Q 2709 -91 1959 -91 \n",
       "Q 1206 -91 779 398 \n",
       "Q 353 888 353 1747 \n",
       "Q 353 2609 779 3096 \n",
       "Q 1206 3584 1959 3584 \n",
       "z\n",
       "\" id=\"DejaVuSans-6f\" transform=\"scale(0.015625)\"/>\n",
       "      <path d=\"M 544 1381 \n",
       "L 544 3500 \n",
       "L 1119 3500 \n",
       "L 1119 1403 \n",
       "Q 1119 906 1312 657 \n",
       "Q 1506 409 1894 409 \n",
       "Q 2359 409 2629 706 \n",
       "Q 2900 1003 2900 1516 \n",
       "L 2900 3500 \n",
       "L 3475 3500 \n",
       "L 3475 0 \n",
       "L 2900 0 \n",
       "L 2900 538 \n",
       "Q 2691 219 2414 64 \n",
       "Q 2138 -91 1772 -91 \n",
       "Q 1169 -91 856 284 \n",
       "Q 544 659 544 1381 \n",
       "z\n",
       "M 1991 3584 \n",
       "L 1991 3584 \n",
       "z\n",
       "\" id=\"DejaVuSans-75\" transform=\"scale(0.015625)\"/>\n",
       "      <path d=\"M 3122 3366 \n",
       "L 3122 2828 \n",
       "Q 2878 2963 2633 3030 \n",
       "Q 2388 3097 2138 3097 \n",
       "Q 1578 3097 1268 2742 \n",
       "Q 959 2388 959 1747 \n",
       "Q 959 1106 1268 751 \n",
       "Q 1578 397 2138 397 \n",
       "Q 2388 397 2633 464 \n",
       "Q 2878 531 3122 666 \n",
       "L 3122 134 \n",
       "Q 2881 22 2623 -34 \n",
       "Q 2366 -91 2075 -91 \n",
       "Q 1284 -91 818 406 \n",
       "Q 353 903 353 1747 \n",
       "Q 353 2603 823 3093 \n",
       "Q 1294 3584 2113 3584 \n",
       "Q 2378 3584 2631 3529 \n",
       "Q 2884 3475 3122 3366 \n",
       "z\n",
       "\" id=\"DejaVuSans-63\" transform=\"scale(0.015625)\"/>\n",
       "     </defs>\n",
       "     <use xlink:href=\"#DejaVuSans-73\"/>\n",
       "     <use x=\"52.099609\" xlink:href=\"#DejaVuSans-6f\"/>\n",
       "     <use x=\"113.28125\" xlink:href=\"#DejaVuSans-75\"/>\n",
       "     <use x=\"176.660156\" xlink:href=\"#DejaVuSans-72\"/>\n",
       "     <use x=\"215.523438\" xlink:href=\"#DejaVuSans-63\"/>\n",
       "     <use x=\"270.503906\" xlink:href=\"#DejaVuSans-65\"/>\n",
       "     <use x=\"332.027344\" xlink:href=\"#DejaVuSans-3d\"/>\n",
       "     <use x=\"415.816406\" xlink:href=\"#DejaVuSans-47\"/>\n",
       "     <use x=\"493.306641\" xlink:href=\"#DejaVuSans-4f\"/>\n",
       "     <use x=\"572.017578\" xlink:href=\"#DejaVuSans-32\"/>\n",
       "     <use x=\"635.640625\" xlink:href=\"#DejaVuSans-30\"/>\n",
       "    </g>\n",
       "   </g>\n",
       "  </g>\n",
       " </g>\n",
       " <defs>\n",
       "  <clipPath id=\"pe5b721a0e9\">\n",
       "   <rect height=\"90.95\" width=\"160.6296\" x=\"20.421087\" y=\"7.2\"/>\n",
       "  </clipPath>\n",
       " </defs>\n",
       "</svg>\n"
      ],
      "text/plain": [
       "<schemdraw.backends.mpl.Figure object at 0x7efd3cf56460>"
      ]
     },
     "execution_count": 11,
     "metadata": {},
     "output_type": "execute_result"
    }
   ],
   "source": [
    "# uses schemdraw, you may have to install it in order to run it on your PC\n",
    "import schemdraw\n",
    "import schemdraw.elements as elm\n",
    "d = schemdraw.Drawing()\n",
    "Q = d.add(elm.NFet, reverse=True)\n",
    "d.add(elm.Dot, xy=Q.gate, lftlabel='gate=AIN0')\n",
    "d.add(elm.Dot, xy=Q.drain, toplabel='drain=GO22')\n",
    "d.add(elm.Dot, xy=Q.source, botlabel='source=GO20')\n",
    "d.draw()"
   ]
  },
  {
   "cell_type": "markdown",
   "metadata": {
    "id": "i5aDKbi2rdpl"
   },
   "source": [
    "Read the current of the drain of the transistor."
   ]
  },
  {
   "cell_type": "code",
   "execution_count": null,
   "metadata": {
    "id": "ZmvV_GJKrdpl",
    "outputId": "df3a7254-8e53-4feb-cc14-0a7486400437"
   },
   "outputs": [
    {
     "name": "stdout",
     "output_type": "stream",
     "text": [
      "The voltage at the source is 0.0 V\n",
      "The voltage at the gate is 1.7982406616210938 V\n",
      "The voltage at the drain is 1.7982406616210938 V\n",
      "The measured drain current is 6.835937682581061e-08 A\n"
     ]
    }
   ],
   "source": [
    "src = p.set_voltage(pyplane.DacChannel.GO20, 0)\n",
    "print(\"The voltage at the source is {} V\".format(src))\n",
    "\n",
    "gate = p.set_voltage(pyplane.DacChannel.AIN0, 1.8)\n",
    "print(\"The voltage at the gate is {} V\".format(gate))\n",
    "\n",
    "drain = p.set_voltage(pyplane.DacChannel.GO22, 1.8)\n",
    "print(\"The voltage at the drain is {} V\".format(drain))\n",
    "\n",
    "I_ds = p.read_current(pyplane.AdcChannel.GO22)\n",
    "print(\"The measured drain current is {} A\".format(I_ds))"
   ]
  },
  {
   "cell_type": "markdown",
   "metadata": {
    "id": "9gtJymSWrdpl"
   },
   "source": [
    "Do you think this current is reasonable? WHy?"
   ]
  },
  {
   "cell_type": "markdown",
   "metadata": {
    "id": "ewbUPn4Prdpl"
   },
   "source": [
    "    No. For a N-FET transitor with these initialization voltages, I would have expected to measure a higher current from the drain to the source. The maximum current in the pins is 10 micro ampere, my measurements are off of at least two degree of magnitude."
   ]
  },
  {
   "cell_type": "markdown",
   "metadata": {
    "id": "s83_WPDIrdpm"
   },
   "source": [
    "Now try to set voltage of this transistor by AER (Address Event Representation)."
   ]
  },
  {
   "cell_type": "markdown",
   "metadata": {
    "id": "yyi_Uvqerdpm"
   },
   "source": [
    "Find the documentation \"chip_architecture.pdf\" for the classchip introduced in 1.1. See how to select signal communication on pages 11 and 21. "
   ]
  },
  {
   "cell_type": "markdown",
   "metadata": {
    "id": "kpVUGbOkrdpm"
   },
   "source": [
    "Because you need to read the current and write the voltage of the NFET. You have to set demultiplexer by sending the configuration event:"
   ]
  },
  {
   "cell_type": "code",
   "execution_count": null,
   "metadata": {
    "id": "DO7ItcS3rdpm"
   },
   "outputs": [],
   "source": [
    "events = [pyplane.Coach.generate_aerc_event( \\\n",
    "    pyplane.Coach.CurrentOutputSelect.SelectLine5, \\\n",
    "    pyplane.Coach.VoltageOutputSelect.NoneSelected, \\\n",
    "    pyplane.Coach.VoltageInputSelect.SelectLine2, \\\n",
    "    pyplane.Coach.SynapseSelect.NoneSelected, 0)]\n",
    "\n",
    "p.send_coach_events(events)"
   ]
  },
  {
   "cell_type": "markdown",
   "metadata": {
    "id": "Oe5n4EDxrdpm"
   },
   "source": [
    "**Make sure the chip receives the event by a blink of LED1, if it's not the case, the chip is dead.**"
   ]
  },
  {
   "cell_type": "markdown",
   "metadata": {
    "id": "3cO6XjD1rdpn"
   },
   "source": [
    "Now set source GO20 voltage using the function introduced above"
   ]
  },
  {
   "cell_type": "code",
   "execution_count": null,
   "metadata": {
    "id": "3_5iSaAIrdpn",
    "outputId": "bddd81a0-b8b3-46b4-a798-c804b3003b51"
   },
   "outputs": [
    {
     "data": {
      "text/plain": [
       "0.0"
      ]
     },
     "execution_count": 15,
     "metadata": {},
     "output_type": "execute_result"
    }
   ],
   "source": [
    "p.set_voltage(pyplane.DacChannel.GO20, 0)"
   ]
  },
  {
   "cell_type": "markdown",
   "metadata": {
    "id": "maTDF1l6rdpn"
   },
   "source": [
    "Set drain GO22 voltage"
   ]
  },
  {
   "cell_type": "code",
   "execution_count": null,
   "metadata": {
    "id": "dDefNv6drdpn",
    "outputId": "41e8137e-6aec-4087-f5f0-07d9bc17673d"
   },
   "outputs": [
    {
     "data": {
      "text/plain": [
       "1.7982406616210938"
      ]
     },
     "execution_count": 17,
     "metadata": {},
     "output_type": "execute_result"
    }
   ],
   "source": [
    "p.set_voltage(pyplane.DacChannel.GO22, 1.8)"
   ]
  },
  {
   "cell_type": "markdown",
   "metadata": {
    "id": "GNKFqdJ4rdpo"
   },
   "source": [
    "Set trial gate AIN0 voltage (you can try different voltage between 0~1.8V to see different output current)"
   ]
  },
  {
   "cell_type": "code",
   "execution_count": null,
   "metadata": {
    "id": "GU-NyJddrdpo",
    "outputId": "d56448f0-4c0c-42ba-c398-d8799fa1a245"
   },
   "outputs": [
    {
     "data": {
      "text/plain": [
       "1.7982406616210938"
      ]
     },
     "execution_count": 18,
     "metadata": {},
     "output_type": "execute_result"
    }
   ],
   "source": [
    "p.set_voltage(pyplane.DacChannel.AIN0, 1.8)"
   ]
  },
  {
   "cell_type": "markdown",
   "metadata": {
    "id": "Lt8vgaSKrdpo"
   },
   "source": [
    "Read drain GO22 current"
   ]
  },
  {
   "cell_type": "code",
   "execution_count": null,
   "metadata": {
    "id": "uHZ0ht3mrdpo",
    "outputId": "e9b51ca9-414f-4cfc-ae29-8a97045c44b6"
   },
   "outputs": [
    {
     "name": "stdout",
     "output_type": "stream",
     "text": [
      "The measured drain current is 9.968262020265684e-07 A\n"
     ]
    }
   ],
   "source": [
    "I_d = p.read_current(pyplane.AdcChannel.GO22)\n",
    "print(\"The measured drain current is {} A\".format(I_d))"
   ]
  },
  {
   "cell_type": "markdown",
   "metadata": {
    "id": "EEYqlo6zrdpq"
   },
   "source": [
    "Compare this current with the drain current measured above. "
   ]
  },
  {
   "cell_type": "markdown",
   "metadata": {
    "id": "56HLHZ2zrdpq"
   },
   "source": [
    "    This measurement is more realistic than the previous one. However [according to section 2.5 of the chip architecture document], I should have measured a current around 10 e-06."
   ]
  },
  {
   "cell_type": "markdown",
   "metadata": {
    "id": "C_OnQm8ordpq"
   },
   "source": [
    "Set trial gate AIN0 voltage 0 and see if the drain current is also zero. If not, why?"
   ]
  },
  {
   "cell_type": "code",
   "execution_count": null,
   "metadata": {
    "id": "eCjpDMICrdpq",
    "outputId": "58aa5ad6-90ac-4f45-823a-9e1acf65fa9e"
   },
   "outputs": [
    {
     "name": "stdout",
     "output_type": "stream",
     "text": [
      "The measured drain current is 6.909179717240477e-08 A\n"
     ]
    }
   ],
   "source": [
    "p.set_voltage(pyplane.DacChannel.AIN0, 0)\n",
    "I_d = p.read_current(pyplane.AdcChannel.GO22)\n",
    "print(\"The measured drain current is {} A\".format(I_d))"
   ]
  },
  {
   "cell_type": "markdown",
   "metadata": {
    "id": "UBZHRpU4rdpz"
   },
   "source": [
    "    The current is greater than zero, because the resistence in the channel is not infinity. (Ohm's law). Therefore, a leakage current is detected."
   ]
  },
  {
   "cell_type": "markdown",
   "metadata": {
    "id": "FidK4SDwrdp0"
   },
   "source": [
    "Now you can try some challenging experiments!\n",
    "Sweep gate voltage between 0~1V and see how the output current change"
   ]
  },
  {
   "cell_type": "code",
   "execution_count": null,
   "metadata": {
    "id": "M2IyO4UUrdp1",
    "outputId": "adda36c6-ae02-41fa-f519-f7aa483929cc"
   },
   "outputs": [
    {
     "name": "stdout",
     "output_type": "stream",
     "text": [
      "Offset Is0_n: 4.150390697787998e-09 A\n"
     ]
    }
   ],
   "source": [
    "import time\n",
    "\n",
    "# Get the leakage current, Read Ids=Ids0 at Vg = 0\n",
    "p.set_voltage(pyplane.DacChannel.AIN0,0.0)  \n",
    "time.sleep(0.5) # wait 0.5 second for it to settle\n",
    "\n",
    "Is0_n =  p.read_current(pyplane.AdcChannel.GO20_N)\n",
    "print(\"Offset Is0_n: {} A\".format(Is0_n))\n",
    "\n",
    "# Initialize variables\n",
    "number = 70\n",
    "Vg_sets = np.linspace(0.0,1.0,num = number).reshape(-1,1)\n",
    "Is_sets = np.zeros(number).reshape(-1,1)\n",
    "\n",
    "#Sweep gate voltage\n",
    "for n in range(number):\n",
    "    \n",
    "    # set gate voltage\n",
    "    p.set_voltage(pyplane.DacChannel.AIN0,Vg_sets[n])\n",
    "    postlab = p.get_set_voltage(pyplane.DacChannel.AIN0)\n",
    "    \n",
    "    time.sleep(0.05)  # wait for it to settle\n",
    "    \n",
    "    # read I_{ds}\n",
    "    Is_set = p.read_current(pyplane.AdcChannel.GO20_N)\n",
    "    \n",
    "    # substract leakage current \n",
    "    Is_sets[n] = Is_set - Is0_n"
   ]
  },
  {
   "cell_type": "code",
   "execution_count": null,
   "metadata": {
    "id": "y_Qzw7DErdp2",
    "outputId": "a6488644-af62-4f97-9097-32b964a127ea"
   },
   "outputs": [
    {
     "data": {
      "text/plain": [
       "Text(0, 0.5, 'Ids (A)')"
      ]
     },
     "execution_count": 23,
     "metadata": {},
     "output_type": "execute_result"
    },
    {
     "data": {
      "image/png": "[encoded data removed]",
      "text/plain": [
       "<Figure size 432x288 with 1 Axes>"
      ]
     },
     "metadata": {
      "needs_background": "light"
     },
     "output_type": "display_data"
    }
   ],
   "source": [
    "# plot in linear scale\n",
    "import matplotlib.pyplot as plt\n",
    "plt.rcParams.update({'font.size': 14})\n",
    "plt.plot(Vg_sets,Is_sets,'.b-')\n",
    "plt.xlabel('Vg (V)')\n",
    "plt.ylabel('Ids (A)')"
   ]
  },
  {
   "cell_type": "markdown",
   "metadata": {
    "id": "t76pM1Hvrdp4"
   },
   "source": [
    "# 4. Clean up"
   ]
  },
  {
   "cell_type": "markdown",
   "metadata": {
    "id": "fK8_cpUHrdp5"
   },
   "source": [
    "Well done! That's all for today.\n",
    "\n",
    "Remember you have to clean up in the end just as in a real lab!"
   ]
  },
  {
   "cell_type": "markdown",
   "metadata": {
    "id": "nFnmCx6mrdp6"
   },
   "source": [
    "* Close you device and release memory by doing"
   ]
  },
  {
   "cell_type": "code",
   "execution_count": null,
   "metadata": {
    "id": "tnS66O0Nrdp7"
   },
   "outputs": [],
   "source": [
    "del p"
   ]
  },
  {
   "cell_type": "markdown",
   "metadata": {
    "id": "n0t4EUhArdp7"
   },
   "source": [
    "* Save your changes\n",
    "* Download the files you need for the report to your own PC"
   ]
  },
  {
   "cell_type": "markdown",
   "metadata": {
    "id": "HSFwUa7brdp7"
   },
   "source": [
    "# 5. Postlab Questions"
   ]
  },
  {
   "cell_type": "markdown",
   "metadata": {
    "id": "XC5xox7Srdp7"
   },
   "source": [
    "1. Why is there no pin for the bulk of NFET? What is it's voltage then?"
   ]
  },
  {
   "cell_type": "markdown",
   "metadata": {
    "id": "rwxBsCHVrdp7"
   },
   "source": [
    "    The voltage at the bulk is 0 by design because it is part of the substrate and tied to zero."
   ]
  },
  {
   "cell_type": "markdown",
   "metadata": {
    "id": "bHAD5CiXrdp7"
   },
   "source": [
    "2. How precise are the measurements of voltage and current using DAC?"
   ]
  },
  {
   "cell_type": "code",
   "execution_count": null,
   "metadata": {
    "id": "PDZpmBvirdp8",
    "outputId": "a040141a-c07b-40b3-e1c2-3e003cbd018a"
   },
   "outputs": [
    {
     "data": {
      "text/plain": [
       "0.9208739995956421"
      ]
     },
     "execution_count": 25,
     "metadata": {},
     "output_type": "execute_result"
    }
   ],
   "source": [
    "p.read_voltage(pyplane.AdcChannel.AOUT0)"
   ]
  },
  {
   "cell_type": "code",
   "execution_count": null,
   "metadata": {
    "id": "91McwI2Hrdp8",
    "outputId": "82e5460e-909b-4b1c-920f-094f47fec226"
   },
   "outputs": [
    {
     "data": {
      "text/plain": [
       "9.965820026991423e-07"
      ]
     },
     "execution_count": 24,
     "metadata": {},
     "output_type": "execute_result"
    }
   ],
   "source": [
    "p.read_current(pyplane.AdcChannel.GO20_N)"
   ]
  },
  {
   "cell_type": "markdown",
   "metadata": {
    "id": "YmAxjBz9rdp8"
   },
   "source": [
    "    The resolutions for voltage and current are respectively 136 and 128 bits."
   ]
  },
  {
   "cell_type": "markdown",
   "metadata": {
    "id": "gzmT1CY5rdp9"
   },
   "source": [
    "3. Do you think building a \"computer\" whose inputs and outputs are analog voltage/current signals is a good idea? Why or why not?"
   ]
  },
  {
   "cell_type": "markdown",
   "metadata": {
    "id": "7s4en5RWrdp9"
   },
   "source": [
    "    It may be because because most of the signals that we measure in life have multiple states. "
   ]
  }
 ],
 "metadata": {
  "colab": {
   "name": "2021_Lab01_NA_Pietro_Bonazzi.ipynb",
   "provenance": []
  },
  "kernelspec": {
   "display_name": "Python 3 (ipykernel)",
   "language": "python",
   "name": "python3"
  },
  "language_info": {
   "codemirror_mode": {
    "name": "ipython",
    "version": 3
   },
   "file_extension": ".py",
   "mimetype": "text/x-python",
   "name": "python",
   "nbconvert_exporter": "python",
   "pygments_lexer": "ipython3",
   "version": "3.8.10"
  }
 },
 "nbformat": 4,
 "nbformat_minor": 1
}
