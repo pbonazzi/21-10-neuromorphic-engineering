{
 "cells": [
  {
   "cell_type": "markdown",
   "metadata": {},
   "source": [
    "Neuromorphic engineering I"
   ]
  },
  {
   "cell_type": "markdown",
   "metadata": {},
   "source": [
    "## Lab 8: Silicon Synaptic Circuits"
   ]
  },
  {
   "cell_type": "markdown",
   "metadata": {},
   "source": [
    "Team member 1:\n",
    "\n",
    "Team member 2:\n",
    "\n",
    "TLJH username:\n",
    "\n",
    "Date:"
   ]
  },
  {
   "cell_type": "markdown",
   "metadata": {},
   "source": [
    "----------------------------------------------------------------------------------------------------------------------"
   ]
  },
  {
   "cell_type": "markdown",
   "metadata": {},
   "source": [
    "This week, we will see how synaptic circuits generate currents when stimulated by voltage pulses. Specifically we will measure the response of the synapse to a single pulse, and to a sequence of spikes.\n",
    "\n",
    "The objectives of this lab are to:\n",
    "- Analyze log-domain synapse circuits.\n",
    "- Measure the response properties of the diff-pair integrator (DPI) synapse and of the dual diff-pair integrator (DDI) synapse.\n"
   ]
  },
  {
   "cell_type": "markdown",
   "metadata": {},
   "source": [
    "## 1. Prelab"
   ]
  },
  {
   "cell_type": "markdown",
   "metadata": {},
   "source": [
    "**A Differential Pair Integrator circuit**"
   ]
  },
  {
   "cell_type": "markdown",
   "metadata": {},
   "source": [
    "<img src=\"DPIsynapse.png\" width=\"500\">"
   ]
  },
  {
   "cell_type": "markdown",
   "metadata": {},
   "source": [
    "**(1)** Write the equations characterizing $I_{w}, I_{thr} , I_{in}, I_{\\tau}, I_{syn}, I_C$ assuming all corresponding FETs are in saturation and operate in weak-inversion."
   ]
  },
  {
   "cell_type": "markdown",
   "metadata": {},
   "source": []
  },
  {
   "cell_type": "markdown",
   "metadata": {},
   "source": [
    "**(2)** What is the time constant of the circuit?"
   ]
  },
  {
   "cell_type": "markdown",
   "metadata": {},
   "source": []
  },
  {
   "cell_type": "markdown",
   "metadata": {},
   "source": [
    "**(3)** Derive the circuit's response to a step input assuming $I_{w}(t < 0) = 0, I_{w}(t > 0) \\gg I_{\\tau}$."
   ]
  },
  {
   "cell_type": "markdown",
   "metadata": {},
   "source": []
  },
  {
   "cell_type": "markdown",
   "metadata": {},
   "source": [
    "**(4)** Derive the circuit's response to a step input assuming $I_{w}(t < 0) \\gg I_{\\tau}, I_{w}(t > 0) = 0$.\n"
   ]
  },
  {
   "cell_type": "markdown",
   "metadata": {},
   "source": []
  },
  {
   "cell_type": "markdown",
   "metadata": {},
   "source": [
    "**(5)** Suppose we stimulate the circuit with a regular spike train of frequency $f$ (high enough). What happens to $I_{syn}$ in steady-state (average value)? "
   ]
  },
  {
   "cell_type": "markdown",
   "metadata": {},
   "source": []
  },
  {
   "cell_type": "markdown",
   "metadata": {},
   "source": [
    "**(6)** In what conditions (tau and thr) is the step response dependent only on $I_{w}$?\n"
   ]
  },
  {
   "cell_type": "markdown",
   "metadata": {},
   "source": []
  },
  {
   "cell_type": "markdown",
   "metadata": {},
   "source": [
    "**(7)** (optional) Below shows the pulse extender circuit. If an infinitely short pulse (active high) is presented at the input `PEX_PIN_ACI`, what does the output `PEX_POUT_ACO` look like and how does `PEX_VTAU_N` determine it's characteristic?"
   ]
  },
  {
   "cell_type": "markdown",
   "metadata": {},
   "source": [
    "<img src=\"coachPulseExtender.png\" width=\"800\">"
   ]
  },
  {
   "cell_type": "markdown",
   "metadata": {},
   "source": [
    "# 2 Setup"
   ]
  },
  {
   "cell_type": "markdown",
   "metadata": {},
   "source": [
    "## 2.1 Connect the device"
   ]
  },
  {
   "cell_type": "code",
   "execution_count": null,
   "metadata": {},
   "outputs": [],
   "source": [
    "# import the necessary libraries\n",
    "import pyplane\n",
    "import time\n",
    "import numpy as np\n",
    "import matplotlib.pyplot as plt\n",
    "from scipy import interpolate"
   ]
  },
  {
   "cell_type": "code",
   "execution_count": null,
   "metadata": {
    "collapsed": true
   },
   "outputs": [],
   "source": [
    "# create a Plane object and open the communication\n",
    "if 'p' not in locals():\n",
    "    p = pyplane.Plane()\n",
    "    try:\n",
    "        p.open('/dev/ttyACMx')\n",
    "    except RuntimeError as e:\n",
    "        del p\n",
    "        print(e)"
   ]
  },
  {
   "cell_type": "code",
   "execution_count": null,
   "metadata": {
    "collapsed": true
   },
   "outputs": [],
   "source": [
    "# Send a reset signal to the board, check if the LED blinks\n",
    "p.reset()"
   ]
  },
  {
   "cell_type": "code",
   "execution_count": null,
   "metadata": {
    "collapsed": true
   },
   "outputs": [],
   "source": [
    "# Try to read something, make sure the chip responses\n",
    "p.read_current(pyplane.ReadCurrentChannel.GO0)"
   ]
  },
  {
   "cell_type": "code",
   "execution_count": null,
   "metadata": {
    "collapsed": true
   },
   "outputs": [],
   "source": [
    " # If any of the above steps fail, delete the object, close and halt, stop the server and ask the TA to restart\n",
    "# please also say your board number: ttyACMx\n",
    "\n",
    "# del p"
   ]
  },
  {
   "cell_type": "markdown",
   "metadata": {},
   "source": [
    "## 2.2 Chip configuration"
   ]
  },
  {
   "cell_type": "markdown",
   "metadata": {},
   "source": [
    "* To measure DPI synapse:"
   ]
  },
  {
   "cell_type": "markdown",
   "metadata": {},
   "source": [
    "p.send_coach_event(pyplane.Coach.generate_aerc_event(\n",
    "    pyplane.pyplane.Coach.CurrentOutputSelect.SelectLine5,\n",
    "    pyplane.Coach.VoltageOutputSelect.SelectLine2,\n",
    "    pyplane.Coach.VoltageInputSelect.NoneSelected,\n",
    "    pyplane.Coach.SynapseSelect.DPI,0))"
   ]
  },
  {
   "cell_type": "markdown",
   "metadata": {},
   "source": [
    "## 2.3 C2F"
   ]
  },
  {
   "cell_type": "markdown",
   "metadata": {},
   "source": [
    "* To set up the C2F circuit:"
   ]
  },
  {
   "cell_type": "code",
   "execution_count": null,
   "metadata": {
    "collapsed": true
   },
   "outputs": [],
   "source": [
    "# setup C2F\n",
    "p.send_coach_event(pyplane.Coach.generate_biasgen_event(\\\n",
    "    pyplane.Coach.BiasAddress.C2F_HYS_P, \\\n",
    "    pyplane.Coach.BiasType.P, \\\n",
    "    pyplane.Coach.BiasGenMasterCurrent.I60pA, 100))\n",
    "\n",
    "p.send_coach_event(pyplane.Coach.generate_biasgen_event(\\\n",
    "    pyplane.Coach.BiasAddress.C2F_BIAS_P, \\\n",
    "    pyplane.Coach.BiasType.P, \\\n",
    "    pyplane.Coach.BiasGenMasterCurrent.I240nA, 255))\n",
    "\n",
    "p.send_coach_event(pyplane.Coach.generate_biasgen_event(\\\n",
    "    pyplane.Coach.BiasAddress.C2F_PWLK_P, \\\n",
    "    pyplane.Coach.BiasType.P, \\\n",
    "    pyplane.Coach.BiasGenMasterCurrent.I240nA, 255))\n",
    "\n",
    "p.send_coach_event(pyplane.Coach.generate_biasgen_event(\\\n",
    "    pyplane.Coach.BiasAddress.C2F_REF_L, \\\n",
    "    pyplane.Coach.BiasType.N, \\\n",
    "    pyplane.Coach.BiasGenMasterCurrent.I240nA, 255))\n",
    "\n",
    "p.send_coach_event(pyplane.Coach.generate_biasgen_event(\\\n",
    "    pyplane.Coach.BiasAddress.C2F_REF_H, \\\n",
    "    pyplane.Coach.BiasType.P, \\\n",
    "    pyplane.Coach.BiasGenMasterCurrent.I240nA, 255))\n",
    "\n",
    "# setup output rail-to-rail buffer\n",
    "p.send_coach_event(pyplane.Coach.generate_biasgen_event(\\\n",
    "    pyplane.Coach.BiasAddress.RR_BIAS_P, \\\n",
    "    pyplane.Coach.BiasType.P, \\\n",
    "    pyplane.Coach.BiasGenMasterCurrent.I240nA, 255))"
   ]
  },
  {
   "cell_type": "markdown",
   "metadata": {},
   "source": [
    "## 2.4 BiasGen"
   ]
  },
  {
   "cell_type": "markdown",
   "metadata": {},
   "source": [
    "In a simplified form, the output of a branch of the BiasGen will be the gate voltage $V_b$ for the bias current $I_b$, and if the current mirror has a ratio of $w$ and the bias transistor operates in subthreshold-saturation:\n",
    "\\begin{equation}\n",
    "I_b = w\\frac{BG_{fine}}{256}I_{BG_{master}}\n",
    "\\end{equation}\n",
    "Where $I_{BG_{master}}$ is the `BiasGenMasterCurrent` $\\in \\left\\{ 60~\\rm{pA}, 460~\\rm{pA}, 3.8~\\rm{nA}, 30~\\rm{nA}, 240~\\rm{nA} \\right\\}$, $BG_{fine}$ is the integer fine value $\\in [0, 256)$"
   ]
  },
  {
   "cell_type": "markdown",
   "metadata": {},
   "source": [
    "To set a bias, use the function similar to the following:"
   ]
  },
  {
   "cell_type": "markdown",
   "metadata": {},
   "source": [
    "```\n",
    "p.send_coach_event(pyplane.Coach.generate_biasgen_event(\\\n",
    "    pyplane.Coach.BiasAddress.BIAS_NAME, \\\n",
    "    pyplane.Coach.BiasType.BIAS_TYPE, \\\n",
    "    pyplane.Coach.BiasGenMasterCurrent.MASTER_CURRENT, FINE_VALUE))\n",
    "```"
   ]
  },
  {
   "cell_type": "markdown",
   "metadata": {},
   "source": [
    "**You may have noticed that there are some biases that are not used to directly generate a current, but rather what matters is the voltage, e.g. $V_{gain}$, $V_{ex}$ and $V_{inh}$ in our HWTA circuit. Even though they may have a `BIAS_NAME` ending with `_N` or `_P` it only indicates that they are connected to the gate of an N- or a P-FET, but the `BIAS_TYPE` parameter can be both `_N` or `_P`. For example, setting a `_N` bias to `BIAS_TYPE = P` will only make this voltage very close to GND, which _is_ sometimes the designed use case.**"
   ]
  },
  {
   "cell_type": "markdown",
   "metadata": {},
   "source": [
    "## 2.5 Pulse extender circuit"
   ]
  },
  {
   "cell_type": "markdown",
   "metadata": {},
   "source": [
    "In case you didn't look into the last problem in prelab, the pulse extender circuit basically defines the pulse width, which is inversely proportional to the parameter `PEX_VTAU_N`."
   ]
  },
  {
   "cell_type": "markdown",
   "metadata": {},
   "source": [
    "# 3 DPI synapse"
   ]
  },
  {
   "cell_type": "markdown",
   "metadata": {},
   "source": [
    "The **DPI synapse** receives a voltage pulse train, $V_{pulse}$, as input and\n",
    "outputs a corresponding synaptic current, $I_{syn}$. Additionally, the synaptic voltage, $V_{syn}$, is provided.\n",
    "Bias parameters $V_{weight}$ & $V_{tau}$ affect the amplitude and decay of the response, while $V_{thr}$ acts as an additional weight bias. $C_{syn}$ sizing was chosen for a capacitance of 2pF. "
   ]
  },
  {
   "cell_type": "markdown",
   "metadata": {},
   "source": [
    "<img src=\"coachDPIsynapse.png\" width=\"500\">"
   ]
  },
  {
   "cell_type": "markdown",
   "metadata": {},
   "source": [
    "**Pin map**\n",
    "\n",
    "**$V_{syn}$ = adc[14]**\n",
    "\n",
    "**$I_{syn}$ = c2f[9]**"
   ]
  },
  {
   "cell_type": "markdown",
   "metadata": {},
   "source": [
    "The task of this exercise it to tune the parameters and observe the behavior of the DPI synapse."
   ]
  },
  {
   "cell_type": "markdown",
   "metadata": {},
   "source": [
    "## 3.1 Basic impulse response"
   ]
  },
  {
   "cell_type": "markdown",
   "metadata": {},
   "source": [
    "- **Set parameters**"
   ]
  },
  {
   "cell_type": "code",
   "execution_count": null,
   "metadata": {
    "collapsed": true
   },
   "outputs": [],
   "source": [
    "p.send_coach_event(pyplane.Coach.generate_biasgen_event(pyplane.Coach.BiasAddress.DPI_VTAU_P, ... , ... , ...))\n",
    "p.send_coach_event(pyplane.Coach.generate_biasgen_event(pyplane.Coach.BiasAddress.DPI_VTHR_N, ... , ... , ...))\n",
    "p.send_coach_event(pyplane.Coach.generate_biasgen_event(pyplane.Coach.BiasAddress.DPI_VWEIGHT_N, ... , ... , ...))\n",
    "p.send_coach_event(pyplane.Coach.generate_biasgen_event(pyplane.Coach.BiasAddress.PEX_VTAU_N, ... , ... , ...))"
   ]
  },
  {
   "cell_type": "markdown",
   "metadata": {},
   "source": [
    "- **Data acquisition**"
   ]
  },
  {
   "cell_type": "code",
   "execution_count": null,
   "metadata": {},
   "outputs": [],
   "source": [
    "N_trials = 10 # average over 10 trials to reduce error\n",
    "N_pulses = 4 # for each trial, send 4 input pulses\n",
    "N_samples_per_pulse = 10 # for each input pulse, sample 10 points\n",
    "N_samples = N_pulses*N_samples_per_pulse\n",
    "dT = 0.02 # delta t between the samples, DO NOT CHANGE\n",
    "t = np.arange(N_samples)*dT\n",
    "vsyn = np.zeros(N_samples)\n",
    "isyn = np.zeros(N_samples)\n",
    "p.set_sampling_mode(pyplane.SamplingMode.Slow)\n",
    "p.set_sample_rate(int(2/dT)) # set the sample period to 1/2*dT to receive data\n",
    "for j in range(N_trials):\n",
    "    for k in range(N_pulses):\n",
    "        p.send_coach_event(pyplane.Coach.generate_pulse_event())\n",
    "        for i in range(N_samples_per_pulse):\n",
    "            time.sleep(dT)\n",
    "            vsyn[k*N_samples_per_pulse+i] += p.read_adc_instantaneous(14)\n",
    "            isyn[k*N_samples_per_pulse+i] += p.read_sampled_c2f(9)\n",
    "vsyn /= N_trials\n",
    "isyn /= N_trials\n",
    "p.set_sampling_mode(pyplane.SamplingMode.Off)"
   ]
  },
  {
   "cell_type": "markdown",
   "metadata": {},
   "source": [
    "- **Plot the data**"
   ]
  },
  {
   "cell_type": "code",
   "execution_count": null,
   "metadata": {
    "collapsed": true
   },
   "outputs": [],
   "source": []
  },
  {
   "cell_type": "markdown",
   "metadata": {},
   "source": [
    "- **Save the data**"
   ]
  },
  {
   "cell_type": "code",
   "execution_count": null,
   "metadata": {
    "collapsed": true
   },
   "outputs": [],
   "source": []
  },
  {
   "cell_type": "markdown",
   "metadata": {},
   "source": [
    "## 3.2 Different $I_{weight}$"
   ]
  },
  {
   "cell_type": "markdown",
   "metadata": {
    "collapsed": true
   },
   "source": [
    "Repeat 3.1 with a smaller and a larger  $I_{weight}$, compare the three curves in the same plot."
   ]
  },
  {
   "cell_type": "code",
   "execution_count": null,
   "metadata": {},
   "outputs": [],
   "source": []
  },
  {
   "cell_type": "markdown",
   "metadata": {},
   "source": [
    "## 3.3 Different $I_{tau}$"
   ]
  },
  {
   "cell_type": "markdown",
   "metadata": {},
   "source": [
    "Repeat 3.1 with a smaller and a larger  $I_{tau}$, compare the three curves in the same plot."
   ]
  },
  {
   "cell_type": "code",
   "execution_count": null,
   "metadata": {
    "collapsed": true
   },
   "outputs": [],
   "source": []
  },
  {
   "cell_type": "markdown",
   "metadata": {},
   "source": [
    "## 3.4 Different $I_{thr}$"
   ]
  },
  {
   "cell_type": "markdown",
   "metadata": {},
   "source": [
    "Repeat 3.1 with a smaller and a larger $I_{thr}$, compare the three curves in the same plot."
   ]
  },
  {
   "cell_type": "code",
   "execution_count": null,
   "metadata": {
    "collapsed": true
   },
   "outputs": [],
   "source": []
  },
  {
   "cell_type": "markdown",
   "metadata": {},
   "source": [
    "## 3.5 Different pulse width"
   ]
  },
  {
   "cell_type": "markdown",
   "metadata": {},
   "source": [
    "Repeat 3.1 with a smaller and a larger pulse width, compare the three curves in the same plot."
   ]
  },
  {
   "cell_type": "code",
   "execution_count": null,
   "metadata": {
    "collapsed": true
   },
   "outputs": [],
   "source": []
  },
  {
   "cell_type": "markdown",
   "metadata": {},
   "source": [
    "## 3.6 Average output in steady state (Optional)"
   ]
  },
  {
   "cell_type": "markdown",
   "metadata": {},
   "source": [
    "Find a set of parameters (incl. input pulse frequency) to show the case that you derived in prelab when the time constant of the input is (much) faster than the time constant of the neuron."
   ]
  },
  {
   "cell_type": "code",
   "execution_count": null,
   "metadata": {
    "collapsed": true
   },
   "outputs": [],
   "source": []
  },
  {
   "cell_type": "markdown",
   "metadata": {},
   "source": [
    "# 4 Dual DPI synapse (Optional)"
   ]
  },
  {
   "cell_type": "markdown",
   "metadata": {},
   "source": [
    "The **Dual DPI synapse** consists of two DPI synapses, one excitatory and the other inhibitory. Both branches receive the same voltage pulse train, $V_{pulse}$, as input and outputs a corresponding synaptic current, $I_{syn}$. Additionally, the synaptic voltages, $V_{exsyn}$ & $V_{inhsyn}$, are provided.\n",
    "Bias parameters $V_{weight}$ & $V_{tau}$ affect the amplitude and decay of the response,\n",
    "while $V_{thr}$ acts as an additional weight bias (the bias inputs of both branches are tied\n",
    "together). $C_{exsyn}$ sizing was chosen for a capacitance of\n",
    "2pF and $C_{inhsyn}$ = 0.7$C_{exsyn}$. "
   ]
  },
  {
   "cell_type": "markdown",
   "metadata": {},
   "source": [
    "<img src=\"coachDDIsynapse.png\" width=\"500\">"
   ]
  },
  {
   "cell_type": "markdown",
   "metadata": {},
   "source": [
    "**Pin map**\n",
    "\n",
    "**$V_{syn,exc}$ = adc[13]**\n",
    "\n",
    "**$V_{syn,exc}$ = adc[12]**\n",
    "\n",
    "**$I_{syn,sum}$ = c2f[10]**"
   ]
  },
  {
   "cell_type": "markdown",
   "metadata": {},
   "source": [
    "* Chip configuration (notice that `DPI` becomes `DDI`!)"
   ]
  },
  {
   "cell_type": "code",
   "execution_count": null,
   "metadata": {},
   "outputs": [],
   "source": [
    "p.send_coach_event(pyplane.Coach.generate_aerc_event(\n",
    "    pyplane.pyplane.Coach.CurrentOutputSelect.SelectLine5,\n",
    "    pyplane.Coach.VoltageOutputSelect.SelectLine2,\n",
    "    pyplane.Coach.VoltageInputSelect.NoneSelected,\n",
    "    pyplane.Coach.SynapseSelect.DDI,0))"
   ]
  },
  {
   "cell_type": "markdown",
   "metadata": {},
   "source": [
    "* Set same parameters as 3.1 (notice that all `DPI` becomes `DDI`!)"
   ]
  },
  {
   "cell_type": "code",
   "execution_count": null,
   "metadata": {},
   "outputs": [],
   "source": [
    "p.send_coach_event(pyplane.Coach.generate_biasgen_event(pyplane.Coach.BiasAddress.DDI_VTAU_P, ... , ... , ...))\n",
    "p.send_coach_event(pyplane.Coach.generate_biasgen_event(pyplane.Coach.BiasAddress.DDI_VTHR_N, ... , ... , ...))\n",
    "p.send_coach_event(pyplane.Coach.generate_biasgen_event(pyplane.Coach.BiasAddress.DDI_VWEIGHT_N, ... , ... , ...))\n",
    "p.send_coach_event(pyplane.Coach.generate_biasgen_event(pyplane.Coach.BiasAddress.PEX_VTAU_N, ... , ... , ...))"
   ]
  },
  {
   "cell_type": "markdown",
   "metadata": {},
   "source": [
    "* Measure and compare the two curves in the same plot (notice the change in pin map!)"
   ]
  },
  {
   "cell_type": "code",
   "execution_count": null,
   "metadata": {},
   "outputs": [],
   "source": []
  },
  {
   "cell_type": "markdown",
   "metadata": {},
   "source": [
    "# 5 Postlab"
   ]
  },
  {
   "cell_type": "markdown",
   "metadata": {},
   "source": [
    "Construct a circuit that updates its synaptic weight based on the STDP learning rule."
   ]
  },
  {
   "cell_type": "code",
   "execution_count": null,
   "metadata": {
    "collapsed": true
   },
   "outputs": [],
   "source": []
  }
 ],
 "metadata": {
  "kernelspec": {
   "display_name": "Python 3 (ipykernel)",
   "language": "python",
   "name": "python3"
  },
  "language_info": {
   "codemirror_mode": {
    "name": "ipython",
    "version": 3
   },
   "file_extension": ".py",
   "mimetype": "text/x-python",
   "name": "python",
   "nbconvert_exporter": "python",
   "pygments_lexer": "ipython3",
   "version": "3.8.10"
  }
 },
 "nbformat": 4,
 "nbformat_minor": 2
}
