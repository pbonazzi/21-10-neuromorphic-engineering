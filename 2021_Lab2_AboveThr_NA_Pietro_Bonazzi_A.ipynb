{
  "nbformat": 4,
  "nbformat_minor": 0,
  "metadata": {
    "kernelspec": {
      "display_name": "Python 3 (ipykernel)",
      "language": "python",
      "name": "python3"
    },
    "language_info": {
      "codemirror_mode": {
        "name": "ipython",
        "version": 3
      },
      "file_extension": ".py",
      "mimetype": "text/x-python",
      "name": "python",
      "nbconvert_exporter": "python",
      "pygments_lexer": "ipython3",
      "version": "3.8.10"
    },
    "colab": {
      "name": "2021_Lab2_AboveThr_NA_Pietro_Bonazzi_A.ipynb",
      "provenance": []
    }
  },
  "cells": [
    {
      "cell_type": "markdown",
      "metadata": {
        "id": "KeBrkp9yUUfj"
      },
      "source": [
        "Neuromorphic engineering I"
      ]
    },
    {
      "cell_type": "markdown",
      "metadata": {
        "id": "Q_rKxHt5UUf9"
      },
      "source": [
        "## Lab 2: Transistor superthreshold saturation current and drain characteristics"
      ]
    },
    {
      "cell_type": "markdown",
      "metadata": {
        "id": "lO_5w-elUUf_"
      },
      "source": [
        "Group number:\n",
        "\n",
        "Team member : Pietro Bonazzi\n",
        "\n",
        "Date:"
      ]
    },
    {
      "cell_type": "markdown",
      "metadata": {
        "id": "lHf4XWDwUUgA"
      },
      "source": [
        "-------------------------------------------------------------------------------------------------------------------"
      ]
    },
    {
      "cell_type": "markdown",
      "metadata": {
        "id": "-nQuFxPWUUgB"
      },
      "source": [
        "The objective of this lab is to understand _super-threshold_ ( also called _above-threshold_ or _strong inversion_ ) transistor operation and to understand transistor drain conductance characteristics, particularly _channel length modulation_.\n",
        "\n",
        "The specific experimental **objectives of this lab**  are as follows: \n",
        "1. To characterize drain current of a transistor as a function of gate voltage in superthreshold operation in the ohmic (triode) and saturation regions.\n",
        "2. To characterize the drain saturation properties in super-threshold.\n",
        "3. To characterize drain conductance (the Early effect) and how it scales with transistor length (may not be possible this year) and saturation drain current."
      ]
    },
    {
      "cell_type": "markdown",
      "metadata": {
        "id": "jR7PipIWUUgB"
      },
      "source": [
        "An intuitive and quantitative understanding of all these effects, along with the subthreshold behavior (next week), is useful for the design of effective circuits, especially analog design of high performance amplifiers."
      ]
    },
    {
      "cell_type": "markdown",
      "metadata": {
        "id": "UMOSGJc8UUgC"
      },
      "source": [
        "# 1 Terminology"
      ]
    },
    {
      "cell_type": "markdown",
      "metadata": {
        "id": "lSmd8MPiUUgD"
      },
      "source": [
        "- above-threshold = super-threshold =  strong inversion\n",
        "- sub-threshold = below-threshold = weak inversion\n",
        "- triode region = ohmic region = linear drain conductance behavior with small drain-source voltage\n",
        "- saturation = large $V_{\\rm ds}$ \n",
        "- overdrive = $V_{\\rm g}-V_{\\rm T}$\n",
        "- $U_{\\rm T} = kT/q$ = thermal voltage = 25mV at room temperature\n",
        "- $V_{\\rm T}$ = threshold voltage = 0.4V to 0.8V depending on process\n"
      ]
    },
    {
      "cell_type": "markdown",
      "metadata": {
        "id": "Z28y0Ni7UUgF"
      },
      "source": [
        "# 2 Useful Quantities"
      ]
    },
    {
      "cell_type": "markdown",
      "metadata": {
        "id": "cOVOTdnlUUgN"
      },
      "source": [
        "The following is a list of the physical parameters and constants we\n",
        "will be referring to in this lab, along with their values when\n",
        "appropriate. The units that are most natural for these quantities are\n",
        "also included; these units are not self--consistent, so make sure you\n",
        "convert the units when appropriate.\n"
      ]
    },
    {
      "cell_type": "markdown",
      "metadata": {
        "id": "3ldItqtiUUgO"
      },
      "source": [
        "$\\epsilon_0$ :  Permittivity of vacuum = $8.86\\times10^{-12} \\rm{ F/m}$ \n",
        "\n",
        "$\\epsilon_{Si}$ : Relative permittivity of ${\\rm Si}$ = $11.7\\epsilon_0$ \n",
        "\n",
        "$\\epsilon_{ox}$ : Relative permittivity of ${\\rm SiO_2}$ = $3.9\\epsilon_0$ \n",
        "\n",
        "$\\mu_n$ : electron surface mobility, ${\\rm cm^2/V/s}$ \n",
        " \n",
        "$\\mu_p$ : hole surface mobility, ${\\rm cm^2/V/s}$\n",
        "\n",
        "$C_{ox}$ : gate capacitance across the oxide per unit area,\n",
        "\t${\\rm fF/\\mu m^{2}}$ \n",
        "\n",
        "$C_{dep}$ : capacitance of depletion region per unit area,\n",
        "\t${\\rm fF/\\mu m^{2}}$ \n",
        "\n",
        "$t_{ox}$ : gate oxide thickness $\\approx$\n",
        "\t3.8 nm for the class chip in 180 nm techology.\n",
        "\t\n",
        "$V_T$ : threshold voltage, V ($V_{T0}$ is $V_T$ when $V_s$ = 0).\n",
        "\n",
        "\n",
        "$W$ : electrical width of transistor channel, $= 4~\\mu$m for both devices in this lab \n",
        "\n",
        "$L$ : electrical length of transistor channel, $= 4~\\mu$m for both devices in this lab\n",
        "\n",
        "$\\beta$ $\\equiv \\mu C_{ox} W/L,\\;\\mu{\\rm A/V^2}$ \n",
        "\n",
        "$V_E$ : Early voltage, characterizes drain conductance. \n"
      ]
    },
    {
      "cell_type": "markdown",
      "metadata": {
        "id": "RPi2xjAlUUgT"
      },
      "source": [
        "According to the definition, per square micron $C_{ox} = \\epsilon_{ox}\\frac{A}{d} = 3.9\\times\n",
        "8.86\\times 10^{-12}F/m\\times\\frac{10^{-12}m^{2}}{3.8\\times 10^{-9}m}= 9.09fF$"
      ]
    },
    {
      "cell_type": "markdown",
      "metadata": {
        "id": "G_-2ioGsUUgT"
      },
      "source": [
        "$C_{ox}= \\frac{\\epsilon_{ox}*\\epsilon_{0}}{t_{ox}} $"
      ]
    },
    {
      "cell_type": "markdown",
      "metadata": {
        "id": "Gmvv47QDUUgU"
      },
      "source": [
        "# 3 Prelab"
      ]
    },
    {
      "cell_type": "markdown",
      "metadata": {
        "id": "qj54_u0dUUgU"
      },
      "source": [
        "Write the expressions/equations in LaTeX, like $Vod$ = $V_{\\rm g}-V_{\\rm T}$, or upload the pictures of handwritten expressions."
      ]
    },
    {
      "cell_type": "markdown",
      "metadata": {
        "id": "vfOyBwhJUUgV"
      },
      "source": [
        "* For nFET, write the most general expression for $I_{ds}$ above threshold in terms of $V_g,\\;V_s,\\;V_d$ (all voltages are referenced to the bulk), and the parameters and constants given above. Leave out the drain conductance Early effect in this equation. Assume $\\kappa=1$ and that $V_{Tn}>0$."
      ]
    },
    {
      "cell_type": "markdown",
      "metadata": {
        "id": "g7JoK6z8UUgd"
      },
      "source": [
        "- <b> When $V_{d}-V_{s}$ is small, $I_{ds}$ =$\\beta(V_{g}-\n",
        "V_{T0}-V_{s})(V_{d}-V_{s})$ (with $\\beta = \\mu * C_{ox}*W/L) $ </b>\n",
        "- <b> When $V_{d}-V_{s}$ is large (>4$V_{T}$), $I_{ds, sat}$ = $\\frac{\\beta}{2}(V_{g}-V_{T0}-V_{s})^{2}$  </b>"
      ]
    },
    {
      "cell_type": "markdown",
      "metadata": {
        "id": "DHGYgu4fUUgd"
      },
      "source": [
        "* For pFET, write the most general expression for $I_{ds}$ above threshold in terms of $V_g,\\;V_s,\\;V_d$ (all voltages are referenced to the bulk), and the parameters and constants given above. Leave out the drain conductance Early effect in this equation. Assume $\\kappa=1$ and that $V_{Tp}<0$."
      ]
    },
    {
      "cell_type": "markdown",
      "metadata": {
        "id": "kYz-UY2MUUgd"
      },
      "source": [
        "- <b> When $V_{d}-V_{s}$ is small, $I_{ds}$ =$\\beta(V_{g}-\n",
        "V_{T0}-V_{s})(V_{d}-V_{s})$ (with $\\beta = \\mu * C_{ox}*W/L) $ </b>\n",
        "- <b> When $V_{d}-V_{s}$ is large (>4$V_{T}$), $I_{ds, sat}$ = $\\frac{\\beta}{2}(V_{g}-V_{T0}-V_{s})^{2}$  </b>"
      ]
    },
    {
      "cell_type": "markdown",
      "metadata": {
        "id": "t-dcI4C_UUge"
      },
      "source": [
        "- For nFET, sketch graphs of $I_{ds}$ vs the $V_d$ for several gate voltages $V_g$ above threshold, with $V_s=0$. Indicate the ohmic and saturation regions and the behavior of the saturation voltage $V_{dsat}$ as the gate overdrive voltage increases. "
      ]
    },
    {
      "cell_type": "markdown",
      "metadata": {
        "id": "jLz1y3icUUge"
      },
      "source": [
        "![prelab3.png](attachment:prelab3.png)"
      ]
    },
    {
      "cell_type": "markdown",
      "metadata": {
        "id": "l1106o6RUUgf"
      },
      "source": [
        "- For nFET, derive an expression for the current $I_{ds}$ in the ohmic region in terms of $V_g$ and $V_{ds} \\equiv V_d-V_s,$. You may assume that $V_s=0.$ Sketch a graph of $I_{ds}$ vs $V_g,$ showing $V_{T0}$ and an expression for the slope."
      ]
    },
    {
      "cell_type": "markdown",
      "metadata": {
        "id": "NHNSZUpYUUgf"
      },
      "source": [
        "- <b> In the ohmic region, $I_{ds}$ =$\\beta(V_{g}-\n",
        "V_{T0})(V_{d})$ (with $\\beta = \\mu * C_{ox}*W/L) $ </b>"
      ]
    },
    {
      "cell_type": "markdown",
      "metadata": {
        "id": "CaHrRZH5UUgg"
      },
      "source": [
        "![prelab4.png](attachment:prelab4.png)"
      ]
    },
    {
      "cell_type": "markdown",
      "metadata": {
        "id": "KlI_moNiUUgg"
      },
      "source": [
        "- For nFET, state the drain voltage condition for above-threshold saturation and derive an expression for the saturation current $I_{dsat}$ in terms of $V_g$. Sketch a graph of $\\sqrt{I_{dsat}}$ vs $V_g$ with $V_s=0,$ showing $V_{T0}$ and an expression for the slope. Do not consider the Early effect here."
      ]
    },
    {
      "cell_type": "markdown",
      "metadata": {
        "id": "7ox-w1asUUgh"
      },
      "source": [
        "- <b> Saturations occurs whenever $V_{d} \\nleqslant V_{T0}$ . In the saturation region, $I_{ds}$ =$\\frac{\\beta}{2}(V_{g}-\n",
        "V_{T0})^{2}$ (with $\\beta = \\mu * C_{ox}*W/L) $ </b>"
      ]
    },
    {
      "cell_type": "markdown",
      "metadata": {
        "id": "eNIZJyrcUUgi"
      },
      "source": [
        "- Calculate $C_{ox}$ for the classchip from the values given above. What is $C_{ox}$ per square micron in fF?\n"
      ]
    },
    {
      "cell_type": "code",
      "metadata": {
        "id": "An362xRFUUgi",
        "outputId": "72abc718-c4bb-46da-d583-320ec783bde2"
      },
      "source": [
        "#F to fF (femtofarad) [*e+15]\n",
        "#m to micron m [*e+6]\n",
        "\n",
        "e0=8.86e-3 #fF/micron \n",
        "eox=3.9\n",
        "tox=3.8e-3 #micron\n",
        "Cox = e0*eox/tox\n",
        "print(\"Cox = \", round(Cox,2))"
      ],
      "execution_count": null,
      "outputs": [
        {
          "name": "stdout",
          "output_type": "stream",
          "text": [
            "Cox =  9.09\n"
          ]
        }
      ]
    },
    {
      "cell_type": "markdown",
      "metadata": {
        "id": "2KdMNxm8UUgm"
      },
      "source": [
        "- Write the expression for the drain current in saturation including the Early effect, using $I_{dsat}$ to  represent the saturation current in the absence of the Early effect.  Use $V_E$ to represent the Early voltage."
      ]
    },
    {
      "cell_type": "markdown",
      "metadata": {
        "id": "ZH_bRyACUUgr"
      },
      "source": [
        "$I = I_{dsat} (1 + \\frac{V_{d}}{V_{E}})$"
      ]
    },
    {
      "cell_type": "markdown",
      "metadata": {
        "id": "uhc9Mk_RUUgs"
      },
      "source": [
        "# 4 Setup"
      ]
    },
    {
      "cell_type": "markdown",
      "metadata": {
        "id": "W1PtPaoyUUgs"
      },
      "source": [
        "## 4.1 Connect the device"
      ]
    },
    {
      "cell_type": "code",
      "metadata": {
        "id": "PgKkfj21UUgs"
      },
      "source": [
        "# import the necessary library to communicate with the hardware\n",
        "#import sys\n",
        "#sys.path.append('/home/junren/software/CoACH_Teensy_interface/build/pc/pyplane')\n",
        "\n",
        "import pyplane\n",
        "import time\n",
        "import numpy as np\n",
        "import matplotlib.pyplot as plt"
      ],
      "execution_count": null,
      "outputs": []
    },
    {
      "cell_type": "code",
      "metadata": {
        "id": "AxHZhcP0UUgt"
      },
      "source": [
        "# create a Plane object and open the communication\n",
        "if 'p' not in locals():\n",
        "    p = pyplane.Plane()\n",
        "    try:\n",
        "        p.open('/dev/ttyACM0') # Open the USB device ttyACM0 (the board). \n",
        "    except RuntimeError as e:\n",
        "        print(e)\n",
        "        \n",
        "# Note that if you plug out and plug in the USB device in a short time interval, the operating system might allocate a new name like ttyACM1, \n",
        "# then you may get error messages with open(...ttyACM0). So please avoid frenquently plugging in/out the board."
      ],
      "execution_count": null,
      "outputs": []
    },
    {
      "cell_type": "code",
      "metadata": {
        "id": "kEssNhg_UUgt",
        "outputId": "121cba94-2daa-4ff0-ecb7-02a33f7177af"
      },
      "source": [
        "p.get_firmware_version()   #firmware version should be 1.8.3"
      ],
      "execution_count": null,
      "outputs": [
        {
          "data": {
            "text/plain": [
              "(1, 8, 3)"
            ]
          },
          "execution_count": 3,
          "metadata": {},
          "output_type": "execute_result"
        }
      ]
    },
    {
      "cell_type": "code",
      "metadata": {
        "id": "jM8DiHSWUUgu"
      },
      "source": [
        "# Send a reset signal to the board, check if the LED blinks\n",
        "p.reset(pyplane.ResetType.Soft)\n",
        "\n",
        "time.sleep(1) \n",
        "# NOTE: You must send this request events every time you do a reset operetion, otherwise the recieved data is noisy.\n",
        "# Because the class chip need to do handshake to get the communication correct.\n",
        "p.request_events(1)"
      ],
      "execution_count": null,
      "outputs": []
    },
    {
      "cell_type": "code",
      "metadata": {
        "id": "be8aEkNXUUgu",
        "outputId": "10c87a13-1bdf-44e2-92ef-4f90866f0dda"
      },
      "source": [
        "# Try to read something, make sure the chip responses\n",
        "p.read_current(pyplane.AdcChannel.GO0_N)"
      ],
      "execution_count": null,
      "outputs": [
        {
          "data": {
            "text/plain": [
              "2.2558593570920493e-07"
            ]
          },
          "execution_count": 5,
          "metadata": {},
          "output_type": "execute_result"
        }
      ]
    },
    {
      "cell_type": "markdown",
      "metadata": {
        "id": "s5RffHJXUUgv"
      },
      "source": [
        "<a id='config_nfet'></a>\n",
        "## 4.2 Configurations for N-FET"
      ]
    },
    {
      "cell_type": "code",
      "metadata": {
        "scrolled": true,
        "id": "vqF1T9FIUUgy",
        "outputId": "5266eab6-c9f2-4afe-aa70-10880e63e77d"
      },
      "source": [
        "# uses schemdraw, you may have to install it in order to run it on your PC\n",
        "import schemdraw\n",
        "import schemdraw.elements as elm\n",
        "d = schemdraw.Drawing()\n",
        "Q = d.add(elm.NFet, reverse=True)\n",
        "d.add(elm.Dot, xy=Q.gate, lftlabel='gate=AIN0')\n",
        "d.add(elm.Dot, xy=Q.drain, toplabel='drain=GO22')\n",
        "d.add(elm.Dot, xy=Q.source, botlabel='source=GO20')\n",
        "d.draw()"
      ],
      "execution_count": null,
      "outputs": [
        {
          "data": {
            "image/png": "[encoded data removed]",
            "image/svg+xml": [
              "<?xml version=\"1.0\" encoding=\"utf-8\" standalone=\"no\"?>\n",
              "<!DOCTYPE svg PUBLIC \"-//W3C//DTD SVG 1.1//EN\"\n",
              "  \"http://www.w3.org/Graphics/SVG/1.1/DTD/svg11.dtd\">\n",
              "<svg height=\"105.35pt\" version=\"1.1\" viewBox=\"0 0 189.464375 105.35\" width=\"189.464375pt\" xmlns=\"http://www.w3.org/2000/svg\" xmlns:xlink=\"http://www.w3.org/1999/xlink\">\n",
              " <metadata>\n",
              "  <rdf:RDF xmlns:cc=\"http://creativecommons.org/ns#\" xmlns:dc=\"http://purl.org/dc/elements/1.1/\" xmlns:rdf=\"http://www.w3.org/1999/02/22-rdf-syntax-ns#\">\n",
              "   <cc:Work>\n",
              "    <dc:type rdf:resource=\"http://purl.org/dc/dcmitype/StillImage\"/>\n",
              "    <dc:date>2021-10-17T14:37:36.447486</dc:date>\n",
              "    <dc:format>image/svg+xml</dc:format>\n",
              "    <dc:creator>\n",
              "     <cc:Agent>\n",
              "      <dc:title>Matplotlib v3.4.3, https://matplotlib.org/</dc:title>\n",
              "     </cc:Agent>\n",
              "    </dc:creator>\n",
              "   </cc:Work>\n",
              "  </rdf:RDF>\n",
              " </metadata>\n",
              " <defs>\n",
              "  <style type=\"text/css\">*{stroke-linecap:butt;stroke-linejoin:round;}</style>\n",
              " </defs>\n",
              " <g id=\"figure_1\">\n",
              "  <g id=\"patch_1\">\n",
              "   <path d=\"M 0 105.35 \n",
              "L 189.464375 105.35 \n",
              "L 189.464375 0 \n",
              "L 0 0 \n",
              "z\n",
              "\" style=\"fill:none;\"/>\n",
              "  </g>\n",
              "  <g id=\"axes_1\">\n",
              "   <g id=\"line2d_1\">\n",
              "    <path clip-path=\"url(#p7289b84eab)\" d=\"M 133.314688 77.155 \n",
              "L 133.314688 64.405 \n",
              "L 112.914688 64.405 \n",
              "L 112.914688 44.005 \n",
              "L 133.314688 44.005 \n",
              "L 133.314688 31.255 \n",
              "\" style=\"fill:none;stroke:#000000;stroke-linecap:round;stroke-width:2;\"/>\n",
              "   </g>\n",
              "   <g id=\"line2d_2\">\n",
              "    <path clip-path=\"url(#p7289b84eab)\" d=\"M 105.264688 64.405 \n",
              "L 105.264688 44.005 \n",
              "\" style=\"fill:none;stroke:#000000;stroke-linecap:round;stroke-width:2;\"/>\n",
              "   </g>\n",
              "   <g id=\"line2d_3\">\n",
              "    <path clip-path=\"url(#p7289b84eab)\" d=\"M 88.944688 54.205 \n",
              "L 105.264688 54.205 \n",
              "\" style=\"fill:none;stroke:#000000;stroke-linecap:round;stroke-width:2;\"/>\n",
              "   </g>\n",
              "   <g id=\"patch_2\">\n",
              "    <path clip-path=\"url(#p7289b84eab)\" d=\"M 88.944688 56.5 \n",
              "C 89.553329 56.5 90.137123 56.258184 90.567498 55.82781 \n",
              "C 90.997872 55.397436 91.239688 54.813641 91.239688 54.205 \n",
              "C 91.239688 53.596359 90.997872 53.012564 90.567498 52.58219 \n",
              "C 90.137123 52.151816 89.553329 51.91 88.944688 51.91 \n",
              "C 88.336046 51.91 87.752252 52.151816 87.321877 52.58219 \n",
              "C 86.891503 53.012564 86.649688 53.596359 86.649688 54.205 \n",
              "C 86.649688 54.813641 86.891503 55.397436 87.321877 55.82781 \n",
              "C 87.752252 56.258184 88.336046 56.5 88.944688 56.5 \n",
              "z\n",
              "\" style=\"stroke:#000000;stroke-linejoin:miter;stroke-width:2;\"/>\n",
              "   </g>\n",
              "   <g id=\"patch_3\">\n",
              "    <path clip-path=\"url(#p7289b84eab)\" d=\"M 133.314688 33.55 \n",
              "C 133.923329 33.55 134.507123 33.308184 134.937498 32.87781 \n",
              "C 135.367872 32.447436 135.609688 31.863641 135.609688 31.255 \n",
              "C 135.609688 30.646359 135.367872 30.062564 134.937498 29.63219 \n",
              "C 134.507123 29.201816 133.923329 28.96 133.314688 28.96 \n",
              "C 132.706046 28.96 132.122252 29.201816 131.691877 29.63219 \n",
              "C 131.261503 30.062564 131.019688 30.646359 131.019688 31.255 \n",
              "C 131.019688 31.863641 131.261503 32.447436 131.691877 32.87781 \n",
              "C 132.122252 33.308184 132.706046 33.55 133.314688 33.55 \n",
              "z\n",
              "\" style=\"stroke:#000000;stroke-linejoin:miter;stroke-width:2;\"/>\n",
              "   </g>\n",
              "   <g id=\"patch_4\">\n",
              "    <path clip-path=\"url(#p7289b84eab)\" d=\"M 133.314688 79.45 \n",
              "C 133.923329 79.45 134.507123 79.208184 134.937498 78.77781 \n",
              "C 135.367872 78.347436 135.609688 77.763641 135.609688 77.155 \n",
              "C 135.609688 76.546359 135.367872 75.962564 134.937498 75.53219 \n",
              "C 134.507123 75.101816 133.923329 74.86 133.314688 74.86 \n",
              "C 132.706046 74.86 132.122252 75.101816 131.691877 75.53219 \n",
              "C 131.261503 75.962564 131.019688 76.546359 131.019688 77.155 \n",
              "C 131.019688 77.763641 131.261503 78.347436 131.691877 78.77781 \n",
              "C 132.122252 79.208184 132.706046 79.45 133.314688 79.45 \n",
              "z\n",
              "\" style=\"stroke:#000000;stroke-linejoin:miter;stroke-width:2;\"/>\n",
              "   </g>\n",
              "   <g id=\"text_1\">\n",
              "    <!-- gate=AIN0 -->\n",
              "    <g transform=\"translate(7.2 58.068125)scale(0.14 -0.14)\">\n",
              "     <defs>\n",
              "      <path d=\"M 2906 1791 \n",
              "Q 2906 2416 2648 2759 \n",
              "Q 2391 3103 1925 3103 \n",
              "Q 1463 3103 1205 2759 \n",
              "Q 947 2416 947 1791 \n",
              "Q 947 1169 1205 825 \n",
              "Q 1463 481 1925 481 \n",
              "Q 2391 481 2648 825 \n",
              "Q 2906 1169 2906 1791 \n",
              "z\n",
              "M 3481 434 \n",
              "Q 3481 -459 3084 -895 \n",
              "Q 2688 -1331 1869 -1331 \n",
              "Q 1566 -1331 1297 -1286 \n",
              "Q 1028 -1241 775 -1147 \n",
              "L 775 -588 \n",
              "Q 1028 -725 1275 -790 \n",
              "Q 1522 -856 1778 -856 \n",
              "Q 2344 -856 2625 -561 \n",
              "Q 2906 -266 2906 331 \n",
              "L 2906 616 \n",
              "Q 2728 306 2450 153 \n",
              "Q 2172 0 1784 0 \n",
              "Q 1141 0 747 490 \n",
              "Q 353 981 353 1791 \n",
              "Q 353 2603 747 3093 \n",
              "Q 1141 3584 1784 3584 \n",
              "Q 2172 3584 2450 3431 \n",
              "Q 2728 3278 2906 2969 \n",
              "L 2906 3500 \n",
              "L 3481 3500 \n",
              "L 3481 434 \n",
              "z\n",
              "\" id=\"DejaVuSans-67\" transform=\"scale(0.015625)\"/>\n",
              "      <path d=\"M 2194 1759 \n",
              "Q 1497 1759 1228 1600 \n",
              "Q 959 1441 959 1056 \n",
              "Q 959 750 1161 570 \n",
              "Q 1363 391 1709 391 \n",
              "Q 2188 391 2477 730 \n",
              "Q 2766 1069 2766 1631 \n",
              "L 2766 1759 \n",
              "L 2194 1759 \n",
              "z\n",
              "M 3341 1997 \n",
              "L 3341 0 \n",
              "L 2766 0 \n",
              "L 2766 531 \n",
              "Q 2569 213 2275 61 \n",
              "Q 1981 -91 1556 -91 \n",
              "Q 1019 -91 701 211 \n",
              "Q 384 513 384 1019 \n",
              "Q 384 1609 779 1909 \n",
              "Q 1175 2209 1959 2209 \n",
              "L 2766 2209 \n",
              "L 2766 2266 \n",
              "Q 2766 2663 2505 2880 \n",
              "Q 2244 3097 1772 3097 \n",
              "Q 1472 3097 1187 3025 \n",
              "Q 903 2953 641 2809 \n",
              "L 641 3341 \n",
              "Q 956 3463 1253 3523 \n",
              "Q 1550 3584 1831 3584 \n",
              "Q 2591 3584 2966 3190 \n",
              "Q 3341 2797 3341 1997 \n",
              "z\n",
              "\" id=\"DejaVuSans-61\" transform=\"scale(0.015625)\"/>\n",
              "      <path d=\"M 1172 4494 \n",
              "L 1172 3500 \n",
              "L 2356 3500 \n",
              "L 2356 3053 \n",
              "L 1172 3053 \n",
              "L 1172 1153 \n",
              "Q 1172 725 1289 603 \n",
              "Q 1406 481 1766 481 \n",
              "L 2356 481 \n",
              "L 2356 0 \n",
              "L 1766 0 \n",
              "Q 1100 0 847 248 \n",
              "Q 594 497 594 1153 \n",
              "L 594 3053 \n",
              "L 172 3053 \n",
              "L 172 3500 \n",
              "L 594 3500 \n",
              "L 594 4494 \n",
              "L 1172 4494 \n",
              "z\n",
              "\" id=\"DejaVuSans-74\" transform=\"scale(0.015625)\"/>\n",
              "      <path d=\"M 3597 1894 \n",
              "L 3597 1613 \n",
              "L 953 1613 \n",
              "Q 991 1019 1311 708 \n",
              "Q 1631 397 2203 397 \n",
              "Q 2534 397 2845 478 \n",
              "Q 3156 559 3463 722 \n",
              "L 3463 178 \n",
              "Q 3153 47 2828 -22 \n",
              "Q 2503 -91 2169 -91 \n",
              "Q 1331 -91 842 396 \n",
              "Q 353 884 353 1716 \n",
              "Q 353 2575 817 3079 \n",
              "Q 1281 3584 2069 3584 \n",
              "Q 2775 3584 3186 3129 \n",
              "Q 3597 2675 3597 1894 \n",
              "z\n",
              "M 3022 2063 \n",
              "Q 3016 2534 2758 2815 \n",
              "Q 2500 3097 2075 3097 \n",
              "Q 1594 3097 1305 2825 \n",
              "Q 1016 2553 972 2059 \n",
              "L 3022 2063 \n",
              "z\n",
              "\" id=\"DejaVuSans-65\" transform=\"scale(0.015625)\"/>\n",
              "      <path d=\"M 678 2906 \n",
              "L 4684 2906 \n",
              "L 4684 2381 \n",
              "L 678 2381 \n",
              "L 678 2906 \n",
              "z\n",
              "M 678 1631 \n",
              "L 4684 1631 \n",
              "L 4684 1100 \n",
              "L 678 1100 \n",
              "L 678 1631 \n",
              "z\n",
              "\" id=\"DejaVuSans-3d\" transform=\"scale(0.015625)\"/>\n",
              "      <path d=\"M 2188 4044 \n",
              "L 1331 1722 \n",
              "L 3047 1722 \n",
              "L 2188 4044 \n",
              "z\n",
              "M 1831 4666 \n",
              "L 2547 4666 \n",
              "L 4325 0 \n",
              "L 3669 0 \n",
              "L 3244 1197 \n",
              "L 1141 1197 \n",
              "L 716 0 \n",
              "L 50 0 \n",
              "L 1831 4666 \n",
              "z\n",
              "\" id=\"DejaVuSans-41\" transform=\"scale(0.015625)\"/>\n",
              "      <path d=\"M 628 4666 \n",
              "L 1259 4666 \n",
              "L 1259 0 \n",
              "L 628 0 \n",
              "L 628 4666 \n",
              "z\n",
              "\" id=\"DejaVuSans-49\" transform=\"scale(0.015625)\"/>\n",
              "      <path d=\"M 628 4666 \n",
              "L 1478 4666 \n",
              "L 3547 763 \n",
              "L 3547 4666 \n",
              "L 4159 4666 \n",
              "L 4159 0 \n",
              "L 3309 0 \n",
              "L 1241 3903 \n",
              "L 1241 0 \n",
              "L 628 0 \n",
              "L 628 4666 \n",
              "z\n",
              "\" id=\"DejaVuSans-4e\" transform=\"scale(0.015625)\"/>\n",
              "      <path d=\"M 2034 4250 \n",
              "Q 1547 4250 1301 3770 \n",
              "Q 1056 3291 1056 2328 \n",
              "Q 1056 1369 1301 889 \n",
              "Q 1547 409 2034 409 \n",
              "Q 2525 409 2770 889 \n",
              "Q 3016 1369 3016 2328 \n",
              "Q 3016 3291 2770 3770 \n",
              "Q 2525 4250 2034 4250 \n",
              "z\n",
              "M 2034 4750 \n",
              "Q 2819 4750 3233 4129 \n",
              "Q 3647 3509 3647 2328 \n",
              "Q 3647 1150 3233 529 \n",
              "Q 2819 -91 2034 -91 \n",
              "Q 1250 -91 836 529 \n",
              "Q 422 1150 422 2328 \n",
              "Q 422 3509 836 4129 \n",
              "Q 1250 4750 2034 4750 \n",
              "z\n",
              "\" id=\"DejaVuSans-30\" transform=\"scale(0.015625)\"/>\n",
              "     </defs>\n",
              "     <use xlink:href=\"#DejaVuSans-67\"/>\n",
              "     <use x=\"63.476562\" xlink:href=\"#DejaVuSans-61\"/>\n",
              "     <use x=\"124.755859\" xlink:href=\"#DejaVuSans-74\"/>\n",
              "     <use x=\"163.964844\" xlink:href=\"#DejaVuSans-65\"/>\n",
              "     <use x=\"225.488281\" xlink:href=\"#DejaVuSans-3d\"/>\n",
              "     <use x=\"309.277344\" xlink:href=\"#DejaVuSans-41\"/>\n",
              "     <use x=\"377.685547\" xlink:href=\"#DejaVuSans-49\"/>\n",
              "     <use x=\"407.177734\" xlink:href=\"#DejaVuSans-4e\"/>\n",
              "     <use x=\"481.982422\" xlink:href=\"#DejaVuSans-30\"/>\n",
              "    </g>\n",
              "   </g>\n",
              "   <g id=\"text_2\">\n",
              "    <!-- drain=GO22 -->\n",
              "    <g transform=\"translate(89.615 22.988437)scale(0.14 -0.14)\">\n",
              "     <defs>\n",
              "      <path d=\"M 2906 2969 \n",
              "L 2906 4863 \n",
              "L 3481 4863 \n",
              "L 3481 0 \n",
              "L 2906 0 \n",
              "L 2906 525 \n",
              "Q 2725 213 2448 61 \n",
              "Q 2172 -91 1784 -91 \n",
              "Q 1150 -91 751 415 \n",
              "Q 353 922 353 1747 \n",
              "Q 353 2572 751 3078 \n",
              "Q 1150 3584 1784 3584 \n",
              "Q 2172 3584 2448 3432 \n",
              "Q 2725 3281 2906 2969 \n",
              "z\n",
              "M 947 1747 \n",
              "Q 947 1113 1208 752 \n",
              "Q 1469 391 1925 391 \n",
              "Q 2381 391 2643 752 \n",
              "Q 2906 1113 2906 1747 \n",
              "Q 2906 2381 2643 2742 \n",
              "Q 2381 3103 1925 3103 \n",
              "Q 1469 3103 1208 2742 \n",
              "Q 947 2381 947 1747 \n",
              "z\n",
              "\" id=\"DejaVuSans-64\" transform=\"scale(0.015625)\"/>\n",
              "      <path d=\"M 2631 2963 \n",
              "Q 2534 3019 2420 3045 \n",
              "Q 2306 3072 2169 3072 \n",
              "Q 1681 3072 1420 2755 \n",
              "Q 1159 2438 1159 1844 \n",
              "L 1159 0 \n",
              "L 581 0 \n",
              "L 581 3500 \n",
              "L 1159 3500 \n",
              "L 1159 2956 \n",
              "Q 1341 3275 1631 3429 \n",
              "Q 1922 3584 2338 3584 \n",
              "Q 2397 3584 2469 3576 \n",
              "Q 2541 3569 2628 3553 \n",
              "L 2631 2963 \n",
              "z\n",
              "\" id=\"DejaVuSans-72\" transform=\"scale(0.015625)\"/>\n",
              "      <path d=\"M 603 3500 \n",
              "L 1178 3500 \n",
              "L 1178 0 \n",
              "L 603 0 \n",
              "L 603 3500 \n",
              "z\n",
              "M 603 4863 \n",
              "L 1178 4863 \n",
              "L 1178 4134 \n",
              "L 603 4134 \n",
              "L 603 4863 \n",
              "z\n",
              "\" id=\"DejaVuSans-69\" transform=\"scale(0.015625)\"/>\n",
              "      <path d=\"M 3513 2113 \n",
              "L 3513 0 \n",
              "L 2938 0 \n",
              "L 2938 2094 \n",
              "Q 2938 2591 2744 2837 \n",
              "Q 2550 3084 2163 3084 \n",
              "Q 1697 3084 1428 2787 \n",
              "Q 1159 2491 1159 1978 \n",
              "L 1159 0 \n",
              "L 581 0 \n",
              "L 581 3500 \n",
              "L 1159 3500 \n",
              "L 1159 2956 \n",
              "Q 1366 3272 1645 3428 \n",
              "Q 1925 3584 2291 3584 \n",
              "Q 2894 3584 3203 3211 \n",
              "Q 3513 2838 3513 2113 \n",
              "z\n",
              "\" id=\"DejaVuSans-6e\" transform=\"scale(0.015625)\"/>\n",
              "      <path d=\"M 3809 666 \n",
              "L 3809 1919 \n",
              "L 2778 1919 \n",
              "L 2778 2438 \n",
              "L 4434 2438 \n",
              "L 4434 434 \n",
              "Q 4069 175 3628 42 \n",
              "Q 3188 -91 2688 -91 \n",
              "Q 1594 -91 976 548 \n",
              "Q 359 1188 359 2328 \n",
              "Q 359 3472 976 4111 \n",
              "Q 1594 4750 2688 4750 \n",
              "Q 3144 4750 3555 4637 \n",
              "Q 3966 4525 4313 4306 \n",
              "L 4313 3634 \n",
              "Q 3963 3931 3569 4081 \n",
              "Q 3175 4231 2741 4231 \n",
              "Q 1884 4231 1454 3753 \n",
              "Q 1025 3275 1025 2328 \n",
              "Q 1025 1384 1454 906 \n",
              "Q 1884 428 2741 428 \n",
              "Q 3075 428 3337 486 \n",
              "Q 3600 544 3809 666 \n",
              "z\n",
              "\" id=\"DejaVuSans-47\" transform=\"scale(0.015625)\"/>\n",
              "      <path d=\"M 2522 4238 \n",
              "Q 1834 4238 1429 3725 \n",
              "Q 1025 3213 1025 2328 \n",
              "Q 1025 1447 1429 934 \n",
              "Q 1834 422 2522 422 \n",
              "Q 3209 422 3611 934 \n",
              "Q 4013 1447 4013 2328 \n",
              "Q 4013 3213 3611 3725 \n",
              "Q 3209 4238 2522 4238 \n",
              "z\n",
              "M 2522 4750 \n",
              "Q 3503 4750 4090 4092 \n",
              "Q 4678 3434 4678 2328 \n",
              "Q 4678 1225 4090 567 \n",
              "Q 3503 -91 2522 -91 \n",
              "Q 1538 -91 948 565 \n",
              "Q 359 1222 359 2328 \n",
              "Q 359 3434 948 4092 \n",
              "Q 1538 4750 2522 4750 \n",
              "z\n",
              "\" id=\"DejaVuSans-4f\" transform=\"scale(0.015625)\"/>\n",
              "      <path d=\"M 1228 531 \n",
              "L 3431 531 \n",
              "L 3431 0 \n",
              "L 469 0 \n",
              "L 469 531 \n",
              "Q 828 903 1448 1529 \n",
              "Q 2069 2156 2228 2338 \n",
              "Q 2531 2678 2651 2914 \n",
              "Q 2772 3150 2772 3378 \n",
              "Q 2772 3750 2511 3984 \n",
              "Q 2250 4219 1831 4219 \n",
              "Q 1534 4219 1204 4116 \n",
              "Q 875 4013 500 3803 \n",
              "L 500 4441 \n",
              "Q 881 4594 1212 4672 \n",
              "Q 1544 4750 1819 4750 \n",
              "Q 2544 4750 2975 4387 \n",
              "Q 3406 4025 3406 3419 \n",
              "Q 3406 3131 3298 2873 \n",
              "Q 3191 2616 2906 2266 \n",
              "Q 2828 2175 2409 1742 \n",
              "Q 1991 1309 1228 531 \n",
              "z\n",
              "\" id=\"DejaVuSans-32\" transform=\"scale(0.015625)\"/>\n",
              "     </defs>\n",
              "     <use xlink:href=\"#DejaVuSans-64\"/>\n",
              "     <use x=\"63.476562\" xlink:href=\"#DejaVuSans-72\"/>\n",
              "     <use x=\"104.589844\" xlink:href=\"#DejaVuSans-61\"/>\n",
              "     <use x=\"165.869141\" xlink:href=\"#DejaVuSans-69\"/>\n",
              "     <use x=\"193.652344\" xlink:href=\"#DejaVuSans-6e\"/>\n",
              "     <use x=\"257.03125\" xlink:href=\"#DejaVuSans-3d\"/>\n",
              "     <use x=\"340.820312\" xlink:href=\"#DejaVuSans-47\"/>\n",
              "     <use x=\"418.310547\" xlink:href=\"#DejaVuSans-4f\"/>\n",
              "     <use x=\"497.021484\" xlink:href=\"#DejaVuSans-32\"/>\n",
              "     <use x=\"560.644531\" xlink:href=\"#DejaVuSans-32\"/>\n",
              "    </g>\n",
              "   </g>\n",
              "   <g id=\"text_3\">\n",
              "    <!-- source=GO20 -->\n",
              "    <g transform=\"translate(84.365 93.147812)scale(0.14 -0.14)\">\n",
              "     <defs>\n",
              "      <path d=\"M 2834 3397 \n",
              "L 2834 2853 \n",
              "Q 2591 2978 2328 3040 \n",
              "Q 2066 3103 1784 3103 \n",
              "Q 1356 3103 1142 2972 \n",
              "Q 928 2841 928 2578 \n",
              "Q 928 2378 1081 2264 \n",
              "Q 1234 2150 1697 2047 \n",
              "L 1894 2003 \n",
              "Q 2506 1872 2764 1633 \n",
              "Q 3022 1394 3022 966 \n",
              "Q 3022 478 2636 193 \n",
              "Q 2250 -91 1575 -91 \n",
              "Q 1294 -91 989 -36 \n",
              "Q 684 19 347 128 \n",
              "L 347 722 \n",
              "Q 666 556 975 473 \n",
              "Q 1284 391 1588 391 \n",
              "Q 1994 391 2212 530 \n",
              "Q 2431 669 2431 922 \n",
              "Q 2431 1156 2273 1281 \n",
              "Q 2116 1406 1581 1522 \n",
              "L 1381 1569 \n",
              "Q 847 1681 609 1914 \n",
              "Q 372 2147 372 2553 \n",
              "Q 372 3047 722 3315 \n",
              "Q 1072 3584 1716 3584 \n",
              "Q 2034 3584 2315 3537 \n",
              "Q 2597 3491 2834 3397 \n",
              "z\n",
              "\" id=\"DejaVuSans-73\" transform=\"scale(0.015625)\"/>\n",
              "      <path d=\"M 1959 3097 \n",
              "Q 1497 3097 1228 2736 \n",
              "Q 959 2375 959 1747 \n",
              "Q 959 1119 1226 758 \n",
              "Q 1494 397 1959 397 \n",
              "Q 2419 397 2687 759 \n",
              "Q 2956 1122 2956 1747 \n",
              "Q 2956 2369 2687 2733 \n",
              "Q 2419 3097 1959 3097 \n",
              "z\n",
              "M 1959 3584 \n",
              "Q 2709 3584 3137 3096 \n",
              "Q 3566 2609 3566 1747 \n",
              "Q 3566 888 3137 398 \n",
              "Q 2709 -91 1959 -91 \n",
              "Q 1206 -91 779 398 \n",
              "Q 353 888 353 1747 \n",
              "Q 353 2609 779 3096 \n",
              "Q 1206 3584 1959 3584 \n",
              "z\n",
              "\" id=\"DejaVuSans-6f\" transform=\"scale(0.015625)\"/>\n",
              "      <path d=\"M 544 1381 \n",
              "L 544 3500 \n",
              "L 1119 3500 \n",
              "L 1119 1403 \n",
              "Q 1119 906 1312 657 \n",
              "Q 1506 409 1894 409 \n",
              "Q 2359 409 2629 706 \n",
              "Q 2900 1003 2900 1516 \n",
              "L 2900 3500 \n",
              "L 3475 3500 \n",
              "L 3475 0 \n",
              "L 2900 0 \n",
              "L 2900 538 \n",
              "Q 2691 219 2414 64 \n",
              "Q 2138 -91 1772 -91 \n",
              "Q 1169 -91 856 284 \n",
              "Q 544 659 544 1381 \n",
              "z\n",
              "M 1991 3584 \n",
              "L 1991 3584 \n",
              "z\n",
              "\" id=\"DejaVuSans-75\" transform=\"scale(0.015625)\"/>\n",
              "      <path d=\"M 3122 3366 \n",
              "L 3122 2828 \n",
              "Q 2878 2963 2633 3030 \n",
              "Q 2388 3097 2138 3097 \n",
              "Q 1578 3097 1268 2742 \n",
              "Q 959 2388 959 1747 \n",
              "Q 959 1106 1268 751 \n",
              "Q 1578 397 2138 397 \n",
              "Q 2388 397 2633 464 \n",
              "Q 2878 531 3122 666 \n",
              "L 3122 134 \n",
              "Q 2881 22 2623 -34 \n",
              "Q 2366 -91 2075 -91 \n",
              "Q 1284 -91 818 406 \n",
              "Q 353 903 353 1747 \n",
              "Q 353 2603 823 3093 \n",
              "Q 1294 3584 2113 3584 \n",
              "Q 2378 3584 2631 3529 \n",
              "Q 2884 3475 3122 3366 \n",
              "z\n",
              "\" id=\"DejaVuSans-63\" transform=\"scale(0.015625)\"/>\n",
              "     </defs>\n",
              "     <use xlink:href=\"#DejaVuSans-73\"/>\n",
              "     <use x=\"52.099609\" xlink:href=\"#DejaVuSans-6f\"/>\n",
              "     <use x=\"113.28125\" xlink:href=\"#DejaVuSans-75\"/>\n",
              "     <use x=\"176.660156\" xlink:href=\"#DejaVuSans-72\"/>\n",
              "     <use x=\"215.523438\" xlink:href=\"#DejaVuSans-63\"/>\n",
              "     <use x=\"270.503906\" xlink:href=\"#DejaVuSans-65\"/>\n",
              "     <use x=\"332.027344\" xlink:href=\"#DejaVuSans-3d\"/>\n",
              "     <use x=\"415.816406\" xlink:href=\"#DejaVuSans-47\"/>\n",
              "     <use x=\"493.306641\" xlink:href=\"#DejaVuSans-4f\"/>\n",
              "     <use x=\"572.017578\" xlink:href=\"#DejaVuSans-32\"/>\n",
              "     <use x=\"635.640625\" xlink:href=\"#DejaVuSans-30\"/>\n",
              "    </g>\n",
              "   </g>\n",
              "  </g>\n",
              " </g>\n",
              " <defs>\n",
              "  <clipPath id=\"p7289b84eab\">\n",
              "   <rect height=\"90.95\" width=\"160.6296\" x=\"20.421087\" y=\"7.2\"/>\n",
              "  </clipPath>\n",
              " </defs>\n",
              "</svg>\n"
            ],
            "text/plain": [
              "<schemdraw.backends.mpl.Figure object at 0x7f5e0873fac0>"
            ]
          },
          "execution_count": 23,
          "metadata": {},
          "output_type": "execute_result"
        }
      ]
    },
    {
      "cell_type": "markdown",
      "metadata": {
        "id": "fCGuI48OUUgy"
      },
      "source": [
        "To cancel out the leakage current and shunt resistance, you may need to do a subtraction in Section 5.1.\n",
        "\n",
        "$I_{ds} = I_{GO20} - I_{GO20}|_{V_{gs} = 0}$ "
      ]
    },
    {
      "cell_type": "markdown",
      "metadata": {
        "id": "OpXCKTXYUUgy"
      },
      "source": [
        "Note: It's better to measure source because its leakage is constant in this lab"
      ]
    },
    {
      "cell_type": "markdown",
      "metadata": {
        "id": "IKjwjmYzUUgz"
      },
      "source": [
        "* You have to set the input voltage demultiplexer by sending a configuration event:"
      ]
    },
    {
      "cell_type": "code",
      "metadata": {
        "id": "rMMOt0v5UUgz"
      },
      "source": [
        "# Configure NFET, set the input voltage demultiplexer by AER event. \n",
        "# Note selectlines we should choose for the NFET\n",
        "events = [pyplane.Coach.generate_aerc_event( \\\n",
        "    pyplane.Coach.CurrentOutputSelect.SelectLine5, \\\n",
        "    pyplane.Coach.VoltageOutputSelect.NoneSelected, \\\n",
        "    pyplane.Coach.VoltageInputSelect.SelectLine2, \\\n",
        "    pyplane.Coach.SynapseSelect.NoneSelected, 0)]\n",
        "\n",
        "p.send_coach_events(events)"
      ],
      "execution_count": null,
      "outputs": []
    },
    {
      "cell_type": "markdown",
      "metadata": {
        "id": "vNdGc-ZyUUgz"
      },
      "source": [
        "* Check the configuration is correct. If the measured result is not as expected, try sending the configration event again."
      ]
    },
    {
      "cell_type": "code",
      "metadata": {
        "id": "N1FFs3L5UUgz",
        "outputId": "a27f9162-14cd-42a3-cafb-95bce1ce3921"
      },
      "source": [
        "# set source voltage\n",
        "vs = 0.0\n",
        "src = p.set_voltage(pyplane.DacChannel.GO20,vs)       \n",
        "print(\"The source voltage is set to {} V\".format(src))"
      ],
      "execution_count": null,
      "outputs": [
        {
          "name": "stdout",
          "output_type": "stream",
          "text": [
            "The source voltage is set to 0.0 V\n"
          ]
        }
      ]
    },
    {
      "cell_type": "code",
      "metadata": {
        "id": "o6rK94BmUUg0",
        "outputId": "d9f633c0-0979-4b02-e045-61726a840315"
      },
      "source": [
        "# set drain voltage\n",
        "vd = 1.8\n",
        "drain= p.set_voltage(pyplane.DacChannel.GO22,vd)\n",
        "print(\"The drain voltage is set to {} V\".format(drain))"
      ],
      "execution_count": null,
      "outputs": [
        {
          "name": "stdout",
          "output_type": "stream",
          "text": [
            "The drain voltage is set to 1.7982406616210938 V\n"
          ]
        }
      ]
    },
    {
      "cell_type": "code",
      "metadata": {
        "id": "-OcURBezUUg0",
        "outputId": "8e52c762-2ec0-48d6-a734-85cf736fc25c"
      },
      "source": [
        "# set gate voltage\n",
        "vg = 1.8\n",
        "gate = p.set_voltage(pyplane.DacChannel.AIN0, vg)\n",
        "print(\"The gate voltage is set to {} V\".format(gate))"
      ],
      "execution_count": null,
      "outputs": [
        {
          "name": "stdout",
          "output_type": "stream",
          "text": [
            "The gate voltage is set to 1.7982406616210938 V\n"
          ]
        }
      ]
    },
    {
      "cell_type": "code",
      "metadata": {
        "id": "lBn8Fh_UUUg0",
        "outputId": "3b86f658-abcd-40bf-af66-b05df8541b03"
      },
      "source": [
        "# read I_{ds}\n",
        "I_s = p.read_current(pyplane.AdcChannel.GO20_N)      #source\n",
        "print(\"The measured source current is {} A\".format(I_s))\n",
        "\n",
        "time.sleep(0.1)  # wait for it to settle\n",
        "\n",
        "I_d = p.read_current(pyplane.AdcChannel.GO22)       #drain\n",
        "print(\"The measured drain current is {} A\".format(I_d))"
      ],
      "execution_count": null,
      "outputs": [
        {
          "name": "stdout",
          "output_type": "stream",
          "text": [
            "The measured source current is 9.970702876671567e-07 A\n",
            "The measured drain current is 9.97314373307745e-07 A\n"
          ]
        }
      ]
    },
    {
      "cell_type": "markdown",
      "metadata": {
        "id": "DcHBxPi9UUg1"
      },
      "source": [
        "* Question: Check if the measured currents change with different gate voltages?"
      ]
    },
    {
      "cell_type": "markdown",
      "metadata": {
        "id": "hgGxO5wBUUg1"
      },
      "source": [
        "- <b> It does ! </b>"
      ]
    },
    {
      "cell_type": "markdown",
      "metadata": {
        "id": "iw1n7jz_UUg2"
      },
      "source": [
        "<a id='config_pfet'></a>\n",
        "## 4.3 Configurations for P-FET"
      ]
    },
    {
      "cell_type": "code",
      "metadata": {
        "scrolled": true,
        "id": "VFyhQGMXUUg2",
        "outputId": "005aefe7-d194-4d8a-eca3-55b3b8385f2f"
      },
      "source": [
        "# uses schemdraw, you may have to install it in order to run it on your PC\n",
        "import schemdraw\n",
        "import schemdraw.elements as elm\n",
        "d = schemdraw.Drawing()\n",
        "Q = d.add(elm.PFet, reverse=True, bulk=True)\n",
        "d.add(elm.Dot, xy=Q.gate, lftlabel='gate=AIN0')\n",
        "d.add(elm.Dot, xy=Q.bulk, rgtlabel='bulk=AIN1')\n",
        "d.add(elm.Dot, xy=Q.drain, botlabel='drain=GO21')\n",
        "d.add(elm.Dot, xy=Q.source, toplabel='source=GO23')\n",
        "d.draw()"
      ],
      "execution_count": null,
      "outputs": [
        {
          "data": {
            "image/png": "[encoded data removed]",
            "image/svg+xml": [
              "<?xml version=\"1.0\" encoding=\"utf-8\" standalone=\"no\"?>\n",
              "<!DOCTYPE svg PUBLIC \"-//W3C//DTD SVG 1.1//EN\"\n",
              "  \"http://www.w3.org/Graphics/SVG/1.1/DTD/svg11.dtd\">\n",
              "<svg height=\"105.35pt\" version=\"1.1\" viewBox=\"0 0 220.445938 105.35\" width=\"220.445938pt\" xmlns=\"http://www.w3.org/2000/svg\" xmlns:xlink=\"http://www.w3.org/1999/xlink\">\n",
              " <metadata>\n",
              "  <rdf:RDF xmlns:cc=\"http://creativecommons.org/ns#\" xmlns:dc=\"http://purl.org/dc/elements/1.1/\" xmlns:rdf=\"http://www.w3.org/1999/02/22-rdf-syntax-ns#\">\n",
              "   <cc:Work>\n",
              "    <dc:type rdf:resource=\"http://purl.org/dc/dcmitype/StillImage\"/>\n",
              "    <dc:date>2021-10-17T14:33:50.751296</dc:date>\n",
              "    <dc:format>image/svg+xml</dc:format>\n",
              "    <dc:creator>\n",
              "     <cc:Agent>\n",
              "      <dc:title>Matplotlib v3.4.3, https://matplotlib.org/</dc:title>\n",
              "     </cc:Agent>\n",
              "    </dc:creator>\n",
              "   </cc:Work>\n",
              "  </rdf:RDF>\n",
              " </metadata>\n",
              " <defs>\n",
              "  <style type=\"text/css\">*{stroke-linecap:butt;stroke-linejoin:round;}</style>\n",
              " </defs>\n",
              " <g id=\"figure_1\">\n",
              "  <g id=\"patch_1\">\n",
              "   <path d=\"M 0 105.35 \n",
              "L 220.445937 105.35 \n",
              "L 220.445937 0 \n",
              "L 0 0 \n",
              "z\n",
              "\" style=\"fill:none;\"/>\n",
              "  </g>\n",
              "  <g id=\"axes_1\">\n",
              "   <g id=\"patch_2\">\n",
              "    <path clip-path=\"url(#pf33f73f1cf)\" d=\"M 101.694688 57.775 \n",
              "C 102.641463 57.775 103.549588 57.398842 104.219059 56.729371 \n",
              "C 104.88853 56.0599 105.264688 55.151775 105.264688 54.205 \n",
              "C 105.264688 53.258225 104.88853 52.3501 104.219059 51.680629 \n",
              "C 103.549588 51.011158 102.641463 50.635 101.694688 50.635 \n",
              "C 100.747912 50.635 99.839787 51.011158 99.170316 51.680629 \n",
              "C 98.500845 52.3501 98.124688 53.258225 98.124688 54.205 \n",
              "C 98.124688 55.151775 98.500845 56.0599 99.170316 56.729371 \n",
              "C 99.839787 57.398842 100.747912 57.775 101.694688 57.775 \n",
              "z\n",
              "\" style=\"fill:none;stroke:#000000;stroke-linejoin:miter;stroke-width:2;\"/>\n",
              "   </g>\n",
              "   <g id=\"patch_3\">\n",
              "    <path clip-path=\"url(#pf33f73f1cf)\" d=\"M 119.034688 57.265 \n",
              "L 112.914688 54.205 \n",
              "L 119.034688 51.145 \n",
              "z\n",
              "\"/>\n",
              "   </g>\n",
              "   <g id=\"line2d_1\">\n",
              "    <path clip-path=\"url(#pf33f73f1cf)\" d=\"M 133.314688 77.155 \n",
              "L 133.314688 64.405 \n",
              "L 112.914688 64.405 \n",
              "L 112.914688 44.005 \n",
              "L 133.314688 44.005 \n",
              "L 133.314688 31.255 \n",
              "\" style=\"fill:none;stroke:#000000;stroke-linecap:round;stroke-width:2;\"/>\n",
              "   </g>\n",
              "   <g id=\"line2d_2\">\n",
              "    <path clip-path=\"url(#pf33f73f1cf)\" d=\"M 105.264688 64.405 \n",
              "L 105.264688 44.005 \n",
              "\" style=\"fill:none;stroke:#000000;stroke-linecap:round;stroke-width:2;\"/>\n",
              "   </g>\n",
              "   <g id=\"line2d_3\">\n",
              "    <path clip-path=\"url(#pf33f73f1cf)\" d=\"M 88.944688 54.205 \n",
              "L 98.124688 54.205 \n",
              "\" style=\"fill:none;stroke:#000000;stroke-linecap:round;stroke-width:2;\"/>\n",
              "   </g>\n",
              "   <g id=\"line2d_4\">\n",
              "    <path clip-path=\"url(#pf33f73f1cf)\" d=\"M 133.314688 54.205 \n",
              "L 119.034688 54.205 \n",
              "\" style=\"fill:none;stroke:#000000;stroke-linecap:square;stroke-width:2;\"/>\n",
              "   </g>\n",
              "   <g id=\"patch_4\">\n",
              "    <path clip-path=\"url(#pf33f73f1cf)\" d=\"M 88.944688 56.5 \n",
              "C 89.553329 56.5 90.137123 56.258184 90.567498 55.82781 \n",
              "C 90.997872 55.397436 91.239688 54.813641 91.239688 54.205 \n",
              "C 91.239688 53.596359 90.997872 53.012564 90.567498 52.58219 \n",
              "C 90.137123 52.151816 89.553329 51.91 88.944688 51.91 \n",
              "C 88.336046 51.91 87.752252 52.151816 87.321877 52.58219 \n",
              "C 86.891503 53.012564 86.649688 53.596359 86.649688 54.205 \n",
              "C 86.649688 54.813641 86.891503 55.397436 87.321877 55.82781 \n",
              "C 87.752252 56.258184 88.336046 56.5 88.944688 56.5 \n",
              "z\n",
              "\" style=\"stroke:#000000;stroke-linejoin:miter;stroke-width:2;\"/>\n",
              "   </g>\n",
              "   <g id=\"patch_5\">\n",
              "    <path clip-path=\"url(#pf33f73f1cf)\" d=\"M 133.314688 56.5 \n",
              "C 133.923329 56.5 134.507123 56.258184 134.937498 55.82781 \n",
              "C 135.367872 55.397436 135.609688 54.813641 135.609688 54.205 \n",
              "C 135.609688 53.596359 135.367872 53.012564 134.937498 52.58219 \n",
              "C 134.507123 52.151816 133.923329 51.91 133.314688 51.91 \n",
              "C 132.706046 51.91 132.122252 52.151816 131.691877 52.58219 \n",
              "C 131.261503 53.012564 131.019688 53.596359 131.019688 54.205 \n",
              "C 131.019688 54.813641 131.261503 55.397436 131.691877 55.82781 \n",
              "C 132.122252 56.258184 132.706046 56.5 133.314688 56.5 \n",
              "z\n",
              "\" style=\"stroke:#000000;stroke-linejoin:miter;stroke-width:2;\"/>\n",
              "   </g>\n",
              "   <g id=\"patch_6\">\n",
              "    <path clip-path=\"url(#pf33f73f1cf)\" d=\"M 133.314688 79.45 \n",
              "C 133.923329 79.45 134.507123 79.208184 134.937498 78.77781 \n",
              "C 135.367872 78.347436 135.609688 77.763641 135.609688 77.155 \n",
              "C 135.609688 76.546359 135.367872 75.962564 134.937498 75.53219 \n",
              "C 134.507123 75.101816 133.923329 74.86 133.314688 74.86 \n",
              "C 132.706046 74.86 132.122252 75.101816 131.691877 75.53219 \n",
              "C 131.261503 75.962564 131.019688 76.546359 131.019688 77.155 \n",
              "C 131.019688 77.763641 131.261503 78.347436 131.691877 78.77781 \n",
              "C 132.122252 79.208184 132.706046 79.45 133.314688 79.45 \n",
              "z\n",
              "\" style=\"stroke:#000000;stroke-linejoin:miter;stroke-width:2;\"/>\n",
              "   </g>\n",
              "   <g id=\"patch_7\">\n",
              "    <path clip-path=\"url(#pf33f73f1cf)\" d=\"M 133.314688 33.55 \n",
              "C 133.923329 33.55 134.507123 33.308184 134.937498 32.87781 \n",
              "C 135.367872 32.447436 135.609688 31.863641 135.609688 31.255 \n",
              "C 135.609688 30.646359 135.367872 30.062564 134.937498 29.63219 \n",
              "C 134.507123 29.201816 133.923329 28.96 133.314688 28.96 \n",
              "C 132.706046 28.96 132.122252 29.201816 131.691877 29.63219 \n",
              "C 131.261503 30.062564 131.019688 30.646359 131.019688 31.255 \n",
              "C 131.019688 31.863641 131.261503 32.447436 131.691877 32.87781 \n",
              "C 132.122252 33.308184 132.706046 33.55 133.314688 33.55 \n",
              "z\n",
              "\" style=\"stroke:#000000;stroke-linejoin:miter;stroke-width:2;\"/>\n",
              "   </g>\n",
              "   <g id=\"text_1\">\n",
              "    <!-- gate=AIN0 -->\n",
              "    <g transform=\"translate(7.2 58.068125)scale(0.14 -0.14)\">\n",
              "     <defs>\n",
              "      <path d=\"M 2906 1791 \n",
              "Q 2906 2416 2648 2759 \n",
              "Q 2391 3103 1925 3103 \n",
              "Q 1463 3103 1205 2759 \n",
              "Q 947 2416 947 1791 \n",
              "Q 947 1169 1205 825 \n",
              "Q 1463 481 1925 481 \n",
              "Q 2391 481 2648 825 \n",
              "Q 2906 1169 2906 1791 \n",
              "z\n",
              "M 3481 434 \n",
              "Q 3481 -459 3084 -895 \n",
              "Q 2688 -1331 1869 -1331 \n",
              "Q 1566 -1331 1297 -1286 \n",
              "Q 1028 -1241 775 -1147 \n",
              "L 775 -588 \n",
              "Q 1028 -725 1275 -790 \n",
              "Q 1522 -856 1778 -856 \n",
              "Q 2344 -856 2625 -561 \n",
              "Q 2906 -266 2906 331 \n",
              "L 2906 616 \n",
              "Q 2728 306 2450 153 \n",
              "Q 2172 0 1784 0 \n",
              "Q 1141 0 747 490 \n",
              "Q 353 981 353 1791 \n",
              "Q 353 2603 747 3093 \n",
              "Q 1141 3584 1784 3584 \n",
              "Q 2172 3584 2450 3431 \n",
              "Q 2728 3278 2906 2969 \n",
              "L 2906 3500 \n",
              "L 3481 3500 \n",
              "L 3481 434 \n",
              "z\n",
              "\" id=\"DejaVuSans-67\" transform=\"scale(0.015625)\"/>\n",
              "      <path d=\"M 2194 1759 \n",
              "Q 1497 1759 1228 1600 \n",
              "Q 959 1441 959 1056 \n",
              "Q 959 750 1161 570 \n",
              "Q 1363 391 1709 391 \n",
              "Q 2188 391 2477 730 \n",
              "Q 2766 1069 2766 1631 \n",
              "L 2766 1759 \n",
              "L 2194 1759 \n",
              "z\n",
              "M 3341 1997 \n",
              "L 3341 0 \n",
              "L 2766 0 \n",
              "L 2766 531 \n",
              "Q 2569 213 2275 61 \n",
              "Q 1981 -91 1556 -91 \n",
              "Q 1019 -91 701 211 \n",
              "Q 384 513 384 1019 \n",
              "Q 384 1609 779 1909 \n",
              "Q 1175 2209 1959 2209 \n",
              "L 2766 2209 \n",
              "L 2766 2266 \n",
              "Q 2766 2663 2505 2880 \n",
              "Q 2244 3097 1772 3097 \n",
              "Q 1472 3097 1187 3025 \n",
              "Q 903 2953 641 2809 \n",
              "L 641 3341 \n",
              "Q 956 3463 1253 3523 \n",
              "Q 1550 3584 1831 3584 \n",
              "Q 2591 3584 2966 3190 \n",
              "Q 3341 2797 3341 1997 \n",
              "z\n",
              "\" id=\"DejaVuSans-61\" transform=\"scale(0.015625)\"/>\n",
              "      <path d=\"M 1172 4494 \n",
              "L 1172 3500 \n",
              "L 2356 3500 \n",
              "L 2356 3053 \n",
              "L 1172 3053 \n",
              "L 1172 1153 \n",
              "Q 1172 725 1289 603 \n",
              "Q 1406 481 1766 481 \n",
              "L 2356 481 \n",
              "L 2356 0 \n",
              "L 1766 0 \n",
              "Q 1100 0 847 248 \n",
              "Q 594 497 594 1153 \n",
              "L 594 3053 \n",
              "L 172 3053 \n",
              "L 172 3500 \n",
              "L 594 3500 \n",
              "L 594 4494 \n",
              "L 1172 4494 \n",
              "z\n",
              "\" id=\"DejaVuSans-74\" transform=\"scale(0.015625)\"/>\n",
              "      <path d=\"M 3597 1894 \n",
              "L 3597 1613 \n",
              "L 953 1613 \n",
              "Q 991 1019 1311 708 \n",
              "Q 1631 397 2203 397 \n",
              "Q 2534 397 2845 478 \n",
              "Q 3156 559 3463 722 \n",
              "L 3463 178 \n",
              "Q 3153 47 2828 -22 \n",
              "Q 2503 -91 2169 -91 \n",
              "Q 1331 -91 842 396 \n",
              "Q 353 884 353 1716 \n",
              "Q 353 2575 817 3079 \n",
              "Q 1281 3584 2069 3584 \n",
              "Q 2775 3584 3186 3129 \n",
              "Q 3597 2675 3597 1894 \n",
              "z\n",
              "M 3022 2063 \n",
              "Q 3016 2534 2758 2815 \n",
              "Q 2500 3097 2075 3097 \n",
              "Q 1594 3097 1305 2825 \n",
              "Q 1016 2553 972 2059 \n",
              "L 3022 2063 \n",
              "z\n",
              "\" id=\"DejaVuSans-65\" transform=\"scale(0.015625)\"/>\n",
              "      <path d=\"M 678 2906 \n",
              "L 4684 2906 \n",
              "L 4684 2381 \n",
              "L 678 2381 \n",
              "L 678 2906 \n",
              "z\n",
              "M 678 1631 \n",
              "L 4684 1631 \n",
              "L 4684 1100 \n",
              "L 678 1100 \n",
              "L 678 1631 \n",
              "z\n",
              "\" id=\"DejaVuSans-3d\" transform=\"scale(0.015625)\"/>\n",
              "      <path d=\"M 2188 4044 \n",
              "L 1331 1722 \n",
              "L 3047 1722 \n",
              "L 2188 4044 \n",
              "z\n",
              "M 1831 4666 \n",
              "L 2547 4666 \n",
              "L 4325 0 \n",
              "L 3669 0 \n",
              "L 3244 1197 \n",
              "L 1141 1197 \n",
              "L 716 0 \n",
              "L 50 0 \n",
              "L 1831 4666 \n",
              "z\n",
              "\" id=\"DejaVuSans-41\" transform=\"scale(0.015625)\"/>\n",
              "      <path d=\"M 628 4666 \n",
              "L 1259 4666 \n",
              "L 1259 0 \n",
              "L 628 0 \n",
              "L 628 4666 \n",
              "z\n",
              "\" id=\"DejaVuSans-49\" transform=\"scale(0.015625)\"/>\n",
              "      <path d=\"M 628 4666 \n",
              "L 1478 4666 \n",
              "L 3547 763 \n",
              "L 3547 4666 \n",
              "L 4159 4666 \n",
              "L 4159 0 \n",
              "L 3309 0 \n",
              "L 1241 3903 \n",
              "L 1241 0 \n",
              "L 628 0 \n",
              "L 628 4666 \n",
              "z\n",
              "\" id=\"DejaVuSans-4e\" transform=\"scale(0.015625)\"/>\n",
              "      <path d=\"M 2034 4250 \n",
              "Q 1547 4250 1301 3770 \n",
              "Q 1056 3291 1056 2328 \n",
              "Q 1056 1369 1301 889 \n",
              "Q 1547 409 2034 409 \n",
              "Q 2525 409 2770 889 \n",
              "Q 3016 1369 3016 2328 \n",
              "Q 3016 3291 2770 3770 \n",
              "Q 2525 4250 2034 4250 \n",
              "z\n",
              "M 2034 4750 \n",
              "Q 2819 4750 3233 4129 \n",
              "Q 3647 3509 3647 2328 \n",
              "Q 3647 1150 3233 529 \n",
              "Q 2819 -91 2034 -91 \n",
              "Q 1250 -91 836 529 \n",
              "Q 422 1150 422 2328 \n",
              "Q 422 3509 836 4129 \n",
              "Q 1250 4750 2034 4750 \n",
              "z\n",
              "\" id=\"DejaVuSans-30\" transform=\"scale(0.015625)\"/>\n",
              "     </defs>\n",
              "     <use xlink:href=\"#DejaVuSans-67\"/>\n",
              "     <use x=\"63.476562\" xlink:href=\"#DejaVuSans-61\"/>\n",
              "     <use x=\"124.755859\" xlink:href=\"#DejaVuSans-74\"/>\n",
              "     <use x=\"163.964844\" xlink:href=\"#DejaVuSans-65\"/>\n",
              "     <use x=\"225.488281\" xlink:href=\"#DejaVuSans-3d\"/>\n",
              "     <use x=\"309.277344\" xlink:href=\"#DejaVuSans-41\"/>\n",
              "     <use x=\"377.685547\" xlink:href=\"#DejaVuSans-49\"/>\n",
              "     <use x=\"407.177734\" xlink:href=\"#DejaVuSans-4e\"/>\n",
              "     <use x=\"481.982422\" xlink:href=\"#DejaVuSans-30\"/>\n",
              "    </g>\n",
              "   </g>\n",
              "   <g id=\"text_2\">\n",
              "    <!-- bulk=AIN1 -->\n",
              "    <g transform=\"translate(138.669688 58.068125)scale(0.14 -0.14)\">\n",
              "     <defs>\n",
              "      <path d=\"M 3116 1747 \n",
              "Q 3116 2381 2855 2742 \n",
              "Q 2594 3103 2138 3103 \n",
              "Q 1681 3103 1420 2742 \n",
              "Q 1159 2381 1159 1747 \n",
              "Q 1159 1113 1420 752 \n",
              "Q 1681 391 2138 391 \n",
              "Q 2594 391 2855 752 \n",
              "Q 3116 1113 3116 1747 \n",
              "z\n",
              "M 1159 2969 \n",
              "Q 1341 3281 1617 3432 \n",
              "Q 1894 3584 2278 3584 \n",
              "Q 2916 3584 3314 3078 \n",
              "Q 3713 2572 3713 1747 \n",
              "Q 3713 922 3314 415 \n",
              "Q 2916 -91 2278 -91 \n",
              "Q 1894 -91 1617 61 \n",
              "Q 1341 213 1159 525 \n",
              "L 1159 0 \n",
              "L 581 0 \n",
              "L 581 4863 \n",
              "L 1159 4863 \n",
              "L 1159 2969 \n",
              "z\n",
              "\" id=\"DejaVuSans-62\" transform=\"scale(0.015625)\"/>\n",
              "      <path d=\"M 544 1381 \n",
              "L 544 3500 \n",
              "L 1119 3500 \n",
              "L 1119 1403 \n",
              "Q 1119 906 1312 657 \n",
              "Q 1506 409 1894 409 \n",
              "Q 2359 409 2629 706 \n",
              "Q 2900 1003 2900 1516 \n",
              "L 2900 3500 \n",
              "L 3475 3500 \n",
              "L 3475 0 \n",
              "L 2900 0 \n",
              "L 2900 538 \n",
              "Q 2691 219 2414 64 \n",
              "Q 2138 -91 1772 -91 \n",
              "Q 1169 -91 856 284 \n",
              "Q 544 659 544 1381 \n",
              "z\n",
              "M 1991 3584 \n",
              "L 1991 3584 \n",
              "z\n",
              "\" id=\"DejaVuSans-75\" transform=\"scale(0.015625)\"/>\n",
              "      <path d=\"M 603 4863 \n",
              "L 1178 4863 \n",
              "L 1178 0 \n",
              "L 603 0 \n",
              "L 603 4863 \n",
              "z\n",
              "\" id=\"DejaVuSans-6c\" transform=\"scale(0.015625)\"/>\n",
              "      <path d=\"M 581 4863 \n",
              "L 1159 4863 \n",
              "L 1159 1991 \n",
              "L 2875 3500 \n",
              "L 3609 3500 \n",
              "L 1753 1863 \n",
              "L 3688 0 \n",
              "L 2938 0 \n",
              "L 1159 1709 \n",
              "L 1159 0 \n",
              "L 581 0 \n",
              "L 581 4863 \n",
              "z\n",
              "\" id=\"DejaVuSans-6b\" transform=\"scale(0.015625)\"/>\n",
              "      <path d=\"M 794 531 \n",
              "L 1825 531 \n",
              "L 1825 4091 \n",
              "L 703 3866 \n",
              "L 703 4441 \n",
              "L 1819 4666 \n",
              "L 2450 4666 \n",
              "L 2450 531 \n",
              "L 3481 531 \n",
              "L 3481 0 \n",
              "L 794 0 \n",
              "L 794 531 \n",
              "z\n",
              "\" id=\"DejaVuSans-31\" transform=\"scale(0.015625)\"/>\n",
              "     </defs>\n",
              "     <use xlink:href=\"#DejaVuSans-62\"/>\n",
              "     <use x=\"63.476562\" xlink:href=\"#DejaVuSans-75\"/>\n",
              "     <use x=\"126.855469\" xlink:href=\"#DejaVuSans-6c\"/>\n",
              "     <use x=\"154.638672\" xlink:href=\"#DejaVuSans-6b\"/>\n",
              "     <use x=\"212.548828\" xlink:href=\"#DejaVuSans-3d\"/>\n",
              "     <use x=\"296.337891\" xlink:href=\"#DejaVuSans-41\"/>\n",
              "     <use x=\"364.746094\" xlink:href=\"#DejaVuSans-49\"/>\n",
              "     <use x=\"394.238281\" xlink:href=\"#DejaVuSans-4e\"/>\n",
              "     <use x=\"469.042969\" xlink:href=\"#DejaVuSans-31\"/>\n",
              "    </g>\n",
              "   </g>\n",
              "   <g id=\"text_3\">\n",
              "    <!-- drain=GO21 -->\n",
              "    <g transform=\"translate(89.615 93.147812)scale(0.14 -0.14)\">\n",
              "     <defs>\n",
              "      <path d=\"M 2906 2969 \n",
              "L 2906 4863 \n",
              "L 3481 4863 \n",
              "L 3481 0 \n",
              "L 2906 0 \n",
              "L 2906 525 \n",
              "Q 2725 213 2448 61 \n",
              "Q 2172 -91 1784 -91 \n",
              "Q 1150 -91 751 415 \n",
              "Q 353 922 353 1747 \n",
              "Q 353 2572 751 3078 \n",
              "Q 1150 3584 1784 3584 \n",
              "Q 2172 3584 2448 3432 \n",
              "Q 2725 3281 2906 2969 \n",
              "z\n",
              "M 947 1747 \n",
              "Q 947 1113 1208 752 \n",
              "Q 1469 391 1925 391 \n",
              "Q 2381 391 2643 752 \n",
              "Q 2906 1113 2906 1747 \n",
              "Q 2906 2381 2643 2742 \n",
              "Q 2381 3103 1925 3103 \n",
              "Q 1469 3103 1208 2742 \n",
              "Q 947 2381 947 1747 \n",
              "z\n",
              "\" id=\"DejaVuSans-64\" transform=\"scale(0.015625)\"/>\n",
              "      <path d=\"M 2631 2963 \n",
              "Q 2534 3019 2420 3045 \n",
              "Q 2306 3072 2169 3072 \n",
              "Q 1681 3072 1420 2755 \n",
              "Q 1159 2438 1159 1844 \n",
              "L 1159 0 \n",
              "L 581 0 \n",
              "L 581 3500 \n",
              "L 1159 3500 \n",
              "L 1159 2956 \n",
              "Q 1341 3275 1631 3429 \n",
              "Q 1922 3584 2338 3584 \n",
              "Q 2397 3584 2469 3576 \n",
              "Q 2541 3569 2628 3553 \n",
              "L 2631 2963 \n",
              "z\n",
              "\" id=\"DejaVuSans-72\" transform=\"scale(0.015625)\"/>\n",
              "      <path d=\"M 603 3500 \n",
              "L 1178 3500 \n",
              "L 1178 0 \n",
              "L 603 0 \n",
              "L 603 3500 \n",
              "z\n",
              "M 603 4863 \n",
              "L 1178 4863 \n",
              "L 1178 4134 \n",
              "L 603 4134 \n",
              "L 603 4863 \n",
              "z\n",
              "\" id=\"DejaVuSans-69\" transform=\"scale(0.015625)\"/>\n",
              "      <path d=\"M 3513 2113 \n",
              "L 3513 0 \n",
              "L 2938 0 \n",
              "L 2938 2094 \n",
              "Q 2938 2591 2744 2837 \n",
              "Q 2550 3084 2163 3084 \n",
              "Q 1697 3084 1428 2787 \n",
              "Q 1159 2491 1159 1978 \n",
              "L 1159 0 \n",
              "L 581 0 \n",
              "L 581 3500 \n",
              "L 1159 3500 \n",
              "L 1159 2956 \n",
              "Q 1366 3272 1645 3428 \n",
              "Q 1925 3584 2291 3584 \n",
              "Q 2894 3584 3203 3211 \n",
              "Q 3513 2838 3513 2113 \n",
              "z\n",
              "\" id=\"DejaVuSans-6e\" transform=\"scale(0.015625)\"/>\n",
              "      <path d=\"M 3809 666 \n",
              "L 3809 1919 \n",
              "L 2778 1919 \n",
              "L 2778 2438 \n",
              "L 4434 2438 \n",
              "L 4434 434 \n",
              "Q 4069 175 3628 42 \n",
              "Q 3188 -91 2688 -91 \n",
              "Q 1594 -91 976 548 \n",
              "Q 359 1188 359 2328 \n",
              "Q 359 3472 976 4111 \n",
              "Q 1594 4750 2688 4750 \n",
              "Q 3144 4750 3555 4637 \n",
              "Q 3966 4525 4313 4306 \n",
              "L 4313 3634 \n",
              "Q 3963 3931 3569 4081 \n",
              "Q 3175 4231 2741 4231 \n",
              "Q 1884 4231 1454 3753 \n",
              "Q 1025 3275 1025 2328 \n",
              "Q 1025 1384 1454 906 \n",
              "Q 1884 428 2741 428 \n",
              "Q 3075 428 3337 486 \n",
              "Q 3600 544 3809 666 \n",
              "z\n",
              "\" id=\"DejaVuSans-47\" transform=\"scale(0.015625)\"/>\n",
              "      <path d=\"M 2522 4238 \n",
              "Q 1834 4238 1429 3725 \n",
              "Q 1025 3213 1025 2328 \n",
              "Q 1025 1447 1429 934 \n",
              "Q 1834 422 2522 422 \n",
              "Q 3209 422 3611 934 \n",
              "Q 4013 1447 4013 2328 \n",
              "Q 4013 3213 3611 3725 \n",
              "Q 3209 4238 2522 4238 \n",
              "z\n",
              "M 2522 4750 \n",
              "Q 3503 4750 4090 4092 \n",
              "Q 4678 3434 4678 2328 \n",
              "Q 4678 1225 4090 567 \n",
              "Q 3503 -91 2522 -91 \n",
              "Q 1538 -91 948 565 \n",
              "Q 359 1222 359 2328 \n",
              "Q 359 3434 948 4092 \n",
              "Q 1538 4750 2522 4750 \n",
              "z\n",
              "\" id=\"DejaVuSans-4f\" transform=\"scale(0.015625)\"/>\n",
              "      <path d=\"M 1228 531 \n",
              "L 3431 531 \n",
              "L 3431 0 \n",
              "L 469 0 \n",
              "L 469 531 \n",
              "Q 828 903 1448 1529 \n",
              "Q 2069 2156 2228 2338 \n",
              "Q 2531 2678 2651 2914 \n",
              "Q 2772 3150 2772 3378 \n",
              "Q 2772 3750 2511 3984 \n",
              "Q 2250 4219 1831 4219 \n",
              "Q 1534 4219 1204 4116 \n",
              "Q 875 4013 500 3803 \n",
              "L 500 4441 \n",
              "Q 881 4594 1212 4672 \n",
              "Q 1544 4750 1819 4750 \n",
              "Q 2544 4750 2975 4387 \n",
              "Q 3406 4025 3406 3419 \n",
              "Q 3406 3131 3298 2873 \n",
              "Q 3191 2616 2906 2266 \n",
              "Q 2828 2175 2409 1742 \n",
              "Q 1991 1309 1228 531 \n",
              "z\n",
              "\" id=\"DejaVuSans-32\" transform=\"scale(0.015625)\"/>\n",
              "     </defs>\n",
              "     <use xlink:href=\"#DejaVuSans-64\"/>\n",
              "     <use x=\"63.476562\" xlink:href=\"#DejaVuSans-72\"/>\n",
              "     <use x=\"104.589844\" xlink:href=\"#DejaVuSans-61\"/>\n",
              "     <use x=\"165.869141\" xlink:href=\"#DejaVuSans-69\"/>\n",
              "     <use x=\"193.652344\" xlink:href=\"#DejaVuSans-6e\"/>\n",
              "     <use x=\"257.03125\" xlink:href=\"#DejaVuSans-3d\"/>\n",
              "     <use x=\"340.820312\" xlink:href=\"#DejaVuSans-47\"/>\n",
              "     <use x=\"418.310547\" xlink:href=\"#DejaVuSans-4f\"/>\n",
              "     <use x=\"497.021484\" xlink:href=\"#DejaVuSans-32\"/>\n",
              "     <use x=\"560.644531\" xlink:href=\"#DejaVuSans-31\"/>\n",
              "    </g>\n",
              "   </g>\n",
              "   <g id=\"text_4\">\n",
              "    <!-- source=GO23 -->\n",
              "    <g transform=\"translate(84.365 22.988437)scale(0.14 -0.14)\">\n",
              "     <defs>\n",
              "      <path d=\"M 2834 3397 \n",
              "L 2834 2853 \n",
              "Q 2591 2978 2328 3040 \n",
              "Q 2066 3103 1784 3103 \n",
              "Q 1356 3103 1142 2972 \n",
              "Q 928 2841 928 2578 \n",
              "Q 928 2378 1081 2264 \n",
              "Q 1234 2150 1697 2047 \n",
              "L 1894 2003 \n",
              "Q 2506 1872 2764 1633 \n",
              "Q 3022 1394 3022 966 \n",
              "Q 3022 478 2636 193 \n",
              "Q 2250 -91 1575 -91 \n",
              "Q 1294 -91 989 -36 \n",
              "Q 684 19 347 128 \n",
              "L 347 722 \n",
              "Q 666 556 975 473 \n",
              "Q 1284 391 1588 391 \n",
              "Q 1994 391 2212 530 \n",
              "Q 2431 669 2431 922 \n",
              "Q 2431 1156 2273 1281 \n",
              "Q 2116 1406 1581 1522 \n",
              "L 1381 1569 \n",
              "Q 847 1681 609 1914 \n",
              "Q 372 2147 372 2553 \n",
              "Q 372 3047 722 3315 \n",
              "Q 1072 3584 1716 3584 \n",
              "Q 2034 3584 2315 3537 \n",
              "Q 2597 3491 2834 3397 \n",
              "z\n",
              "\" id=\"DejaVuSans-73\" transform=\"scale(0.015625)\"/>\n",
              "      <path d=\"M 1959 3097 \n",
              "Q 1497 3097 1228 2736 \n",
              "Q 959 2375 959 1747 \n",
              "Q 959 1119 1226 758 \n",
              "Q 1494 397 1959 397 \n",
              "Q 2419 397 2687 759 \n",
              "Q 2956 1122 2956 1747 \n",
              "Q 2956 2369 2687 2733 \n",
              "Q 2419 3097 1959 3097 \n",
              "z\n",
              "M 1959 3584 \n",
              "Q 2709 3584 3137 3096 \n",
              "Q 3566 2609 3566 1747 \n",
              "Q 3566 888 3137 398 \n",
              "Q 2709 -91 1959 -91 \n",
              "Q 1206 -91 779 398 \n",
              "Q 353 888 353 1747 \n",
              "Q 353 2609 779 3096 \n",
              "Q 1206 3584 1959 3584 \n",
              "z\n",
              "\" id=\"DejaVuSans-6f\" transform=\"scale(0.015625)\"/>\n",
              "      <path d=\"M 3122 3366 \n",
              "L 3122 2828 \n",
              "Q 2878 2963 2633 3030 \n",
              "Q 2388 3097 2138 3097 \n",
              "Q 1578 3097 1268 2742 \n",
              "Q 959 2388 959 1747 \n",
              "Q 959 1106 1268 751 \n",
              "Q 1578 397 2138 397 \n",
              "Q 2388 397 2633 464 \n",
              "Q 2878 531 3122 666 \n",
              "L 3122 134 \n",
              "Q 2881 22 2623 -34 \n",
              "Q 2366 -91 2075 -91 \n",
              "Q 1284 -91 818 406 \n",
              "Q 353 903 353 1747 \n",
              "Q 353 2603 823 3093 \n",
              "Q 1294 3584 2113 3584 \n",
              "Q 2378 3584 2631 3529 \n",
              "Q 2884 3475 3122 3366 \n",
              "z\n",
              "\" id=\"DejaVuSans-63\" transform=\"scale(0.015625)\"/>\n",
              "      <path d=\"M 2597 2516 \n",
              "Q 3050 2419 3304 2112 \n",
              "Q 3559 1806 3559 1356 \n",
              "Q 3559 666 3084 287 \n",
              "Q 2609 -91 1734 -91 \n",
              "Q 1441 -91 1130 -33 \n",
              "Q 819 25 488 141 \n",
              "L 488 750 \n",
              "Q 750 597 1062 519 \n",
              "Q 1375 441 1716 441 \n",
              "Q 2309 441 2620 675 \n",
              "Q 2931 909 2931 1356 \n",
              "Q 2931 1769 2642 2001 \n",
              "Q 2353 2234 1838 2234 \n",
              "L 1294 2234 \n",
              "L 1294 2753 \n",
              "L 1863 2753 \n",
              "Q 2328 2753 2575 2939 \n",
              "Q 2822 3125 2822 3475 \n",
              "Q 2822 3834 2567 4026 \n",
              "Q 2313 4219 1838 4219 \n",
              "Q 1578 4219 1281 4162 \n",
              "Q 984 4106 628 3988 \n",
              "L 628 4550 \n",
              "Q 988 4650 1302 4700 \n",
              "Q 1616 4750 1894 4750 \n",
              "Q 2613 4750 3031 4423 \n",
              "Q 3450 4097 3450 3541 \n",
              "Q 3450 3153 3228 2886 \n",
              "Q 3006 2619 2597 2516 \n",
              "z\n",
              "\" id=\"DejaVuSans-33\" transform=\"scale(0.015625)\"/>\n",
              "     </defs>\n",
              "     <use xlink:href=\"#DejaVuSans-73\"/>\n",
              "     <use x=\"52.099609\" xlink:href=\"#DejaVuSans-6f\"/>\n",
              "     <use x=\"113.28125\" xlink:href=\"#DejaVuSans-75\"/>\n",
              "     <use x=\"176.660156\" xlink:href=\"#DejaVuSans-72\"/>\n",
              "     <use x=\"215.523438\" xlink:href=\"#DejaVuSans-63\"/>\n",
              "     <use x=\"270.503906\" xlink:href=\"#DejaVuSans-65\"/>\n",
              "     <use x=\"332.027344\" xlink:href=\"#DejaVuSans-3d\"/>\n",
              "     <use x=\"415.816406\" xlink:href=\"#DejaVuSans-47\"/>\n",
              "     <use x=\"493.306641\" xlink:href=\"#DejaVuSans-4f\"/>\n",
              "     <use x=\"572.017578\" xlink:href=\"#DejaVuSans-32\"/>\n",
              "     <use x=\"635.640625\" xlink:href=\"#DejaVuSans-33\"/>\n",
              "    </g>\n",
              "   </g>\n",
              "  </g>\n",
              " </g>\n",
              " <defs>\n",
              "  <clipPath id=\"pf33f73f1cf\">\n",
              "   <rect height=\"90.95\" width=\"182.835\" x=\"20.421087\" y=\"7.2\"/>\n",
              "  </clipPath>\n",
              " </defs>\n",
              "</svg>\n"
            ],
            "text/plain": [
              "<schemdraw.backends.mpl.Figure object at 0x7f5e0873f130>"
            ]
          },
          "execution_count": 18,
          "metadata": {},
          "output_type": "execute_result"
        }
      ]
    },
    {
      "cell_type": "markdown",
      "metadata": {
        "id": "sIcDe5OrUUg9"
      },
      "source": [
        "Hint: To cancel out the leakage current and shunt resistance, you may need to do a subtraction:\n",
        "\n",
        "$I_{ds} = I_{GO23} - I_{GO23}|_{V_{gs} = 0} $"
      ]
    },
    {
      "cell_type": "markdown",
      "metadata": {
        "id": "9p03K2D4UUg-"
      },
      "source": [
        "Note: Measure drain of PFET in this lab. \n",
        "Also think about the difference of $V_{gs}$ between PMOS and NMOS?"
      ]
    },
    {
      "cell_type": "markdown",
      "metadata": {
        "id": "aaekWVtCUUg-"
      },
      "source": [
        "* You have to choose the input voltage demultiplexer by sending a configuration event (make sure LED1 blinks):"
      ]
    },
    {
      "cell_type": "code",
      "metadata": {
        "id": "SDfsXwRLUUg-"
      },
      "source": [
        "# Configure PFET, set the input voltage demultiplexer by AER event. \n",
        "# Note selectlines we should choose for the PFET\n",
        "events = [pyplane.Coach.generate_aerc_event( \\\n",
        "    pyplane.Coach.CurrentOutputSelect.SelectLine5, \\\n",
        "    pyplane.Coach.VoltageOutputSelect.NoneSelected, \\\n",
        "    pyplane.Coach.VoltageInputSelect.SelectLine1, \\\n",
        "    pyplane.Coach.SynapseSelect.NoneSelected, 0)]\n",
        "\n",
        "p.send_coach_events(events)"
      ],
      "execution_count": null,
      "outputs": []
    },
    {
      "cell_type": "markdown",
      "metadata": {
        "id": "TtPZT2EYUUhB"
      },
      "source": [
        "* Check the configuration is correct. If the measured result is not as expected, try sending the event again."
      ]
    },
    {
      "cell_type": "code",
      "metadata": {
        "id": "fT8q2uP7UUhC",
        "outputId": "dfb5c483-5188-4293-83c4-d7920c2038fc"
      },
      "source": [
        "# set trial voltages\n",
        "# set bulk voltage\n",
        "p.set_voltage(pyplane.DacChannel.AIN1, 1.8)\n",
        "Vb_p = p.get_set_voltage(pyplane.DacChannel.AIN1)\n",
        "print(\"The bulk voltage is set to {} V\".format(Vb_p))\n",
        "time.sleep(0.1)  # wait 0.1s for it to settle\n",
        "\n",
        "# set source voltage\n",
        "p.set_voltage(pyplane.DacChannel.GO23, 1.8)\n",
        "Vs_p = p.get_set_voltage(pyplane.DacChannel.GO23)\n",
        "print(\"The source voltage is set to {} V\".format(Vs_p))\n",
        "time.sleep(0.1)  # wait 0.1s for it to settle\n",
        "\n",
        "# set drain voltage\n",
        "p.set_voltage(pyplane.DacChannel.GO21, 0.0)\n",
        "Vd_p = p.get_set_voltage(pyplane.DacChannel.GO21)\n",
        "print(\"The drain voltage is set to {} V\".format(Vd_p))\n",
        "time.sleep(0.1)  # wait for it to settle\n",
        "\n",
        "# set gate voltage\n",
        "p.set_voltage(pyplane.DacChannel.AIN0, 0.0)\n",
        "Vg_p = p.get_set_voltage(pyplane.DacChannel.AIN0)\n",
        "print(\"The gate voltage is set to {} V\".format(Vg_p))"
      ],
      "execution_count": null,
      "outputs": [
        {
          "name": "stdout",
          "output_type": "stream",
          "text": [
            "The bulk voltage is set to 1.7982406616210938 V\n",
            "The source voltage is set to 1.7982406616210938 V\n",
            "The drain voltage is set to 0.0 V\n",
            "The gate voltage is set to 0.0 V\n"
          ]
        }
      ]
    },
    {
      "cell_type": "code",
      "metadata": {
        "id": "cXKcDvbJUUhD",
        "outputId": "fd435506-b1de-48e8-b98d-78c4ec850fd1"
      },
      "source": [
        "# read I_{ds}\n",
        "Is_p = p.read_current(pyplane.AdcChannel.GO21_N)\n",
        "print(\"The measured source current of PMOS is {} A\".format(Is_p))\n",
        "\n",
        "time.sleep(0.1)  # wait for it to settle\n",
        "\n",
        "Id_p = p.read_current(pyplane.AdcChannel.GO23)\n",
        "print(\"The measured drain current of PMOS is {} A\".format(Id_p))"
      ],
      "execution_count": null,
      "outputs": [
        {
          "name": "stdout",
          "output_type": "stream",
          "text": [
            "The measured source current of PMOS is 9.970702876671567e-07 A\n",
            "The measured drain current of PMOS is 9.970702876671567e-07 A\n"
          ]
        }
      ]
    },
    {
      "cell_type": "markdown",
      "metadata": {
        "id": "AIfYzbouUUhD"
      },
      "source": [
        "# 5 Ohmic region"
      ]
    },
    {
      "cell_type": "markdown",
      "metadata": {
        "id": "M4jkiymsUUhE"
      },
      "source": [
        "In this experiment you will characterize the *linear* dependence of the current on the gate\n",
        "voltage in the strong-inversion ohmic region."
      ]
    },
    {
      "cell_type": "markdown",
      "metadata": {
        "id": "eqVntlKNUUhE"
      },
      "source": [
        "## 5.1 N-FET"
      ]
    },
    {
      "cell_type": "code",
      "metadata": {
        "id": "h8y4a9g3UUhE",
        "outputId": "cbc3b26d-6202-44de-c03c-05366397c31b"
      },
      "source": [
        "# uses schemdraw, you may have to install it in order to run it on your PC\n",
        "import schemdraw\n",
        "import schemdraw.elements as elm\n",
        "d = schemdraw.Drawing()\n",
        "Q = d.add(elm.NFet, reverse=True)\n",
        "d.add(elm.Dot, xy=Q.gate, lftlabel='gate=AIN0')\n",
        "d.add(elm.Dot, xy=Q.drain, toplabel='drain=GO22')\n",
        "d.add(elm.Dot, xy=Q.source, botlabel='source=GO20')\n",
        "d.draw()"
      ],
      "execution_count": null,
      "outputs": [
        {
          "data": {
            "image/png": "[encoded data removed]",
            "image/svg+xml": [
              "<?xml version=\"1.0\" encoding=\"utf-8\" standalone=\"no\"?>\n",
              "<!DOCTYPE svg PUBLIC \"-//W3C//DTD SVG 1.1//EN\"\n",
              "  \"http://www.w3.org/Graphics/SVG/1.1/DTD/svg11.dtd\">\n",
              "<svg height=\"105.35pt\" version=\"1.1\" viewBox=\"0 0 189.464375 105.35\" width=\"189.464375pt\" xmlns=\"http://www.w3.org/2000/svg\" xmlns:xlink=\"http://www.w3.org/1999/xlink\">\n",
              " <metadata>\n",
              "  <rdf:RDF xmlns:cc=\"http://creativecommons.org/ns#\" xmlns:dc=\"http://purl.org/dc/elements/1.1/\" xmlns:rdf=\"http://www.w3.org/1999/02/22-rdf-syntax-ns#\">\n",
              "   <cc:Work>\n",
              "    <dc:type rdf:resource=\"http://purl.org/dc/dcmitype/StillImage\"/>\n",
              "    <dc:date>2021-10-17T18:08:06.573758</dc:date>\n",
              "    <dc:format>image/svg+xml</dc:format>\n",
              "    <dc:creator>\n",
              "     <cc:Agent>\n",
              "      <dc:title>Matplotlib v3.4.3, https://matplotlib.org/</dc:title>\n",
              "     </cc:Agent>\n",
              "    </dc:creator>\n",
              "   </cc:Work>\n",
              "  </rdf:RDF>\n",
              " </metadata>\n",
              " <defs>\n",
              "  <style type=\"text/css\">*{stroke-linecap:butt;stroke-linejoin:round;}</style>\n",
              " </defs>\n",
              " <g id=\"figure_1\">\n",
              "  <g id=\"patch_1\">\n",
              "   <path d=\"M 0 105.35 \n",
              "L 189.464375 105.35 \n",
              "L 189.464375 0 \n",
              "L 0 0 \n",
              "z\n",
              "\" style=\"fill:none;\"/>\n",
              "  </g>\n",
              "  <g id=\"axes_1\">\n",
              "   <g id=\"line2d_1\">\n",
              "    <path clip-path=\"url(#pc8e34a2b8b)\" d=\"M 133.314688 77.155 \n",
              "L 133.314688 64.405 \n",
              "L 112.914688 64.405 \n",
              "L 112.914688 44.005 \n",
              "L 133.314688 44.005 \n",
              "L 133.314688 31.255 \n",
              "\" style=\"fill:none;stroke:#000000;stroke-linecap:round;stroke-width:2;\"/>\n",
              "   </g>\n",
              "   <g id=\"line2d_2\">\n",
              "    <path clip-path=\"url(#pc8e34a2b8b)\" d=\"M 105.264688 64.405 \n",
              "L 105.264688 44.005 \n",
              "\" style=\"fill:none;stroke:#000000;stroke-linecap:round;stroke-width:2;\"/>\n",
              "   </g>\n",
              "   <g id=\"line2d_3\">\n",
              "    <path clip-path=\"url(#pc8e34a2b8b)\" d=\"M 88.944688 54.205 \n",
              "L 105.264688 54.205 \n",
              "\" style=\"fill:none;stroke:#000000;stroke-linecap:round;stroke-width:2;\"/>\n",
              "   </g>\n",
              "   <g id=\"patch_2\">\n",
              "    <path clip-path=\"url(#pc8e34a2b8b)\" d=\"M 88.944688 56.5 \n",
              "C 89.553329 56.5 90.137123 56.258184 90.567498 55.82781 \n",
              "C 90.997872 55.397436 91.239688 54.813641 91.239688 54.205 \n",
              "C 91.239688 53.596359 90.997872 53.012564 90.567498 52.58219 \n",
              "C 90.137123 52.151816 89.553329 51.91 88.944688 51.91 \n",
              "C 88.336046 51.91 87.752252 52.151816 87.321877 52.58219 \n",
              "C 86.891503 53.012564 86.649688 53.596359 86.649688 54.205 \n",
              "C 86.649688 54.813641 86.891503 55.397436 87.321877 55.82781 \n",
              "C 87.752252 56.258184 88.336046 56.5 88.944688 56.5 \n",
              "z\n",
              "\" style=\"stroke:#000000;stroke-linejoin:miter;stroke-width:2;\"/>\n",
              "   </g>\n",
              "   <g id=\"patch_3\">\n",
              "    <path clip-path=\"url(#pc8e34a2b8b)\" d=\"M 133.314688 33.55 \n",
              "C 133.923329 33.55 134.507123 33.308184 134.937498 32.87781 \n",
              "C 135.367872 32.447436 135.609688 31.863641 135.609688 31.255 \n",
              "C 135.609688 30.646359 135.367872 30.062564 134.937498 29.63219 \n",
              "C 134.507123 29.201816 133.923329 28.96 133.314688 28.96 \n",
              "C 132.706046 28.96 132.122252 29.201816 131.691877 29.63219 \n",
              "C 131.261503 30.062564 131.019688 30.646359 131.019688 31.255 \n",
              "C 131.019688 31.863641 131.261503 32.447436 131.691877 32.87781 \n",
              "C 132.122252 33.308184 132.706046 33.55 133.314688 33.55 \n",
              "z\n",
              "\" style=\"stroke:#000000;stroke-linejoin:miter;stroke-width:2;\"/>\n",
              "   </g>\n",
              "   <g id=\"patch_4\">\n",
              "    <path clip-path=\"url(#pc8e34a2b8b)\" d=\"M 133.314688 79.45 \n",
              "C 133.923329 79.45 134.507123 79.208184 134.937498 78.77781 \n",
              "C 135.367872 78.347436 135.609688 77.763641 135.609688 77.155 \n",
              "C 135.609688 76.546359 135.367872 75.962564 134.937498 75.53219 \n",
              "C 134.507123 75.101816 133.923329 74.86 133.314688 74.86 \n",
              "C 132.706046 74.86 132.122252 75.101816 131.691877 75.53219 \n",
              "C 131.261503 75.962564 131.019688 76.546359 131.019688 77.155 \n",
              "C 131.019688 77.763641 131.261503 78.347436 131.691877 78.77781 \n",
              "C 132.122252 79.208184 132.706046 79.45 133.314688 79.45 \n",
              "z\n",
              "\" style=\"stroke:#000000;stroke-linejoin:miter;stroke-width:2;\"/>\n",
              "   </g>\n",
              "   <g id=\"text_1\">\n",
              "    <!-- gate=AIN0 -->\n",
              "    <g transform=\"translate(7.2 58.068125)scale(0.14 -0.14)\">\n",
              "     <defs>\n",
              "      <path d=\"M 2906 1791 \n",
              "Q 2906 2416 2648 2759 \n",
              "Q 2391 3103 1925 3103 \n",
              "Q 1463 3103 1205 2759 \n",
              "Q 947 2416 947 1791 \n",
              "Q 947 1169 1205 825 \n",
              "Q 1463 481 1925 481 \n",
              "Q 2391 481 2648 825 \n",
              "Q 2906 1169 2906 1791 \n",
              "z\n",
              "M 3481 434 \n",
              "Q 3481 -459 3084 -895 \n",
              "Q 2688 -1331 1869 -1331 \n",
              "Q 1566 -1331 1297 -1286 \n",
              "Q 1028 -1241 775 -1147 \n",
              "L 775 -588 \n",
              "Q 1028 -725 1275 -790 \n",
              "Q 1522 -856 1778 -856 \n",
              "Q 2344 -856 2625 -561 \n",
              "Q 2906 -266 2906 331 \n",
              "L 2906 616 \n",
              "Q 2728 306 2450 153 \n",
              "Q 2172 0 1784 0 \n",
              "Q 1141 0 747 490 \n",
              "Q 353 981 353 1791 \n",
              "Q 353 2603 747 3093 \n",
              "Q 1141 3584 1784 3584 \n",
              "Q 2172 3584 2450 3431 \n",
              "Q 2728 3278 2906 2969 \n",
              "L 2906 3500 \n",
              "L 3481 3500 \n",
              "L 3481 434 \n",
              "z\n",
              "\" id=\"DejaVuSans-67\" transform=\"scale(0.015625)\"/>\n",
              "      <path d=\"M 2194 1759 \n",
              "Q 1497 1759 1228 1600 \n",
              "Q 959 1441 959 1056 \n",
              "Q 959 750 1161 570 \n",
              "Q 1363 391 1709 391 \n",
              "Q 2188 391 2477 730 \n",
              "Q 2766 1069 2766 1631 \n",
              "L 2766 1759 \n",
              "L 2194 1759 \n",
              "z\n",
              "M 3341 1997 \n",
              "L 3341 0 \n",
              "L 2766 0 \n",
              "L 2766 531 \n",
              "Q 2569 213 2275 61 \n",
              "Q 1981 -91 1556 -91 \n",
              "Q 1019 -91 701 211 \n",
              "Q 384 513 384 1019 \n",
              "Q 384 1609 779 1909 \n",
              "Q 1175 2209 1959 2209 \n",
              "L 2766 2209 \n",
              "L 2766 2266 \n",
              "Q 2766 2663 2505 2880 \n",
              "Q 2244 3097 1772 3097 \n",
              "Q 1472 3097 1187 3025 \n",
              "Q 903 2953 641 2809 \n",
              "L 641 3341 \n",
              "Q 956 3463 1253 3523 \n",
              "Q 1550 3584 1831 3584 \n",
              "Q 2591 3584 2966 3190 \n",
              "Q 3341 2797 3341 1997 \n",
              "z\n",
              "\" id=\"DejaVuSans-61\" transform=\"scale(0.015625)\"/>\n",
              "      <path d=\"M 1172 4494 \n",
              "L 1172 3500 \n",
              "L 2356 3500 \n",
              "L 2356 3053 \n",
              "L 1172 3053 \n",
              "L 1172 1153 \n",
              "Q 1172 725 1289 603 \n",
              "Q 1406 481 1766 481 \n",
              "L 2356 481 \n",
              "L 2356 0 \n",
              "L 1766 0 \n",
              "Q 1100 0 847 248 \n",
              "Q 594 497 594 1153 \n",
              "L 594 3053 \n",
              "L 172 3053 \n",
              "L 172 3500 \n",
              "L 594 3500 \n",
              "L 594 4494 \n",
              "L 1172 4494 \n",
              "z\n",
              "\" id=\"DejaVuSans-74\" transform=\"scale(0.015625)\"/>\n",
              "      <path d=\"M 3597 1894 \n",
              "L 3597 1613 \n",
              "L 953 1613 \n",
              "Q 991 1019 1311 708 \n",
              "Q 1631 397 2203 397 \n",
              "Q 2534 397 2845 478 \n",
              "Q 3156 559 3463 722 \n",
              "L 3463 178 \n",
              "Q 3153 47 2828 -22 \n",
              "Q 2503 -91 2169 -91 \n",
              "Q 1331 -91 842 396 \n",
              "Q 353 884 353 1716 \n",
              "Q 353 2575 817 3079 \n",
              "Q 1281 3584 2069 3584 \n",
              "Q 2775 3584 3186 3129 \n",
              "Q 3597 2675 3597 1894 \n",
              "z\n",
              "M 3022 2063 \n",
              "Q 3016 2534 2758 2815 \n",
              "Q 2500 3097 2075 3097 \n",
              "Q 1594 3097 1305 2825 \n",
              "Q 1016 2553 972 2059 \n",
              "L 3022 2063 \n",
              "z\n",
              "\" id=\"DejaVuSans-65\" transform=\"scale(0.015625)\"/>\n",
              "      <path d=\"M 678 2906 \n",
              "L 4684 2906 \n",
              "L 4684 2381 \n",
              "L 678 2381 \n",
              "L 678 2906 \n",
              "z\n",
              "M 678 1631 \n",
              "L 4684 1631 \n",
              "L 4684 1100 \n",
              "L 678 1100 \n",
              "L 678 1631 \n",
              "z\n",
              "\" id=\"DejaVuSans-3d\" transform=\"scale(0.015625)\"/>\n",
              "      <path d=\"M 2188 4044 \n",
              "L 1331 1722 \n",
              "L 3047 1722 \n",
              "L 2188 4044 \n",
              "z\n",
              "M 1831 4666 \n",
              "L 2547 4666 \n",
              "L 4325 0 \n",
              "L 3669 0 \n",
              "L 3244 1197 \n",
              "L 1141 1197 \n",
              "L 716 0 \n",
              "L 50 0 \n",
              "L 1831 4666 \n",
              "z\n",
              "\" id=\"DejaVuSans-41\" transform=\"scale(0.015625)\"/>\n",
              "      <path d=\"M 628 4666 \n",
              "L 1259 4666 \n",
              "L 1259 0 \n",
              "L 628 0 \n",
              "L 628 4666 \n",
              "z\n",
              "\" id=\"DejaVuSans-49\" transform=\"scale(0.015625)\"/>\n",
              "      <path d=\"M 628 4666 \n",
              "L 1478 4666 \n",
              "L 3547 763 \n",
              "L 3547 4666 \n",
              "L 4159 4666 \n",
              "L 4159 0 \n",
              "L 3309 0 \n",
              "L 1241 3903 \n",
              "L 1241 0 \n",
              "L 628 0 \n",
              "L 628 4666 \n",
              "z\n",
              "\" id=\"DejaVuSans-4e\" transform=\"scale(0.015625)\"/>\n",
              "      <path d=\"M 2034 4250 \n",
              "Q 1547 4250 1301 3770 \n",
              "Q 1056 3291 1056 2328 \n",
              "Q 1056 1369 1301 889 \n",
              "Q 1547 409 2034 409 \n",
              "Q 2525 409 2770 889 \n",
              "Q 3016 1369 3016 2328 \n",
              "Q 3016 3291 2770 3770 \n",
              "Q 2525 4250 2034 4250 \n",
              "z\n",
              "M 2034 4750 \n",
              "Q 2819 4750 3233 4129 \n",
              "Q 3647 3509 3647 2328 \n",
              "Q 3647 1150 3233 529 \n",
              "Q 2819 -91 2034 -91 \n",
              "Q 1250 -91 836 529 \n",
              "Q 422 1150 422 2328 \n",
              "Q 422 3509 836 4129 \n",
              "Q 1250 4750 2034 4750 \n",
              "z\n",
              "\" id=\"DejaVuSans-30\" transform=\"scale(0.015625)\"/>\n",
              "     </defs>\n",
              "     <use xlink:href=\"#DejaVuSans-67\"/>\n",
              "     <use x=\"63.476562\" xlink:href=\"#DejaVuSans-61\"/>\n",
              "     <use x=\"124.755859\" xlink:href=\"#DejaVuSans-74\"/>\n",
              "     <use x=\"163.964844\" xlink:href=\"#DejaVuSans-65\"/>\n",
              "     <use x=\"225.488281\" xlink:href=\"#DejaVuSans-3d\"/>\n",
              "     <use x=\"309.277344\" xlink:href=\"#DejaVuSans-41\"/>\n",
              "     <use x=\"377.685547\" xlink:href=\"#DejaVuSans-49\"/>\n",
              "     <use x=\"407.177734\" xlink:href=\"#DejaVuSans-4e\"/>\n",
              "     <use x=\"481.982422\" xlink:href=\"#DejaVuSans-30\"/>\n",
              "    </g>\n",
              "   </g>\n",
              "   <g id=\"text_2\">\n",
              "    <!-- drain=GO22 -->\n",
              "    <g transform=\"translate(89.615 22.988437)scale(0.14 -0.14)\">\n",
              "     <defs>\n",
              "      <path d=\"M 2906 2969 \n",
              "L 2906 4863 \n",
              "L 3481 4863 \n",
              "L 3481 0 \n",
              "L 2906 0 \n",
              "L 2906 525 \n",
              "Q 2725 213 2448 61 \n",
              "Q 2172 -91 1784 -91 \n",
              "Q 1150 -91 751 415 \n",
              "Q 353 922 353 1747 \n",
              "Q 353 2572 751 3078 \n",
              "Q 1150 3584 1784 3584 \n",
              "Q 2172 3584 2448 3432 \n",
              "Q 2725 3281 2906 2969 \n",
              "z\n",
              "M 947 1747 \n",
              "Q 947 1113 1208 752 \n",
              "Q 1469 391 1925 391 \n",
              "Q 2381 391 2643 752 \n",
              "Q 2906 1113 2906 1747 \n",
              "Q 2906 2381 2643 2742 \n",
              "Q 2381 3103 1925 3103 \n",
              "Q 1469 3103 1208 2742 \n",
              "Q 947 2381 947 1747 \n",
              "z\n",
              "\" id=\"DejaVuSans-64\" transform=\"scale(0.015625)\"/>\n",
              "      <path d=\"M 2631 2963 \n",
              "Q 2534 3019 2420 3045 \n",
              "Q 2306 3072 2169 3072 \n",
              "Q 1681 3072 1420 2755 \n",
              "Q 1159 2438 1159 1844 \n",
              "L 1159 0 \n",
              "L 581 0 \n",
              "L 581 3500 \n",
              "L 1159 3500 \n",
              "L 1159 2956 \n",
              "Q 1341 3275 1631 3429 \n",
              "Q 1922 3584 2338 3584 \n",
              "Q 2397 3584 2469 3576 \n",
              "Q 2541 3569 2628 3553 \n",
              "L 2631 2963 \n",
              "z\n",
              "\" id=\"DejaVuSans-72\" transform=\"scale(0.015625)\"/>\n",
              "      <path d=\"M 603 3500 \n",
              "L 1178 3500 \n",
              "L 1178 0 \n",
              "L 603 0 \n",
              "L 603 3500 \n",
              "z\n",
              "M 603 4863 \n",
              "L 1178 4863 \n",
              "L 1178 4134 \n",
              "L 603 4134 \n",
              "L 603 4863 \n",
              "z\n",
              "\" id=\"DejaVuSans-69\" transform=\"scale(0.015625)\"/>\n",
              "      <path d=\"M 3513 2113 \n",
              "L 3513 0 \n",
              "L 2938 0 \n",
              "L 2938 2094 \n",
              "Q 2938 2591 2744 2837 \n",
              "Q 2550 3084 2163 3084 \n",
              "Q 1697 3084 1428 2787 \n",
              "Q 1159 2491 1159 1978 \n",
              "L 1159 0 \n",
              "L 581 0 \n",
              "L 581 3500 \n",
              "L 1159 3500 \n",
              "L 1159 2956 \n",
              "Q 1366 3272 1645 3428 \n",
              "Q 1925 3584 2291 3584 \n",
              "Q 2894 3584 3203 3211 \n",
              "Q 3513 2838 3513 2113 \n",
              "z\n",
              "\" id=\"DejaVuSans-6e\" transform=\"scale(0.015625)\"/>\n",
              "      <path d=\"M 3809 666 \n",
              "L 3809 1919 \n",
              "L 2778 1919 \n",
              "L 2778 2438 \n",
              "L 4434 2438 \n",
              "L 4434 434 \n",
              "Q 4069 175 3628 42 \n",
              "Q 3188 -91 2688 -91 \n",
              "Q 1594 -91 976 548 \n",
              "Q 359 1188 359 2328 \n",
              "Q 359 3472 976 4111 \n",
              "Q 1594 4750 2688 4750 \n",
              "Q 3144 4750 3555 4637 \n",
              "Q 3966 4525 4313 4306 \n",
              "L 4313 3634 \n",
              "Q 3963 3931 3569 4081 \n",
              "Q 3175 4231 2741 4231 \n",
              "Q 1884 4231 1454 3753 \n",
              "Q 1025 3275 1025 2328 \n",
              "Q 1025 1384 1454 906 \n",
              "Q 1884 428 2741 428 \n",
              "Q 3075 428 3337 486 \n",
              "Q 3600 544 3809 666 \n",
              "z\n",
              "\" id=\"DejaVuSans-47\" transform=\"scale(0.015625)\"/>\n",
              "      <path d=\"M 2522 4238 \n",
              "Q 1834 4238 1429 3725 \n",
              "Q 1025 3213 1025 2328 \n",
              "Q 1025 1447 1429 934 \n",
              "Q 1834 422 2522 422 \n",
              "Q 3209 422 3611 934 \n",
              "Q 4013 1447 4013 2328 \n",
              "Q 4013 3213 3611 3725 \n",
              "Q 3209 4238 2522 4238 \n",
              "z\n",
              "M 2522 4750 \n",
              "Q 3503 4750 4090 4092 \n",
              "Q 4678 3434 4678 2328 \n",
              "Q 4678 1225 4090 567 \n",
              "Q 3503 -91 2522 -91 \n",
              "Q 1538 -91 948 565 \n",
              "Q 359 1222 359 2328 \n",
              "Q 359 3434 948 4092 \n",
              "Q 1538 4750 2522 4750 \n",
              "z\n",
              "\" id=\"DejaVuSans-4f\" transform=\"scale(0.015625)\"/>\n",
              "      <path d=\"M 1228 531 \n",
              "L 3431 531 \n",
              "L 3431 0 \n",
              "L 469 0 \n",
              "L 469 531 \n",
              "Q 828 903 1448 1529 \n",
              "Q 2069 2156 2228 2338 \n",
              "Q 2531 2678 2651 2914 \n",
              "Q 2772 3150 2772 3378 \n",
              "Q 2772 3750 2511 3984 \n",
              "Q 2250 4219 1831 4219 \n",
              "Q 1534 4219 1204 4116 \n",
              "Q 875 4013 500 3803 \n",
              "L 500 4441 \n",
              "Q 881 4594 1212 4672 \n",
              "Q 1544 4750 1819 4750 \n",
              "Q 2544 4750 2975 4387 \n",
              "Q 3406 4025 3406 3419 \n",
              "Q 3406 3131 3298 2873 \n",
              "Q 3191 2616 2906 2266 \n",
              "Q 2828 2175 2409 1742 \n",
              "Q 1991 1309 1228 531 \n",
              "z\n",
              "\" id=\"DejaVuSans-32\" transform=\"scale(0.015625)\"/>\n",
              "     </defs>\n",
              "     <use xlink:href=\"#DejaVuSans-64\"/>\n",
              "     <use x=\"63.476562\" xlink:href=\"#DejaVuSans-72\"/>\n",
              "     <use x=\"104.589844\" xlink:href=\"#DejaVuSans-61\"/>\n",
              "     <use x=\"165.869141\" xlink:href=\"#DejaVuSans-69\"/>\n",
              "     <use x=\"193.652344\" xlink:href=\"#DejaVuSans-6e\"/>\n",
              "     <use x=\"257.03125\" xlink:href=\"#DejaVuSans-3d\"/>\n",
              "     <use x=\"340.820312\" xlink:href=\"#DejaVuSans-47\"/>\n",
              "     <use x=\"418.310547\" xlink:href=\"#DejaVuSans-4f\"/>\n",
              "     <use x=\"497.021484\" xlink:href=\"#DejaVuSans-32\"/>\n",
              "     <use x=\"560.644531\" xlink:href=\"#DejaVuSans-32\"/>\n",
              "    </g>\n",
              "   </g>\n",
              "   <g id=\"text_3\">\n",
              "    <!-- source=GO20 -->\n",
              "    <g transform=\"translate(84.365 93.147812)scale(0.14 -0.14)\">\n",
              "     <defs>\n",
              "      <path d=\"M 2834 3397 \n",
              "L 2834 2853 \n",
              "Q 2591 2978 2328 3040 \n",
              "Q 2066 3103 1784 3103 \n",
              "Q 1356 3103 1142 2972 \n",
              "Q 928 2841 928 2578 \n",
              "Q 928 2378 1081 2264 \n",
              "Q 1234 2150 1697 2047 \n",
              "L 1894 2003 \n",
              "Q 2506 1872 2764 1633 \n",
              "Q 3022 1394 3022 966 \n",
              "Q 3022 478 2636 193 \n",
              "Q 2250 -91 1575 -91 \n",
              "Q 1294 -91 989 -36 \n",
              "Q 684 19 347 128 \n",
              "L 347 722 \n",
              "Q 666 556 975 473 \n",
              "Q 1284 391 1588 391 \n",
              "Q 1994 391 2212 530 \n",
              "Q 2431 669 2431 922 \n",
              "Q 2431 1156 2273 1281 \n",
              "Q 2116 1406 1581 1522 \n",
              "L 1381 1569 \n",
              "Q 847 1681 609 1914 \n",
              "Q 372 2147 372 2553 \n",
              "Q 372 3047 722 3315 \n",
              "Q 1072 3584 1716 3584 \n",
              "Q 2034 3584 2315 3537 \n",
              "Q 2597 3491 2834 3397 \n",
              "z\n",
              "\" id=\"DejaVuSans-73\" transform=\"scale(0.015625)\"/>\n",
              "      <path d=\"M 1959 3097 \n",
              "Q 1497 3097 1228 2736 \n",
              "Q 959 2375 959 1747 \n",
              "Q 959 1119 1226 758 \n",
              "Q 1494 397 1959 397 \n",
              "Q 2419 397 2687 759 \n",
              "Q 2956 1122 2956 1747 \n",
              "Q 2956 2369 2687 2733 \n",
              "Q 2419 3097 1959 3097 \n",
              "z\n",
              "M 1959 3584 \n",
              "Q 2709 3584 3137 3096 \n",
              "Q 3566 2609 3566 1747 \n",
              "Q 3566 888 3137 398 \n",
              "Q 2709 -91 1959 -91 \n",
              "Q 1206 -91 779 398 \n",
              "Q 353 888 353 1747 \n",
              "Q 353 2609 779 3096 \n",
              "Q 1206 3584 1959 3584 \n",
              "z\n",
              "\" id=\"DejaVuSans-6f\" transform=\"scale(0.015625)\"/>\n",
              "      <path d=\"M 544 1381 \n",
              "L 544 3500 \n",
              "L 1119 3500 \n",
              "L 1119 1403 \n",
              "Q 1119 906 1312 657 \n",
              "Q 1506 409 1894 409 \n",
              "Q 2359 409 2629 706 \n",
              "Q 2900 1003 2900 1516 \n",
              "L 2900 3500 \n",
              "L 3475 3500 \n",
              "L 3475 0 \n",
              "L 2900 0 \n",
              "L 2900 538 \n",
              "Q 2691 219 2414 64 \n",
              "Q 2138 -91 1772 -91 \n",
              "Q 1169 -91 856 284 \n",
              "Q 544 659 544 1381 \n",
              "z\n",
              "M 1991 3584 \n",
              "L 1991 3584 \n",
              "z\n",
              "\" id=\"DejaVuSans-75\" transform=\"scale(0.015625)\"/>\n",
              "      <path d=\"M 3122 3366 \n",
              "L 3122 2828 \n",
              "Q 2878 2963 2633 3030 \n",
              "Q 2388 3097 2138 3097 \n",
              "Q 1578 3097 1268 2742 \n",
              "Q 959 2388 959 1747 \n",
              "Q 959 1106 1268 751 \n",
              "Q 1578 397 2138 397 \n",
              "Q 2388 397 2633 464 \n",
              "Q 2878 531 3122 666 \n",
              "L 3122 134 \n",
              "Q 2881 22 2623 -34 \n",
              "Q 2366 -91 2075 -91 \n",
              "Q 1284 -91 818 406 \n",
              "Q 353 903 353 1747 \n",
              "Q 353 2603 823 3093 \n",
              "Q 1294 3584 2113 3584 \n",
              "Q 2378 3584 2631 3529 \n",
              "Q 2884 3475 3122 3366 \n",
              "z\n",
              "\" id=\"DejaVuSans-63\" transform=\"scale(0.015625)\"/>\n",
              "     </defs>\n",
              "     <use xlink:href=\"#DejaVuSans-73\"/>\n",
              "     <use x=\"52.099609\" xlink:href=\"#DejaVuSans-6f\"/>\n",
              "     <use x=\"113.28125\" xlink:href=\"#DejaVuSans-75\"/>\n",
              "     <use x=\"176.660156\" xlink:href=\"#DejaVuSans-72\"/>\n",
              "     <use x=\"215.523438\" xlink:href=\"#DejaVuSans-63\"/>\n",
              "     <use x=\"270.503906\" xlink:href=\"#DejaVuSans-65\"/>\n",
              "     <use x=\"332.027344\" xlink:href=\"#DejaVuSans-3d\"/>\n",
              "     <use x=\"415.816406\" xlink:href=\"#DejaVuSans-47\"/>\n",
              "     <use x=\"493.306641\" xlink:href=\"#DejaVuSans-4f\"/>\n",
              "     <use x=\"572.017578\" xlink:href=\"#DejaVuSans-32\"/>\n",
              "     <use x=\"635.640625\" xlink:href=\"#DejaVuSans-30\"/>\n",
              "    </g>\n",
              "   </g>\n",
              "  </g>\n",
              " </g>\n",
              " <defs>\n",
              "  <clipPath id=\"pc8e34a2b8b\">\n",
              "   <rect height=\"90.95\" width=\"160.6296\" x=\"20.421087\" y=\"7.2\"/>\n",
              "  </clipPath>\n",
              " </defs>\n",
              "</svg>\n"
            ],
            "text/plain": [
              "<schemdraw.backends.mpl.Figure object at 0x7f5c6b1992e0>"
            ]
          },
          "execution_count": 20,
          "metadata": {},
          "output_type": "execute_result"
        }
      ]
    },
    {
      "cell_type": "markdown",
      "metadata": {
        "id": "HYS-gxMnUUhE"
      },
      "source": [
        "**(a)** Configure the chip following [Section 4.2](#config_nfet) if you haven't"
      ]
    },
    {
      "cell_type": "code",
      "metadata": {
        "id": "X-KHpcDBUUhE"
      },
      "source": [
        "# Configure NFET, set the input voltage demultiplexer by AER event.  \n",
        "# Note selectlines we should choose for the NFET\n",
        "events = [pyplane.Coach.generate_aerc_event( \\\n",
        "    pyplane.Coach.CurrentOutputSelect.SelectLine5, \\\n",
        "    pyplane.Coach.VoltageOutputSelect.NoneSelected, \\\n",
        "    pyplane.Coach.VoltageInputSelect.SelectLine2, \\\n",
        "    pyplane.Coach.SynapseSelect.NoneSelected, 0)]\n",
        "\n",
        "p.send_coach_events(events)"
      ],
      "execution_count": null,
      "outputs": []
    },
    {
      "cell_type": "markdown",
      "metadata": {
        "id": "3WMA6wYLUUhF"
      },
      "source": [
        "**(b)** Measure $I_{ds}$ as a function of $V_g$ in ohmic region"
      ]
    },
    {
      "cell_type": "markdown",
      "metadata": {
        "id": "TGJjzb88UUhF"
      },
      "source": [
        "* What will be the fixed value for source and drain voltages?\n",
        "\n",
        "Answer:"
      ]
    },
    {
      "cell_type": "code",
      "metadata": {
        "id": "lOqEOiBfUUhF",
        "outputId": "eb54f03c-86e4-4a90-a774-6539335981a6"
      },
      "source": [
        "# set source voltage\n",
        "vs = 0.0\n",
        "src = p.set_voltage(pyplane.DacChannel.GO20,vs)       \n",
        "print(\"The source voltage is set to {} V\".format(src))\n",
        "\n",
        "# set drain voltage\n",
        "vd = 1.8\n",
        "drain= p.set_voltage(pyplane.DacChannel.GO22,vd)\n",
        "print(\"The drain voltage is set to {} V\".format(drain))"
      ],
      "execution_count": null,
      "outputs": [
        {
          "name": "stdout",
          "output_type": "stream",
          "text": [
            "The source voltage is set to 0.0 V\n",
            "The drain voltage is set to 1.7982406616210938 V\n"
          ]
        }
      ]
    },
    {
      "cell_type": "markdown",
      "metadata": {
        "id": "eqwqJ_76UUhG"
      },
      "source": [
        "* For very close voltages, you may want to call `get_set_voltage` to check the actual output of the DAC."
      ]
    },
    {
      "cell_type": "code",
      "metadata": {
        "id": "RDmxCKkvUUhG",
        "outputId": "9f6f69bc-0739-4540-aeb9-5e3d44deca0c"
      },
      "source": [
        "# get set voltage\n",
        "Vs_n = p.get_set_voltage(pyplane.DacChannel.GO20)\n",
        "print(\"The source voltage is set to {} V\".format(Vs_n))\n",
        "\n",
        "time.sleep(0.1)  # wait for it to settle\n",
        "\n",
        "# get set voltage\n",
        "Vd_n = p.get_set_voltage(pyplane.DacChannel.GO22)\n",
        "print(\"The drain voltage is set to {} V\".format(Vd_n))"
      ],
      "execution_count": null,
      "outputs": [
        {
          "name": "stdout",
          "output_type": "stream",
          "text": [
            "The source voltage is set to 0.0 V\n",
            "The drain voltage is set to 1.7982406616210938 V\n"
          ]
        }
      ]
    },
    {
      "cell_type": "markdown",
      "metadata": {
        "id": "3nnDKzHrUUhH"
      },
      "source": [
        "* Data aquisition"
      ]
    },
    {
      "cell_type": "code",
      "metadata": {
        "id": "LtKtZ1n4UUhH",
        "outputId": "bebf43ae-7634-44e6-dcc1-a1f39a5743af"
      },
      "source": [
        "# sweep gate voltage\n",
        "import time\n",
        "import numpy as np \n",
        "\n",
        "# Get the leakage current, Read Ids=Ids0 at Vg = 0\n",
        "p.set_voltage(pyplane.DacChannel.AIN0,0.0) \n",
        "time.sleep(0.5) # wait 0.5 second for it to settle\n",
        "Is0_n = p.read_current(pyplane.AdcChannel.GO20_N)\n",
        "print(\"Offset Is0_n: {} A\".format(Is0_n))\n",
        "\n",
        "# Initialize variables\n",
        "number = 100\n",
        "Vg_sets = np.linspace(0.0,1.0,num = number).reshape(-1,1)\n",
        "Is_sets = np.zeros(number).reshape(-1,1)\n",
        "\n",
        "#Sweep gate voltage\n",
        "for n in range(number):\n",
        "    # set gate voltage\n",
        "    p.set_voltage(pyplane.DacChannel.AIN0,Vg_sets[n])\n",
        "    postlab = p.get_set_voltage(pyplane.DacChannel.AIN0)\n",
        "    \n",
        "    time.sleep(0.05)  # wait for it to settle\n",
        "    \n",
        "    # read I_{ds}\n",
        "    Is_set = p.read_current(pyplane.AdcChannel.GO20_N)\n",
        "    \n",
        "    # substract leakage current \n",
        "    Is_sets[n] = Is_set - Is0_n     "
      ],
      "execution_count": null,
      "outputs": [
        {
          "name": "stdout",
          "output_type": "stream",
          "text": [
            "Offset Is0_n: 4.63867166899945e-09 A\n"
          ]
        }
      ]
    },
    {
      "cell_type": "code",
      "metadata": {
        "id": "7CcPeyG9UUhJ",
        "outputId": "07e4f378-5652-4697-d9dc-37adfb9a3eaf"
      },
      "source": [
        "# plot in linear scale\n",
        "plt.rcParams.update({'font.size': 14})\n",
        "plt.plot(Vg_sets,Is_sets,'.b-')\n",
        "plt.xlabel('Vg (V)')\n",
        "plt.ylabel('Ids (A)')"
      ],
      "execution_count": null,
      "outputs": [
        {
          "data": {
            "text/plain": [
              "Text(0, 0.5, 'Ids (A)')"
            ]
          },
          "execution_count": 38,
          "metadata": {},
          "output_type": "execute_result"
        },
        {
          "data": {
            "image/png": "[encoded data removed]",
            "text/plain": [
              "<Figure size 432x288 with 1 Axes>"
            ]
          },
          "metadata": {
            "needs_background": "light"
          },
          "output_type": "display_data"
        }
      ]
    },
    {
      "cell_type": "code",
      "metadata": {
        "id": "IfTGQq_XUUhK"
      },
      "source": [
        "# if the data looks nice, save it!\n",
        "Lab2_data_nFETVgIds_Omic = [Vg_sets.reshape(number),Is_sets.reshape(number)]\n",
        "np.savetxt('./data/lab2_51_VgIds.csv', Lab2_data_nFETVgIds_Omic, delimiter=',')"
      ],
      "execution_count": null,
      "outputs": []
    },
    {
      "cell_type": "code",
      "metadata": {
        "id": "Rb7PXXRZUUhK",
        "outputId": "378b5559-e797-4110-eac8-7168120b4126"
      },
      "source": [
        "# Load data you saved and plot, to check if the data is saved correctly or not\n",
        "Vgn_save, Isn_save = np.loadtxt('./data/lab2_51_VgIds.csv',delimiter=\",\")\n",
        "plt.rcParams.update({'font.size': 14})\n",
        "plt.plot(Vgn_save, Isn_save, '.k')\n",
        "plt.xlabel('Vg(V)')\n",
        "plt.ylabel('Ids(A)')\n",
        "plt.grid()\n",
        "plt.show()"
      ],
      "execution_count": null,
      "outputs": [
        {
          "data": {
            "image/png": "[encoded data removed]",
            "text/plain": [
              "<Figure size 432x288 with 1 Axes>"
            ]
          },
          "metadata": {
            "needs_background": "light"
          },
          "output_type": "display_data"
        }
      ]
    },
    {
      "cell_type": "code",
      "metadata": {
        "id": "vwOPBoDNUUhL"
      },
      "source": [
        "# extract the valid range\n",
        "Vg_clip = Vgn_save[(Vgn_save> 0.0) & (Vgn_save < 0.63)] \n",
        "Ids_clip = Isn_save[(Vgn_save> 0.0) & (Vgn_save < 0.63)]"
      ],
      "execution_count": null,
      "outputs": []
    },
    {
      "cell_type": "code",
      "metadata": {
        "id": "g29XFQl4UUhM",
        "outputId": "e2f8635f-5d18-4eea-9a30-ada04c17e1c2"
      },
      "source": [
        "# fit in the valid range (you may want to go back and add the fitted line in the plot)\n",
        "fit = np.polyfit(Vg_clip,Ids_clip,2)\n",
        "print('slope:',fit[0])\n",
        "plt.rcParams.update({'font.size': 14})\n",
        "plt.title('nFET ohmic region')\n",
        "plt.plot(Vgn_save, Isn_save, '.k-')\n",
        "plt.plot(Vgn_save, np.clip(Vgn_save*fit[0]+fit[1],a_min=0,a_max = 1),'.r--')\n",
        "plt.xlabel('Vg(V)')\n",
        "plt.ylabel('Ids(A)')\n",
        "plt.legend(['measurements','fitting'])\n",
        "plt.grid()\n",
        "plt.show()"
      ],
      "execution_count": null,
      "outputs": [
        {
          "name": "stdout",
          "output_type": "stream",
          "text": [
            "slope: 4.738045142214919e-06\n"
          ]
        },
        {
          "data": {
            "image/png": "[encoded data removed]",
            "text/plain": [
              "<Figure size 432x288 with 1 Axes>"
            ]
          },
          "metadata": {
            "needs_background": "light"
          },
          "output_type": "display_data"
        }
      ]
    },
    {
      "cell_type": "markdown",
      "metadata": {
        "id": "5ebGKyRKUUhM"
      },
      "source": [
        "**(c)** Determine $V_{T0}$ and $\\beta$ for both devices by fitting your data to the expression derived in the prelab"
      ]
    },
    {
      "cell_type": "code",
      "metadata": {
        "id": "1ESeYDZ_UUhM",
        "outputId": "a65ff5b1-438a-4b47-96f3-bc492cc8b393"
      },
      "source": [
        "# V_T0\n",
        "v_t0 = -fit[1]/fit[0]\n",
        "print('V_T0 =',v_t0, 'V')"
      ],
      "execution_count": null,
      "outputs": [
        {
          "name": "stdout",
          "output_type": "stream",
          "text": [
            "V_T0 = 0.43988348761806817 V\n"
          ]
        }
      ]
    },
    {
      "cell_type": "code",
      "metadata": {
        "id": "cmQmVyYnUUhN",
        "outputId": "2419e7dc-f65c-4f85-8548-d617b067cb45"
      },
      "source": [
        "# beta => m/Vd\n",
        "\n",
        "vd = 1.8\n",
        "betan = fit[0]/vd\n",
        "print('beta_n =',betan*1e6, 'uA/V/V')"
      ],
      "execution_count": null,
      "outputs": [
        {
          "name": "stdout",
          "output_type": "stream",
          "text": [
            "beta_n = 2.6322473012305108 uA/V/V\n"
          ]
        }
      ]
    },
    {
      "cell_type": "markdown",
      "metadata": {
        "id": "5o_WTIQXUUhQ"
      },
      "source": [
        "## 5.2 P-FET"
      ]
    },
    {
      "cell_type": "markdown",
      "metadata": {
        "id": "9a6O2xdQUUhQ"
      },
      "source": [
        "**(a)** Configure the chip following [Section 4.3](#config_pfet) if you haven't"
      ]
    },
    {
      "cell_type": "code",
      "metadata": {
        "id": "UDDaCO0CUUhQ"
      },
      "source": [
        "# Configure PFET, set the input voltage demultiplexer by AER event. \n",
        "# Note selectlines we should choose for the PFET\n",
        "events = [pyplane.Coach.generate_aerc_event( \\\n",
        "    pyplane.Coach.CurrentOutputSelect.SelectLine5, \\\n",
        "    pyplane.Coach.VoltageOutputSelect.NoneSelected, \\\n",
        "    pyplane.Coach.VoltageInputSelect.SelectLine1, \\\n",
        "    pyplane.Coach.SynapseSelect.NoneSelected, 0)]\n",
        "\n",
        "p.send_coach_events(events)"
      ],
      "execution_count": null,
      "outputs": []
    },
    {
      "cell_type": "markdown",
      "metadata": {
        "id": "VcI8FXfGUUhR"
      },
      "source": [
        "**(b)** Measure $I_{ds}$ as a function of $V_g$ in ohmic region"
      ]
    },
    {
      "cell_type": "code",
      "metadata": {
        "id": "BF-IGcUPUUhR",
        "outputId": "60bdab30-7cbd-44cc-b948-416aec9a085f"
      },
      "source": [
        "# uses schemdraw, you may have to install it in order to run it on your PC\n",
        "import schemdraw\n",
        "import schemdraw.elements as elm\n",
        "d = schemdraw.Drawing()\n",
        "Q = d.add(elm.PFet, reverse=True, bulk=True)\n",
        "d.add(elm.Dot, xy=Q.gate, lftlabel='gate=AIN0')\n",
        "d.add(elm.Dot, xy=Q.bulk, rgtlabel='bulk=AIN1')\n",
        "d.add(elm.Dot, xy=Q.drain, botlabel='drain=GO21')\n",
        "d.add(elm.Dot, xy=Q.source, toplabel='source=GO23')\n",
        "d.draw()"
      ],
      "execution_count": null,
      "outputs": [
        {
          "data": {
            "image/png": "[encoded data removed]",
            "image/svg+xml": [
              "<?xml version=\"1.0\" encoding=\"utf-8\" standalone=\"no\"?>\n",
              "<!DOCTYPE svg PUBLIC \"-//W3C//DTD SVG 1.1//EN\"\n",
              "  \"http://www.w3.org/Graphics/SVG/1.1/DTD/svg11.dtd\">\n",
              "<svg height=\"105.35pt\" version=\"1.1\" viewBox=\"0 0 220.445938 105.35\" width=\"220.445938pt\" xmlns=\"http://www.w3.org/2000/svg\" xmlns:xlink=\"http://www.w3.org/1999/xlink\">\n",
              " <metadata>\n",
              "  <rdf:RDF xmlns:cc=\"http://creativecommons.org/ns#\" xmlns:dc=\"http://purl.org/dc/elements/1.1/\" xmlns:rdf=\"http://www.w3.org/1999/02/22-rdf-syntax-ns#\">\n",
              "   <cc:Work>\n",
              "    <dc:type rdf:resource=\"http://purl.org/dc/dcmitype/StillImage\"/>\n",
              "    <dc:date>2021-10-17T22:05:24.653298</dc:date>\n",
              "    <dc:format>image/svg+xml</dc:format>\n",
              "    <dc:creator>\n",
              "     <cc:Agent>\n",
              "      <dc:title>Matplotlib v3.4.3, https://matplotlib.org/</dc:title>\n",
              "     </cc:Agent>\n",
              "    </dc:creator>\n",
              "   </cc:Work>\n",
              "  </rdf:RDF>\n",
              " </metadata>\n",
              " <defs>\n",
              "  <style type=\"text/css\">*{stroke-linecap:butt;stroke-linejoin:round;}</style>\n",
              " </defs>\n",
              " <g id=\"figure_1\">\n",
              "  <g id=\"patch_1\">\n",
              "   <path d=\"M 0 105.35 \n",
              "L 220.445937 105.35 \n",
              "L 220.445937 0 \n",
              "L 0 0 \n",
              "z\n",
              "\" style=\"fill:none;\"/>\n",
              "  </g>\n",
              "  <g id=\"axes_1\">\n",
              "   <g id=\"patch_2\">\n",
              "    <path clip-path=\"url(#p447d276ec9)\" d=\"M 101.694688 57.775 \n",
              "C 102.641463 57.775 103.549588 57.398842 104.219059 56.729371 \n",
              "C 104.88853 56.0599 105.264688 55.151775 105.264688 54.205 \n",
              "C 105.264688 53.258225 104.88853 52.3501 104.219059 51.680629 \n",
              "C 103.549588 51.011158 102.641463 50.635 101.694688 50.635 \n",
              "C 100.747912 50.635 99.839787 51.011158 99.170316 51.680629 \n",
              "C 98.500845 52.3501 98.124688 53.258225 98.124688 54.205 \n",
              "C 98.124688 55.151775 98.500845 56.0599 99.170316 56.729371 \n",
              "C 99.839787 57.398842 100.747912 57.775 101.694688 57.775 \n",
              "z\n",
              "\" style=\"fill:none;stroke:#000000;stroke-linejoin:miter;stroke-width:2;\"/>\n",
              "   </g>\n",
              "   <g id=\"patch_3\">\n",
              "    <path clip-path=\"url(#p447d276ec9)\" d=\"M 119.034688 57.265 \n",
              "L 112.914688 54.205 \n",
              "L 119.034688 51.145 \n",
              "z\n",
              "\"/>\n",
              "   </g>\n",
              "   <g id=\"line2d_1\">\n",
              "    <path clip-path=\"url(#p447d276ec9)\" d=\"M 133.314688 77.155 \n",
              "L 133.314688 64.405 \n",
              "L 112.914688 64.405 \n",
              "L 112.914688 44.005 \n",
              "L 133.314688 44.005 \n",
              "L 133.314688 31.255 \n",
              "\" style=\"fill:none;stroke:#000000;stroke-linecap:round;stroke-width:2;\"/>\n",
              "   </g>\n",
              "   <g id=\"line2d_2\">\n",
              "    <path clip-path=\"url(#p447d276ec9)\" d=\"M 105.264688 64.405 \n",
              "L 105.264688 44.005 \n",
              "\" style=\"fill:none;stroke:#000000;stroke-linecap:round;stroke-width:2;\"/>\n",
              "   </g>\n",
              "   <g id=\"line2d_3\">\n",
              "    <path clip-path=\"url(#p447d276ec9)\" d=\"M 88.944688 54.205 \n",
              "L 98.124688 54.205 \n",
              "\" style=\"fill:none;stroke:#000000;stroke-linecap:round;stroke-width:2;\"/>\n",
              "   </g>\n",
              "   <g id=\"line2d_4\">\n",
              "    <path clip-path=\"url(#p447d276ec9)\" d=\"M 133.314688 54.205 \n",
              "L 119.034688 54.205 \n",
              "\" style=\"fill:none;stroke:#000000;stroke-linecap:square;stroke-width:2;\"/>\n",
              "   </g>\n",
              "   <g id=\"patch_4\">\n",
              "    <path clip-path=\"url(#p447d276ec9)\" d=\"M 88.944688 56.5 \n",
              "C 89.553329 56.5 90.137123 56.258184 90.567498 55.82781 \n",
              "C 90.997872 55.397436 91.239688 54.813641 91.239688 54.205 \n",
              "C 91.239688 53.596359 90.997872 53.012564 90.567498 52.58219 \n",
              "C 90.137123 52.151816 89.553329 51.91 88.944688 51.91 \n",
              "C 88.336046 51.91 87.752252 52.151816 87.321877 52.58219 \n",
              "C 86.891503 53.012564 86.649688 53.596359 86.649688 54.205 \n",
              "C 86.649688 54.813641 86.891503 55.397436 87.321877 55.82781 \n",
              "C 87.752252 56.258184 88.336046 56.5 88.944688 56.5 \n",
              "z\n",
              "\" style=\"stroke:#000000;stroke-linejoin:miter;stroke-width:2;\"/>\n",
              "   </g>\n",
              "   <g id=\"patch_5\">\n",
              "    <path clip-path=\"url(#p447d276ec9)\" d=\"M 133.314688 56.5 \n",
              "C 133.923329 56.5 134.507123 56.258184 134.937498 55.82781 \n",
              "C 135.367872 55.397436 135.609688 54.813641 135.609688 54.205 \n",
              "C 135.609688 53.596359 135.367872 53.012564 134.937498 52.58219 \n",
              "C 134.507123 52.151816 133.923329 51.91 133.314688 51.91 \n",
              "C 132.706046 51.91 132.122252 52.151816 131.691877 52.58219 \n",
              "C 131.261503 53.012564 131.019688 53.596359 131.019688 54.205 \n",
              "C 131.019688 54.813641 131.261503 55.397436 131.691877 55.82781 \n",
              "C 132.122252 56.258184 132.706046 56.5 133.314688 56.5 \n",
              "z\n",
              "\" style=\"stroke:#000000;stroke-linejoin:miter;stroke-width:2;\"/>\n",
              "   </g>\n",
              "   <g id=\"patch_6\">\n",
              "    <path clip-path=\"url(#p447d276ec9)\" d=\"M 133.314688 79.45 \n",
              "C 133.923329 79.45 134.507123 79.208184 134.937498 78.77781 \n",
              "C 135.367872 78.347436 135.609688 77.763641 135.609688 77.155 \n",
              "C 135.609688 76.546359 135.367872 75.962564 134.937498 75.53219 \n",
              "C 134.507123 75.101816 133.923329 74.86 133.314688 74.86 \n",
              "C 132.706046 74.86 132.122252 75.101816 131.691877 75.53219 \n",
              "C 131.261503 75.962564 131.019688 76.546359 131.019688 77.155 \n",
              "C 131.019688 77.763641 131.261503 78.347436 131.691877 78.77781 \n",
              "C 132.122252 79.208184 132.706046 79.45 133.314688 79.45 \n",
              "z\n",
              "\" style=\"stroke:#000000;stroke-linejoin:miter;stroke-width:2;\"/>\n",
              "   </g>\n",
              "   <g id=\"patch_7\">\n",
              "    <path clip-path=\"url(#p447d276ec9)\" d=\"M 133.314688 33.55 \n",
              "C 133.923329 33.55 134.507123 33.308184 134.937498 32.87781 \n",
              "C 135.367872 32.447436 135.609688 31.863641 135.609688 31.255 \n",
              "C 135.609688 30.646359 135.367872 30.062564 134.937498 29.63219 \n",
              "C 134.507123 29.201816 133.923329 28.96 133.314688 28.96 \n",
              "C 132.706046 28.96 132.122252 29.201816 131.691877 29.63219 \n",
              "C 131.261503 30.062564 131.019688 30.646359 131.019688 31.255 \n",
              "C 131.019688 31.863641 131.261503 32.447436 131.691877 32.87781 \n",
              "C 132.122252 33.308184 132.706046 33.55 133.314688 33.55 \n",
              "z\n",
              "\" style=\"stroke:#000000;stroke-linejoin:miter;stroke-width:2;\"/>\n",
              "   </g>\n",
              "   <g id=\"text_1\">\n",
              "    <!-- gate=AIN0 -->\n",
              "    <g transform=\"translate(7.2 58.068125)scale(0.14 -0.14)\">\n",
              "     <defs>\n",
              "      <path d=\"M 2906 1791 \n",
              "Q 2906 2416 2648 2759 \n",
              "Q 2391 3103 1925 3103 \n",
              "Q 1463 3103 1205 2759 \n",
              "Q 947 2416 947 1791 \n",
              "Q 947 1169 1205 825 \n",
              "Q 1463 481 1925 481 \n",
              "Q 2391 481 2648 825 \n",
              "Q 2906 1169 2906 1791 \n",
              "z\n",
              "M 3481 434 \n",
              "Q 3481 -459 3084 -895 \n",
              "Q 2688 -1331 1869 -1331 \n",
              "Q 1566 -1331 1297 -1286 \n",
              "Q 1028 -1241 775 -1147 \n",
              "L 775 -588 \n",
              "Q 1028 -725 1275 -790 \n",
              "Q 1522 -856 1778 -856 \n",
              "Q 2344 -856 2625 -561 \n",
              "Q 2906 -266 2906 331 \n",
              "L 2906 616 \n",
              "Q 2728 306 2450 153 \n",
              "Q 2172 0 1784 0 \n",
              "Q 1141 0 747 490 \n",
              "Q 353 981 353 1791 \n",
              "Q 353 2603 747 3093 \n",
              "Q 1141 3584 1784 3584 \n",
              "Q 2172 3584 2450 3431 \n",
              "Q 2728 3278 2906 2969 \n",
              "L 2906 3500 \n",
              "L 3481 3500 \n",
              "L 3481 434 \n",
              "z\n",
              "\" id=\"DejaVuSans-67\" transform=\"scale(0.015625)\"/>\n",
              "      <path d=\"M 2194 1759 \n",
              "Q 1497 1759 1228 1600 \n",
              "Q 959 1441 959 1056 \n",
              "Q 959 750 1161 570 \n",
              "Q 1363 391 1709 391 \n",
              "Q 2188 391 2477 730 \n",
              "Q 2766 1069 2766 1631 \n",
              "L 2766 1759 \n",
              "L 2194 1759 \n",
              "z\n",
              "M 3341 1997 \n",
              "L 3341 0 \n",
              "L 2766 0 \n",
              "L 2766 531 \n",
              "Q 2569 213 2275 61 \n",
              "Q 1981 -91 1556 -91 \n",
              "Q 1019 -91 701 211 \n",
              "Q 384 513 384 1019 \n",
              "Q 384 1609 779 1909 \n",
              "Q 1175 2209 1959 2209 \n",
              "L 2766 2209 \n",
              "L 2766 2266 \n",
              "Q 2766 2663 2505 2880 \n",
              "Q 2244 3097 1772 3097 \n",
              "Q 1472 3097 1187 3025 \n",
              "Q 903 2953 641 2809 \n",
              "L 641 3341 \n",
              "Q 956 3463 1253 3523 \n",
              "Q 1550 3584 1831 3584 \n",
              "Q 2591 3584 2966 3190 \n",
              "Q 3341 2797 3341 1997 \n",
              "z\n",
              "\" id=\"DejaVuSans-61\" transform=\"scale(0.015625)\"/>\n",
              "      <path d=\"M 1172 4494 \n",
              "L 1172 3500 \n",
              "L 2356 3500 \n",
              "L 2356 3053 \n",
              "L 1172 3053 \n",
              "L 1172 1153 \n",
              "Q 1172 725 1289 603 \n",
              "Q 1406 481 1766 481 \n",
              "L 2356 481 \n",
              "L 2356 0 \n",
              "L 1766 0 \n",
              "Q 1100 0 847 248 \n",
              "Q 594 497 594 1153 \n",
              "L 594 3053 \n",
              "L 172 3053 \n",
              "L 172 3500 \n",
              "L 594 3500 \n",
              "L 594 4494 \n",
              "L 1172 4494 \n",
              "z\n",
              "\" id=\"DejaVuSans-74\" transform=\"scale(0.015625)\"/>\n",
              "      <path d=\"M 3597 1894 \n",
              "L 3597 1613 \n",
              "L 953 1613 \n",
              "Q 991 1019 1311 708 \n",
              "Q 1631 397 2203 397 \n",
              "Q 2534 397 2845 478 \n",
              "Q 3156 559 3463 722 \n",
              "L 3463 178 \n",
              "Q 3153 47 2828 -22 \n",
              "Q 2503 -91 2169 -91 \n",
              "Q 1331 -91 842 396 \n",
              "Q 353 884 353 1716 \n",
              "Q 353 2575 817 3079 \n",
              "Q 1281 3584 2069 3584 \n",
              "Q 2775 3584 3186 3129 \n",
              "Q 3597 2675 3597 1894 \n",
              "z\n",
              "M 3022 2063 \n",
              "Q 3016 2534 2758 2815 \n",
              "Q 2500 3097 2075 3097 \n",
              "Q 1594 3097 1305 2825 \n",
              "Q 1016 2553 972 2059 \n",
              "L 3022 2063 \n",
              "z\n",
              "\" id=\"DejaVuSans-65\" transform=\"scale(0.015625)\"/>\n",
              "      <path d=\"M 678 2906 \n",
              "L 4684 2906 \n",
              "L 4684 2381 \n",
              "L 678 2381 \n",
              "L 678 2906 \n",
              "z\n",
              "M 678 1631 \n",
              "L 4684 1631 \n",
              "L 4684 1100 \n",
              "L 678 1100 \n",
              "L 678 1631 \n",
              "z\n",
              "\" id=\"DejaVuSans-3d\" transform=\"scale(0.015625)\"/>\n",
              "      <path d=\"M 2188 4044 \n",
              "L 1331 1722 \n",
              "L 3047 1722 \n",
              "L 2188 4044 \n",
              "z\n",
              "M 1831 4666 \n",
              "L 2547 4666 \n",
              "L 4325 0 \n",
              "L 3669 0 \n",
              "L 3244 1197 \n",
              "L 1141 1197 \n",
              "L 716 0 \n",
              "L 50 0 \n",
              "L 1831 4666 \n",
              "z\n",
              "\" id=\"DejaVuSans-41\" transform=\"scale(0.015625)\"/>\n",
              "      <path d=\"M 628 4666 \n",
              "L 1259 4666 \n",
              "L 1259 0 \n",
              "L 628 0 \n",
              "L 628 4666 \n",
              "z\n",
              "\" id=\"DejaVuSans-49\" transform=\"scale(0.015625)\"/>\n",
              "      <path d=\"M 628 4666 \n",
              "L 1478 4666 \n",
              "L 3547 763 \n",
              "L 3547 4666 \n",
              "L 4159 4666 \n",
              "L 4159 0 \n",
              "L 3309 0 \n",
              "L 1241 3903 \n",
              "L 1241 0 \n",
              "L 628 0 \n",
              "L 628 4666 \n",
              "z\n",
              "\" id=\"DejaVuSans-4e\" transform=\"scale(0.015625)\"/>\n",
              "      <path d=\"M 2034 4250 \n",
              "Q 1547 4250 1301 3770 \n",
              "Q 1056 3291 1056 2328 \n",
              "Q 1056 1369 1301 889 \n",
              "Q 1547 409 2034 409 \n",
              "Q 2525 409 2770 889 \n",
              "Q 3016 1369 3016 2328 \n",
              "Q 3016 3291 2770 3770 \n",
              "Q 2525 4250 2034 4250 \n",
              "z\n",
              "M 2034 4750 \n",
              "Q 2819 4750 3233 4129 \n",
              "Q 3647 3509 3647 2328 \n",
              "Q 3647 1150 3233 529 \n",
              "Q 2819 -91 2034 -91 \n",
              "Q 1250 -91 836 529 \n",
              "Q 422 1150 422 2328 \n",
              "Q 422 3509 836 4129 \n",
              "Q 1250 4750 2034 4750 \n",
              "z\n",
              "\" id=\"DejaVuSans-30\" transform=\"scale(0.015625)\"/>\n",
              "     </defs>\n",
              "     <use xlink:href=\"#DejaVuSans-67\"/>\n",
              "     <use x=\"63.476562\" xlink:href=\"#DejaVuSans-61\"/>\n",
              "     <use x=\"124.755859\" xlink:href=\"#DejaVuSans-74\"/>\n",
              "     <use x=\"163.964844\" xlink:href=\"#DejaVuSans-65\"/>\n",
              "     <use x=\"225.488281\" xlink:href=\"#DejaVuSans-3d\"/>\n",
              "     <use x=\"309.277344\" xlink:href=\"#DejaVuSans-41\"/>\n",
              "     <use x=\"377.685547\" xlink:href=\"#DejaVuSans-49\"/>\n",
              "     <use x=\"407.177734\" xlink:href=\"#DejaVuSans-4e\"/>\n",
              "     <use x=\"481.982422\" xlink:href=\"#DejaVuSans-30\"/>\n",
              "    </g>\n",
              "   </g>\n",
              "   <g id=\"text_2\">\n",
              "    <!-- bulk=AIN1 -->\n",
              "    <g transform=\"translate(138.669688 58.068125)scale(0.14 -0.14)\">\n",
              "     <defs>\n",
              "      <path d=\"M 3116 1747 \n",
              "Q 3116 2381 2855 2742 \n",
              "Q 2594 3103 2138 3103 \n",
              "Q 1681 3103 1420 2742 \n",
              "Q 1159 2381 1159 1747 \n",
              "Q 1159 1113 1420 752 \n",
              "Q 1681 391 2138 391 \n",
              "Q 2594 391 2855 752 \n",
              "Q 3116 1113 3116 1747 \n",
              "z\n",
              "M 1159 2969 \n",
              "Q 1341 3281 1617 3432 \n",
              "Q 1894 3584 2278 3584 \n",
              "Q 2916 3584 3314 3078 \n",
              "Q 3713 2572 3713 1747 \n",
              "Q 3713 922 3314 415 \n",
              "Q 2916 -91 2278 -91 \n",
              "Q 1894 -91 1617 61 \n",
              "Q 1341 213 1159 525 \n",
              "L 1159 0 \n",
              "L 581 0 \n",
              "L 581 4863 \n",
              "L 1159 4863 \n",
              "L 1159 2969 \n",
              "z\n",
              "\" id=\"DejaVuSans-62\" transform=\"scale(0.015625)\"/>\n",
              "      <path d=\"M 544 1381 \n",
              "L 544 3500 \n",
              "L 1119 3500 \n",
              "L 1119 1403 \n",
              "Q 1119 906 1312 657 \n",
              "Q 1506 409 1894 409 \n",
              "Q 2359 409 2629 706 \n",
              "Q 2900 1003 2900 1516 \n",
              "L 2900 3500 \n",
              "L 3475 3500 \n",
              "L 3475 0 \n",
              "L 2900 0 \n",
              "L 2900 538 \n",
              "Q 2691 219 2414 64 \n",
              "Q 2138 -91 1772 -91 \n",
              "Q 1169 -91 856 284 \n",
              "Q 544 659 544 1381 \n",
              "z\n",
              "M 1991 3584 \n",
              "L 1991 3584 \n",
              "z\n",
              "\" id=\"DejaVuSans-75\" transform=\"scale(0.015625)\"/>\n",
              "      <path d=\"M 603 4863 \n",
              "L 1178 4863 \n",
              "L 1178 0 \n",
              "L 603 0 \n",
              "L 603 4863 \n",
              "z\n",
              "\" id=\"DejaVuSans-6c\" transform=\"scale(0.015625)\"/>\n",
              "      <path d=\"M 581 4863 \n",
              "L 1159 4863 \n",
              "L 1159 1991 \n",
              "L 2875 3500 \n",
              "L 3609 3500 \n",
              "L 1753 1863 \n",
              "L 3688 0 \n",
              "L 2938 0 \n",
              "L 1159 1709 \n",
              "L 1159 0 \n",
              "L 581 0 \n",
              "L 581 4863 \n",
              "z\n",
              "\" id=\"DejaVuSans-6b\" transform=\"scale(0.015625)\"/>\n",
              "      <path d=\"M 794 531 \n",
              "L 1825 531 \n",
              "L 1825 4091 \n",
              "L 703 3866 \n",
              "L 703 4441 \n",
              "L 1819 4666 \n",
              "L 2450 4666 \n",
              "L 2450 531 \n",
              "L 3481 531 \n",
              "L 3481 0 \n",
              "L 794 0 \n",
              "L 794 531 \n",
              "z\n",
              "\" id=\"DejaVuSans-31\" transform=\"scale(0.015625)\"/>\n",
              "     </defs>\n",
              "     <use xlink:href=\"#DejaVuSans-62\"/>\n",
              "     <use x=\"63.476562\" xlink:href=\"#DejaVuSans-75\"/>\n",
              "     <use x=\"126.855469\" xlink:href=\"#DejaVuSans-6c\"/>\n",
              "     <use x=\"154.638672\" xlink:href=\"#DejaVuSans-6b\"/>\n",
              "     <use x=\"212.548828\" xlink:href=\"#DejaVuSans-3d\"/>\n",
              "     <use x=\"296.337891\" xlink:href=\"#DejaVuSans-41\"/>\n",
              "     <use x=\"364.746094\" xlink:href=\"#DejaVuSans-49\"/>\n",
              "     <use x=\"394.238281\" xlink:href=\"#DejaVuSans-4e\"/>\n",
              "     <use x=\"469.042969\" xlink:href=\"#DejaVuSans-31\"/>\n",
              "    </g>\n",
              "   </g>\n",
              "   <g id=\"text_3\">\n",
              "    <!-- drain=GO21 -->\n",
              "    <g transform=\"translate(89.615 93.147812)scale(0.14 -0.14)\">\n",
              "     <defs>\n",
              "      <path d=\"M 2906 2969 \n",
              "L 2906 4863 \n",
              "L 3481 4863 \n",
              "L 3481 0 \n",
              "L 2906 0 \n",
              "L 2906 525 \n",
              "Q 2725 213 2448 61 \n",
              "Q 2172 -91 1784 -91 \n",
              "Q 1150 -91 751 415 \n",
              "Q 353 922 353 1747 \n",
              "Q 353 2572 751 3078 \n",
              "Q 1150 3584 1784 3584 \n",
              "Q 2172 3584 2448 3432 \n",
              "Q 2725 3281 2906 2969 \n",
              "z\n",
              "M 947 1747 \n",
              "Q 947 1113 1208 752 \n",
              "Q 1469 391 1925 391 \n",
              "Q 2381 391 2643 752 \n",
              "Q 2906 1113 2906 1747 \n",
              "Q 2906 2381 2643 2742 \n",
              "Q 2381 3103 1925 3103 \n",
              "Q 1469 3103 1208 2742 \n",
              "Q 947 2381 947 1747 \n",
              "z\n",
              "\" id=\"DejaVuSans-64\" transform=\"scale(0.015625)\"/>\n",
              "      <path d=\"M 2631 2963 \n",
              "Q 2534 3019 2420 3045 \n",
              "Q 2306 3072 2169 3072 \n",
              "Q 1681 3072 1420 2755 \n",
              "Q 1159 2438 1159 1844 \n",
              "L 1159 0 \n",
              "L 581 0 \n",
              "L 581 3500 \n",
              "L 1159 3500 \n",
              "L 1159 2956 \n",
              "Q 1341 3275 1631 3429 \n",
              "Q 1922 3584 2338 3584 \n",
              "Q 2397 3584 2469 3576 \n",
              "Q 2541 3569 2628 3553 \n",
              "L 2631 2963 \n",
              "z\n",
              "\" id=\"DejaVuSans-72\" transform=\"scale(0.015625)\"/>\n",
              "      <path d=\"M 603 3500 \n",
              "L 1178 3500 \n",
              "L 1178 0 \n",
              "L 603 0 \n",
              "L 603 3500 \n",
              "z\n",
              "M 603 4863 \n",
              "L 1178 4863 \n",
              "L 1178 4134 \n",
              "L 603 4134 \n",
              "L 603 4863 \n",
              "z\n",
              "\" id=\"DejaVuSans-69\" transform=\"scale(0.015625)\"/>\n",
              "      <path d=\"M 3513 2113 \n",
              "L 3513 0 \n",
              "L 2938 0 \n",
              "L 2938 2094 \n",
              "Q 2938 2591 2744 2837 \n",
              "Q 2550 3084 2163 3084 \n",
              "Q 1697 3084 1428 2787 \n",
              "Q 1159 2491 1159 1978 \n",
              "L 1159 0 \n",
              "L 581 0 \n",
              "L 581 3500 \n",
              "L 1159 3500 \n",
              "L 1159 2956 \n",
              "Q 1366 3272 1645 3428 \n",
              "Q 1925 3584 2291 3584 \n",
              "Q 2894 3584 3203 3211 \n",
              "Q 3513 2838 3513 2113 \n",
              "z\n",
              "\" id=\"DejaVuSans-6e\" transform=\"scale(0.015625)\"/>\n",
              "      <path d=\"M 3809 666 \n",
              "L 3809 1919 \n",
              "L 2778 1919 \n",
              "L 2778 2438 \n",
              "L 4434 2438 \n",
              "L 4434 434 \n",
              "Q 4069 175 3628 42 \n",
              "Q 3188 -91 2688 -91 \n",
              "Q 1594 -91 976 548 \n",
              "Q 359 1188 359 2328 \n",
              "Q 359 3472 976 4111 \n",
              "Q 1594 4750 2688 4750 \n",
              "Q 3144 4750 3555 4637 \n",
              "Q 3966 4525 4313 4306 \n",
              "L 4313 3634 \n",
              "Q 3963 3931 3569 4081 \n",
              "Q 3175 4231 2741 4231 \n",
              "Q 1884 4231 1454 3753 \n",
              "Q 1025 3275 1025 2328 \n",
              "Q 1025 1384 1454 906 \n",
              "Q 1884 428 2741 428 \n",
              "Q 3075 428 3337 486 \n",
              "Q 3600 544 3809 666 \n",
              "z\n",
              "\" id=\"DejaVuSans-47\" transform=\"scale(0.015625)\"/>\n",
              "      <path d=\"M 2522 4238 \n",
              "Q 1834 4238 1429 3725 \n",
              "Q 1025 3213 1025 2328 \n",
              "Q 1025 1447 1429 934 \n",
              "Q 1834 422 2522 422 \n",
              "Q 3209 422 3611 934 \n",
              "Q 4013 1447 4013 2328 \n",
              "Q 4013 3213 3611 3725 \n",
              "Q 3209 4238 2522 4238 \n",
              "z\n",
              "M 2522 4750 \n",
              "Q 3503 4750 4090 4092 \n",
              "Q 4678 3434 4678 2328 \n",
              "Q 4678 1225 4090 567 \n",
              "Q 3503 -91 2522 -91 \n",
              "Q 1538 -91 948 565 \n",
              "Q 359 1222 359 2328 \n",
              "Q 359 3434 948 4092 \n",
              "Q 1538 4750 2522 4750 \n",
              "z\n",
              "\" id=\"DejaVuSans-4f\" transform=\"scale(0.015625)\"/>\n",
              "      <path d=\"M 1228 531 \n",
              "L 3431 531 \n",
              "L 3431 0 \n",
              "L 469 0 \n",
              "L 469 531 \n",
              "Q 828 903 1448 1529 \n",
              "Q 2069 2156 2228 2338 \n",
              "Q 2531 2678 2651 2914 \n",
              "Q 2772 3150 2772 3378 \n",
              "Q 2772 3750 2511 3984 \n",
              "Q 2250 4219 1831 4219 \n",
              "Q 1534 4219 1204 4116 \n",
              "Q 875 4013 500 3803 \n",
              "L 500 4441 \n",
              "Q 881 4594 1212 4672 \n",
              "Q 1544 4750 1819 4750 \n",
              "Q 2544 4750 2975 4387 \n",
              "Q 3406 4025 3406 3419 \n",
              "Q 3406 3131 3298 2873 \n",
              "Q 3191 2616 2906 2266 \n",
              "Q 2828 2175 2409 1742 \n",
              "Q 1991 1309 1228 531 \n",
              "z\n",
              "\" id=\"DejaVuSans-32\" transform=\"scale(0.015625)\"/>\n",
              "     </defs>\n",
              "     <use xlink:href=\"#DejaVuSans-64\"/>\n",
              "     <use x=\"63.476562\" xlink:href=\"#DejaVuSans-72\"/>\n",
              "     <use x=\"104.589844\" xlink:href=\"#DejaVuSans-61\"/>\n",
              "     <use x=\"165.869141\" xlink:href=\"#DejaVuSans-69\"/>\n",
              "     <use x=\"193.652344\" xlink:href=\"#DejaVuSans-6e\"/>\n",
              "     <use x=\"257.03125\" xlink:href=\"#DejaVuSans-3d\"/>\n",
              "     <use x=\"340.820312\" xlink:href=\"#DejaVuSans-47\"/>\n",
              "     <use x=\"418.310547\" xlink:href=\"#DejaVuSans-4f\"/>\n",
              "     <use x=\"497.021484\" xlink:href=\"#DejaVuSans-32\"/>\n",
              "     <use x=\"560.644531\" xlink:href=\"#DejaVuSans-31\"/>\n",
              "    </g>\n",
              "   </g>\n",
              "   <g id=\"text_4\">\n",
              "    <!-- source=GO23 -->\n",
              "    <g transform=\"translate(84.365 22.988437)scale(0.14 -0.14)\">\n",
              "     <defs>\n",
              "      <path d=\"M 2834 3397 \n",
              "L 2834 2853 \n",
              "Q 2591 2978 2328 3040 \n",
              "Q 2066 3103 1784 3103 \n",
              "Q 1356 3103 1142 2972 \n",
              "Q 928 2841 928 2578 \n",
              "Q 928 2378 1081 2264 \n",
              "Q 1234 2150 1697 2047 \n",
              "L 1894 2003 \n",
              "Q 2506 1872 2764 1633 \n",
              "Q 3022 1394 3022 966 \n",
              "Q 3022 478 2636 193 \n",
              "Q 2250 -91 1575 -91 \n",
              "Q 1294 -91 989 -36 \n",
              "Q 684 19 347 128 \n",
              "L 347 722 \n",
              "Q 666 556 975 473 \n",
              "Q 1284 391 1588 391 \n",
              "Q 1994 391 2212 530 \n",
              "Q 2431 669 2431 922 \n",
              "Q 2431 1156 2273 1281 \n",
              "Q 2116 1406 1581 1522 \n",
              "L 1381 1569 \n",
              "Q 847 1681 609 1914 \n",
              "Q 372 2147 372 2553 \n",
              "Q 372 3047 722 3315 \n",
              "Q 1072 3584 1716 3584 \n",
              "Q 2034 3584 2315 3537 \n",
              "Q 2597 3491 2834 3397 \n",
              "z\n",
              "\" id=\"DejaVuSans-73\" transform=\"scale(0.015625)\"/>\n",
              "      <path d=\"M 1959 3097 \n",
              "Q 1497 3097 1228 2736 \n",
              "Q 959 2375 959 1747 \n",
              "Q 959 1119 1226 758 \n",
              "Q 1494 397 1959 397 \n",
              "Q 2419 397 2687 759 \n",
              "Q 2956 1122 2956 1747 \n",
              "Q 2956 2369 2687 2733 \n",
              "Q 2419 3097 1959 3097 \n",
              "z\n",
              "M 1959 3584 \n",
              "Q 2709 3584 3137 3096 \n",
              "Q 3566 2609 3566 1747 \n",
              "Q 3566 888 3137 398 \n",
              "Q 2709 -91 1959 -91 \n",
              "Q 1206 -91 779 398 \n",
              "Q 353 888 353 1747 \n",
              "Q 353 2609 779 3096 \n",
              "Q 1206 3584 1959 3584 \n",
              "z\n",
              "\" id=\"DejaVuSans-6f\" transform=\"scale(0.015625)\"/>\n",
              "      <path d=\"M 3122 3366 \n",
              "L 3122 2828 \n",
              "Q 2878 2963 2633 3030 \n",
              "Q 2388 3097 2138 3097 \n",
              "Q 1578 3097 1268 2742 \n",
              "Q 959 2388 959 1747 \n",
              "Q 959 1106 1268 751 \n",
              "Q 1578 397 2138 397 \n",
              "Q 2388 397 2633 464 \n",
              "Q 2878 531 3122 666 \n",
              "L 3122 134 \n",
              "Q 2881 22 2623 -34 \n",
              "Q 2366 -91 2075 -91 \n",
              "Q 1284 -91 818 406 \n",
              "Q 353 903 353 1747 \n",
              "Q 353 2603 823 3093 \n",
              "Q 1294 3584 2113 3584 \n",
              "Q 2378 3584 2631 3529 \n",
              "Q 2884 3475 3122 3366 \n",
              "z\n",
              "\" id=\"DejaVuSans-63\" transform=\"scale(0.015625)\"/>\n",
              "      <path d=\"M 2597 2516 \n",
              "Q 3050 2419 3304 2112 \n",
              "Q 3559 1806 3559 1356 \n",
              "Q 3559 666 3084 287 \n",
              "Q 2609 -91 1734 -91 \n",
              "Q 1441 -91 1130 -33 \n",
              "Q 819 25 488 141 \n",
              "L 488 750 \n",
              "Q 750 597 1062 519 \n",
              "Q 1375 441 1716 441 \n",
              "Q 2309 441 2620 675 \n",
              "Q 2931 909 2931 1356 \n",
              "Q 2931 1769 2642 2001 \n",
              "Q 2353 2234 1838 2234 \n",
              "L 1294 2234 \n",
              "L 1294 2753 \n",
              "L 1863 2753 \n",
              "Q 2328 2753 2575 2939 \n",
              "Q 2822 3125 2822 3475 \n",
              "Q 2822 3834 2567 4026 \n",
              "Q 2313 4219 1838 4219 \n",
              "Q 1578 4219 1281 4162 \n",
              "Q 984 4106 628 3988 \n",
              "L 628 4550 \n",
              "Q 988 4650 1302 4700 \n",
              "Q 1616 4750 1894 4750 \n",
              "Q 2613 4750 3031 4423 \n",
              "Q 3450 4097 3450 3541 \n",
              "Q 3450 3153 3228 2886 \n",
              "Q 3006 2619 2597 2516 \n",
              "z\n",
              "\" id=\"DejaVuSans-33\" transform=\"scale(0.015625)\"/>\n",
              "     </defs>\n",
              "     <use xlink:href=\"#DejaVuSans-73\"/>\n",
              "     <use x=\"52.099609\" xlink:href=\"#DejaVuSans-6f\"/>\n",
              "     <use x=\"113.28125\" xlink:href=\"#DejaVuSans-75\"/>\n",
              "     <use x=\"176.660156\" xlink:href=\"#DejaVuSans-72\"/>\n",
              "     <use x=\"215.523438\" xlink:href=\"#DejaVuSans-63\"/>\n",
              "     <use x=\"270.503906\" xlink:href=\"#DejaVuSans-65\"/>\n",
              "     <use x=\"332.027344\" xlink:href=\"#DejaVuSans-3d\"/>\n",
              "     <use x=\"415.816406\" xlink:href=\"#DejaVuSans-47\"/>\n",
              "     <use x=\"493.306641\" xlink:href=\"#DejaVuSans-4f\"/>\n",
              "     <use x=\"572.017578\" xlink:href=\"#DejaVuSans-32\"/>\n",
              "     <use x=\"635.640625\" xlink:href=\"#DejaVuSans-33\"/>\n",
              "    </g>\n",
              "   </g>\n",
              "  </g>\n",
              " </g>\n",
              " <defs>\n",
              "  <clipPath id=\"p447d276ec9\">\n",
              "   <rect height=\"90.95\" width=\"182.835\" x=\"20.421087\" y=\"7.2\"/>\n",
              "  </clipPath>\n",
              " </defs>\n",
              "</svg>\n"
            ],
            "text/plain": [
              "<schemdraw.backends.mpl.Figure object at 0x7f5f179a1940>"
            ]
          },
          "execution_count": 26,
          "metadata": {},
          "output_type": "execute_result"
        }
      ]
    },
    {
      "cell_type": "markdown",
      "metadata": {
        "id": "YZa3iAvcUUhR"
      },
      "source": [
        "* What will be the fixed value for bulk, source and drain voltages?"
      ]
    },
    {
      "cell_type": "markdown",
      "metadata": {
        "id": "LF1Y8Dk-UUhR"
      },
      "source": [
        "* For very close voltages, you may want to call `get_set_voltage` to check the actual output of the DAC."
      ]
    },
    {
      "cell_type": "code",
      "metadata": {
        "tags": [],
        "id": "vu1UwRgGUUhS",
        "outputId": "0d32012c-40f7-4a51-b550-38762aa98907"
      },
      "source": [
        "# set bulk voltage\n",
        "p.set_voltage(pyplane.DacChannel.AIN1, 1.8)\n",
        "Vb_p = p.get_set_voltage(pyplane.DacChannel.AIN1)\n",
        "print(\"The bulk voltage is set to {} V\".format(Vb_p))\n",
        "time.sleep(0.1)  # wait 0.1s for it to settle\n",
        "\n",
        "# set source voltage\n",
        "p.set_voltage(pyplane.DacChannel.GO23, 1.8)\n",
        "Vs_p = p.get_set_voltage(pyplane.DacChannel.GO23)\n",
        "print(\"The source voltage is set to {} V\".format(Vs_p))\n",
        "time.sleep(0.1)  # wait 0.1s for it to settle\n",
        "\n",
        "# set drain voltage\n",
        "p.set_voltage(pyplane.DacChannel.GO21, 0.0)\n",
        "Vd_p = p.get_set_voltage(pyplane.DacChannel.GO21)\n",
        "print(\"The drain voltage is set to {} V\".format(Vd_p))\n",
        "time.sleep(0.1)  # wait for it to settle\n",
        "\n",
        "# set gate voltage\n",
        "p.set_voltage(pyplane.DacChannel.AIN0, 0.0)\n",
        "Vg_p = p.get_set_voltage(pyplane.DacChannel.AIN0)\n",
        "print(\"The gate voltage is set to {} V\".format(Vg_p))\n",
        "# set drain voltage\n",
        "\n",
        "# Print I_ds for checking \n",
        "Is_p = p.read_current(pyplane.AdcChannel.GO21_N)\n",
        "print(\"The measured source current of PMOS is {} A\".format(Is_p))"
      ],
      "execution_count": null,
      "outputs": [
        {
          "name": "stdout",
          "output_type": "stream",
          "text": [
            "The bulk voltage is set to 1.7982406616210938 V\n",
            "The source voltage is set to 1.7982406616210938 V\n",
            "The drain voltage is set to 0.0 V\n",
            "The gate voltage is set to 0.0 V\n",
            "The measured source current of PMOS is 9.97314373307745e-07 A\n"
          ]
        }
      ]
    },
    {
      "cell_type": "markdown",
      "metadata": {
        "id": "tHd6C-LqUUhS"
      },
      "source": [
        "* Data aquisition"
      ]
    },
    {
      "cell_type": "code",
      "metadata": {
        "id": "3g0op7raUUhS",
        "outputId": "b9a2481d-27f5-4eb3-fc03-c7243d7de13f"
      },
      "source": [
        "# sweep gate voltage\n",
        "import time\n",
        "\n",
        "# Get the leakage current, Read Ids=Ids0 at Vg = 0\n",
        "p.set_voltage(pyplane.DacChannel.AIN0,0) \n",
        "time.sleep(0.5) # wait 0.5 second for it to settle\n",
        "Is0_n = p.read_current(pyplane.AdcChannel.GO21_N)\n",
        "print(\"Offset Is0_n: {} A\".format(Is0_n))\n",
        "\n",
        "# Initialize variables\n",
        "number = 100\n",
        "Vg_sets = np.linspace(1.6,0.8,num = number).reshape(-1,1)\n",
        "Is_sets = np.zeros(number).reshape(-1,1)\n",
        "\n",
        "#Sweep gate voltage\n",
        "for n in range(number):\n",
        "    # set gate voltage\n",
        "    p.set_voltage(pyplane.DacChannel.AIN0,Vg_sets[n])\n",
        "    postlab = p.get_set_voltage(pyplane.DacChannel.AIN0)\n",
        "    \n",
        "    time.sleep(0.05)  # wait for it to settle\n",
        "    \n",
        "    # read I_{ds}\n",
        "    Is_set = p.read_current(pyplane.AdcChannel.GO21_N)\n",
        "    \n",
        "    # substract leakage current \n",
        "    Is_sets[n] = -(Is_set - Is0_n) "
      ],
      "execution_count": null,
      "outputs": [
        {
          "name": "stdout",
          "output_type": "stream",
          "text": [
            "Offset Is0_n: 9.97314373307745e-07 A\n"
          ]
        }
      ]
    },
    {
      "cell_type": "code",
      "metadata": {
        "id": "G20ZoLIeUUhT",
        "outputId": "320a82c6-a985-49c4-9d5f-04917209d338"
      },
      "source": [
        "# plot in linear scale\n",
        "import matplotlib.pyplot as plt\n",
        "plt.rcParams.update({'font.size': 14})\n",
        "plt.plot(Vg_sets,Is_sets,'.b-')\n",
        "plt.xlabel('Vg (V)')\n",
        "plt.ylabel('Ids (A)')"
      ],
      "execution_count": null,
      "outputs": [
        {
          "data": {
            "text/plain": [
              "Text(0, 0.5, 'Ids (A)')"
            ]
          },
          "execution_count": 29,
          "metadata": {},
          "output_type": "execute_result"
        },
        {
          "data": {
            "image/png": "[encoded data removed]",
            "text/plain": [
              "<Figure size 432x288 with 1 Axes>"
            ]
          },
          "metadata": {
            "needs_background": "light"
          },
          "output_type": "display_data"
        }
      ]
    },
    {
      "cell_type": "code",
      "metadata": {
        "id": "dqdgID3WUUhT"
      },
      "source": [
        "# if the data looks nice, save it!\n",
        "Lab2_data_pFETVgIds_Omic = [Vg_sets.reshape(number),Is_sets.reshape(number)]\n",
        "np.savetxt('./data/lab2_52_VgIds.csv', Lab2_data_pFETVgIds_Omic, delimiter=',')"
      ],
      "execution_count": null,
      "outputs": []
    },
    {
      "cell_type": "code",
      "metadata": {
        "id": "kB3EfPQwUUhT",
        "outputId": "04fc01be-6c56-4f9e-c2cc-fb2a6065d39f"
      },
      "source": [
        "# Load data you saved and plot, to check if the data is saved correctly or not\n",
        "Vgn_save, Isn_save = np.loadtxt('./data/lab2_52_VgIds.csv',delimiter=\",\")\n",
        "plt.rcParams.update({'font.size': 14})\n",
        "plt.plot(Vgn_save, Isn_save, '.k')\n",
        "plt.xlabel('Vg(V)')\n",
        "plt.ylabel('Ids(A)')\n",
        "plt.grid()\n",
        "plt.show()"
      ],
      "execution_count": null,
      "outputs": [
        {
          "data": {
            "image/png": "[encoded data removed]",
            "text/plain": [
              "<Figure size 432x288 with 1 Axes>"
            ]
          },
          "metadata": {
            "needs_background": "light"
          },
          "output_type": "display_data"
        }
      ]
    },
    {
      "cell_type": "code",
      "metadata": {
        "id": "qu3snIDqUUhV"
      },
      "source": [
        "# extract the valid range\n",
        "Vg_clip = Vgn_save[(Vgn_save> 1.05) & (Vgn_save < 1.25)]\n",
        "Ids_clip = Isn_save[(Vgn_save> 1.05) & (Vgn_save < 1.25)]"
      ],
      "execution_count": null,
      "outputs": []
    },
    {
      "cell_type": "code",
      "metadata": {
        "id": "wQt-7K9eUUhV",
        "outputId": "fc8755f1-8b28-4ac6-b435-c2be2e790476"
      },
      "source": [
        "# fit in the valid range (you may want to go back and add the fitted line in the plot)\n",
        "fit = np.polyfit(Vg_clip,Ids_clip,1)\n",
        "print('slope:',fit[0])\n",
        "plt.rcParams.update({'font.size': 14})\n",
        "plt.title('pFET ohmic region')\n",
        "plt.plot(Vgn_save, Isn_save, '.k-')\n",
        "plt.plot(Vgn_save, np.clip(Vgn_save*fit[0]+fit[1],a_min=0,a_max = 1),'.r--')\n",
        "plt.xlabel('Vg(V)')\n",
        "plt.ylabel('Ids(A)')\n",
        "plt.legend(['measurements','fitting'])\n",
        "plt.grid()\n",
        "plt.show()"
      ],
      "execution_count": null,
      "outputs": [
        {
          "name": "stdout",
          "output_type": "stream",
          "text": [
            "slope: 4.392650922755929e-06\n"
          ]
        },
        {
          "data": {
            "image/png": "[encoded data removed]",
            "text/plain": [
              "<Figure size 432x288 with 1 Axes>"
            ]
          },
          "metadata": {
            "needs_background": "light"
          },
          "output_type": "display_data"
        }
      ]
    },
    {
      "cell_type": "markdown",
      "metadata": {
        "id": "kuC-eb5lUUhW"
      },
      "source": [
        "**(c)** Determine $V_{T0}$ and $\\beta$ for both devices by fitting your data to the expression derived in the prelab"
      ]
    },
    {
      "cell_type": "code",
      "metadata": {
        "id": "8m104_uVUUhW",
        "outputId": "f3a7026a-7e52-492d-eacf-3c7097ecd97a"
      },
      "source": [
        "# V_T0\n",
        "v_t0 = -fit[1]/fit[0]\n",
        "print('V_T0 =',v_t0, 'V')"
      ],
      "execution_count": null,
      "outputs": [
        {
          "name": "stdout",
          "output_type": "stream",
          "text": [
            "V_T0 = 1.0487391841175144 V\n"
          ]
        }
      ]
    },
    {
      "cell_type": "code",
      "metadata": {
        "id": "a6KSFdpZUUhW",
        "outputId": "0e61cc6d-a33a-460a-c04a-e5a87fe29d75"
      },
      "source": [
        "# beta\n",
        "vs = 1.8\n",
        "betap = fit[0]/vs\n",
        "print('beta_n =',betap*1e6, 'uA/V/V') "
      ],
      "execution_count": null,
      "outputs": [
        {
          "name": "stdout",
          "output_type": "stream",
          "text": [
            "beta_n = 2.440361623753294 uA/V/V\n"
          ]
        }
      ]
    },
    {
      "cell_type": "markdown",
      "metadata": {
        "id": "FwKMuqcYUUhW"
      },
      "source": [
        "## 5.3 Comparisons"
      ]
    },
    {
      "cell_type": "markdown",
      "metadata": {
        "id": "y2yP8dkHUUhW"
      },
      "source": [
        "* Include a single plot showing the curves for both devices."
      ]
    },
    {
      "cell_type": "code",
      "metadata": {
        "id": "C3HAegElUUhX",
        "outputId": "12fd6f46-bdce-445f-cb54-9940af57a6d8"
      },
      "source": [
        "# plot both Ids vs |Vgs|\n",
        "Vgn_save, Isn_save = np.loadtxt('./data/lab2_51_VgIds.csv',delimiter=\",\")\n",
        "plt.rcParams.update({'font.size': 14})\n",
        "plt.plot(Vgn_save, Isn_save, 'r.-')\n",
        "Vgp_save, Idp_save = np.loadtxt('./data/lab2_52_VgIds.csv',delimiter=\",\")\n",
        "plt.rcParams.update({'font.size': 14})\n",
        "plt.plot(Vgn_save, Idp_save, 'b.-')\n",
        "plt.title('Comparison')\n",
        "plt.xlabel('Vgs (V)')\n",
        "plt.ylabel('Ids (A)')\n",
        "plt.xlim([-2,2])\n",
        "plt.legend(['nFET','pFET'])\n",
        "plt.grid()\n",
        "plt.show()"
      ],
      "execution_count": null,
      "outputs": [
        {
          "data": {
            "image/png": "[encoded data removed]",
            "text/plain": [
              "<Figure size 432x288 with 1 Axes>"
            ]
          },
          "metadata": {
            "needs_background": "light"
          },
          "output_type": "display_data"
        }
      ]
    },
    {
      "cell_type": "markdown",
      "metadata": {
        "id": "qTyU7D_UUUhX"
      },
      "source": [
        "* What is the ratio between $\\beta$ for the 2 devices? Does it make sense?"
      ]
    },
    {
      "cell_type": "code",
      "metadata": {
        "id": "ntE2ivX7UUhY",
        "outputId": "d5742ffc-85ee-4de4-c1af-87c6a240d115"
      },
      "source": [
        "betan/betap"
      ],
      "execution_count": null,
      "outputs": [
        {
          "data": {
            "text/plain": [
              "1.078630017620952"
            ]
          },
          "execution_count": 40,
          "metadata": {},
          "output_type": "execute_result"
        }
      ]
    },
    {
      "cell_type": "markdown",
      "metadata": {
        "id": "P2kkkg5qUUhe"
      },
      "source": [
        "<b> Yes, holes have a lower mobility because they are subjected to a stronger atomic force exerted by the nucleus compared to electrons residing in the higher shells. </b>"
      ]
    },
    {
      "cell_type": "markdown",
      "metadata": {
        "id": "NW6BcqYOUUhe"
      },
      "source": [
        "* Is the relationship between $I_{ds}$ and $V_{gs}-V_T$ really linear? What is likely the cause of any discrepancy?"
      ]
    },
    {
      "cell_type": "markdown",
      "metadata": {
        "id": "nl4IJkTmUUhe"
      },
      "source": [
        "<b> No, in above threshold the relationship is affected by $1/\\kappa$  which is the efficiency of the source in raising the threshold voltage <b>"
      ]
    },
    {
      "cell_type": "markdown",
      "metadata": {
        "id": "m6JtZYaqUUhf"
      },
      "source": [
        "## 5.4 Effective surface mobility (optional)"
      ]
    },
    {
      "cell_type": "markdown",
      "metadata": {
        "id": "0-9hE0ASUUhf"
      },
      "source": [
        "Hint: Use the $V_{T0}$ you obtained in the last experiments but assume $\\beta$ changes with $V_{gs}$ (thus $\\mu_n$ and $\\mu_p$ changes). **No need to measure again.**"
      ]
    },
    {
      "cell_type": "code",
      "metadata": {
        "id": "V-peVwITUUhf"
      },
      "source": [
        "# plot mu vs Vgs for both devices in the same figure"
      ],
      "execution_count": null,
      "outputs": []
    },
    {
      "cell_type": "markdown",
      "metadata": {
        "id": "dBAuwwxjUUhf"
      },
      "source": [
        "- Why does the mobility peak and then decay instead of remaining constant? "
      ]
    },
    {
      "cell_type": "markdown",
      "metadata": {
        "id": "sx3T9sWRUUhg"
      },
      "source": [
        ""
      ]
    },
    {
      "cell_type": "markdown",
      "metadata": {
        "id": "US1M1q75UUhg"
      },
      "source": [
        "- What is the ratio between the peak mobilities for electrons and holes?"
      ]
    },
    {
      "cell_type": "markdown",
      "metadata": {
        "id": "yLeCrAezUUhg"
      },
      "source": [
        ""
      ]
    },
    {
      "cell_type": "markdown",
      "metadata": {
        "id": "XjemZrYiUUhg"
      },
      "source": [
        "- How different are these values from the bulk mobilities for electrons (1350 ${\\rm cm^2/V/s}$) and holes (480 ${\\rm cm^2/V/s}$)? "
      ]
    },
    {
      "cell_type": "markdown",
      "metadata": {
        "id": "xPV1AOaNUUhg"
      },
      "source": [
        ""
      ]
    },
    {
      "cell_type": "markdown",
      "metadata": {
        "id": "eDX3-7OsUUhg"
      },
      "source": [
        "# 6 Drain Current in the saturation region"
      ]
    },
    {
      "cell_type": "markdown",
      "metadata": {
        "id": "RsS5soAFUUhh"
      },
      "source": [
        "## 6.1 N-FET"
      ]
    },
    {
      "cell_type": "markdown",
      "metadata": {
        "id": "TEyL8ZRRUUhh"
      },
      "source": [
        "**(a)** Configure the chip following [Section 4.2](#config_nfet) if you haven't"
      ]
    },
    {
      "cell_type": "code",
      "metadata": {
        "id": "WsFFEbpOUUhh"
      },
      "source": [
        "# Configure NFET, set the input voltage demultiplexer by AER event.  \n",
        "# Note selectlines we should choose for the NFET\n",
        "events = [pyplane.Coach.generate_aerc_event( \\\n",
        "    pyplane.Coach.CurrentOutputSelect.SelectLine5, \\\n",
        "    pyplane.Coach.VoltageOutputSelect.NoneSelected, \\\n",
        "    pyplane.Coach.VoltageInputSelect.SelectLine2, \\\n",
        "    pyplane.Coach.SynapseSelect.NoneSelected, 0)]\n",
        "\n",
        "p.send_coach_events(events)"
      ],
      "execution_count": null,
      "outputs": []
    },
    {
      "cell_type": "markdown",
      "metadata": {
        "id": "0ebNLfurUUhh"
      },
      "source": [
        "**(b)** Measure $I_{ds}$ as a function of $V_g$ in saturation region"
      ]
    },
    {
      "cell_type": "markdown",
      "metadata": {
        "id": "29A_jphXUUhi"
      },
      "source": [
        "* What will be the fixed value for source and drain voltages?"
      ]
    },
    {
      "cell_type": "code",
      "metadata": {
        "id": "UjDz8Dg0UUhi",
        "outputId": "01555bfe-6dc6-486c-f3e3-6d9d3a38ef05"
      },
      "source": [
        "# set source voltage\n",
        "vs = 0.0\n",
        "src = p.set_voltage(pyplane.DacChannel.GO20,vs)       \n",
        "print(\"The source voltage is set to {} V\".format(src))\n",
        "\n",
        "# set drain voltage\n",
        "vd = 1.8\n",
        "drain= p.set_voltage(pyplane.DacChannel.GO22,vd)\n",
        "print(\"The drain voltage is set to {} V\".format(drain))"
      ],
      "execution_count": null,
      "outputs": [
        {
          "name": "stdout",
          "output_type": "stream",
          "text": [
            "The source voltage is set to 0.0 V\n",
            "The drain voltage is set to 1.7982406616210938 V\n"
          ]
        }
      ]
    },
    {
      "cell_type": "markdown",
      "metadata": {
        "id": "Rej0uJSOUUhi"
      },
      "source": [
        "* For very close voltages, you may want to call `get_set_voltage` to check the actual output of the DAC."
      ]
    },
    {
      "cell_type": "code",
      "metadata": {
        "id": "Dc1W_-pUUUhi",
        "outputId": "aaca8278-3a89-4b62-e3cb-5d4d55820055"
      },
      "source": [
        "# get set voltage\n",
        "Vs_n = p.get_set_voltage(pyplane.DacChannel.GO20)\n",
        "print(\"The source voltage is set to {} V\".format(Vs_n))\n",
        "\n",
        "time.sleep(0.1)  # wait for it to settle\n",
        "\n",
        "# get set voltage\n",
        "Vd_n = p.get_set_voltage(pyplane.DacChannel.GO22)\n",
        "print(\"The drain voltage is set to {} V\".format(Vd_n))"
      ],
      "execution_count": null,
      "outputs": [
        {
          "name": "stdout",
          "output_type": "stream",
          "text": [
            "The source voltage is set to 0.0 V\n",
            "The drain voltage is set to 1.7982406616210938 V\n"
          ]
        }
      ]
    },
    {
      "cell_type": "markdown",
      "metadata": {
        "id": "h_tenMJmUUhk"
      },
      "source": [
        "* Data aquisition"
      ]
    },
    {
      "cell_type": "code",
      "metadata": {
        "id": "zl2AIGqjUUhk",
        "outputId": "8dce21dc-da83-4d42-8771-e7df9a605801"
      },
      "source": [
        "# sweep gate voltage\n",
        "import time\n",
        "\n",
        "# Get the leakage current, Read Ids=Ids0 at Vg = 0\n",
        "p.set_voltage(pyplane.DacChannel.AIN0,0.0) \n",
        "time.sleep(0.5) # wait 0.5 second for it to settle\n",
        "Is0_n = p.read_current(pyplane.AdcChannel.GO20_N)\n",
        "print(\"Offset Is0_n: {} A\".format(Is0_n))\n",
        "\n",
        "# Initialize variables\n",
        "number = 100\n",
        "Vg_sets = np.linspace(0.00,1.8,num = number).reshape(-1,1)\n",
        "Is_sets = np.zeros(number).reshape(-1,1)\n",
        "\n",
        "#Sweep gate voltage\n",
        "for n in range(number):\n",
        "    # set gate voltage\n",
        "    p.set_voltage(pyplane.DacChannel.AIN0,Vg_sets[n])\n",
        "    postlab = p.get_set_voltage(pyplane.DacChannel.AIN0)\n",
        "    \n",
        "    time.sleep(0.05)  # wait for it to settle\n",
        "    \n",
        "    # read I_{ds}\n",
        "    Is_set = p.read_current(pyplane.AdcChannel.GO20_N)\n",
        "    \n",
        "    # substract leakage current \n",
        "    Is_sets[n] = Is_set - Is0_n     "
      ],
      "execution_count": null,
      "outputs": [
        {
          "name": "stdout",
          "output_type": "stream",
          "text": [
            "Offset Is0_n: 4.394530961349119e-09 A\n"
          ]
        }
      ]
    },
    {
      "cell_type": "code",
      "metadata": {
        "id": "u84vXevXUUhl",
        "outputId": "26e0e6a0-2a37-4ae6-80d0-63b1bc3a5e48"
      },
      "source": [
        "# plot in linear scale\n",
        "plt.rcParams.update({'font.size': 14})\n",
        "plt.plot(Vg_sets,Is_sets,'.b-')\n",
        "plt.xlabel('Vg (V)')\n",
        "plt.ylabel('Ids (A)')"
      ],
      "execution_count": null,
      "outputs": [
        {
          "data": {
            "text/plain": [
              "Text(0, 0.5, 'Ids (A)')"
            ]
          },
          "execution_count": 48,
          "metadata": {},
          "output_type": "execute_result"
        },
        {
          "data": {
            "image/png": "[encoded data removed]",
            "text/plain": [
              "<Figure size 432x288 with 1 Axes>"
            ]
          },
          "metadata": {
            "needs_background": "light"
          },
          "output_type": "display_data"
        }
      ]
    },
    {
      "cell_type": "code",
      "metadata": {
        "id": "is1726dYUUhl"
      },
      "source": [
        "# if the data looks nice, save it!\n",
        "Lab2_data_nFETVgIds_Omic = [Vg_sets.reshape(number),Is_sets.reshape(number)]\n",
        "np.savetxt('./data/lab2_61_VgIds.csv', Lab2_data_nFETVgIds_Omic, delimiter=',')"
      ],
      "execution_count": null,
      "outputs": []
    },
    {
      "cell_type": "code",
      "metadata": {
        "id": "dYxza8WwUUhl",
        "outputId": "98ebe214-604e-4ace-985c-74dae22fb03a"
      },
      "source": [
        "# Load data you saved and plot, to check if the data is saved correctly or not\n",
        "Vgn_save, Isn_save = np.loadtxt('./data/lab2_61_VgIds.csv',delimiter=\",\")\n",
        "plt.rcParams.update({'font.size': 14})\n",
        "plt.plot(Vgn_save, Isn_save, '.k')\n",
        "plt.xlabel('Vg(V)')\n",
        "plt.ylabel('Ids(A)')\n",
        "plt.grid()\n",
        "plt.show()"
      ],
      "execution_count": null,
      "outputs": [
        {
          "data": {
            "image/png": "[encoded data removed]",
            "text/plain": [
              "<Figure size 432x288 with 1 Axes>"
            ]
          },
          "metadata": {
            "needs_background": "light"
          },
          "output_type": "display_data"
        }
      ]
    },
    {
      "cell_type": "code",
      "metadata": {
        "id": "ajjKlrLbUUhm"
      },
      "source": [
        "# extract the valid range\n",
        "Vg_clip = Vgn_save[(Vgn_save> 0.4) & (Vgn_save < 1.3)]\n",
        "Ids_clip = Isn_save[(Vgn_save> 0.4) & (Vgn_save < 1.3)]"
      ],
      "execution_count": null,
      "outputs": []
    },
    {
      "cell_type": "code",
      "metadata": {
        "id": "CPzj0s5aUUhm",
        "outputId": "a4f0d1c6-110e-4b3a-c5c2-eb4767f6372f"
      },
      "source": [
        "# fit in the valid range (you may want to go back and add the fitted line in the plot)\n",
        "fit = np.polyfit(Vg_clip,Ids_clip,2)\n",
        "print('slope:',fit[0])\n",
        "plt.rcParams.update({'font.size': 14})\n",
        "plt.title('nFET saturation region')\n",
        "plt.plot(Vgn_save, Isn_save, '.k-')\n",
        "plt.plot(Vgn_save, np.clip(Vgn_save**2*fit[0]+Vgn_save*fit[1]+fit[2],a_min=0,a_max = 1),'.r--')\n",
        "plt.xlabel('Vg(V)')\n",
        "plt.ylabel('Ids(A)')\n",
        "plt.legend(['measurements','fitting'])\n",
        "plt.grid()\n",
        "plt.show()"
      ],
      "execution_count": null,
      "outputs": [
        {
          "name": "stdout",
          "output_type": "stream",
          "text": [
            "slope: -3.1375150336087493e-06\n"
          ]
        },
        {
          "data": {
            "image/png": "[encoded data removed]",
            "text/plain": [
              "<Figure size 432x288 with 1 Axes>"
            ]
          },
          "metadata": {
            "needs_background": "light"
          },
          "output_type": "display_data"
        }
      ]
    },
    {
      "cell_type": "markdown",
      "metadata": {
        "id": "KRnQX573UUhm"
      },
      "source": [
        "**(c)** Determine $V_{T0}$ and $\\beta$ for both devices by fitting your data to the expression derived in the prelab"
      ]
    },
    {
      "cell_type": "markdown",
      "metadata": {
        "id": "WAwCQDisUUhn"
      },
      "source": [
        "In this experiment you will characterize the _quadratic_ dependence of the current on the gate\n",
        "voltage in the saturation region. "
      ]
    },
    {
      "cell_type": "code",
      "metadata": {
        "id": "vhGAHJ24UUhn",
        "outputId": "e9d5ddcb-4d01-49cd-c5b2-66a8c1f0fd72"
      },
      "source": [
        "import math\n",
        "# V_T0\n",
        "v_t0a = (-fit[1]+math.sqrt(fit[1]**2-4*fit[0]*fit[2]))/2*fit[0]\n",
        "#v_t0b = (-fit[1]-math.sqrt(fit[1]**2-4*fit[0]*fit[2]))/2*fit[0]\n",
        "print('V_T0a =',v_t0a, 'V')\n",
        "#print('V_T0b =',v_t0b, 'V')"
      ],
      "execution_count": null,
      "outputs": [
        {
          "name": "stdout",
          "output_type": "stream",
          "text": [
            "V_T0a = 3.978359590481999e-12 V\n"
          ]
        }
      ]
    },
    {
      "cell_type": "code",
      "metadata": {
        "id": "C41XS_NEUUhn",
        "outputId": "6567645b-87d7-43f5-9b97-436fc67f1278"
      },
      "source": [
        "# beta => m/Vd\n",
        "\n",
        "vd = 1.8\n",
        "betan = fit[0]/vd**2+fit[1]/vd\n",
        "print('beta_n =',betan*1e6, 'uA/V/V')"
      ],
      "execution_count": null,
      "outputs": [
        {
          "name": "stdout",
          "output_type": "stream",
          "text": [
            "beta_n = 2.505156777521255 uA/V/V\n"
          ]
        }
      ]
    },
    {
      "cell_type": "markdown",
      "metadata": {
        "id": "O-1zxmW6UUho"
      },
      "source": [
        "## 6.2 P-FET"
      ]
    },
    {
      "cell_type": "markdown",
      "metadata": {
        "id": "xcDtPbKeUUho"
      },
      "source": [
        "**(a)** Configure the chip following [Section 4.3](#config_pfet) if you haven't"
      ]
    },
    {
      "cell_type": "code",
      "metadata": {
        "id": "dzVmDAF8UUho"
      },
      "source": [
        "# Configure PFET, set the input voltage demultiplexer by AER event. \n",
        "# Note selectlines we should choose for the PFET\n",
        "events = [pyplane.Coach.generate_aerc_event( \\\n",
        "    pyplane.Coach.CurrentOutputSelect.SelectLine5, \\\n",
        "    pyplane.Coach.VoltageOutputSelect.NoneSelected, \\\n",
        "    pyplane.Coach.VoltageInputSelect.SelectLine1, \\\n",
        "    pyplane.Coach.SynapseSelect.NoneSelected, 0)]\n",
        "\n",
        "p.send_coach_events(events)"
      ],
      "execution_count": null,
      "outputs": []
    },
    {
      "cell_type": "markdown",
      "metadata": {
        "id": "_Utu1piSUUhr"
      },
      "source": [
        "**(b)** Measure $I_{ds}$ as a function of $V_g$ in saturation region"
      ]
    },
    {
      "cell_type": "code",
      "metadata": {
        "id": "cFSTswP7UUhr",
        "outputId": "9c3ac45d-480e-4862-8ffc-ea13d0243640"
      },
      "source": [
        "# uses schemdraw, you may have to install it in order to run it on your PC\n",
        "import schemdraw\n",
        "import schemdraw.elements as elm\n",
        "d = schemdraw.Drawing()\n",
        "Q = d.add(elm.PFet, reverse=True, bulk=True)\n",
        "d.add(elm.Dot, xy=Q.gate, lftlabel='gate=AIN0')\n",
        "d.add(elm.Dot, xy=Q.bulk, rgtlabel='bulk=AIN1')\n",
        "d.add(elm.Dot, xy=Q.drain, botlabel='drain=GO21')\n",
        "d.add(elm.Dot, xy=Q.source, toplabel='source=GO23')\n",
        "d.draw()"
      ],
      "execution_count": null,
      "outputs": [
        {
          "data": {
            "image/png": "[encoded data removed]",
            "image/svg+xml": [
              "<?xml version=\"1.0\" encoding=\"utf-8\" standalone=\"no\"?>\n",
              "<!DOCTYPE svg PUBLIC \"-//W3C//DTD SVG 1.1//EN\"\n",
              "  \"http://www.w3.org/Graphics/SVG/1.1/DTD/svg11.dtd\">\n",
              "<svg height=\"105.35pt\" version=\"1.1\" viewBox=\"0 0 220.445938 105.35\" width=\"220.445938pt\" xmlns=\"http://www.w3.org/2000/svg\" xmlns:xlink=\"http://www.w3.org/1999/xlink\">\n",
              " <metadata>\n",
              "  <rdf:RDF xmlns:cc=\"http://creativecommons.org/ns#\" xmlns:dc=\"http://purl.org/dc/elements/1.1/\" xmlns:rdf=\"http://www.w3.org/1999/02/22-rdf-syntax-ns#\">\n",
              "   <cc:Work>\n",
              "    <dc:type rdf:resource=\"http://purl.org/dc/dcmitype/StillImage\"/>\n",
              "    <dc:date>2021-10-17T22:09:09.824827</dc:date>\n",
              "    <dc:format>image/svg+xml</dc:format>\n",
              "    <dc:creator>\n",
              "     <cc:Agent>\n",
              "      <dc:title>Matplotlib v3.4.3, https://matplotlib.org/</dc:title>\n",
              "     </cc:Agent>\n",
              "    </dc:creator>\n",
              "   </cc:Work>\n",
              "  </rdf:RDF>\n",
              " </metadata>\n",
              " <defs>\n",
              "  <style type=\"text/css\">*{stroke-linecap:butt;stroke-linejoin:round;}</style>\n",
              " </defs>\n",
              " <g id=\"figure_1\">\n",
              "  <g id=\"patch_1\">\n",
              "   <path d=\"M 0 105.35 \n",
              "L 220.445937 105.35 \n",
              "L 220.445937 0 \n",
              "L 0 0 \n",
              "z\n",
              "\" style=\"fill:none;\"/>\n",
              "  </g>\n",
              "  <g id=\"axes_1\">\n",
              "   <g id=\"patch_2\">\n",
              "    <path clip-path=\"url(#pbca7b0955d)\" d=\"M 101.694688 57.775 \n",
              "C 102.641463 57.775 103.549588 57.398842 104.219059 56.729371 \n",
              "C 104.88853 56.0599 105.264688 55.151775 105.264688 54.205 \n",
              "C 105.264688 53.258225 104.88853 52.3501 104.219059 51.680629 \n",
              "C 103.549588 51.011158 102.641463 50.635 101.694688 50.635 \n",
              "C 100.747912 50.635 99.839787 51.011158 99.170316 51.680629 \n",
              "C 98.500845 52.3501 98.124688 53.258225 98.124688 54.205 \n",
              "C 98.124688 55.151775 98.500845 56.0599 99.170316 56.729371 \n",
              "C 99.839787 57.398842 100.747912 57.775 101.694688 57.775 \n",
              "z\n",
              "\" style=\"fill:none;stroke:#000000;stroke-linejoin:miter;stroke-width:2;\"/>\n",
              "   </g>\n",
              "   <g id=\"patch_3\">\n",
              "    <path clip-path=\"url(#pbca7b0955d)\" d=\"M 119.034688 57.265 \n",
              "L 112.914688 54.205 \n",
              "L 119.034688 51.145 \n",
              "z\n",
              "\"/>\n",
              "   </g>\n",
              "   <g id=\"line2d_1\">\n",
              "    <path clip-path=\"url(#pbca7b0955d)\" d=\"M 133.314688 77.155 \n",
              "L 133.314688 64.405 \n",
              "L 112.914688 64.405 \n",
              "L 112.914688 44.005 \n",
              "L 133.314688 44.005 \n",
              "L 133.314688 31.255 \n",
              "\" style=\"fill:none;stroke:#000000;stroke-linecap:round;stroke-width:2;\"/>\n",
              "   </g>\n",
              "   <g id=\"line2d_2\">\n",
              "    <path clip-path=\"url(#pbca7b0955d)\" d=\"M 105.264688 64.405 \n",
              "L 105.264688 44.005 \n",
              "\" style=\"fill:none;stroke:#000000;stroke-linecap:round;stroke-width:2;\"/>\n",
              "   </g>\n",
              "   <g id=\"line2d_3\">\n",
              "    <path clip-path=\"url(#pbca7b0955d)\" d=\"M 88.944688 54.205 \n",
              "L 98.124688 54.205 \n",
              "\" style=\"fill:none;stroke:#000000;stroke-linecap:round;stroke-width:2;\"/>\n",
              "   </g>\n",
              "   <g id=\"line2d_4\">\n",
              "    <path clip-path=\"url(#pbca7b0955d)\" d=\"M 133.314688 54.205 \n",
              "L 119.034688 54.205 \n",
              "\" style=\"fill:none;stroke:#000000;stroke-linecap:square;stroke-width:2;\"/>\n",
              "   </g>\n",
              "   <g id=\"patch_4\">\n",
              "    <path clip-path=\"url(#pbca7b0955d)\" d=\"M 88.944688 56.5 \n",
              "C 89.553329 56.5 90.137123 56.258184 90.567498 55.82781 \n",
              "C 90.997872 55.397436 91.239688 54.813641 91.239688 54.205 \n",
              "C 91.239688 53.596359 90.997872 53.012564 90.567498 52.58219 \n",
              "C 90.137123 52.151816 89.553329 51.91 88.944688 51.91 \n",
              "C 88.336046 51.91 87.752252 52.151816 87.321877 52.58219 \n",
              "C 86.891503 53.012564 86.649688 53.596359 86.649688 54.205 \n",
              "C 86.649688 54.813641 86.891503 55.397436 87.321877 55.82781 \n",
              "C 87.752252 56.258184 88.336046 56.5 88.944688 56.5 \n",
              "z\n",
              "\" style=\"stroke:#000000;stroke-linejoin:miter;stroke-width:2;\"/>\n",
              "   </g>\n",
              "   <g id=\"patch_5\">\n",
              "    <path clip-path=\"url(#pbca7b0955d)\" d=\"M 133.314688 56.5 \n",
              "C 133.923329 56.5 134.507123 56.258184 134.937498 55.82781 \n",
              "C 135.367872 55.397436 135.609688 54.813641 135.609688 54.205 \n",
              "C 135.609688 53.596359 135.367872 53.012564 134.937498 52.58219 \n",
              "C 134.507123 52.151816 133.923329 51.91 133.314688 51.91 \n",
              "C 132.706046 51.91 132.122252 52.151816 131.691877 52.58219 \n",
              "C 131.261503 53.012564 131.019688 53.596359 131.019688 54.205 \n",
              "C 131.019688 54.813641 131.261503 55.397436 131.691877 55.82781 \n",
              "C 132.122252 56.258184 132.706046 56.5 133.314688 56.5 \n",
              "z\n",
              "\" style=\"stroke:#000000;stroke-linejoin:miter;stroke-width:2;\"/>\n",
              "   </g>\n",
              "   <g id=\"patch_6\">\n",
              "    <path clip-path=\"url(#pbca7b0955d)\" d=\"M 133.314688 79.45 \n",
              "C 133.923329 79.45 134.507123 79.208184 134.937498 78.77781 \n",
              "C 135.367872 78.347436 135.609688 77.763641 135.609688 77.155 \n",
              "C 135.609688 76.546359 135.367872 75.962564 134.937498 75.53219 \n",
              "C 134.507123 75.101816 133.923329 74.86 133.314688 74.86 \n",
              "C 132.706046 74.86 132.122252 75.101816 131.691877 75.53219 \n",
              "C 131.261503 75.962564 131.019688 76.546359 131.019688 77.155 \n",
              "C 131.019688 77.763641 131.261503 78.347436 131.691877 78.77781 \n",
              "C 132.122252 79.208184 132.706046 79.45 133.314688 79.45 \n",
              "z\n",
              "\" style=\"stroke:#000000;stroke-linejoin:miter;stroke-width:2;\"/>\n",
              "   </g>\n",
              "   <g id=\"patch_7\">\n",
              "    <path clip-path=\"url(#pbca7b0955d)\" d=\"M 133.314688 33.55 \n",
              "C 133.923329 33.55 134.507123 33.308184 134.937498 32.87781 \n",
              "C 135.367872 32.447436 135.609688 31.863641 135.609688 31.255 \n",
              "C 135.609688 30.646359 135.367872 30.062564 134.937498 29.63219 \n",
              "C 134.507123 29.201816 133.923329 28.96 133.314688 28.96 \n",
              "C 132.706046 28.96 132.122252 29.201816 131.691877 29.63219 \n",
              "C 131.261503 30.062564 131.019688 30.646359 131.019688 31.255 \n",
              "C 131.019688 31.863641 131.261503 32.447436 131.691877 32.87781 \n",
              "C 132.122252 33.308184 132.706046 33.55 133.314688 33.55 \n",
              "z\n",
              "\" style=\"stroke:#000000;stroke-linejoin:miter;stroke-width:2;\"/>\n",
              "   </g>\n",
              "   <g id=\"text_1\">\n",
              "    <!-- gate=AIN0 -->\n",
              "    <g transform=\"translate(7.2 58.068125)scale(0.14 -0.14)\">\n",
              "     <defs>\n",
              "      <path d=\"M 2906 1791 \n",
              "Q 2906 2416 2648 2759 \n",
              "Q 2391 3103 1925 3103 \n",
              "Q 1463 3103 1205 2759 \n",
              "Q 947 2416 947 1791 \n",
              "Q 947 1169 1205 825 \n",
              "Q 1463 481 1925 481 \n",
              "Q 2391 481 2648 825 \n",
              "Q 2906 1169 2906 1791 \n",
              "z\n",
              "M 3481 434 \n",
              "Q 3481 -459 3084 -895 \n",
              "Q 2688 -1331 1869 -1331 \n",
              "Q 1566 -1331 1297 -1286 \n",
              "Q 1028 -1241 775 -1147 \n",
              "L 775 -588 \n",
              "Q 1028 -725 1275 -790 \n",
              "Q 1522 -856 1778 -856 \n",
              "Q 2344 -856 2625 -561 \n",
              "Q 2906 -266 2906 331 \n",
              "L 2906 616 \n",
              "Q 2728 306 2450 153 \n",
              "Q 2172 0 1784 0 \n",
              "Q 1141 0 747 490 \n",
              "Q 353 981 353 1791 \n",
              "Q 353 2603 747 3093 \n",
              "Q 1141 3584 1784 3584 \n",
              "Q 2172 3584 2450 3431 \n",
              "Q 2728 3278 2906 2969 \n",
              "L 2906 3500 \n",
              "L 3481 3500 \n",
              "L 3481 434 \n",
              "z\n",
              "\" id=\"DejaVuSans-67\" transform=\"scale(0.015625)\"/>\n",
              "      <path d=\"M 2194 1759 \n",
              "Q 1497 1759 1228 1600 \n",
              "Q 959 1441 959 1056 \n",
              "Q 959 750 1161 570 \n",
              "Q 1363 391 1709 391 \n",
              "Q 2188 391 2477 730 \n",
              "Q 2766 1069 2766 1631 \n",
              "L 2766 1759 \n",
              "L 2194 1759 \n",
              "z\n",
              "M 3341 1997 \n",
              "L 3341 0 \n",
              "L 2766 0 \n",
              "L 2766 531 \n",
              "Q 2569 213 2275 61 \n",
              "Q 1981 -91 1556 -91 \n",
              "Q 1019 -91 701 211 \n",
              "Q 384 513 384 1019 \n",
              "Q 384 1609 779 1909 \n",
              "Q 1175 2209 1959 2209 \n",
              "L 2766 2209 \n",
              "L 2766 2266 \n",
              "Q 2766 2663 2505 2880 \n",
              "Q 2244 3097 1772 3097 \n",
              "Q 1472 3097 1187 3025 \n",
              "Q 903 2953 641 2809 \n",
              "L 641 3341 \n",
              "Q 956 3463 1253 3523 \n",
              "Q 1550 3584 1831 3584 \n",
              "Q 2591 3584 2966 3190 \n",
              "Q 3341 2797 3341 1997 \n",
              "z\n",
              "\" id=\"DejaVuSans-61\" transform=\"scale(0.015625)\"/>\n",
              "      <path d=\"M 1172 4494 \n",
              "L 1172 3500 \n",
              "L 2356 3500 \n",
              "L 2356 3053 \n",
              "L 1172 3053 \n",
              "L 1172 1153 \n",
              "Q 1172 725 1289 603 \n",
              "Q 1406 481 1766 481 \n",
              "L 2356 481 \n",
              "L 2356 0 \n",
              "L 1766 0 \n",
              "Q 1100 0 847 248 \n",
              "Q 594 497 594 1153 \n",
              "L 594 3053 \n",
              "L 172 3053 \n",
              "L 172 3500 \n",
              "L 594 3500 \n",
              "L 594 4494 \n",
              "L 1172 4494 \n",
              "z\n",
              "\" id=\"DejaVuSans-74\" transform=\"scale(0.015625)\"/>\n",
              "      <path d=\"M 3597 1894 \n",
              "L 3597 1613 \n",
              "L 953 1613 \n",
              "Q 991 1019 1311 708 \n",
              "Q 1631 397 2203 397 \n",
              "Q 2534 397 2845 478 \n",
              "Q 3156 559 3463 722 \n",
              "L 3463 178 \n",
              "Q 3153 47 2828 -22 \n",
              "Q 2503 -91 2169 -91 \n",
              "Q 1331 -91 842 396 \n",
              "Q 353 884 353 1716 \n",
              "Q 353 2575 817 3079 \n",
              "Q 1281 3584 2069 3584 \n",
              "Q 2775 3584 3186 3129 \n",
              "Q 3597 2675 3597 1894 \n",
              "z\n",
              "M 3022 2063 \n",
              "Q 3016 2534 2758 2815 \n",
              "Q 2500 3097 2075 3097 \n",
              "Q 1594 3097 1305 2825 \n",
              "Q 1016 2553 972 2059 \n",
              "L 3022 2063 \n",
              "z\n",
              "\" id=\"DejaVuSans-65\" transform=\"scale(0.015625)\"/>\n",
              "      <path d=\"M 678 2906 \n",
              "L 4684 2906 \n",
              "L 4684 2381 \n",
              "L 678 2381 \n",
              "L 678 2906 \n",
              "z\n",
              "M 678 1631 \n",
              "L 4684 1631 \n",
              "L 4684 1100 \n",
              "L 678 1100 \n",
              "L 678 1631 \n",
              "z\n",
              "\" id=\"DejaVuSans-3d\" transform=\"scale(0.015625)\"/>\n",
              "      <path d=\"M 2188 4044 \n",
              "L 1331 1722 \n",
              "L 3047 1722 \n",
              "L 2188 4044 \n",
              "z\n",
              "M 1831 4666 \n",
              "L 2547 4666 \n",
              "L 4325 0 \n",
              "L 3669 0 \n",
              "L 3244 1197 \n",
              "L 1141 1197 \n",
              "L 716 0 \n",
              "L 50 0 \n",
              "L 1831 4666 \n",
              "z\n",
              "\" id=\"DejaVuSans-41\" transform=\"scale(0.015625)\"/>\n",
              "      <path d=\"M 628 4666 \n",
              "L 1259 4666 \n",
              "L 1259 0 \n",
              "L 628 0 \n",
              "L 628 4666 \n",
              "z\n",
              "\" id=\"DejaVuSans-49\" transform=\"scale(0.015625)\"/>\n",
              "      <path d=\"M 628 4666 \n",
              "L 1478 4666 \n",
              "L 3547 763 \n",
              "L 3547 4666 \n",
              "L 4159 4666 \n",
              "L 4159 0 \n",
              "L 3309 0 \n",
              "L 1241 3903 \n",
              "L 1241 0 \n",
              "L 628 0 \n",
              "L 628 4666 \n",
              "z\n",
              "\" id=\"DejaVuSans-4e\" transform=\"scale(0.015625)\"/>\n",
              "      <path d=\"M 2034 4250 \n",
              "Q 1547 4250 1301 3770 \n",
              "Q 1056 3291 1056 2328 \n",
              "Q 1056 1369 1301 889 \n",
              "Q 1547 409 2034 409 \n",
              "Q 2525 409 2770 889 \n",
              "Q 3016 1369 3016 2328 \n",
              "Q 3016 3291 2770 3770 \n",
              "Q 2525 4250 2034 4250 \n",
              "z\n",
              "M 2034 4750 \n",
              "Q 2819 4750 3233 4129 \n",
              "Q 3647 3509 3647 2328 \n",
              "Q 3647 1150 3233 529 \n",
              "Q 2819 -91 2034 -91 \n",
              "Q 1250 -91 836 529 \n",
              "Q 422 1150 422 2328 \n",
              "Q 422 3509 836 4129 \n",
              "Q 1250 4750 2034 4750 \n",
              "z\n",
              "\" id=\"DejaVuSans-30\" transform=\"scale(0.015625)\"/>\n",
              "     </defs>\n",
              "     <use xlink:href=\"#DejaVuSans-67\"/>\n",
              "     <use x=\"63.476562\" xlink:href=\"#DejaVuSans-61\"/>\n",
              "     <use x=\"124.755859\" xlink:href=\"#DejaVuSans-74\"/>\n",
              "     <use x=\"163.964844\" xlink:href=\"#DejaVuSans-65\"/>\n",
              "     <use x=\"225.488281\" xlink:href=\"#DejaVuSans-3d\"/>\n",
              "     <use x=\"309.277344\" xlink:href=\"#DejaVuSans-41\"/>\n",
              "     <use x=\"377.685547\" xlink:href=\"#DejaVuSans-49\"/>\n",
              "     <use x=\"407.177734\" xlink:href=\"#DejaVuSans-4e\"/>\n",
              "     <use x=\"481.982422\" xlink:href=\"#DejaVuSans-30\"/>\n",
              "    </g>\n",
              "   </g>\n",
              "   <g id=\"text_2\">\n",
              "    <!-- bulk=AIN1 -->\n",
              "    <g transform=\"translate(138.669688 58.068125)scale(0.14 -0.14)\">\n",
              "     <defs>\n",
              "      <path d=\"M 3116 1747 \n",
              "Q 3116 2381 2855 2742 \n",
              "Q 2594 3103 2138 3103 \n",
              "Q 1681 3103 1420 2742 \n",
              "Q 1159 2381 1159 1747 \n",
              "Q 1159 1113 1420 752 \n",
              "Q 1681 391 2138 391 \n",
              "Q 2594 391 2855 752 \n",
              "Q 3116 1113 3116 1747 \n",
              "z\n",
              "M 1159 2969 \n",
              "Q 1341 3281 1617 3432 \n",
              "Q 1894 3584 2278 3584 \n",
              "Q 2916 3584 3314 3078 \n",
              "Q 3713 2572 3713 1747 \n",
              "Q 3713 922 3314 415 \n",
              "Q 2916 -91 2278 -91 \n",
              "Q 1894 -91 1617 61 \n",
              "Q 1341 213 1159 525 \n",
              "L 1159 0 \n",
              "L 581 0 \n",
              "L 581 4863 \n",
              "L 1159 4863 \n",
              "L 1159 2969 \n",
              "z\n",
              "\" id=\"DejaVuSans-62\" transform=\"scale(0.015625)\"/>\n",
              "      <path d=\"M 544 1381 \n",
              "L 544 3500 \n",
              "L 1119 3500 \n",
              "L 1119 1403 \n",
              "Q 1119 906 1312 657 \n",
              "Q 1506 409 1894 409 \n",
              "Q 2359 409 2629 706 \n",
              "Q 2900 1003 2900 1516 \n",
              "L 2900 3500 \n",
              "L 3475 3500 \n",
              "L 3475 0 \n",
              "L 2900 0 \n",
              "L 2900 538 \n",
              "Q 2691 219 2414 64 \n",
              "Q 2138 -91 1772 -91 \n",
              "Q 1169 -91 856 284 \n",
              "Q 544 659 544 1381 \n",
              "z\n",
              "M 1991 3584 \n",
              "L 1991 3584 \n",
              "z\n",
              "\" id=\"DejaVuSans-75\" transform=\"scale(0.015625)\"/>\n",
              "      <path d=\"M 603 4863 \n",
              "L 1178 4863 \n",
              "L 1178 0 \n",
              "L 603 0 \n",
              "L 603 4863 \n",
              "z\n",
              "\" id=\"DejaVuSans-6c\" transform=\"scale(0.015625)\"/>\n",
              "      <path d=\"M 581 4863 \n",
              "L 1159 4863 \n",
              "L 1159 1991 \n",
              "L 2875 3500 \n",
              "L 3609 3500 \n",
              "L 1753 1863 \n",
              "L 3688 0 \n",
              "L 2938 0 \n",
              "L 1159 1709 \n",
              "L 1159 0 \n",
              "L 581 0 \n",
              "L 581 4863 \n",
              "z\n",
              "\" id=\"DejaVuSans-6b\" transform=\"scale(0.015625)\"/>\n",
              "      <path d=\"M 794 531 \n",
              "L 1825 531 \n",
              "L 1825 4091 \n",
              "L 703 3866 \n",
              "L 703 4441 \n",
              "L 1819 4666 \n",
              "L 2450 4666 \n",
              "L 2450 531 \n",
              "L 3481 531 \n",
              "L 3481 0 \n",
              "L 794 0 \n",
              "L 794 531 \n",
              "z\n",
              "\" id=\"DejaVuSans-31\" transform=\"scale(0.015625)\"/>\n",
              "     </defs>\n",
              "     <use xlink:href=\"#DejaVuSans-62\"/>\n",
              "     <use x=\"63.476562\" xlink:href=\"#DejaVuSans-75\"/>\n",
              "     <use x=\"126.855469\" xlink:href=\"#DejaVuSans-6c\"/>\n",
              "     <use x=\"154.638672\" xlink:href=\"#DejaVuSans-6b\"/>\n",
              "     <use x=\"212.548828\" xlink:href=\"#DejaVuSans-3d\"/>\n",
              "     <use x=\"296.337891\" xlink:href=\"#DejaVuSans-41\"/>\n",
              "     <use x=\"364.746094\" xlink:href=\"#DejaVuSans-49\"/>\n",
              "     <use x=\"394.238281\" xlink:href=\"#DejaVuSans-4e\"/>\n",
              "     <use x=\"469.042969\" xlink:href=\"#DejaVuSans-31\"/>\n",
              "    </g>\n",
              "   </g>\n",
              "   <g id=\"text_3\">\n",
              "    <!-- drain=GO21 -->\n",
              "    <g transform=\"translate(89.615 93.147812)scale(0.14 -0.14)\">\n",
              "     <defs>\n",
              "      <path d=\"M 2906 2969 \n",
              "L 2906 4863 \n",
              "L 3481 4863 \n",
              "L 3481 0 \n",
              "L 2906 0 \n",
              "L 2906 525 \n",
              "Q 2725 213 2448 61 \n",
              "Q 2172 -91 1784 -91 \n",
              "Q 1150 -91 751 415 \n",
              "Q 353 922 353 1747 \n",
              "Q 353 2572 751 3078 \n",
              "Q 1150 3584 1784 3584 \n",
              "Q 2172 3584 2448 3432 \n",
              "Q 2725 3281 2906 2969 \n",
              "z\n",
              "M 947 1747 \n",
              "Q 947 1113 1208 752 \n",
              "Q 1469 391 1925 391 \n",
              "Q 2381 391 2643 752 \n",
              "Q 2906 1113 2906 1747 \n",
              "Q 2906 2381 2643 2742 \n",
              "Q 2381 3103 1925 3103 \n",
              "Q 1469 3103 1208 2742 \n",
              "Q 947 2381 947 1747 \n",
              "z\n",
              "\" id=\"DejaVuSans-64\" transform=\"scale(0.015625)\"/>\n",
              "      <path d=\"M 2631 2963 \n",
              "Q 2534 3019 2420 3045 \n",
              "Q 2306 3072 2169 3072 \n",
              "Q 1681 3072 1420 2755 \n",
              "Q 1159 2438 1159 1844 \n",
              "L 1159 0 \n",
              "L 581 0 \n",
              "L 581 3500 \n",
              "L 1159 3500 \n",
              "L 1159 2956 \n",
              "Q 1341 3275 1631 3429 \n",
              "Q 1922 3584 2338 3584 \n",
              "Q 2397 3584 2469 3576 \n",
              "Q 2541 3569 2628 3553 \n",
              "L 2631 2963 \n",
              "z\n",
              "\" id=\"DejaVuSans-72\" transform=\"scale(0.015625)\"/>\n",
              "      <path d=\"M 603 3500 \n",
              "L 1178 3500 \n",
              "L 1178 0 \n",
              "L 603 0 \n",
              "L 603 3500 \n",
              "z\n",
              "M 603 4863 \n",
              "L 1178 4863 \n",
              "L 1178 4134 \n",
              "L 603 4134 \n",
              "L 603 4863 \n",
              "z\n",
              "\" id=\"DejaVuSans-69\" transform=\"scale(0.015625)\"/>\n",
              "      <path d=\"M 3513 2113 \n",
              "L 3513 0 \n",
              "L 2938 0 \n",
              "L 2938 2094 \n",
              "Q 2938 2591 2744 2837 \n",
              "Q 2550 3084 2163 3084 \n",
              "Q 1697 3084 1428 2787 \n",
              "Q 1159 2491 1159 1978 \n",
              "L 1159 0 \n",
              "L 581 0 \n",
              "L 581 3500 \n",
              "L 1159 3500 \n",
              "L 1159 2956 \n",
              "Q 1366 3272 1645 3428 \n",
              "Q 1925 3584 2291 3584 \n",
              "Q 2894 3584 3203 3211 \n",
              "Q 3513 2838 3513 2113 \n",
              "z\n",
              "\" id=\"DejaVuSans-6e\" transform=\"scale(0.015625)\"/>\n",
              "      <path d=\"M 3809 666 \n",
              "L 3809 1919 \n",
              "L 2778 1919 \n",
              "L 2778 2438 \n",
              "L 4434 2438 \n",
              "L 4434 434 \n",
              "Q 4069 175 3628 42 \n",
              "Q 3188 -91 2688 -91 \n",
              "Q 1594 -91 976 548 \n",
              "Q 359 1188 359 2328 \n",
              "Q 359 3472 976 4111 \n",
              "Q 1594 4750 2688 4750 \n",
              "Q 3144 4750 3555 4637 \n",
              "Q 3966 4525 4313 4306 \n",
              "L 4313 3634 \n",
              "Q 3963 3931 3569 4081 \n",
              "Q 3175 4231 2741 4231 \n",
              "Q 1884 4231 1454 3753 \n",
              "Q 1025 3275 1025 2328 \n",
              "Q 1025 1384 1454 906 \n",
              "Q 1884 428 2741 428 \n",
              "Q 3075 428 3337 486 \n",
              "Q 3600 544 3809 666 \n",
              "z\n",
              "\" id=\"DejaVuSans-47\" transform=\"scale(0.015625)\"/>\n",
              "      <path d=\"M 2522 4238 \n",
              "Q 1834 4238 1429 3725 \n",
              "Q 1025 3213 1025 2328 \n",
              "Q 1025 1447 1429 934 \n",
              "Q 1834 422 2522 422 \n",
              "Q 3209 422 3611 934 \n",
              "Q 4013 1447 4013 2328 \n",
              "Q 4013 3213 3611 3725 \n",
              "Q 3209 4238 2522 4238 \n",
              "z\n",
              "M 2522 4750 \n",
              "Q 3503 4750 4090 4092 \n",
              "Q 4678 3434 4678 2328 \n",
              "Q 4678 1225 4090 567 \n",
              "Q 3503 -91 2522 -91 \n",
              "Q 1538 -91 948 565 \n",
              "Q 359 1222 359 2328 \n",
              "Q 359 3434 948 4092 \n",
              "Q 1538 4750 2522 4750 \n",
              "z\n",
              "\" id=\"DejaVuSans-4f\" transform=\"scale(0.015625)\"/>\n",
              "      <path d=\"M 1228 531 \n",
              "L 3431 531 \n",
              "L 3431 0 \n",
              "L 469 0 \n",
              "L 469 531 \n",
              "Q 828 903 1448 1529 \n",
              "Q 2069 2156 2228 2338 \n",
              "Q 2531 2678 2651 2914 \n",
              "Q 2772 3150 2772 3378 \n",
              "Q 2772 3750 2511 3984 \n",
              "Q 2250 4219 1831 4219 \n",
              "Q 1534 4219 1204 4116 \n",
              "Q 875 4013 500 3803 \n",
              "L 500 4441 \n",
              "Q 881 4594 1212 4672 \n",
              "Q 1544 4750 1819 4750 \n",
              "Q 2544 4750 2975 4387 \n",
              "Q 3406 4025 3406 3419 \n",
              "Q 3406 3131 3298 2873 \n",
              "Q 3191 2616 2906 2266 \n",
              "Q 2828 2175 2409 1742 \n",
              "Q 1991 1309 1228 531 \n",
              "z\n",
              "\" id=\"DejaVuSans-32\" transform=\"scale(0.015625)\"/>\n",
              "     </defs>\n",
              "     <use xlink:href=\"#DejaVuSans-64\"/>\n",
              "     <use x=\"63.476562\" xlink:href=\"#DejaVuSans-72\"/>\n",
              "     <use x=\"104.589844\" xlink:href=\"#DejaVuSans-61\"/>\n",
              "     <use x=\"165.869141\" xlink:href=\"#DejaVuSans-69\"/>\n",
              "     <use x=\"193.652344\" xlink:href=\"#DejaVuSans-6e\"/>\n",
              "     <use x=\"257.03125\" xlink:href=\"#DejaVuSans-3d\"/>\n",
              "     <use x=\"340.820312\" xlink:href=\"#DejaVuSans-47\"/>\n",
              "     <use x=\"418.310547\" xlink:href=\"#DejaVuSans-4f\"/>\n",
              "     <use x=\"497.021484\" xlink:href=\"#DejaVuSans-32\"/>\n",
              "     <use x=\"560.644531\" xlink:href=\"#DejaVuSans-31\"/>\n",
              "    </g>\n",
              "   </g>\n",
              "   <g id=\"text_4\">\n",
              "    <!-- source=GO23 -->\n",
              "    <g transform=\"translate(84.365 22.988437)scale(0.14 -0.14)\">\n",
              "     <defs>\n",
              "      <path d=\"M 2834 3397 \n",
              "L 2834 2853 \n",
              "Q 2591 2978 2328 3040 \n",
              "Q 2066 3103 1784 3103 \n",
              "Q 1356 3103 1142 2972 \n",
              "Q 928 2841 928 2578 \n",
              "Q 928 2378 1081 2264 \n",
              "Q 1234 2150 1697 2047 \n",
              "L 1894 2003 \n",
              "Q 2506 1872 2764 1633 \n",
              "Q 3022 1394 3022 966 \n",
              "Q 3022 478 2636 193 \n",
              "Q 2250 -91 1575 -91 \n",
              "Q 1294 -91 989 -36 \n",
              "Q 684 19 347 128 \n",
              "L 347 722 \n",
              "Q 666 556 975 473 \n",
              "Q 1284 391 1588 391 \n",
              "Q 1994 391 2212 530 \n",
              "Q 2431 669 2431 922 \n",
              "Q 2431 1156 2273 1281 \n",
              "Q 2116 1406 1581 1522 \n",
              "L 1381 1569 \n",
              "Q 847 1681 609 1914 \n",
              "Q 372 2147 372 2553 \n",
              "Q 372 3047 722 3315 \n",
              "Q 1072 3584 1716 3584 \n",
              "Q 2034 3584 2315 3537 \n",
              "Q 2597 3491 2834 3397 \n",
              "z\n",
              "\" id=\"DejaVuSans-73\" transform=\"scale(0.015625)\"/>\n",
              "      <path d=\"M 1959 3097 \n",
              "Q 1497 3097 1228 2736 \n",
              "Q 959 2375 959 1747 \n",
              "Q 959 1119 1226 758 \n",
              "Q 1494 397 1959 397 \n",
              "Q 2419 397 2687 759 \n",
              "Q 2956 1122 2956 1747 \n",
              "Q 2956 2369 2687 2733 \n",
              "Q 2419 3097 1959 3097 \n",
              "z\n",
              "M 1959 3584 \n",
              "Q 2709 3584 3137 3096 \n",
              "Q 3566 2609 3566 1747 \n",
              "Q 3566 888 3137 398 \n",
              "Q 2709 -91 1959 -91 \n",
              "Q 1206 -91 779 398 \n",
              "Q 353 888 353 1747 \n",
              "Q 353 2609 779 3096 \n",
              "Q 1206 3584 1959 3584 \n",
              "z\n",
              "\" id=\"DejaVuSans-6f\" transform=\"scale(0.015625)\"/>\n",
              "      <path d=\"M 3122 3366 \n",
              "L 3122 2828 \n",
              "Q 2878 2963 2633 3030 \n",
              "Q 2388 3097 2138 3097 \n",
              "Q 1578 3097 1268 2742 \n",
              "Q 959 2388 959 1747 \n",
              "Q 959 1106 1268 751 \n",
              "Q 1578 397 2138 397 \n",
              "Q 2388 397 2633 464 \n",
              "Q 2878 531 3122 666 \n",
              "L 3122 134 \n",
              "Q 2881 22 2623 -34 \n",
              "Q 2366 -91 2075 -91 \n",
              "Q 1284 -91 818 406 \n",
              "Q 353 903 353 1747 \n",
              "Q 353 2603 823 3093 \n",
              "Q 1294 3584 2113 3584 \n",
              "Q 2378 3584 2631 3529 \n",
              "Q 2884 3475 3122 3366 \n",
              "z\n",
              "\" id=\"DejaVuSans-63\" transform=\"scale(0.015625)\"/>\n",
              "      <path d=\"M 2597 2516 \n",
              "Q 3050 2419 3304 2112 \n",
              "Q 3559 1806 3559 1356 \n",
              "Q 3559 666 3084 287 \n",
              "Q 2609 -91 1734 -91 \n",
              "Q 1441 -91 1130 -33 \n",
              "Q 819 25 488 141 \n",
              "L 488 750 \n",
              "Q 750 597 1062 519 \n",
              "Q 1375 441 1716 441 \n",
              "Q 2309 441 2620 675 \n",
              "Q 2931 909 2931 1356 \n",
              "Q 2931 1769 2642 2001 \n",
              "Q 2353 2234 1838 2234 \n",
              "L 1294 2234 \n",
              "L 1294 2753 \n",
              "L 1863 2753 \n",
              "Q 2328 2753 2575 2939 \n",
              "Q 2822 3125 2822 3475 \n",
              "Q 2822 3834 2567 4026 \n",
              "Q 2313 4219 1838 4219 \n",
              "Q 1578 4219 1281 4162 \n",
              "Q 984 4106 628 3988 \n",
              "L 628 4550 \n",
              "Q 988 4650 1302 4700 \n",
              "Q 1616 4750 1894 4750 \n",
              "Q 2613 4750 3031 4423 \n",
              "Q 3450 4097 3450 3541 \n",
              "Q 3450 3153 3228 2886 \n",
              "Q 3006 2619 2597 2516 \n",
              "z\n",
              "\" id=\"DejaVuSans-33\" transform=\"scale(0.015625)\"/>\n",
              "     </defs>\n",
              "     <use xlink:href=\"#DejaVuSans-73\"/>\n",
              "     <use x=\"52.099609\" xlink:href=\"#DejaVuSans-6f\"/>\n",
              "     <use x=\"113.28125\" xlink:href=\"#DejaVuSans-75\"/>\n",
              "     <use x=\"176.660156\" xlink:href=\"#DejaVuSans-72\"/>\n",
              "     <use x=\"215.523438\" xlink:href=\"#DejaVuSans-63\"/>\n",
              "     <use x=\"270.503906\" xlink:href=\"#DejaVuSans-65\"/>\n",
              "     <use x=\"332.027344\" xlink:href=\"#DejaVuSans-3d\"/>\n",
              "     <use x=\"415.816406\" xlink:href=\"#DejaVuSans-47\"/>\n",
              "     <use x=\"493.306641\" xlink:href=\"#DejaVuSans-4f\"/>\n",
              "     <use x=\"572.017578\" xlink:href=\"#DejaVuSans-32\"/>\n",
              "     <use x=\"635.640625\" xlink:href=\"#DejaVuSans-33\"/>\n",
              "    </g>\n",
              "   </g>\n",
              "  </g>\n",
              " </g>\n",
              " <defs>\n",
              "  <clipPath id=\"pbca7b0955d\">\n",
              "   <rect height=\"90.95\" width=\"182.835\" x=\"20.421087\" y=\"7.2\"/>\n",
              "  </clipPath>\n",
              " </defs>\n",
              "</svg>\n"
            ],
            "text/plain": [
              "<schemdraw.backends.mpl.Figure object at 0x7f5f1788ed90>"
            ]
          },
          "execution_count": 57,
          "metadata": {},
          "output_type": "execute_result"
        }
      ]
    },
    {
      "cell_type": "markdown",
      "metadata": {
        "id": "y330iz-rUUhs"
      },
      "source": [
        "* What will be the fixed value for bulk, source and drain voltages?"
      ]
    },
    {
      "cell_type": "markdown",
      "metadata": {
        "id": "FJh5voVuUUhs"
      },
      "source": [
        "* For very close voltages, you may want to call `get_set_voltage` to check the actual output of the DAC."
      ]
    },
    {
      "cell_type": "code",
      "metadata": {
        "tags": [],
        "id": "0m3vKdwHUUht",
        "outputId": "50810a8d-0b21-43f7-f821-336ffa441773"
      },
      "source": [
        "# set bulk voltage\n",
        "p.set_voltage(pyplane.DacChannel.AIN1, 1.8)\n",
        "Vb_p = p.get_set_voltage(pyplane.DacChannel.AIN1)\n",
        "print(\"The bulk voltage is set to {} V\".format(Vb_p))\n",
        "time.sleep(0.1)  # wait 0.1s for it to settle\n",
        "\n",
        "# set source voltage\n",
        "p.set_voltage(pyplane.DacChannel.GO23, 1.8)\n",
        "Vs_p = p.get_set_voltage(pyplane.DacChannel.GO23)\n",
        "print(\"The source voltage is set to {} V\".format(Vs_p))\n",
        "time.sleep(0.1)  # wait 0.1s for it to settle\n",
        "\n",
        "# set drain voltage\n",
        "p.set_voltage(pyplane.DacChannel.GO21, 0.0)\n",
        "Vd_p = p.get_set_voltage(pyplane.DacChannel.GO21)\n",
        "print(\"The drain voltage is set to {} V\".format(Vd_p))\n",
        "time.sleep(0.1)  # wait for it to settle\n",
        "\n",
        "# set gate voltage\n",
        "p.set_voltage(pyplane.DacChannel.AIN0, 0.0)\n",
        "Vg_p = p.get_set_voltage(pyplane.DacChannel.AIN0)\n",
        "print(\"The gate voltage is set to {} V\".format(Vg_p))\n",
        "# set drain voltage\n",
        "\n",
        "# Print I_ds for checking \n",
        "Is_p = p.read_current(pyplane.AdcChannel.GO21_N)\n",
        "print(\"The measured source current of PMOS is {} A\".format(Is_p))"
      ],
      "execution_count": null,
      "outputs": [
        {
          "name": "stdout",
          "output_type": "stream",
          "text": [
            "The bulk voltage is set to 1.7982406616210938 V\n",
            "The source voltage is set to 1.7982406616210938 V\n",
            "The drain voltage is set to 0.0 V\n",
            "The gate voltage is set to 0.0 V\n",
            "The measured source current of PMOS is 9.97314373307745e-07 A\n"
          ]
        }
      ]
    },
    {
      "cell_type": "markdown",
      "metadata": {
        "id": "h-wJJhN8UUhu"
      },
      "source": [
        "* Data aquisition"
      ]
    },
    {
      "cell_type": "code",
      "metadata": {
        "id": "yGbybtThUUhu",
        "outputId": "cf073828-bdb8-4d92-cabb-0a50164870c1"
      },
      "source": [
        "# sweep gate voltage\n",
        "\n",
        "# Get the leakage current, Read Ids=Ids0 at Vg = 0\n",
        "p.set_voltage(pyplane.DacChannel.AIN0,0) \n",
        "time.sleep(0.5) # wait 0.5 second for it to settle\n",
        "Is0_n = p.read_current(pyplane.AdcChannel.GO21_N)\n",
        "print(\"Offset Is0_n: {} A\".format(Is0_n))\n",
        "\n",
        "# Initialize variables\n",
        "number = 100\n",
        "Vg_sets = np.linspace(1.8,1.0,num = number).reshape(-1,1)\n",
        "Is_sets = np.zeros(number).reshape(-1,1)\n",
        "\n",
        "#Sweep gate voltage\n",
        "for n in range(number):\n",
        "    # set gate voltage\n",
        "    p.set_voltage(pyplane.DacChannel.AIN0,Vg_sets[n])\n",
        "    postlab = p.get_set_voltage(pyplane.DacChannel.AIN0)\n",
        "    \n",
        "    time.sleep(0.05)  # wait for it to settle\n",
        "    \n",
        "    # read I_{ds}\n",
        "    Is_set = p.read_current(pyplane.AdcChannel.GO21_N)\n",
        "    \n",
        "    # substract leakage current \n",
        "    Is_sets[n] = -(Is_set - Is0_n) "
      ],
      "execution_count": null,
      "outputs": [
        {
          "name": "stdout",
          "output_type": "stream",
          "text": [
            "Offset Is0_n: 9.97314373307745e-07 A\n"
          ]
        }
      ]
    },
    {
      "cell_type": "code",
      "metadata": {
        "id": "eyUWRMEOUUhv",
        "outputId": "ea237fa4-8e92-40b8-9a14-0e2c69fda2a5"
      },
      "source": [
        "# plot in linear scale\n",
        "import matplotlib.pyplot as plt\n",
        "plt.rcParams.update({'font.size': 14})\n",
        "plt.plot(Vg_sets,Is_sets,'.b-')\n",
        "plt.xlabel('Vg (V)')\n",
        "plt.ylabel('Ids (A)')"
      ],
      "execution_count": null,
      "outputs": [
        {
          "data": {
            "text/plain": [
              "Text(0, 0.5, 'Ids (A)')"
            ]
          },
          "execution_count": 60,
          "metadata": {},
          "output_type": "execute_result"
        },
        {
          "data": {
            "image/png": "[encoded data removed]",
            "text/plain": [
              "<Figure size 432x288 with 1 Axes>"
            ]
          },
          "metadata": {
            "needs_background": "light"
          },
          "output_type": "display_data"
        }
      ]
    },
    {
      "cell_type": "code",
      "metadata": {
        "id": "_gYKJh87UUhv"
      },
      "source": [
        "# if the data looks nice, save it!\n",
        "Lab2_data_pFETVgIds_Omic = [Vg_sets.reshape(number),Is_sets.reshape(number)]\n",
        "np.savetxt('./data/lab2_62_VgIds.csv', Lab2_data_pFETVgIds_Omic, delimiter=',')"
      ],
      "execution_count": null,
      "outputs": []
    },
    {
      "cell_type": "code",
      "metadata": {
        "id": "5Ajl5A1rUUhw",
        "outputId": "95910e56-7f38-4973-ddc6-9bace96cf66e"
      },
      "source": [
        "# Load data you saved and plot, to check if the data is saved correctly or not\n",
        "Vgn_save, Isn_save = np.loadtxt('./data/lab2_62_VgIds.csv',delimiter=\",\")\n",
        "plt.rcParams.update({'font.size': 14})\n",
        "plt.plot(Vgn_save, Isn_save, '.k')\n",
        "plt.xlabel('Vg(V)')\n",
        "plt.ylabel('-Ids(A)')\n",
        "plt.grid()\n",
        "plt.show()"
      ],
      "execution_count": null,
      "outputs": [
        {
          "data": {
            "image/png": "[encoded data removed]",
            "text/plain": [
              "<Figure size 432x288 with 1 Axes>"
            ]
          },
          "metadata": {
            "needs_background": "light"
          },
          "output_type": "display_data"
        }
      ]
    },
    {
      "cell_type": "code",
      "metadata": {
        "id": "aDXosLiMUUhw"
      },
      "source": [
        "# extract the valid range\n",
        "Vg_clip = Vgn_save[(Vgn_save> 1.0) & (Vgn_save < 1.8)]\n",
        "Ids_clip = Isn_save[(Vgn_save> 1.0) & (Vgn_save < 1.8)]"
      ],
      "execution_count": null,
      "outputs": []
    },
    {
      "cell_type": "code",
      "metadata": {
        "id": "G5tjCFAnUUhw",
        "outputId": "ad97e219-dd5d-422a-e11e-9c7aedd1acd7"
      },
      "source": [
        "# fit in the valid range (you may want to go back and add the fitted line in the plot)\n",
        "fit = np.polyfit(Vg_clip,Ids_clip,2)\n",
        "print('slope:',fit[0])\n",
        "plt.rcParams.update({'font.size': 14})\n",
        "plt.title('pFET ohmic region')\n",
        "plt.plot(Vgn_save, Isn_save, '.k-')\n",
        "plt.plot(Vgn_save, np.clip((Vgn_save**2)*fit[0]+Vgn_save*fit[1]+fit[2],a_min=0,a_max = 1),'.r--')\n",
        "plt.xlabel('Vg(V)')\n",
        "plt.ylabel('Ids(A)')\n",
        "plt.legend(['measurements','fitting'])\n",
        "plt.grid()\n",
        "plt.show()"
      ],
      "execution_count": null,
      "outputs": [
        {
          "name": "stdout",
          "output_type": "stream",
          "text": [
            "slope: -3.7802300467834565e-06\n"
          ]
        },
        {
          "data": {
            "image/png": "[encoded data removed]",
            "text/plain": [
              "<Figure size 432x288 with 1 Axes>"
            ]
          },
          "metadata": {
            "needs_background": "light"
          },
          "output_type": "display_data"
        }
      ]
    },
    {
      "cell_type": "markdown",
      "metadata": {
        "id": "bb3ohBDkUUhx"
      },
      "source": [
        "**(c)** Determine $V_{T0}$ and $\\beta$ for both devices by fitting your data to the expression derived in the prelab"
      ]
    },
    {
      "cell_type": "code",
      "metadata": {
        "id": "vXHpxhR8UUh2",
        "outputId": "c346116c-f209-4bca-d7c1-32cc4ad0062f"
      },
      "source": [
        "import math\n",
        "# V_T0\n",
        "v_t0a = (-fit[1]+math.sqrt(fit[1]**2-4*fit[0]*fit[2]))/2*fit[0]\n",
        "#v_t0b = (-fit[1]-math.sqrt(fit[1]**2-4*fit[0]*fit[2]))/2*fit[0]\n",
        "print('V_T0a =',v_t0a, 'V')\n",
        "#print('V_T0b =',v_t0b, 'V')"
      ],
      "execution_count": null,
      "outputs": [
        {
          "name": "stdout",
          "output_type": "stream",
          "text": [
            "V_T0a = 1.46022622220646e-11 V\n"
          ]
        }
      ]
    },
    {
      "cell_type": "code",
      "metadata": {
        "id": "rHFE3Wl9UUh2",
        "outputId": "9d943322-8712-4c49-8cd0-d6a913e60bd0"
      },
      "source": [
        "# beta => m/Vd\n",
        "\n",
        "vs = 1.8\n",
        "betap = fit[0]/vs**2+fit[1]/vs\n",
        "print('beta_n =',betap*1e6, 'uA/V/V')"
      ],
      "execution_count": null,
      "outputs": [
        {
          "name": "stdout",
          "output_type": "stream",
          "text": [
            "beta_n = 5.358192975620059 uA/V/V\n"
          ]
        }
      ]
    },
    {
      "cell_type": "markdown",
      "metadata": {
        "id": "sjkwsK8uUUh3"
      },
      "source": [
        "## 6.3 Comparisons"
      ]
    },
    {
      "cell_type": "markdown",
      "metadata": {
        "id": "QSCSP0zTUUh3"
      },
      "source": [
        "* Are the measurements of $V_{T0}$ and $\\beta$ from the saturation measurement consistent with the values obtained in the ohmic region? "
      ]
    },
    {
      "cell_type": "markdown",
      "metadata": {
        "id": "VqeMxavsUUh3"
      },
      "source": [
        "<b> No, the thresholds are too imprecise and the beta for P-FET is larger than expected. </b>"
      ]
    },
    {
      "cell_type": "markdown",
      "metadata": {
        "id": "at_6JkxaUUh3"
      },
      "source": [
        "* Which is a better approximation, the linear one or the quadratic?"
      ]
    },
    {
      "cell_type": "markdown",
      "metadata": {
        "id": "CHRGxH8vUUh4"
      },
      "source": [
        "<b> Linear. </b>"
      ]
    },
    {
      "cell_type": "markdown",
      "metadata": {
        "id": "XXw5vMoAUUh4"
      },
      "source": [
        "# 7 Early effect"
      ]
    },
    {
      "cell_type": "markdown",
      "metadata": {
        "id": "628nIrZBUUh5"
      },
      "source": [
        "This experiment studies how Early voltage scales with transistor current; in particular, how valid are the simple assumptions about channel length modulation?\n",
        "\n",
        "**You only need to do N-FET**"
      ]
    },
    {
      "cell_type": "code",
      "metadata": {
        "id": "7P__c_DUUUh5"
      },
      "source": [
        "# Configure NFET, set the input voltage demultiplexer by AER event.  \n",
        "# Note selectlines we should choose for the NFET\n",
        "events = [pyplane.Coach.generate_aerc_event( \\\n",
        "    pyplane.Coach.CurrentOutputSelect.SelectLine5, \\\n",
        "    pyplane.Coach.VoltageOutputSelect.NoneSelected, \\\n",
        "    pyplane.Coach.VoltageInputSelect.SelectLine2, \\\n",
        "    pyplane.Coach.SynapseSelect.NoneSelected, 0)]\n",
        "\n",
        "p.send_coach_events(events)"
      ],
      "execution_count": null,
      "outputs": []
    },
    {
      "cell_type": "code",
      "metadata": {
        "id": "RI0GmfQBUUh5",
        "outputId": "2dd0d33e-cfe7-4f3d-9e6b-c94f8c8b39ee"
      },
      "source": [
        "# set source voltage\n",
        "vs = 0.0\n",
        "src = p.set_voltage(pyplane.DacChannel.GO20,vs)       \n",
        "print(\"The source voltage is set to {} V\".format(src))\n",
        "\n",
        "# set drain voltage\n",
        "vd = 1.8\n",
        "drain= p.set_voltage(pyplane.DacChannel.GO22,vd)\n",
        "print(\"The drain voltage is set to {} V\".format(drain))"
      ],
      "execution_count": null,
      "outputs": [
        {
          "name": "stdout",
          "output_type": "stream",
          "text": [
            "The source voltage is set to 0.0 V\n",
            "The drain voltage is set to 1.7982406616210938 V\n"
          ]
        }
      ]
    },
    {
      "cell_type": "markdown",
      "metadata": {
        "id": "8-dkMTrvUUh6"
      },
      "source": [
        "**(a)** Measure $I_{ds}$ vs $V_{ds}$ for different $V_{gs}$"
      ]
    },
    {
      "cell_type": "code",
      "metadata": {
        "id": "UOoD7B4zUUh7",
        "outputId": "7178aa88-a942-4fac-b3ce-b7981551d2c5"
      },
      "source": [
        "# Measurement. You may need two 'for' loops (one nested loop) to sweep Vgs and Vds\n",
        "# Get the leakage current, Read Ids=Ids0 at Vg = 0\n",
        "p.set_voltage(pyplane.DacChannel.AIN0,0.0)\n",
        "time.sleep(0.5) # wait 0.5 second for it to settle\n",
        "Is0_n = p.read_current(pyplane.AdcChannel.GO20_N)\n",
        "print(\"Offset Is0_n: {} A\".format(Is0_n))\n",
        "\n",
        "# Initialize variables\n",
        "num_Vg = 5\n",
        "num_Vd = 50\n",
        "Vg_sets = np.linspace(0.6,1.8,num = num_Vg).reshape(-1,1)\n",
        "Vd_sets = np.linspace(0,1.0,num = num_Vd).reshape(-1,1)\n",
        "Is_sets = np.zeros((num_Vd,num_Vg))\n",
        "\n",
        "for i in range(num_Vg):\n",
        "    p.set_voltage(pyplane.DacChannel.AIN0,Vg_sets[i])\n",
        "    time.sleep(0.05) # wait for it to settle\n",
        "     \n",
        "    for j in range(num_Vd):\n",
        "         # set gate voltage\n",
        "            p.set_voltage(pyplane.DacChannel.GO22,Vd_sets[j])\n",
        "            time.sleep(0.05) # wait for it to settle\n",
        "            # read I_{ds}\n",
        "            Is_set = p.read_current(pyplane.AdcChannel.GO20_N)\n",
        "            # substract leakage current\n",
        "            Is_sets[j,i] = Is_set - Is0_n        "
      ],
      "execution_count": null,
      "outputs": [
        {
          "name": "stdout",
          "output_type": "stream",
          "text": [
            "Offset Is0_n: 4.150390697787998e-09 A\n"
          ]
        }
      ]
    },
    {
      "cell_type": "markdown",
      "metadata": {
        "id": "7EoRTzBfUUiG"
      },
      "source": [
        "* Include a single plot showing all data on a semilogy plot."
      ]
    },
    {
      "cell_type": "code",
      "metadata": {
        "id": "fXUjaEzkUUiH",
        "outputId": "15632178-26e1-4c2d-bc96-3788a16a823f"
      },
      "source": [
        "# plot\n",
        "for i in range(num_Vg):\n",
        "     plt.plot(Vd_sets.reshape(-1,1),Is_sets[:,i].reshape(-1,1),'.-')"
      ],
      "execution_count": null,
      "outputs": [
        {
          "data": {
            "image/png": "[encoded data removed]",
            "text/plain": [
              "<Figure size 432x288 with 1 Axes>"
            ]
          },
          "metadata": {
            "needs_background": "light"
          },
          "output_type": "display_data"
        }
      ]
    },
    {
      "cell_type": "code",
      "metadata": {
        "id": "PVAoTiKcUUiI"
      },
      "source": [
        "# if the data looks nice, save it!\n",
        "I_data = np.zeros((num_Vd,num_Vg+1))\n",
        "I_data[:,0] = Vd_sets.reshape(num_Vd)\n",
        "\n",
        "for i in range(num_Vg):\n",
        "    I_data[:,i+1] = Is_sets[:,i]\n",
        "    \n",
        "np.savetxt('./data/lab2_7_Ids.csv', I_data, delimiter=',')"
      ],
      "execution_count": null,
      "outputs": []
    },
    {
      "cell_type": "markdown",
      "metadata": {
        "id": "tMGBPKjDUUiI"
      },
      "source": [
        "* Can you see how the saturation voltage increases with the gate overdrive $V_G-V_T$ in strong inversion?"
      ]
    },
    {
      "cell_type": "markdown",
      "metadata": {
        "id": "2ML0hlF7UUiI"
      },
      "source": [
        "<b> Yes, the saturation voltage increases first and then it saturates. </b>"
      ]
    },
    {
      "cell_type": "markdown",
      "metadata": {
        "id": "Gcxz4d3PUUiI"
      },
      "source": [
        "**(b)** Compute the Early voltage "
      ]
    },
    {
      "cell_type": "markdown",
      "metadata": {
        "id": "dyv51PaMUUiJ"
      },
      "source": [
        "* Fit a line to the ”flat” part of each curve. Select a range of drain voltages to fit the line and use the same range for each curve, because the Early effect is actually curved in reality, and what you are actually seeing is the start of Drain Induced Barrier Lowering (DIBL) or impact ionization."
      ]
    },
    {
      "cell_type": "code",
      "metadata": {
        "id": "fxsmz2oFUUiK",
        "outputId": "412dbb60-516c-40ee-f4ae-c8988653201e"
      },
      "source": [
        "# Load data you saved and plot, to check if the data is saved correctly or not\n",
        "data = np.loadtxt('./data/lab2_7_Ids.csv',delimiter=\",\")\n",
        "\n",
        "Id_sets = data[:,2]\n",
        "Vd_sets = np.linspace(0,1.8,num = 50).reshape(-1,1)\n",
        "\n",
        "plt.rcParams.update({'font.size': 14})\n",
        "plt.plot(Vd_sets, Id_sets, '.k')\n",
        "plt.xlabel('Vg(V)')\n",
        "plt.ylabel('-Ids(A)')\n",
        "plt.grid()\n",
        "plt.show()"
      ],
      "execution_count": null,
      "outputs": [
        {
          "data": {
            "image/png": "[encoded data removed]",
            "text/plain": [
              "<Figure size 432x288 with 1 Axes>"
            ]
          },
          "metadata": {
            "needs_background": "light"
          },
          "output_type": "display_data"
        }
      ]
    },
    {
      "cell_type": "code",
      "metadata": {
        "id": "kWFIU6EdUUiK",
        "outputId": "d9620cd1-8b1b-4805-936c-e5175105b0b3"
      },
      "source": [
        "# extract the valid range\n",
        "index = [i for i in range(len(Vd_sets)) if Vd_sets[i] > 0.5]\n",
        "Vd_set = Vd_sets[index].reshape(1,-1)[0]\n",
        "\n",
        "# fit in the valid range (you may want to go back and add the fitted line in the plot)\n",
        "for i in range(1,6) : \n",
        "    Ids_sets = data[:,i][14:].reshape(1,-1)[0]\n",
        "    fit = np.polyfit(Vd_set,Ids_sets,1)\n",
        "    print('slope:',fit[0])\n",
        "    plt.rcParams.update({'font.size': 14})\n",
        "    plt.plot(Vd_set, Ids_sets, '.k-')\n",
        "    plt.plot(Vd_set, np.clip(fit[0]*Vd_set+fit[1], a_min=0, a_max=1),'.r--')\n",
        "    \n",
        "plt.xlabel('Vg(V)')\n",
        "plt.ylabel('Ids(A)')\n",
        "plt.legend(['measurements','fitting'])\n",
        "plt.grid()\n",
        "plt.show()"
      ],
      "execution_count": null,
      "outputs": [
        {
          "name": "stdout",
          "output_type": "stream",
          "text": [
            "slope: 2.712564178391613e-08\n",
            "slope: -6.331452146013589e-11\n",
            "slope: 4.020263601510494e-11\n",
            "slope: 3.6781618124977463e-11\n",
            "slope: -3.6761304710924605e-11\n"
          ]
        },
        {
          "data": {
            "image/png": "[encoded data removed]",
            "text/plain": [
              "<Figure size 432x288 with 1 Axes>"
            ]
          },
          "metadata": {
            "needs_background": "light"
          },
          "output_type": "display_data"
        }
      ]
    },
    {
      "cell_type": "markdown",
      "metadata": {
        "id": "GfYjy965UUiR"
      },
      "source": [
        "* Plot the Early voltage vs drain current on a semilogx scale."
      ]
    },
    {
      "cell_type": "code",
      "metadata": {
        "id": "k_HRooAYUUiS",
        "outputId": "708e9474-50f2-4fe9-904c-8d3852e26769"
      },
      "source": [
        "index = [i for i in range(len(Vd_sets)) if Vd_sets[i] > 0.5]\n",
        "Vd_set = Vd_sets[index].reshape(1,-1)[0]\n",
        "Ve = np.zeros(6)\n",
        "Idsat = np.zeros(6)\n",
        "\n",
        "for i in range(6) : \n",
        "    Ids_sets = data[:,i][14:].reshape(1,-1)[0]\n",
        "    fit = np.polyfit(Vd_set,Ids_sets,1)\n",
        "    Ve[i] = -fit[1]/fit[0]\n",
        "    Idsat[i]=fit[1]\n",
        "\n",
        "plt.rcParams.update({'font.size': 14})\n",
        "\n",
        "plt.semilogx(Idsat,-Ve, '.k-')    \n",
        "plt.xlabel('Ids(A)')\n",
        "plt.ylabel('Ve(V)')\n",
        "plt.yscale('log')\n",
        "plt.title('Early effect measurements')\n",
        "plt.grid()\n",
        "plt.show()"
      ],
      "execution_count": null,
      "outputs": [
        {
          "data": {
            "image/png": "[encoded data removed]",
            "text/plain": [
              "<Figure size 432x288 with 1 Axes>"
            ]
          },
          "metadata": {
            "needs_background": "light"
          },
          "output_type": "display_data"
        }
      ]
    },
    {
      "cell_type": "markdown",
      "metadata": {
        "id": "9pXmJ2jiUUiS"
      },
      "source": [
        "* Comment on your results: How constant is the Early voltage with drain current? Speculate on the reasons for your observations."
      ]
    },
    {
      "cell_type": "markdown",
      "metadata": {
        "id": "xZ6iZt_zUUiT"
      },
      "source": [
        "<b> The early voltage first increases with drain saturation current. Due to memory limitations , it was not possible to study the behaviour at the pique of the curve. It is possible that the 2nd order drain can affect this curve. </b>"
      ]
    },
    {
      "cell_type": "markdown",
      "metadata": {
        "id": "dtkiYTCrUUiT"
      },
      "source": [
        "# 8 Congratulations"
      ]
    },
    {
      "cell_type": "markdown",
      "metadata": {
        "id": "n4wgUYdjUUiT"
      },
      "source": [
        "**If you did everything in this lab, you have done a lot! This is probably the most difficult but also one of the most important labs, because practical and intuitive knowledge of transistor characteristics is crucial in understanding and synthesizing new circuits.**"
      ]
    },
    {
      "cell_type": "markdown",
      "metadata": {
        "id": "A8dC_s7kUUiT"
      },
      "source": [
        "# 9 What we expect"
      ]
    },
    {
      "cell_type": "markdown",
      "metadata": {
        "id": "AX1G0Gn-UUia"
      },
      "source": [
        "How transistors work above threshold.  \n",
        "\n",
        "What is the linear or triode region and what is the saturation region?\n",
        "\n",
        "How does the linear region depend on gate and threshold voltage?\n",
        "\n",
        "What is the _overdrive_?\n",
        "\n",
        "What is the specific current?\n",
        "\n",
        "How the Early effect comes about?\n",
        "\n",
        "Typical values for Early voltage.\n",
        "\n",
        "How to sketch graphs of transistor current vs gate voltage and drain-source voltage.\n",
        "\n",
        "How above-threshold transistors go into saturation and why the saturation voltage is equal to the gate overdrive.\n",
        "Can you write the above-threshold current equations?\n",
        "\n",
        "How does above-threshold current depend on $W/L$, $C_{ox}$, and mobility $\\mu$?\n",
        "\n",
        "How do transconductance and drain resistance combine to generate voltage gain? \n",
        "And what is the intrinsic voltage gain of a transistor?\n",
        "\n",
        "What effect does velocity saturation have on transistor operation, specifically, how does it change the relation between saturation current and gate voltage? What is DIBL (drain induced barrier lowering) and II (impact ionization)?\n",
        "\n",
        "What is the dominant source of mismatch?\n",
        "\n",
        "How does transistor mismatch scale with transistor size?\n",
        "\n",
        "What are typical values of transistor threshold voltage mismatch? "
      ]
    }
  ]
}