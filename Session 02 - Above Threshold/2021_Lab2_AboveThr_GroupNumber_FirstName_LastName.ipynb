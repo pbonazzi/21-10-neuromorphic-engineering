{
 "cells": [
  {
   "cell_type": "markdown",
   "metadata": {},
   "source": [
    "Neuromorphic engineering I"
   ]
  },
  {
   "cell_type": "markdown",
   "metadata": {},
   "source": [
    "## Lab 2: Transistor superthreshold saturation current and drain characteristics"
   ]
  },
  {
   "cell_type": "markdown",
   "metadata": {},
   "source": [
    "Group number:\n",
    "\n",
    "Team member 1:\n",
    "\n",
    "Team member 2:\n",
    "\n",
    "Team member 3:\n",
    "\n",
    "Date:"
   ]
  },
  {
   "cell_type": "markdown",
   "metadata": {},
   "source": [
    "-------------------------------------------------------------------------------------------------------------------"
   ]
  },
  {
   "cell_type": "markdown",
   "metadata": {},
   "source": [
    "The objective of this lab is to understand _super-threshold_ ( also called _above-threshold_ or _strong inversion_ ) transistor operation and to understand transistor drain conductance characteristics, particularly _channel length modulation_.\n",
    "\n",
    "The specific experimental **objectives of this lab**  are as follows: \n",
    "1. To characterize drain current of a transistor as a function of gate voltage in superthreshold operation in the ohmic (triode) and saturation regions.\n",
    "2. To characterize the drain saturation properties in super-threshold.\n",
    "3. To characterize drain conductance (the Early effect) and how it scales with transistor length (may not be possible this year) and saturation drain current."
   ]
  },
  {
   "cell_type": "markdown",
   "metadata": {},
   "source": [
    "An intuitive and quantitative understanding of all these effects, along with the subthreshold behavior (next week), is useful for the design of effective circuits, especially analog design of high performance amplifiers."
   ]
  },
  {
   "cell_type": "markdown",
   "metadata": {},
   "source": [
    "# 1 Terminology"
   ]
  },
  {
   "cell_type": "markdown",
   "metadata": {},
   "source": [
    "- above-threshold = super-threshold =  strong inversion\n",
    "- sub-threshold = below-threshold = weak inversion\n",
    "- triode region = ohmic region = linear drain conductance behavior with small drain-source voltage\n",
    "- saturation = large $V_{\\rm ds}$ \n",
    "- overdrive = $V_{\\rm g}-V_{\\rm T}$\n",
    "- $U_{\\rm T} = kT/q$ = thermal voltage = 25mV at room temperature\n",
    "- $V_{\\rm T}$ = threshold voltage = 0.4V to 0.8V depending on process\n"
   ]
  },
  {
   "cell_type": "markdown",
   "metadata": {},
   "source": [
    "# 2 Useful Quantities"
   ]
  },
  {
   "cell_type": "markdown",
   "metadata": {},
   "source": [
    "The following is a list of the physical parameters and constants we\n",
    "will be referring to in this lab, along with their values when\n",
    "appropriate. The units that are most natural for these quantities are\n",
    "also included; these units are not self--consistent, so make sure you\n",
    "convert the units when appropriate.\n"
   ]
  },
  {
   "cell_type": "markdown",
   "metadata": {},
   "source": [
    "$\\epsilon_0$ :  Permittivity of vacuum = $8.86\\times10^{-12} \\rm{ F/m}$ \n",
    "\n",
    "$\\epsilon_{Si}$ : Relative permittivity of ${\\rm Si}$ = $11.7\\epsilon_0$ \n",
    "\n",
    "$\\epsilon_{ox}$ : Relative permittivity of ${\\rm SiO_2}$ = $3.9\\epsilon_0$ \n",
    "\n",
    "$\\mu_n$ : electron surface mobility, ${\\rm cm^2/V/s}$ \n",
    " \n",
    "$\\mu_p$ : hole surface mobility, ${\\rm cm^2/V/s}$\n",
    "\n",
    "$C_{ox}$ : gate capacitance across the oxide per unit area,\n",
    "\t${\\rm fF/\\mu m^{2}}$ \n",
    "\n",
    "$C_{dep}$ : capacitance of depletion region per unit area,\n",
    "\t${\\rm fF/\\mu m^{2}}$ \n",
    "\n",
    "$t_{ox}$ : gate oxide thickness $\\approx$\n",
    "\t3.8 nm for the class chip in 180 nm techology.\n",
    "\t\n",
    "$V_T$ : threshold voltage, V ($V_{T0}$ is $V_T$ when $V_s$ = 0).\n",
    "\n",
    "\n",
    "$W$ : electrical width of transistor channel, $= 4~\\mu$m for both devices in this lab \n",
    "\n",
    "$L$ : electrical length of transistor channel, $= 4~\\mu$m for both devices in this lab\n",
    "\n",
    "$\\beta$ $\\equiv \\mu C_{ox} W/L,\\;\\mu{\\rm A/V^2}$ \n",
    "\n",
    "$V_E$ : Early voltage, characterizes drain conductance. \n"
   ]
  },
  {
   "cell_type": "markdown",
   "metadata": {},
   "source": [
    "# 3 Prelab"
   ]
  },
  {
   "cell_type": "markdown",
   "metadata": {},
   "source": [
    "Write the expressions/eqations in LaTeX, like $Vod$ = $V_{\\rm g}-V_{\\rm T}$, or upload the pictures of handwritten expressions."
   ]
  },
  {
   "cell_type": "markdown",
   "metadata": {},
   "source": [
    "* For nFET, write the most general expression for $I_{ds}$ above threshold in terms of $V_g,\\;V_s,\\;V_d$ (all voltages are referenced to the bulk), and the parameters and constants given above. Leave out the drain conductance Early effect in this equation. Assume $\\kappa=1$ and that $V_{Tn}>0$."
   ]
  },
  {
   "cell_type": "markdown",
   "metadata": {},
   "source": []
  },
  {
   "cell_type": "markdown",
   "metadata": {},
   "source": [
    "* For pFET, write the most general expression for $I_{ds}$ above threshold in terms of $V_g,\\;V_s,\\;V_d$ (all voltages are referenced to the bulk), and the parameters and constants given above. Leave out the drain conductance Early effect in this equation. Assume $\\kappa=1$ and that $V_{Tp}<0$."
   ]
  },
  {
   "cell_type": "markdown",
   "metadata": {},
   "source": []
  },
  {
   "cell_type": "markdown",
   "metadata": {},
   "source": [
    "- For nFET, sketch graphs of $I_{ds}$ vs the $V_d$ for several gate voltages $V_g$ above threshold, with $V_s=0$. Indicate the ohmic and saturation regions and the behavior of the saturation voltage $V_{dsat}$ as the gate overdrive voltage increases. "
   ]
  },
  {
   "cell_type": "markdown",
   "metadata": {},
   "source": []
  },
  {
   "cell_type": "markdown",
   "metadata": {},
   "source": [
    "- For nFET, derive an expression for the current $I_{ds}$ in the ohmic region in terms of $V_g$ and $V_{ds} \\equiv V_d-V_s,$. You may assume that $V_s=0.$ Sketch a graph of $I_{ds}$ vs $V_g,$ showing $V_{T0}$ and an expression for the slope."
   ]
  },
  {
   "cell_type": "markdown",
   "metadata": {},
   "source": []
  },
  {
   "cell_type": "markdown",
   "metadata": {},
   "source": [
    "- For nFET, state the drain voltage condition for above-threshold saturation and derive an expression for the saturation current $I_{dsat}$ in terms of $V_g$. Sketch a graph of $\\sqrt{I_{dsat}}$ vs $V_g$ with $V_s=0,$ showing $V_{T0}$ and an expression for the slope. Do not consider the Early effect here."
   ]
  },
  {
   "cell_type": "markdown",
   "metadata": {},
   "source": []
  },
  {
   "cell_type": "markdown",
   "metadata": {},
   "source": [
    "- Calculate $C_{ox}$ for the classchip from the values given above. What is $C_{ox}$ per square micron in fF?\n"
   ]
  },
  {
   "cell_type": "markdown",
   "metadata": {},
   "source": []
  },
  {
   "cell_type": "markdown",
   "metadata": {},
   "source": [
    "- Write the expression for the drain current in saturation including the Early effect, using $I_{dsat}$ to  represent the saturation current in the absence of the Early effect.  Use $V_E$ to represent the Early voltage."
   ]
  },
  {
   "cell_type": "markdown",
   "metadata": {},
   "source": []
  },
  {
   "cell_type": "markdown",
   "metadata": {},
   "source": [
    "# 4 Setup"
   ]
  },
  {
   "cell_type": "markdown",
   "metadata": {},
   "source": [
    "## 4.1 Connect the device"
   ]
  },
  {
   "cell_type": "code",
   "execution_count": null,
   "metadata": {},
   "outputs": [],
   "source": [
    "# import the necessary library to communicate with the hardware\n",
    "#import sys\n",
    "#sys.path.append('/home/junren/software/CoACH_Teensy_interface/build/pc/pyplane')\n",
    "\n",
    "import pyplane\n",
    "import time"
   ]
  },
  {
   "cell_type": "code",
   "execution_count": null,
   "metadata": {},
   "outputs": [],
   "source": [
    "# create a Plane object and open the communication\n",
    "if 'p' not in locals():\n",
    "    p = pyplane.Plane()\n",
    "    try:\n",
    "        p.open('/dev/ttyACM0') # Open the USB device ttyACM0 (the board). \n",
    "    except RuntimeError as e:\n",
    "        print(e)\n",
    "        \n",
    "# Note that if you plug out and plug in the USB device in a short time interval, the operating system might allocate a new name like ttyACM1, \n",
    "# then you may get error messages with open(...ttyACM0). So please avoid frenquently plugging in/out the board."
   ]
  },
  {
   "cell_type": "code",
   "execution_count": null,
   "metadata": {},
   "outputs": [],
   "source": [
    "p.get_firmware_version()   #firmware version should be 1.8.3"
   ]
  },
  {
   "cell_type": "code",
   "execution_count": null,
   "metadata": {},
   "outputs": [],
   "source": [
    "# Send a reset signal to the board, check if the LED blinks\n",
    "p.reset(pyplane.ResetType.Soft)\n",
    "\n",
    "time.sleep(1) \n",
    "# NOTE: You must send this request events every time you do a reset operetion, otherwise the recieved data is noisy.\n",
    "# Because the class chip need to do handshake to get the communication correct.\n",
    "p.request_events(1)"
   ]
  },
  {
   "cell_type": "code",
   "execution_count": null,
   "metadata": {},
   "outputs": [],
   "source": [
    "# Try to read something, make sure the chip responses\n",
    "p.read_current(pyplane.AdcChannel.GO0_N)"
   ]
  },
  {
   "cell_type": "code",
   "execution_count": null,
   "metadata": {},
   "outputs": [],
   "source": [
    "# If any of the above steps fail, delete the object, and restart the kernel\n",
    "\n",
    "# del p"
   ]
  },
  {
   "cell_type": "markdown",
   "metadata": {},
   "source": [
    "<a id='config_nfet'></a>\n",
    "## 4.2 Configurations for N-FET"
   ]
  },
  {
   "cell_type": "code",
   "execution_count": null,
   "metadata": {
    "scrolled": true
   },
   "outputs": [],
   "source": [
    "# uses schemdraw, you may have to install it in order to run it on your PC\n",
    "import schemdraw\n",
    "import schemdraw.elements as elm\n",
    "d = schemdraw.Drawing()\n",
    "Q = d.add(elm.NFet, reverse=True)\n",
    "d.add(elm.Dot, xy=Q.gate, lftlabel='gate=AIN0')\n",
    "d.add(elm.Dot, xy=Q.drain, toplabel='drain=GO22')\n",
    "d.add(elm.Dot, xy=Q.source, botlabel='source=GO20')\n",
    "d.draw()"
   ]
  },
  {
   "cell_type": "markdown",
   "metadata": {},
   "source": [
    "To cancel out the leakage current and shunt resistance, you may need to do a subtraction in Section 5.1.\n",
    "\n",
    "$I_{ds} = I_{GO20} - I_{GO20}|_{V_{gs} = 0}$ "
   ]
  },
  {
   "cell_type": "markdown",
   "metadata": {},
   "source": [
    "Note: It's better to measure source because its leakage is constant in this lab"
   ]
  },
  {
   "cell_type": "markdown",
   "metadata": {},
   "source": [
    "* You have to set the input voltage demultiplexer by sending a configuration event:"
   ]
  },
  {
   "cell_type": "code",
   "execution_count": null,
   "metadata": {},
   "outputs": [],
   "source": [
    "# Configure NFET, set the input voltage demultiplexer by AER event. \n",
    "# Note selectlines we should choose for the NFET\n",
    "events = [pyplane.Coach.generate_aerc_event( \\\n",
    "    pyplane.Coach.CurrentOutputSelect.SelectLine5, \\\n",
    "    pyplane.Coach.VoltageOutputSelect.NoneSelected, \\\n",
    "    pyplane.Coach.VoltageInputSelect.SelectLine2, \\\n",
    "    pyplane.Coach.SynapseSelect.NoneSelected, 0)]\n",
    "\n",
    "p.send_coach_events(events)"
   ]
  },
  {
   "cell_type": "markdown",
   "metadata": {},
   "source": [
    "* Check the configuration is correct. If the measured result is not as expected, try sending the configration event again."
   ]
  },
  {
   "cell_type": "code",
   "execution_count": null,
   "metadata": {},
   "outputs": [],
   "source": [
    "# set source voltage\n",
    "vs = \n",
    "p.set_voltage(pyplane.DacChannel.GO20,vs)       \n",
    "print(\"The source voltage is set to {} V\".format(...))"
   ]
  },
  {
   "cell_type": "code",
   "execution_count": null,
   "metadata": {},
   "outputs": [],
   "source": [
    "# set drain voltage\n",
    "vd = \n",
    "p.set_voltage(pyplane.DacChannel.GO22,vd)\n",
    "print(\"The drain voltage is set to {} V\".format(...))"
   ]
  },
  {
   "cell_type": "code",
   "execution_count": null,
   "metadata": {},
   "outputs": [],
   "source": [
    "# set gate voltage\n",
    "vg = \n",
    "p.set_voltage(pyplane.DacChannel.AIN0, vg)\n",
    "print(\"The gate voltage is set to {} V\".format(...))"
   ]
  },
  {
   "cell_type": "code",
   "execution_count": null,
   "metadata": {},
   "outputs": [],
   "source": [
    "# read I_{ds}\n",
    "I_s = p.read_current(pyplane.AdcChannel.GO20_N)      #source\n",
    "print(\"The measured source current is {} A\".format(I_s))\n",
    "\n",
    "time.sleep(0.1)  # wait for it to settle\n",
    "\n",
    "I_d = p.read_current(pyplane.AdcChannel.GO22)       #drain\n",
    "print(\"The measured drain current is {} A\".format(I_d))"
   ]
  },
  {
   "cell_type": "markdown",
   "metadata": {},
   "source": [
    "* Question: Check if the measured currents change with different gate voltages?"
   ]
  },
  {
   "cell_type": "markdown",
   "metadata": {},
   "source": [
    "<a id='config_pfet'></a>\n",
    "## 4.3 Configurations for P-FET"
   ]
  },
  {
   "cell_type": "code",
   "execution_count": null,
   "metadata": {
    "scrolled": true
   },
   "outputs": [],
   "source": [
    "# uses schemdraw, you may have to install it in order to run it on your PC\n",
    "import schemdraw\n",
    "import schemdraw.elements as elm\n",
    "d = schemdraw.Drawing()\n",
    "Q = d.add(elm.PFet, reverse=True, bulk=True)\n",
    "d.add(elm.Dot, xy=Q.gate, lftlabel='gate=AIN0')\n",
    "d.add(elm.Dot, xy=Q.bulk, rgtlabel='bulk=AIN1')\n",
    "d.add(elm.Dot, xy=Q.drain, botlabel='drain=GO21')\n",
    "d.add(elm.Dot, xy=Q.source, toplabel='source=GO23')\n",
    "d.draw()"
   ]
  },
  {
   "cell_type": "markdown",
   "metadata": {},
   "source": [
    "Hint: To cancel out the leakage current and shunt resistance, you may need to do a subtraction:\n",
    "\n",
    "$I_{ds} = I_{GO23} - I_{GO23}|_{V_{gs} = 0} $"
   ]
  },
  {
   "cell_type": "markdown",
   "metadata": {},
   "source": [
    "Note: Measure drain of PFET in this lab. \n",
    "Also think about the difference of $V_{gs}$ between PMOS and NMOS?"
   ]
  },
  {
   "cell_type": "markdown",
   "metadata": {},
   "source": [
    "* You have to choose the input voltage demultiplexer by sending a configuration event (make sure LED1 blinks):"
   ]
  },
  {
   "cell_type": "code",
   "execution_count": null,
   "metadata": {},
   "outputs": [],
   "source": [
    "# Configure PFET, set the input voltage demultiplexer by AER event. \n",
    "# Note selectlines we should choose for the PFET\n",
    "events = [pyplane.Coach.generate_aerc_event( \\\n",
    "    pyplane.Coach.CurrentOutputSelect.SelectLine5, \\\n",
    "    pyplane.Coach.VoltageOutputSelect.NoneSelected, \\\n",
    "    pyplane.Coach.VoltageInputSelect.SelectLine1, \\\n",
    "    pyplane.Coach.SynapseSelect.NoneSelected, 0)]\n",
    "\n",
    "p.send_coach_events(events)"
   ]
  },
  {
   "cell_type": "markdown",
   "metadata": {},
   "source": [
    "* Check the configuration is correct. If the measured result is not as expected, try sending the event again."
   ]
  },
  {
   "cell_type": "code",
   "execution_count": null,
   "metadata": {},
   "outputs": [],
   "source": [
    "# set trial voltages\n",
    "# set bulk voltage\n",
    "p.set_voltage(pyplane.DacChannel.AIN1, ...)\n",
    "Vb_p = p.get_set_voltage(pyplane.DacChannel.AIN1)\n",
    "print(\"The bulk voltage is set to {} V\".format(Vb_p))\n",
    "time.sleep(0.1)  # wait 0.1s for it to settle\n",
    "\n",
    "# set source voltage\n",
    "p.set_voltage(pyplane.DacChannel.GO23, ...)\n",
    "Vs_p = p.get_set_voltage(pyplane.DacChannel.GO23)\n",
    "print(\"The source voltage is set to {} V\".format(Vs_p))\n",
    "time.sleep(0.1)  # wait 0.1s for it to settle\n",
    "\n",
    "# set drain voltage\n",
    "p.set_voltage(pyplane.DacChannel.GO21, ...)\n",
    "Vd_p = p.get_set_voltage(pyplane.DacChannel.GO21)\n",
    "print(\"The drain voltage is set to {} V\".format(Vd_p))\n",
    "time.sleep(0.1)  # wait for it to settle\n",
    "\n",
    "# set gate voltage\n",
    "p.set_voltage(pyplane.DacChannel.AIN0, ...)\n",
    "Vg_p = p.get_set_voltage(pyplane.DacChannel.AIN0)\n",
    "print(\"The gate voltage is set to {} V\".format(Vg_p))"
   ]
  },
  {
   "cell_type": "code",
   "execution_count": null,
   "metadata": {},
   "outputs": [],
   "source": [
    "# read I_{ds}\n",
    "Is_p = p.read_current(pyplane.AdcChannel.GO21_N)\n",
    "print(\"The measured source current of PMOS is {} A\".format(Is_p))\n",
    "\n",
    "time.sleep(0.1)  # wait for it to settle\n",
    "\n",
    "Id_p = p.read_current(pyplane.AdcChannel.GO23)\n",
    "print(\"The measured drain current of PMOS is {} A\".format(Id_p))"
   ]
  },
  {
   "cell_type": "markdown",
   "metadata": {},
   "source": [
    "# 5 Ohmic region"
   ]
  },
  {
   "cell_type": "markdown",
   "metadata": {},
   "source": [
    "In this experiment you will characterize the *linear* dependence of the current on the gate\n",
    "voltage in the strong-inversion ohmic region."
   ]
  },
  {
   "cell_type": "markdown",
   "metadata": {},
   "source": [
    "## 5.1 N-FET"
   ]
  },
  {
   "cell_type": "code",
   "execution_count": null,
   "metadata": {},
   "outputs": [],
   "source": [
    "# uses schemdraw, you may have to install it in order to run it on your PC\n",
    "import schemdraw\n",
    "import schemdraw.elements as elm\n",
    "d = schemdraw.Drawing()\n",
    "Q = d.add(elm.NFet, reverse=True)\n",
    "d.add(elm.Dot, xy=Q.gate, lftlabel='gate=AIN0')\n",
    "d.add(elm.Dot, xy=Q.drain, toplabel='drain=GO22')\n",
    "d.add(elm.Dot, xy=Q.source, botlabel='source=GO20')\n",
    "d.draw()"
   ]
  },
  {
   "cell_type": "markdown",
   "metadata": {},
   "source": [
    "**(a)** Configure the chip following [Section 4.2](#config_nfet) if you haven't"
   ]
  },
  {
   "cell_type": "markdown",
   "metadata": {},
   "source": [
    "**(b)** Measure $I_{ds}$ as a function of $V_g$ in ohmic region"
   ]
  },
  {
   "cell_type": "code",
   "execution_count": null,
   "metadata": {},
   "outputs": [],
   "source": [
    "# Configure NFET, set the input voltage demultiplexer by AER event. \n"
   ]
  },
  {
   "cell_type": "markdown",
   "metadata": {},
   "source": [
    "* What will be the fixed value for source and drain voltages?\n",
    "\n",
    "Answer: "
   ]
  },
  {
   "cell_type": "code",
   "execution_count": null,
   "metadata": {},
   "outputs": [],
   "source": [
    "# set source voltage\n"
   ]
  },
  {
   "cell_type": "code",
   "execution_count": null,
   "metadata": {},
   "outputs": [],
   "source": [
    "# set drain voltage\n"
   ]
  },
  {
   "cell_type": "markdown",
   "metadata": {},
   "source": [
    "* For very close voltages, you may want to call `get_set_voltage` to check the actual output of the DAC."
   ]
  },
  {
   "cell_type": "code",
   "execution_count": null,
   "metadata": {},
   "outputs": [],
   "source": [
    "# get set voltage\n",
    "Vs_n = p.get_set_voltage(pyplane.DacChannel.GO20)\n",
    "print(\"The source voltage is set to {} V\".format(Vs_n))\n",
    "\n",
    "time.sleep(0.1)  # wait for it to settle\n",
    "\n",
    "# get set voltage\n",
    "Vd_n = \n",
    "print(\"The drain voltage is set to {} V\".format(Vd_n))"
   ]
  },
  {
   "cell_type": "markdown",
   "metadata": {},
   "source": [
    "* Data aquisition"
   ]
  },
  {
   "cell_type": "code",
   "execution_count": null,
   "metadata": {},
   "outputs": [],
   "source": [
    "# sweep gate voltage\n",
    "import time\n",
    "import numpy as np \n",
    "\n",
    "# Get the leakage current, Read Ids=Ids0 at Vg = 0\n",
    "p.set_voltage(...)\n",
    "time.sleep(0.5) # wait 0.5 second for it to settle\n",
    "Is0_n = p.read_current(..)\n",
    "print(\"Offset Is0_n: {} A\".format(Is0_n))\n",
    "\n",
    "\n",
    "for ... :\n",
    "    # set gate voltage\n",
    "    \n",
    "    \n",
    "    print(\"The gate voltage is set to {} V\".format(...))   ## print the gate voltage\n",
    "    \n",
    "    time.sleep(0.05)  # wait for it to settle\n",
    "    # read I_{ds}\n",
    "    \n",
    "    \n",
    "    print(\"The measured source current is {} A\".format(...))  ## print the raw data\n",
    "    \n",
    "    # substract leakage current \n",
    "        "
   ]
  },
  {
   "cell_type": "code",
   "execution_count": null,
   "metadata": {},
   "outputs": [],
   "source": [
    "# plot \n"
   ]
  },
  {
   "cell_type": "code",
   "execution_count": null,
   "metadata": {},
   "outputs": [],
   "source": [
    "# if the data looks nice, save it!\n",
    "\n",
    "...\n",
    "\n",
    "\n",
    "# example :\n",
    "# Lab2_data_nFETVgIds_Omic = [Vg_n,Is_n]\n",
    "# save to csv file\n",
    "# np.savetxt('./data/Lab2_data_nFETVgIds.csv', Lab2_data_nFETVgIds_Omic, delimiter=',')"
   ]
  },
  {
   "cell_type": "code",
   "execution_count": null,
   "metadata": {},
   "outputs": [],
   "source": [
    "# Load data you saved and plot, to check if the data is saved correctly or not\n",
    "\n",
    "\n",
    "\n",
    "# example :\n",
    "# Vgn_save, Isn_save = np.loadtxt('./data/Lab2_data_nFETVgIds.csv',delimiter=\",\")\n",
    "#plt.rcParams.update({'font.size': 14})\n",
    "#plt.plot(Vgn_save, Isn_save, '.k')\n",
    "#plt.xlabel('Vg(V)')\n",
    "#plt.ylabel('Ids(A)')\n",
    "#plt.grid()\n",
    "#plt.show()"
   ]
  },
  {
   "cell_type": "code",
   "execution_count": null,
   "metadata": {},
   "outputs": [],
   "source": [
    "# extract the valid range\n"
   ]
  },
  {
   "cell_type": "code",
   "execution_count": null,
   "metadata": {},
   "outputs": [],
   "source": [
    "# fit in the valid range (you may want to go back and add the fitted line in the plot)\n"
   ]
  },
  {
   "cell_type": "markdown",
   "metadata": {},
   "source": [
    "**(c)** Determine $V_{T0}$ and $\\beta$ for both devices by fitting your data to the expression derived in the prelab"
   ]
  },
  {
   "cell_type": "code",
   "execution_count": null,
   "metadata": {},
   "outputs": [],
   "source": [
    "# V_T0\n",
    "v_t0 = \n",
    "print(...)"
   ]
  },
  {
   "cell_type": "code",
   "execution_count": null,
   "metadata": {},
   "outputs": [],
   "source": [
    "# beta => m/Vd\n",
    "\n",
    "betan = \n",
    "\n",
    "print()"
   ]
  },
  {
   "cell_type": "markdown",
   "metadata": {},
   "source": [
    "## 5.2 P-FET"
   ]
  },
  {
   "cell_type": "markdown",
   "metadata": {},
   "source": [
    "**(a)** Configure the chip following [Section 4.3](#config_pfet) if you haven't"
   ]
  },
  {
   "cell_type": "markdown",
   "metadata": {},
   "source": [
    "**(b)** Measure $I_{ds}$ as a function of $V_g$ in ohmic region"
   ]
  },
  {
   "cell_type": "markdown",
   "metadata": {},
   "source": [
    "* What will be the fixed value for bulk, source and drain voltages?"
   ]
  },
  {
   "cell_type": "code",
   "execution_count": null,
   "metadata": {},
   "outputs": [],
   "source": [
    "# uses schemdraw, you may have to install it in order to run it on your PC\n",
    "import schemdraw\n",
    "import schemdraw.elements as elm\n",
    "d = schemdraw.Drawing()\n",
    "Q = d.add(elm.PFet, reverse=True, bulk=True)\n",
    "d.add(elm.Dot, xy=Q.gate, lftlabel='gate=AIN0')\n",
    "d.add(elm.Dot, xy=Q.bulk, rgtlabel='bulk=AIN1')\n",
    "d.add(elm.Dot, xy=Q.drain, botlabel='drain=GO21')\n",
    "d.add(elm.Dot, xy=Q.source, toplabel='source=GO23')\n",
    "d.draw()"
   ]
  },
  {
   "cell_type": "code",
   "execution_count": null,
   "metadata": {},
   "outputs": [],
   "source": [
    "# Configure PFET, set the input voltage demultiplexer by AER event.\n"
   ]
  },
  {
   "cell_type": "code",
   "execution_count": null,
   "metadata": {
    "tags": []
   },
   "outputs": [],
   "source": [
    "# set bulk voltage\n",
    "\n",
    "time.sleep(0.05)  # wait for it to settle\n",
    "\n",
    "# set source voltage\n",
    "\n",
    "\n",
    "# set drain voltage\n",
    "\n",
    "# Print I_ds for checking "
   ]
  },
  {
   "cell_type": "markdown",
   "metadata": {},
   "source": [
    "* For very close voltages, you may want to call `get_set_voltage` to check the actual output of the DAC."
   ]
  },
  {
   "cell_type": "code",
   "execution_count": null,
   "metadata": {},
   "outputs": [],
   "source": [
    "# get set voltage\n",
    "...\n",
    "print"
   ]
  },
  {
   "cell_type": "markdown",
   "metadata": {},
   "source": [
    "* Data aquisition"
   ]
  },
  {
   "cell_type": "code",
   "execution_count": null,
   "metadata": {},
   "outputs": [],
   "source": [
    "# sweep gate voltage\n"
   ]
  },
  {
   "cell_type": "code",
   "execution_count": null,
   "metadata": {},
   "outputs": [],
   "source": [
    "# plot \n"
   ]
  },
  {
   "cell_type": "code",
   "execution_count": null,
   "metadata": {},
   "outputs": [],
   "source": [
    "# if the data looks nice, save it!\n"
   ]
  },
  {
   "cell_type": "code",
   "execution_count": null,
   "metadata": {},
   "outputs": [],
   "source": [
    "# Load data you saved and plot, to check if the data is saved correctly or not\n"
   ]
  },
  {
   "cell_type": "code",
   "execution_count": null,
   "metadata": {},
   "outputs": [],
   "source": [
    "# extract the valid range\n"
   ]
  },
  {
   "cell_type": "code",
   "execution_count": null,
   "metadata": {},
   "outputs": [],
   "source": [
    "# fit in the valid range (you may want to go back and add the fitted line in the plot)\n"
   ]
  },
  {
   "cell_type": "markdown",
   "metadata": {},
   "source": [
    "**(c)** Determine $V_{T0}$ and $\\beta$ for both devices by fitting your data to the expression derived in the prelab"
   ]
  },
  {
   "cell_type": "code",
   "execution_count": null,
   "metadata": {},
   "outputs": [],
   "source": [
    "# V_T0\n",
    "...\n",
    "print('V_T0 = ', ...)"
   ]
  },
  {
   "cell_type": "code",
   "execution_count": null,
   "metadata": {},
   "outputs": [],
   "source": [
    "# beta\n",
    "...\n",
    "print('beta = ',betap)"
   ]
  },
  {
   "cell_type": "markdown",
   "metadata": {},
   "source": [
    "## 5.3 Comparisons"
   ]
  },
  {
   "cell_type": "markdown",
   "metadata": {},
   "source": [
    "* Include a single plot showing the curves for both devices."
   ]
  },
  {
   "cell_type": "code",
   "execution_count": null,
   "metadata": {},
   "outputs": [],
   "source": [
    "# plot both Ids vs |Vgs|\n"
   ]
  },
  {
   "cell_type": "markdown",
   "metadata": {},
   "source": [
    "* What is the ratio between $\\beta$ for the 2 devices? Does it make sense?"
   ]
  },
  {
   "cell_type": "code",
   "execution_count": null,
   "metadata": {},
   "outputs": [],
   "source": []
  },
  {
   "cell_type": "markdown",
   "metadata": {},
   "source": []
  },
  {
   "cell_type": "markdown",
   "metadata": {},
   "source": [
    "* Is the relationship between $I_{ds}$ and $V_{gs}-V_T$ really linear? What is likely the cause of any discrepancy?"
   ]
  },
  {
   "cell_type": "markdown",
   "metadata": {},
   "source": []
  },
  {
   "cell_type": "markdown",
   "metadata": {},
   "source": [
    "## 5.4 Effective surface mobility (optional)"
   ]
  },
  {
   "cell_type": "markdown",
   "metadata": {},
   "source": [
    "Hint: Use the $V_{T0}$ you obtained in the last experiments but assume $\\beta$ changes with $V_{gs}$ (thus $\\mu_n$ and $\\mu_p$ changes). **No need to measure again.**"
   ]
  },
  {
   "cell_type": "code",
   "execution_count": null,
   "metadata": {},
   "outputs": [],
   "source": [
    "# plot mu vs Vgs for both devices in the same figure"
   ]
  },
  {
   "cell_type": "markdown",
   "metadata": {},
   "source": [
    "- Why does the mobility peak and then decay instead of remaining constant? "
   ]
  },
  {
   "cell_type": "markdown",
   "metadata": {},
   "source": []
  },
  {
   "cell_type": "markdown",
   "metadata": {},
   "source": [
    "- What is the ratio between the peak mobilities for electrons and holes?"
   ]
  },
  {
   "cell_type": "markdown",
   "metadata": {},
   "source": []
  },
  {
   "cell_type": "markdown",
   "metadata": {},
   "source": [
    "- How different are these values from the bulk mobilities for electrons (1350 ${\\rm cm^2/V/s}$) and holes (480 ${\\rm cm^2/V/s}$)? "
   ]
  },
  {
   "cell_type": "markdown",
   "metadata": {},
   "source": []
  },
  {
   "cell_type": "markdown",
   "metadata": {},
   "source": [
    "# 6 Drain Current in the saturation region"
   ]
  },
  {
   "cell_type": "markdown",
   "metadata": {},
   "source": [
    "In this experiment you will characterize the _quadratic_ dependence of the current on the gate\n",
    "voltage in the saturation region. "
   ]
  },
  {
   "cell_type": "markdown",
   "metadata": {},
   "source": [
    "## 6.1 N-FET"
   ]
  },
  {
   "cell_type": "markdown",
   "metadata": {},
   "source": [
    "**(a)** Configure the chip following [Section 4.2](#config_nfet) if you haven't"
   ]
  },
  {
   "cell_type": "markdown",
   "metadata": {},
   "source": [
    "**(b)** Measure $I_{ds}$ as a function of $V_g$ in saturation region"
   ]
  },
  {
   "cell_type": "markdown",
   "metadata": {},
   "source": [
    "* What will be the fixed value for source and drain voltages?"
   ]
  },
  {
   "cell_type": "code",
   "execution_count": null,
   "metadata": {},
   "outputs": [],
   "source": [
    "## configure NMOS by AER event\n"
   ]
  },
  {
   "cell_type": "code",
   "execution_count": null,
   "metadata": {},
   "outputs": [],
   "source": [
    "# set source voltage\n"
   ]
  },
  {
   "cell_type": "code",
   "execution_count": null,
   "metadata": {},
   "outputs": [],
   "source": [
    "# set drain voltage     #######1.8\n"
   ]
  },
  {
   "cell_type": "markdown",
   "metadata": {},
   "source": [
    "* Data aquisition"
   ]
  },
  {
   "cell_type": "code",
   "execution_count": null,
   "metadata": {},
   "outputs": [],
   "source": [
    "# sweep gate voltage\n"
   ]
  },
  {
   "cell_type": "code",
   "execution_count": null,
   "metadata": {},
   "outputs": [],
   "source": [
    "# plot \n"
   ]
  },
  {
   "cell_type": "code",
   "execution_count": null,
   "metadata": {},
   "outputs": [],
   "source": [
    "# if the data looks nice, save it!\n"
   ]
  },
  {
   "cell_type": "code",
   "execution_count": null,
   "metadata": {},
   "outputs": [],
   "source": [
    "# extract the valid range and plot sqrt(Ids) vs Vgs\n"
   ]
  },
  {
   "cell_type": "code",
   "execution_count": null,
   "metadata": {},
   "outputs": [],
   "source": [
    "# fit in the valid range (you may want to go back and add the fitted line in the plot)\n"
   ]
  },
  {
   "cell_type": "markdown",
   "metadata": {},
   "source": [
    "**(c)** Determine $V_{T0}$ and $\\beta$ for both devices by fitting your data to the expression derived in the prelab"
   ]
  },
  {
   "cell_type": "code",
   "execution_count": null,
   "metadata": {},
   "outputs": [],
   "source": [
    "# V_T0 \n",
    "\n",
    "print('V_T0 = ', ... )"
   ]
  },
  {
   "cell_type": "code",
   "execution_count": null,
   "metadata": {},
   "outputs": [],
   "source": [
    "# beta\n",
    "betan = \n",
    "print('beta = ',betan)"
   ]
  },
  {
   "cell_type": "markdown",
   "metadata": {},
   "source": [
    "## 6.2 P-FET"
   ]
  },
  {
   "cell_type": "markdown",
   "metadata": {},
   "source": [
    "**(a)** Configure the chip following [Section 4.3](#config_pfet) if you haven't"
   ]
  },
  {
   "cell_type": "markdown",
   "metadata": {},
   "source": [
    "**(b)** Measure $I_{ds}$ as a function of $V_g$ in ohmic region"
   ]
  },
  {
   "cell_type": "markdown",
   "metadata": {},
   "source": [
    "* What will be the fixed value for bulk, source and drain voltages?"
   ]
  },
  {
   "cell_type": "code",
   "execution_count": null,
   "metadata": {},
   "outputs": [],
   "source": [
    "## configure PMOS by AER event\n"
   ]
  },
  {
   "cell_type": "code",
   "execution_count": null,
   "metadata": {},
   "outputs": [],
   "source": [
    "# set bulk voltage\n",
    "\n",
    "#delay, wait for it to settle\n",
    "\n",
    "# set source voltage\n",
    "\n",
    "#delay, wait for it to settle\n",
    "\n",
    "# set drain voltage\n",
    "\n",
    "#delay, wait for it to settle\n",
    "\n",
    "# print I_ds for checking \n"
   ]
  },
  {
   "cell_type": "markdown",
   "metadata": {},
   "source": [
    "* Data aquisition"
   ]
  },
  {
   "cell_type": "code",
   "execution_count": null,
   "metadata": {},
   "outputs": [],
   "source": [
    "# sweep gate voltage\n"
   ]
  },
  {
   "cell_type": "code",
   "execution_count": null,
   "metadata": {},
   "outputs": [],
   "source": [
    "# plot \n"
   ]
  },
  {
   "cell_type": "code",
   "execution_count": null,
   "metadata": {},
   "outputs": [],
   "source": [
    "# if the data looks nice, save it!\n"
   ]
  },
  {
   "cell_type": "code",
   "execution_count": null,
   "metadata": {},
   "outputs": [],
   "source": [
    "# extract the valid range and plot sqrt(Ids) vs Vgs\n"
   ]
  },
  {
   "cell_type": "code",
   "execution_count": null,
   "metadata": {},
   "outputs": [],
   "source": [
    "# fit in the valid range (you may want to go back and add the fitted line in the plot)\n"
   ]
  },
  {
   "cell_type": "markdown",
   "metadata": {},
   "source": [
    "**(c)** Determine $V_{T0}$ and $\\beta$ for both devices by fitting your data to the expression derived in the prelab"
   ]
  },
  {
   "cell_type": "code",
   "execution_count": null,
   "metadata": {},
   "outputs": [],
   "source": [
    "# V_T0\n"
   ]
  },
  {
   "cell_type": "code",
   "execution_count": null,
   "metadata": {},
   "outputs": [],
   "source": [
    "# beta\n"
   ]
  },
  {
   "cell_type": "markdown",
   "metadata": {},
   "source": [
    "## 6.3 Comparisons"
   ]
  },
  {
   "cell_type": "markdown",
   "metadata": {},
   "source": [
    "* Are the measurements of $V_{T0}$ and $\\beta$ from the saturation measurement consistent with the values obtained in the ohmic region? "
   ]
  },
  {
   "cell_type": "markdown",
   "metadata": {},
   "source": []
  },
  {
   "cell_type": "markdown",
   "metadata": {},
   "source": [
    "* Which is a better approximation, the linear one or the quadratic?"
   ]
  },
  {
   "cell_type": "markdown",
   "metadata": {},
   "source": []
  },
  {
   "cell_type": "markdown",
   "metadata": {},
   "source": [
    "# 7 Early effect"
   ]
  },
  {
   "cell_type": "markdown",
   "metadata": {},
   "source": [
    "This experiment studies how Early voltage scales with transistor current; in particular, how valid are the simple assumptions about channel length modulation?\n",
    "\n",
    "**You only need to do N-FET**"
   ]
  },
  {
   "cell_type": "markdown",
   "metadata": {},
   "source": [
    "**(a)** Measure $I_{ds}$ vs $V_{ds}$ for different $V_{gs}$"
   ]
  },
  {
   "cell_type": "code",
   "execution_count": null,
   "metadata": {},
   "outputs": [],
   "source": [
    "### AER to configure NMOS\n"
   ]
  },
  {
   "cell_type": "code",
   "execution_count": null,
   "metadata": {},
   "outputs": [],
   "source": [
    "# set source voltage\n"
   ]
  },
  {
   "cell_type": "code",
   "execution_count": null,
   "metadata": {},
   "outputs": [],
   "source": [
    "# Measurement. You may need two 'for' loops (one nested loop) to sweep Vgs and Vds\n",
    "        "
   ]
  },
  {
   "cell_type": "markdown",
   "metadata": {},
   "source": [
    "* Include a single plot showing all data on a semilogy plot."
   ]
  },
  {
   "cell_type": "code",
   "execution_count": null,
   "metadata": {},
   "outputs": [],
   "source": [
    "# plot\n"
   ]
  },
  {
   "cell_type": "code",
   "execution_count": null,
   "metadata": {},
   "outputs": [],
   "source": [
    "# if the data looks nice, save it!\n"
   ]
  },
  {
   "cell_type": "markdown",
   "metadata": {},
   "source": [
    "* Can you see how the saturation voltage increases with the gate overdrive $V_G-V_T$ in strong inversion?"
   ]
  },
  {
   "cell_type": "markdown",
   "metadata": {},
   "source": []
  },
  {
   "cell_type": "markdown",
   "metadata": {},
   "source": [
    "**(b)** Compute the Early voltage "
   ]
  },
  {
   "cell_type": "markdown",
   "metadata": {},
   "source": [
    "* Fit a line to the ”flat” part of each curve. Select a range of drain voltages to fit the line and use the same range for each curve, because the Early effect is actually curved in reality, and what you are actually seeing is the start of Drain Induced Barrier Lowering (DIBL) or impact ionization."
   ]
  },
  {
   "cell_type": "code",
   "execution_count": null,
   "metadata": {},
   "outputs": [],
   "source": []
  },
  {
   "cell_type": "markdown",
   "metadata": {},
   "source": [
    "* Plot the Early voltage vs drain current on a semilogx scale."
   ]
  },
  {
   "cell_type": "code",
   "execution_count": null,
   "metadata": {},
   "outputs": [],
   "source": []
  },
  {
   "cell_type": "markdown",
   "metadata": {},
   "source": [
    "* Comment on your results: How constant is the Early voltage with drain current? Speculate on the reasons for your observations."
   ]
  },
  {
   "cell_type": "markdown",
   "metadata": {},
   "source": []
  },
  {
   "cell_type": "markdown",
   "metadata": {},
   "source": []
  },
  {
   "cell_type": "markdown",
   "metadata": {},
   "source": [
    "# 8 Congratulations"
   ]
  },
  {
   "cell_type": "markdown",
   "metadata": {},
   "source": [
    "**If you did everything in this lab, you have done a lot! This is probably the most difficult but also one of the most important labs, because practical and intuitive knowledge of transistor characteristics is crucial in understanding and synthesizing new circuits.**"
   ]
  },
  {
   "cell_type": "markdown",
   "metadata": {},
   "source": [
    "# 9 What we expect"
   ]
  },
  {
   "cell_type": "markdown",
   "metadata": {},
   "source": [
    "How transistors work above threshold.  \n",
    "\n",
    "What is the linear or triode region and what is the saturation region?\n",
    "\n",
    "How does the linear region depend on gate and threshold voltage?\n",
    "\n",
    "What is the _overdrive_?\n",
    "\n",
    "What is the specific current?\n",
    "\n",
    "How the Early effect comes about?\n",
    "\n",
    "Typical values for Early voltage.\n",
    "\n",
    "How to sketch graphs of transistor current vs gate voltage and drain-source voltage.\n",
    "\n",
    "How above-threshold transistors go into saturation and why the saturation voltage is equal to the gate overdrive.\n",
    "Can you write the above-threshold current equations?\n",
    "\n",
    "How does above-threshold current depend on $W/L$, $C_{ox}$, and mobility $\\mu$?\n",
    "\n",
    "How do transconductance and drain resistance combine to generate voltage gain? \n",
    "And what is the intrinsic voltage gain of a transistor?\n",
    "\n",
    "What effect does velocity saturation have on transistor operation, specifically, how does it change the relation between saturation current and gate voltage? What is DIBL (drain induced barrier lowering) and II (impact ionization)?\n",
    "\n",
    "What is the dominant source of mismatch?\n",
    "\n",
    "How does transistor mismatch scale with transistor size?\n",
    "\n",
    "What are typical values of transistor threshold voltage mismatch? "
   ]
  }
 ],
 "metadata": {
  "kernelspec": {
   "display_name": "Python 3 (ipykernel)",
   "language": "python",
   "name": "python3"
  },
  "language_info": {
   "codemirror_mode": {
    "name": "ipython",
    "version": 3
   },
   "file_extension": ".py",
   "mimetype": "text/x-python",
   "name": "python",
   "nbconvert_exporter": "python",
   "pygments_lexer": "ipython3",
   "version": "3.8.10"
  }
 },
 "nbformat": 4,
 "nbformat_minor": 4
}
